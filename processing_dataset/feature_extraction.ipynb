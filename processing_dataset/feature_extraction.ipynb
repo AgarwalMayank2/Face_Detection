{
  "cells": [
    {
      "cell_type": "markdown",
      "metadata": {
        "colab_type": "text",
        "id": "view-in-github"
      },
      "source": [
        "<a href=\"https://colab.research.google.com/github/AgarwalMayank2/Face_Detection/blob/main/feature_extraction.ipynb\" target=\"_parent\"><img src=\"https://colab.research.google.com/assets/colab-badge.svg\" alt=\"Open In Colab\"/></a>"
      ]
    },
    {
      "cell_type": "markdown",
      "metadata": {
        "id": "svIt5l3bdrY_"
      },
      "source": [
        "# Loading dataset"
      ]
    },
    {
      "cell_type": "code",
      "execution_count": null,
      "metadata": {
        "colab": {
          "base_uri": "https://localhost:8080/"
        },
        "id": "eiHXMskx2ojl",
        "outputId": "983d4f4a-b4bc-4a8f-bea9-b5fcc935142f"
      },
      "outputs": [
        {
          "name": "stdout",
          "output_type": "stream",
          "text": [
            "Downloading from https://www.kaggle.com/api/v1/datasets/download/jessicali9530/lfw-dataset?dataset_version_number=4...\n"
          ]
        },
        {
          "name": "stderr",
          "output_type": "stream",
          "text": [
            "100%|██████████| 112M/112M [00:00<00:00, 143MB/s]"
          ]
        },
        {
          "name": "stdout",
          "output_type": "stream",
          "text": [
            "Extracting files...\n"
          ]
        },
        {
          "name": "stderr",
          "output_type": "stream",
          "text": [
            "\n"
          ]
        },
        {
          "name": "stdout",
          "output_type": "stream",
          "text": [
            "/root/.cache/kagglehub/datasets/jessicali9530/lfw-dataset/versions/4\n"
          ]
        }
      ],
      "source": [
        "import kagglehub\n",
        "\n",
        "# Download latest version\n",
        "path = kagglehub.dataset_download(\"jessicali9530/lfw-dataset\")\n",
        "print(path)"
      ]
    },
    {
      "cell_type": "code",
      "execution_count": null,
      "metadata": {
        "colab": {
          "base_uri": "https://localhost:8080/"
        },
        "id": "7rZ-bi5f7Mhd",
        "outputId": "129a4524-638f-42c5-cab8-349ffc1b2cac"
      },
      "outputs": [
        {
          "name": "stdout",
          "output_type": "stream",
          "text": [
            "['/root/.cache/kagglehub/datasets/jessicali9530/lfw-dataset/versions/4/lfw-deepfunneled/lfw-deepfunneled/Jason_Sorens/Jason_Sorens_0001.jpg', '/root/.cache/kagglehub/datasets/jessicali9530/lfw-dataset/versions/4/lfw-deepfunneled/lfw-deepfunneled/Guus_Hiddink/Guus_Hiddink_0001.jpg', '/root/.cache/kagglehub/datasets/jessicali9530/lfw-dataset/versions/4/lfw-deepfunneled/lfw-deepfunneled/Gerrit_Zalm/Gerrit_Zalm_0001.jpg', '/root/.cache/kagglehub/datasets/jessicali9530/lfw-dataset/versions/4/lfw-deepfunneled/lfw-deepfunneled/Kenenisa_Bekele/Kenenisa_Bekele_0001.jpg', '/root/.cache/kagglehub/datasets/jessicali9530/lfw-dataset/versions/4/lfw-deepfunneled/lfw-deepfunneled/Jeremy_Shockey/Jeremy_Shockey_0001.jpg']\n"
          ]
        }
      ],
      "source": [
        "import os\n",
        "images_address=\"/root/.cache/kagglehub/datasets/jessicali9530/lfw-dataset/versions/4/lfw-deepfunneled/lfw-deepfunneled\"\n",
        "labels=os.listdir(images_address)\n",
        "paths_of_images=[]\n",
        "for root, dirs, files in os.walk(images_address):\n",
        "    for file in files:\n",
        "        paths_of_images.append(os.path.join(root, file))\n",
        "\n",
        "print(paths_of_images[:5])"
      ]
    },
    {
      "cell_type": "markdown",
      "metadata": {
        "id": "c0M7t-7aD5Uh"
      },
      "source": [
        "# Filtering dataset"
      ]
    },
    {
      "cell_type": "markdown",
      "metadata": {
        "id": "W0b4WOVxF0Gz"
      },
      "source": [
        "filtering persons who has less than 10 images and storing them in form of dictionary.\n",
        "\n",
        "person_imagepath = {person_name : [img_path1, img_path2, img_path3, ...]}"
      ]
    },
    {
      "cell_type": "code",
      "execution_count": null,
      "metadata": {
        "colab": {
          "base_uri": "https://localhost:8080/"
        },
        "id": "81bwLf5yD_va",
        "outputId": "bd54a0b7-cca2-4479-83c7-e04866c786a5"
      },
      "outputs": [
        {
          "name": "stdout",
          "output_type": "stream",
          "text": [
            "total datapoints having person atleast 10 images are 4324\n"
          ]
        }
      ],
      "source": [
        "import re\n",
        "i=0\n",
        "person_imagepath={}\n",
        "for path in paths_of_images:\n",
        "    i+=1\n",
        "    matchpattern = re.search(r'/([^/]+)_\\d+\\.jpg$', path)\n",
        "    if matchpattern:\n",
        "        if matchpattern.group(1) not in person_imagepath:\n",
        "            person_imagepath[matchpattern.group(1)]=[]\n",
        "        person_imagepath[matchpattern.group(1)].append(path)\n",
        "\n",
        "person_imagepath = {person: images for person, images in person_imagepath.items() if len(images) >= 10}\n",
        "total_filtered_datapoints=0\n",
        "for person in person_imagepath:\n",
        "    total_filtered_datapoints+=len(person_imagepath[person])\n",
        "\n",
        "print(\"total datapoints having person atleast 10 images are\",total_filtered_datapoints)\n"
      ]
    },
    {
      "cell_type": "markdown",
      "metadata": {
        "id": "xj82_wJv_WTi"
      },
      "source": [
        "# Extracting CNN features\n"
      ]
    },
    {
      "cell_type": "markdown",
      "metadata": {
        "id": "ndMl8Q0S74fi"
      },
      "source": [
        "Using pretrained CNN (ResNet)"
      ]
    },
    {
      "cell_type": "code",
      "execution_count": null,
      "metadata": {
        "id": "kPsWo-J67uJ1"
      },
      "outputs": [],
      "source": [
        "#This code can be used to extract pretrained CNN (ResNet) Features.\n",
        "#It takes Image Path and returns 2048-dimensional feature.\n",
        "import torch\n",
        "import torch.nn as nn\n",
        "import torchvision.models as models\n",
        "import torchvision.transforms as transforms\n",
        "from PIL import Image\n",
        "\n",
        "# Load pre-trained ResNet-50 model\n",
        "resnet = models.resnet50(pretrained=True)\n",
        "# Remove the last fully connected layer\n",
        "resnet = nn.Sequential(*list(resnet.children())[:-1])\n",
        "# Set the model to evaluation mode\n",
        "resnet.eval()\n",
        "\n",
        "# Define a function to extract features from an image\n",
        "def extract_features(image_path, model):\n",
        "    # Load and preprocess the image\n",
        "    image = Image.open(image_path).convert('RGB')\n",
        "    preprocess = transforms.Compose([\n",
        "        transforms.Resize(256),\n",
        "        transforms.CenterCrop(224),\n",
        "        transforms.ToTensor(),\n",
        "        transforms.Normalize(mean=[0.485, 0.456, 0.406], std=[0.229, 0.224, 0.225]),\n",
        "    ])\n",
        "    image = preprocess(image)\n",
        "    # Add batch dimension\n",
        "    image = image.unsqueeze(0)\n",
        "    # Extract features\n",
        "    with torch.no_grad():\n",
        "        features = model(image)\n",
        "    # Remove the batch dimension\n",
        "    features = features.squeeze(0)\n",
        "    return features"
      ]
    },
    {
      "cell_type": "code",
      "execution_count": null,
      "metadata": {
        "id": "ZPIR-WN094jt"
      },
      "outputs": [],
      "source": [
        "# saving featrues\n",
        "import pandas as pd\n",
        "import numpy as np\n",
        "data_list=[]\n",
        "i=0\n",
        "for person in person_imagepath :\n",
        "  for path in person_imagepath[person]:\n",
        "      i+=1\n",
        "      features = extract_features(path, resnet)\n",
        "      features = features.flatten().numpy()\n",
        "      datapoint = np.append(features, person)\n",
        "      data_list.append(datapoint)\n",
        "      if i%100==0:\n",
        "          print(i,\"/\",total_filtered_datapoints,\"converted\")\n",
        "df = pd.DataFrame(data_list)\n",
        "df.to_csv(\"filtered_CNN_features_dataset.csv\")\n",
        "df"
      ]
    },
    {
      "cell_type": "markdown",
      "metadata": {
        "id": "PGZlDRzmOZJk"
      },
      "source": [
        "# Extracting HoG features"
      ]
    },
    {
      "cell_type": "code",
      "execution_count": null,
      "metadata": {
        "id": "LW41ivV-PVnO"
      },
      "outputs": [],
      "source": []
    },
    {
      "cell_type": "markdown",
      "metadata": {
        "id": "v6DhQkEbPWQb"
      },
      "source": [
        "# Extracting LBP features"
      ]
    },
    {
      "cell_type": "code",
      "execution_count": null,
      "metadata": {
        "id": "zP49tIbzPtfO"
      },
      "outputs": [],
      "source": []
    }
  ],
  "metadata": {
    "colab": {
      "collapsed_sections": [
        "svIt5l3bdrY_"
      ],
      "include_colab_link": true,
      "provenance": []
    },
    "kernelspec": {
      "display_name": "Python 3",
      "name": "python3"
    },
    "language_info": {
      "name": "python"
    }
  },
  "nbformat": 4,
  "nbformat_minor": 0
}
