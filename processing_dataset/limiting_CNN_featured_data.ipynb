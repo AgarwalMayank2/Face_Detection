{
 "cells": [
  {
   "cell_type": "code",
   "execution_count": null,
   "metadata": {},
   "outputs": [
    {
     "name": "stdout",
     "output_type": "stream",
     "text": [
      "Dataset size: (1240, 2049)\n",
      "Training size: (992, 2048), Testing size: (248, 2048)\n"
     ]
    }
   ],
   "source": [
    "import pandas as pd\n",
    "from sklearn.model_selection import train_test_split\n",
    "from sklearn.preprocessing import LabelEncoder, StandardScaler\n",
    "\n",
    "# Load dataset\n",
    "df = pd.read_csv(\"CNN_features_dataset.csv\", index_col=0)\n",
    "\n",
    "# Count occurrences of each class\n",
    "class_counts = df.iloc[:, -1].value_counts()\n",
    "\n",
    "# Filter out classes with at least 20 occurrences\n",
    "valid_classes = class_counts[class_counts >= 20].index\n",
    "df_filtered = df[df.iloc[:, -1].isin(valid_classes)]\n",
    "\n",
    "# Select exactly 20 datapoints per class\n",
    "df_limited = df_filtered.groupby(df_filtered.columns[-1]).head(20)\n",
    "\n",
    "df_limited.to_csv(\"CNN_features_dataset_limited.csv\")\n",
    "\n",
    "\n"
   ]
  }
 ],
 "metadata": {
  "kernelspec": {
   "display_name": "PRMLproj",
   "language": "python",
   "name": "python3"
  },
  "language_info": {
   "codemirror_mode": {
    "name": "ipython",
    "version": 3
   },
   "file_extension": ".py",
   "mimetype": "text/x-python",
   "name": "python",
   "nbconvert_exporter": "python",
   "pygments_lexer": "ipython3",
   "version": "3.12.9"
  }
 },
 "nbformat": 4,
 "nbformat_minor": 2
}
