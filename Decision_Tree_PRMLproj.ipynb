{
  "cells": [
    {
      "cell_type": "markdown",
      "metadata": {
        "colab_type": "text",
        "id": "view-in-github"
      },
      "source": [
        "<a href=\"https://colab.research.google.com/github/AgarwalMayank2/Face_Detection/blob/main/Decision_Tree_PRMLproj.ipynb\" target=\"_parent\"><img src=\"https://colab.research.google.com/assets/colab-badge.svg\" alt=\"Open In Colab\"/></a>"
      ]
    },
    {
      "cell_type": "markdown",
      "metadata": {
        "id": "CHugUBKzQO2Z"
      },
      "source": [
        "Task : Identify Face in image using Decision Tree algorithm\n",
        "\n",
        "Dataset : https://www.kaggle.com/datasets/jessicali9530/lfw-dataset?select=peopleDevTrain.csv\n",
        "\n",
        "we will grayscale image for scaling down the input size in our model"
      ]
    },
    {
      "cell_type": "markdown",
      "metadata": {
        "id": "B1tvClnTQZ_4"
      },
      "source": [
        "# assuming each pixel as separate feature"
      ]
    },
    {
      "cell_type": "code",
      "execution_count": null,
      "metadata": {
        "id": "0IDL2FCIRIMv"
      },
      "outputs": [],
      "source": [
        "#write code here"
      ]
    },
    {
      "cell_type": "markdown",
      "metadata": {
        "id": "c9qC-iFmRN7f"
      },
      "source": [
        "# Using different approch for Decision Tree algo"
      ]
    },
    {
      "cell_type": "code",
      "execution_count": null,
      "metadata": {
        "id": "SFOevIS4Xdc4"
      },
      "outputs": [],
      "source": [
        "#write code here"
      ]
    }
  ],
  "metadata": {
    "colab": {
      "include_colab_link": true,
      "provenance": []
    },
    "kernelspec": {
      "display_name": "Python 3",
      "name": "python3"
    },
    "language_info": {
      "name": "python"
    }
  },
  "nbformat": 4,
  "nbformat_minor": 0
}
