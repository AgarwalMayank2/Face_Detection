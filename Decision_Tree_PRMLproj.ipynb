{
  "nbformat": 4,
  "nbformat_minor": 0,
  "metadata": {
    "colab": {
      "provenance": [],
      "include_colab_link": true
    },
    "kernelspec": {
      "name": "python3",
      "display_name": "Python 3"
    },
    "language_info": {
      "name": "python"
    }
  },
  "cells": [
    {
      "cell_type": "markdown",
      "metadata": {
        "id": "view-in-github",
        "colab_type": "text"
      },
      "source": [
        "<a href=\"https://colab.research.google.com/github/AgarwalMayank2/Face_Detection/blob/main/Decision_Tree_PRMLproj.ipynb\" target=\"_parent\"><img src=\"https://colab.research.google.com/assets/colab-badge.svg\" alt=\"Open In Colab\"/></a>"
      ]
    },
    {
      "cell_type": "markdown",
      "source": [
        "Task : Identify Face in image using Decision Tree algorithm\n",
        "\n",
        "Dataset : https://www.kaggle.com/datasets/jessicali9530/lfw-dataset?select=peopleDevTrain.csv\n",
        "\n",
        "we will grayscale image for scaling down the input size in our model"
      ],
      "metadata": {
        "id": "CHugUBKzQO2Z"
      }
    },
    {
      "cell_type": "markdown",
      "source": [
        "# assuming each pixel as separate feature"
      ],
      "metadata": {
        "id": "B1tvClnTQZ_4"
      }
    },
    {
      "cell_type": "code",
      "source": [
        "#write code here"
      ],
      "metadata": {
        "id": "0IDL2FCIRIMv"
      },
      "execution_count": null,
      "outputs": []
    },
    {
      "cell_type": "markdown",
      "source": [
        "# Using different approch for Decision Tree algo"
      ],
      "metadata": {
        "id": "c9qC-iFmRN7f"
      }
    },
    {
      "cell_type": "code",
      "source": [
        "#write cod here"
      ],
      "metadata": {
        "id": "SFOevIS4Xdc4"
      },
      "execution_count": null,
      "outputs": []
    }
  ]
}