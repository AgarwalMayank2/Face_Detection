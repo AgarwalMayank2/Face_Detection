{
  "nbformat": 4,
  "nbformat_minor": 0,
  "metadata": {
    "colab": {
      "provenance": [],
      "collapsed_sections": [
        "svIt5l3bdrY_"
      ],
      "gpuType": "T4",
      "authorship_tag": "ABX9TyOPR3lO85TGofGnejXG7e1W",
      "include_colab_link": true
    },
    "kernelspec": {
      "name": "python3",
      "display_name": "Python 3"
    },
    "language_info": {
      "name": "python"
    },
    "accelerator": "GPU"
  },
  "cells": [
    {
      "cell_type": "markdown",
      "metadata": {
        "id": "view-in-github",
        "colab_type": "text"
      },
      "source": [
        "<a href=\"https://colab.research.google.com/github/AgarwalMayank2/Face_Detection/blob/KNN_Tavishi/KNN_PRMLproj.ipynb\" target=\"_parent\"><img src=\"https://colab.research.google.com/assets/colab-badge.svg\" alt=\"Open In Colab\"/></a>"
      ]
    },
    {
      "cell_type": "code",
      "source": [
        "import pandas as pd"
      ],
      "metadata": {
        "id": "s9r-dpHDIufI"
      },
      "execution_count": 2,
      "outputs": []
    },
    {
      "cell_type": "code",
      "source": [
        "from sklearn.model_selection import train_test_split\n",
        "from sklearn.preprocessing import LabelEncoder, StandardScaler"
      ],
      "metadata": {
        "id": "RAtDSaH4hp8J"
      },
      "execution_count": 6,
      "outputs": []
    },
    {
      "cell_type": "code",
      "source": [
        "# mount google drive\n",
        "from google.colab import drive\n",
        "drive.mount('/content/drive')"
      ],
      "metadata": {
        "colab": {
          "base_uri": "https://localhost:8080/"
        },
        "id": "abJAGmSnaMjK",
        "outputId": "fb52e46a-fcef-4753-f651-47e140da4a34"
      },
      "execution_count": 92,
      "outputs": [
        {
          "output_type": "stream",
          "name": "stdout",
          "text": [
            "Mounted at /content/drive\n"
          ]
        }
      ]
    },
    {
      "cell_type": "markdown",
      "source": [
        "# Reading CNN features"
      ],
      "metadata": {
        "id": "6_aCtTzCZ36W"
      }
    },
    {
      "cell_type": "code",
      "source": [
        "url_filtered_CNN_features_dataset = 'https://raw.githubusercontent.com/AgarwalMayank2/Face_Detection/refs/heads/main/processed_dataset/filtered_CNN_features_dataset.csv' #for CNN limited\n",
        "df_cnn = pd.read_csv(url_filtered_CNN_features_dataset) # reading url for extracted CNN_features_dataset_limited.csv"
      ],
      "metadata": {
        "id": "OgLogzTLI2UA"
      },
      "execution_count": 3,
      "outputs": []
    },
    {
      "cell_type": "code",
      "source": [
        "df_cnn.head(10)"
      ],
      "metadata": {
        "colab": {
          "base_uri": "https://localhost:8080/",
          "height": 429
        },
        "id": "aBBPCP2rI4c2",
        "outputId": "c9164c88-fee9-414e-9f8d-b3306f567b50"
      },
      "execution_count": 4,
      "outputs": [
        {
          "output_type": "execute_result",
          "data": {
            "text/plain": [
              "   Unnamed: 0         0         1         2         3         4         5  \\\n",
              "0           0  0.266585  1.337187  1.352905  0.100848  1.880685  0.059888   \n",
              "1           1  0.355948  0.750634  0.909794  0.188214  0.680066  0.221442   \n",
              "2           2  0.267111  1.015316  1.154480  0.131544  1.066389  0.024949   \n",
              "3           3  0.260295  0.882900  0.885955  0.106698  2.663052  0.057836   \n",
              "4           4  0.347203  0.623839  0.817085  0.212599  1.026321  0.176634   \n",
              "5           5  0.354952  0.935169  1.313525  0.161971  0.743334  0.075382   \n",
              "6           6  0.491479  1.098953  0.935011  0.099713  0.859047  0.125197   \n",
              "7           7  0.076298  1.872830  1.156564  0.151697  1.786531  0.004271   \n",
              "8           8  0.443961  1.489843  1.034748  0.054299  1.201338  0.475425   \n",
              "9           9  0.265048  1.558320  0.774199  0.302818  0.905585  0.152244   \n",
              "\n",
              "          6         7         8  ...      2039      2040      2041      2042  \\\n",
              "0  2.773605  0.115643  0.138749  ...  0.039434  0.071662  0.733759  1.643910   \n",
              "1  3.089571  0.342022  0.087186  ...  0.093867  0.089694  0.859610  1.764073   \n",
              "2  3.701925  0.145037  0.082419  ...  0.080086  0.089589  0.663708  1.854499   \n",
              "3  1.854394  0.209269  0.103750  ...  0.181255  0.182038  0.397535  1.222931   \n",
              "4  2.486715  0.426571  0.345026  ...  0.267895  0.136346  0.713298  0.978184   \n",
              "5  2.913061  0.339807  0.038969  ...  0.042886  0.094991  0.731441  1.846496   \n",
              "6  2.448608  0.194795  0.171454  ...  0.197234  0.036094  0.552411  1.532099   \n",
              "7  2.473813  0.183758  0.190911  ...  0.025632  0.110004  0.524370  1.041115   \n",
              "8  3.003049  0.170383  0.172904  ...  0.170266  0.155772  1.335769  1.501814   \n",
              "9  2.703004  0.314053  0.539273  ...  0.076195  0.142454  0.670869  1.724953   \n",
              "\n",
              "       2043      2044      2045      2046      2047         2048  \n",
              "0  0.041306  1.488236  0.048181  0.247783  0.300232  Paul_Bremer  \n",
              "1  0.250430  1.133540  0.004091  0.153542  0.236034  Paul_Bremer  \n",
              "2  0.078751  1.240009  0.065222  0.105058  0.227633  Paul_Bremer  \n",
              "3  0.007285  0.878194  0.016247  0.110492  0.129523  Paul_Bremer  \n",
              "4  0.059828  1.008205  0.042905  0.028597  0.199120  Paul_Bremer  \n",
              "5  0.061113  0.960774  0.152283  0.094486  0.294108  Paul_Bremer  \n",
              "6  0.195461  0.562803  0.054066  0.242185  0.097366  Paul_Bremer  \n",
              "7  0.171625  1.456280  0.096045  0.074930  0.214463  Paul_Bremer  \n",
              "8  0.096764  1.345042  0.470579  0.327874  0.116694  Paul_Bremer  \n",
              "9  0.110348  1.263562  0.008221  0.099455  0.174265  Paul_Bremer  \n",
              "\n",
              "[10 rows x 2050 columns]"
            ],
            "text/html": [
              "\n",
              "  <div id=\"df-f42f79be-1278-4a48-98e8-43824c4d7ebe\" class=\"colab-df-container\">\n",
              "    <div>\n",
              "<style scoped>\n",
              "    .dataframe tbody tr th:only-of-type {\n",
              "        vertical-align: middle;\n",
              "    }\n",
              "\n",
              "    .dataframe tbody tr th {\n",
              "        vertical-align: top;\n",
              "    }\n",
              "\n",
              "    .dataframe thead th {\n",
              "        text-align: right;\n",
              "    }\n",
              "</style>\n",
              "<table border=\"1\" class=\"dataframe\">\n",
              "  <thead>\n",
              "    <tr style=\"text-align: right;\">\n",
              "      <th></th>\n",
              "      <th>Unnamed: 0</th>\n",
              "      <th>0</th>\n",
              "      <th>1</th>\n",
              "      <th>2</th>\n",
              "      <th>3</th>\n",
              "      <th>4</th>\n",
              "      <th>5</th>\n",
              "      <th>6</th>\n",
              "      <th>7</th>\n",
              "      <th>8</th>\n",
              "      <th>...</th>\n",
              "      <th>2039</th>\n",
              "      <th>2040</th>\n",
              "      <th>2041</th>\n",
              "      <th>2042</th>\n",
              "      <th>2043</th>\n",
              "      <th>2044</th>\n",
              "      <th>2045</th>\n",
              "      <th>2046</th>\n",
              "      <th>2047</th>\n",
              "      <th>2048</th>\n",
              "    </tr>\n",
              "  </thead>\n",
              "  <tbody>\n",
              "    <tr>\n",
              "      <th>0</th>\n",
              "      <td>0</td>\n",
              "      <td>0.266585</td>\n",
              "      <td>1.337187</td>\n",
              "      <td>1.352905</td>\n",
              "      <td>0.100848</td>\n",
              "      <td>1.880685</td>\n",
              "      <td>0.059888</td>\n",
              "      <td>2.773605</td>\n",
              "      <td>0.115643</td>\n",
              "      <td>0.138749</td>\n",
              "      <td>...</td>\n",
              "      <td>0.039434</td>\n",
              "      <td>0.071662</td>\n",
              "      <td>0.733759</td>\n",
              "      <td>1.643910</td>\n",
              "      <td>0.041306</td>\n",
              "      <td>1.488236</td>\n",
              "      <td>0.048181</td>\n",
              "      <td>0.247783</td>\n",
              "      <td>0.300232</td>\n",
              "      <td>Paul_Bremer</td>\n",
              "    </tr>\n",
              "    <tr>\n",
              "      <th>1</th>\n",
              "      <td>1</td>\n",
              "      <td>0.355948</td>\n",
              "      <td>0.750634</td>\n",
              "      <td>0.909794</td>\n",
              "      <td>0.188214</td>\n",
              "      <td>0.680066</td>\n",
              "      <td>0.221442</td>\n",
              "      <td>3.089571</td>\n",
              "      <td>0.342022</td>\n",
              "      <td>0.087186</td>\n",
              "      <td>...</td>\n",
              "      <td>0.093867</td>\n",
              "      <td>0.089694</td>\n",
              "      <td>0.859610</td>\n",
              "      <td>1.764073</td>\n",
              "      <td>0.250430</td>\n",
              "      <td>1.133540</td>\n",
              "      <td>0.004091</td>\n",
              "      <td>0.153542</td>\n",
              "      <td>0.236034</td>\n",
              "      <td>Paul_Bremer</td>\n",
              "    </tr>\n",
              "    <tr>\n",
              "      <th>2</th>\n",
              "      <td>2</td>\n",
              "      <td>0.267111</td>\n",
              "      <td>1.015316</td>\n",
              "      <td>1.154480</td>\n",
              "      <td>0.131544</td>\n",
              "      <td>1.066389</td>\n",
              "      <td>0.024949</td>\n",
              "      <td>3.701925</td>\n",
              "      <td>0.145037</td>\n",
              "      <td>0.082419</td>\n",
              "      <td>...</td>\n",
              "      <td>0.080086</td>\n",
              "      <td>0.089589</td>\n",
              "      <td>0.663708</td>\n",
              "      <td>1.854499</td>\n",
              "      <td>0.078751</td>\n",
              "      <td>1.240009</td>\n",
              "      <td>0.065222</td>\n",
              "      <td>0.105058</td>\n",
              "      <td>0.227633</td>\n",
              "      <td>Paul_Bremer</td>\n",
              "    </tr>\n",
              "    <tr>\n",
              "      <th>3</th>\n",
              "      <td>3</td>\n",
              "      <td>0.260295</td>\n",
              "      <td>0.882900</td>\n",
              "      <td>0.885955</td>\n",
              "      <td>0.106698</td>\n",
              "      <td>2.663052</td>\n",
              "      <td>0.057836</td>\n",
              "      <td>1.854394</td>\n",
              "      <td>0.209269</td>\n",
              "      <td>0.103750</td>\n",
              "      <td>...</td>\n",
              "      <td>0.181255</td>\n",
              "      <td>0.182038</td>\n",
              "      <td>0.397535</td>\n",
              "      <td>1.222931</td>\n",
              "      <td>0.007285</td>\n",
              "      <td>0.878194</td>\n",
              "      <td>0.016247</td>\n",
              "      <td>0.110492</td>\n",
              "      <td>0.129523</td>\n",
              "      <td>Paul_Bremer</td>\n",
              "    </tr>\n",
              "    <tr>\n",
              "      <th>4</th>\n",
              "      <td>4</td>\n",
              "      <td>0.347203</td>\n",
              "      <td>0.623839</td>\n",
              "      <td>0.817085</td>\n",
              "      <td>0.212599</td>\n",
              "      <td>1.026321</td>\n",
              "      <td>0.176634</td>\n",
              "      <td>2.486715</td>\n",
              "      <td>0.426571</td>\n",
              "      <td>0.345026</td>\n",
              "      <td>...</td>\n",
              "      <td>0.267895</td>\n",
              "      <td>0.136346</td>\n",
              "      <td>0.713298</td>\n",
              "      <td>0.978184</td>\n",
              "      <td>0.059828</td>\n",
              "      <td>1.008205</td>\n",
              "      <td>0.042905</td>\n",
              "      <td>0.028597</td>\n",
              "      <td>0.199120</td>\n",
              "      <td>Paul_Bremer</td>\n",
              "    </tr>\n",
              "    <tr>\n",
              "      <th>5</th>\n",
              "      <td>5</td>\n",
              "      <td>0.354952</td>\n",
              "      <td>0.935169</td>\n",
              "      <td>1.313525</td>\n",
              "      <td>0.161971</td>\n",
              "      <td>0.743334</td>\n",
              "      <td>0.075382</td>\n",
              "      <td>2.913061</td>\n",
              "      <td>0.339807</td>\n",
              "      <td>0.038969</td>\n",
              "      <td>...</td>\n",
              "      <td>0.042886</td>\n",
              "      <td>0.094991</td>\n",
              "      <td>0.731441</td>\n",
              "      <td>1.846496</td>\n",
              "      <td>0.061113</td>\n",
              "      <td>0.960774</td>\n",
              "      <td>0.152283</td>\n",
              "      <td>0.094486</td>\n",
              "      <td>0.294108</td>\n",
              "      <td>Paul_Bremer</td>\n",
              "    </tr>\n",
              "    <tr>\n",
              "      <th>6</th>\n",
              "      <td>6</td>\n",
              "      <td>0.491479</td>\n",
              "      <td>1.098953</td>\n",
              "      <td>0.935011</td>\n",
              "      <td>0.099713</td>\n",
              "      <td>0.859047</td>\n",
              "      <td>0.125197</td>\n",
              "      <td>2.448608</td>\n",
              "      <td>0.194795</td>\n",
              "      <td>0.171454</td>\n",
              "      <td>...</td>\n",
              "      <td>0.197234</td>\n",
              "      <td>0.036094</td>\n",
              "      <td>0.552411</td>\n",
              "      <td>1.532099</td>\n",
              "      <td>0.195461</td>\n",
              "      <td>0.562803</td>\n",
              "      <td>0.054066</td>\n",
              "      <td>0.242185</td>\n",
              "      <td>0.097366</td>\n",
              "      <td>Paul_Bremer</td>\n",
              "    </tr>\n",
              "    <tr>\n",
              "      <th>7</th>\n",
              "      <td>7</td>\n",
              "      <td>0.076298</td>\n",
              "      <td>1.872830</td>\n",
              "      <td>1.156564</td>\n",
              "      <td>0.151697</td>\n",
              "      <td>1.786531</td>\n",
              "      <td>0.004271</td>\n",
              "      <td>2.473813</td>\n",
              "      <td>0.183758</td>\n",
              "      <td>0.190911</td>\n",
              "      <td>...</td>\n",
              "      <td>0.025632</td>\n",
              "      <td>0.110004</td>\n",
              "      <td>0.524370</td>\n",
              "      <td>1.041115</td>\n",
              "      <td>0.171625</td>\n",
              "      <td>1.456280</td>\n",
              "      <td>0.096045</td>\n",
              "      <td>0.074930</td>\n",
              "      <td>0.214463</td>\n",
              "      <td>Paul_Bremer</td>\n",
              "    </tr>\n",
              "    <tr>\n",
              "      <th>8</th>\n",
              "      <td>8</td>\n",
              "      <td>0.443961</td>\n",
              "      <td>1.489843</td>\n",
              "      <td>1.034748</td>\n",
              "      <td>0.054299</td>\n",
              "      <td>1.201338</td>\n",
              "      <td>0.475425</td>\n",
              "      <td>3.003049</td>\n",
              "      <td>0.170383</td>\n",
              "      <td>0.172904</td>\n",
              "      <td>...</td>\n",
              "      <td>0.170266</td>\n",
              "      <td>0.155772</td>\n",
              "      <td>1.335769</td>\n",
              "      <td>1.501814</td>\n",
              "      <td>0.096764</td>\n",
              "      <td>1.345042</td>\n",
              "      <td>0.470579</td>\n",
              "      <td>0.327874</td>\n",
              "      <td>0.116694</td>\n",
              "      <td>Paul_Bremer</td>\n",
              "    </tr>\n",
              "    <tr>\n",
              "      <th>9</th>\n",
              "      <td>9</td>\n",
              "      <td>0.265048</td>\n",
              "      <td>1.558320</td>\n",
              "      <td>0.774199</td>\n",
              "      <td>0.302818</td>\n",
              "      <td>0.905585</td>\n",
              "      <td>0.152244</td>\n",
              "      <td>2.703004</td>\n",
              "      <td>0.314053</td>\n",
              "      <td>0.539273</td>\n",
              "      <td>...</td>\n",
              "      <td>0.076195</td>\n",
              "      <td>0.142454</td>\n",
              "      <td>0.670869</td>\n",
              "      <td>1.724953</td>\n",
              "      <td>0.110348</td>\n",
              "      <td>1.263562</td>\n",
              "      <td>0.008221</td>\n",
              "      <td>0.099455</td>\n",
              "      <td>0.174265</td>\n",
              "      <td>Paul_Bremer</td>\n",
              "    </tr>\n",
              "  </tbody>\n",
              "</table>\n",
              "<p>10 rows × 2050 columns</p>\n",
              "</div>\n",
              "    <div class=\"colab-df-buttons\">\n",
              "\n",
              "  <div class=\"colab-df-container\">\n",
              "    <button class=\"colab-df-convert\" onclick=\"convertToInteractive('df-f42f79be-1278-4a48-98e8-43824c4d7ebe')\"\n",
              "            title=\"Convert this dataframe to an interactive table.\"\n",
              "            style=\"display:none;\">\n",
              "\n",
              "  <svg xmlns=\"http://www.w3.org/2000/svg\" height=\"24px\" viewBox=\"0 -960 960 960\">\n",
              "    <path d=\"M120-120v-720h720v720H120Zm60-500h600v-160H180v160Zm220 220h160v-160H400v160Zm0 220h160v-160H400v160ZM180-400h160v-160H180v160Zm440 0h160v-160H620v160ZM180-180h160v-160H180v160Zm440 0h160v-160H620v160Z\"/>\n",
              "  </svg>\n",
              "    </button>\n",
              "\n",
              "  <style>\n",
              "    .colab-df-container {\n",
              "      display:flex;\n",
              "      gap: 12px;\n",
              "    }\n",
              "\n",
              "    .colab-df-convert {\n",
              "      background-color: #E8F0FE;\n",
              "      border: none;\n",
              "      border-radius: 50%;\n",
              "      cursor: pointer;\n",
              "      display: none;\n",
              "      fill: #1967D2;\n",
              "      height: 32px;\n",
              "      padding: 0 0 0 0;\n",
              "      width: 32px;\n",
              "    }\n",
              "\n",
              "    .colab-df-convert:hover {\n",
              "      background-color: #E2EBFA;\n",
              "      box-shadow: 0px 1px 2px rgba(60, 64, 67, 0.3), 0px 1px 3px 1px rgba(60, 64, 67, 0.15);\n",
              "      fill: #174EA6;\n",
              "    }\n",
              "\n",
              "    .colab-df-buttons div {\n",
              "      margin-bottom: 4px;\n",
              "    }\n",
              "\n",
              "    [theme=dark] .colab-df-convert {\n",
              "      background-color: #3B4455;\n",
              "      fill: #D2E3FC;\n",
              "    }\n",
              "\n",
              "    [theme=dark] .colab-df-convert:hover {\n",
              "      background-color: #434B5C;\n",
              "      box-shadow: 0px 1px 3px 1px rgba(0, 0, 0, 0.15);\n",
              "      filter: drop-shadow(0px 1px 2px rgba(0, 0, 0, 0.3));\n",
              "      fill: #FFFFFF;\n",
              "    }\n",
              "  </style>\n",
              "\n",
              "    <script>\n",
              "      const buttonEl =\n",
              "        document.querySelector('#df-f42f79be-1278-4a48-98e8-43824c4d7ebe button.colab-df-convert');\n",
              "      buttonEl.style.display =\n",
              "        google.colab.kernel.accessAllowed ? 'block' : 'none';\n",
              "\n",
              "      async function convertToInteractive(key) {\n",
              "        const element = document.querySelector('#df-f42f79be-1278-4a48-98e8-43824c4d7ebe');\n",
              "        const dataTable =\n",
              "          await google.colab.kernel.invokeFunction('convertToInteractive',\n",
              "                                                    [key], {});\n",
              "        if (!dataTable) return;\n",
              "\n",
              "        const docLinkHtml = 'Like what you see? Visit the ' +\n",
              "          '<a target=\"_blank\" href=https://colab.research.google.com/notebooks/data_table.ipynb>data table notebook</a>'\n",
              "          + ' to learn more about interactive tables.';\n",
              "        element.innerHTML = '';\n",
              "        dataTable['output_type'] = 'display_data';\n",
              "        await google.colab.output.renderOutput(dataTable, element);\n",
              "        const docLink = document.createElement('div');\n",
              "        docLink.innerHTML = docLinkHtml;\n",
              "        element.appendChild(docLink);\n",
              "      }\n",
              "    </script>\n",
              "  </div>\n",
              "\n",
              "\n",
              "<div id=\"df-fe8e6152-e1b5-48bd-a5c8-5d4e1aa9bd4d\">\n",
              "  <button class=\"colab-df-quickchart\" onclick=\"quickchart('df-fe8e6152-e1b5-48bd-a5c8-5d4e1aa9bd4d')\"\n",
              "            title=\"Suggest charts\"\n",
              "            style=\"display:none;\">\n",
              "\n",
              "<svg xmlns=\"http://www.w3.org/2000/svg\" height=\"24px\"viewBox=\"0 0 24 24\"\n",
              "     width=\"24px\">\n",
              "    <g>\n",
              "        <path d=\"M19 3H5c-1.1 0-2 .9-2 2v14c0 1.1.9 2 2 2h14c1.1 0 2-.9 2-2V5c0-1.1-.9-2-2-2zM9 17H7v-7h2v7zm4 0h-2V7h2v10zm4 0h-2v-4h2v4z\"/>\n",
              "    </g>\n",
              "</svg>\n",
              "  </button>\n",
              "\n",
              "<style>\n",
              "  .colab-df-quickchart {\n",
              "      --bg-color: #E8F0FE;\n",
              "      --fill-color: #1967D2;\n",
              "      --hover-bg-color: #E2EBFA;\n",
              "      --hover-fill-color: #174EA6;\n",
              "      --disabled-fill-color: #AAA;\n",
              "      --disabled-bg-color: #DDD;\n",
              "  }\n",
              "\n",
              "  [theme=dark] .colab-df-quickchart {\n",
              "      --bg-color: #3B4455;\n",
              "      --fill-color: #D2E3FC;\n",
              "      --hover-bg-color: #434B5C;\n",
              "      --hover-fill-color: #FFFFFF;\n",
              "      --disabled-bg-color: #3B4455;\n",
              "      --disabled-fill-color: #666;\n",
              "  }\n",
              "\n",
              "  .colab-df-quickchart {\n",
              "    background-color: var(--bg-color);\n",
              "    border: none;\n",
              "    border-radius: 50%;\n",
              "    cursor: pointer;\n",
              "    display: none;\n",
              "    fill: var(--fill-color);\n",
              "    height: 32px;\n",
              "    padding: 0;\n",
              "    width: 32px;\n",
              "  }\n",
              "\n",
              "  .colab-df-quickchart:hover {\n",
              "    background-color: var(--hover-bg-color);\n",
              "    box-shadow: 0 1px 2px rgba(60, 64, 67, 0.3), 0 1px 3px 1px rgba(60, 64, 67, 0.15);\n",
              "    fill: var(--button-hover-fill-color);\n",
              "  }\n",
              "\n",
              "  .colab-df-quickchart-complete:disabled,\n",
              "  .colab-df-quickchart-complete:disabled:hover {\n",
              "    background-color: var(--disabled-bg-color);\n",
              "    fill: var(--disabled-fill-color);\n",
              "    box-shadow: none;\n",
              "  }\n",
              "\n",
              "  .colab-df-spinner {\n",
              "    border: 2px solid var(--fill-color);\n",
              "    border-color: transparent;\n",
              "    border-bottom-color: var(--fill-color);\n",
              "    animation:\n",
              "      spin 1s steps(1) infinite;\n",
              "  }\n",
              "\n",
              "  @keyframes spin {\n",
              "    0% {\n",
              "      border-color: transparent;\n",
              "      border-bottom-color: var(--fill-color);\n",
              "      border-left-color: var(--fill-color);\n",
              "    }\n",
              "    20% {\n",
              "      border-color: transparent;\n",
              "      border-left-color: var(--fill-color);\n",
              "      border-top-color: var(--fill-color);\n",
              "    }\n",
              "    30% {\n",
              "      border-color: transparent;\n",
              "      border-left-color: var(--fill-color);\n",
              "      border-top-color: var(--fill-color);\n",
              "      border-right-color: var(--fill-color);\n",
              "    }\n",
              "    40% {\n",
              "      border-color: transparent;\n",
              "      border-right-color: var(--fill-color);\n",
              "      border-top-color: var(--fill-color);\n",
              "    }\n",
              "    60% {\n",
              "      border-color: transparent;\n",
              "      border-right-color: var(--fill-color);\n",
              "    }\n",
              "    80% {\n",
              "      border-color: transparent;\n",
              "      border-right-color: var(--fill-color);\n",
              "      border-bottom-color: var(--fill-color);\n",
              "    }\n",
              "    90% {\n",
              "      border-color: transparent;\n",
              "      border-bottom-color: var(--fill-color);\n",
              "    }\n",
              "  }\n",
              "</style>\n",
              "\n",
              "  <script>\n",
              "    async function quickchart(key) {\n",
              "      const quickchartButtonEl =\n",
              "        document.querySelector('#' + key + ' button');\n",
              "      quickchartButtonEl.disabled = true;  // To prevent multiple clicks.\n",
              "      quickchartButtonEl.classList.add('colab-df-spinner');\n",
              "      try {\n",
              "        const charts = await google.colab.kernel.invokeFunction(\n",
              "            'suggestCharts', [key], {});\n",
              "      } catch (error) {\n",
              "        console.error('Error during call to suggestCharts:', error);\n",
              "      }\n",
              "      quickchartButtonEl.classList.remove('colab-df-spinner');\n",
              "      quickchartButtonEl.classList.add('colab-df-quickchart-complete');\n",
              "    }\n",
              "    (() => {\n",
              "      let quickchartButtonEl =\n",
              "        document.querySelector('#df-fe8e6152-e1b5-48bd-a5c8-5d4e1aa9bd4d button');\n",
              "      quickchartButtonEl.style.display =\n",
              "        google.colab.kernel.accessAllowed ? 'block' : 'none';\n",
              "    })();\n",
              "  </script>\n",
              "</div>\n",
              "\n",
              "    </div>\n",
              "  </div>\n"
            ],
            "application/vnd.google.colaboratory.intrinsic+json": {
              "type": "dataframe",
              "variable_name": "df_cnn"
            }
          },
          "metadata": {},
          "execution_count": 4
        }
      ]
    },
    {
      "cell_type": "markdown",
      "source": [
        "# Train/Test split - for CNN dataset"
      ],
      "metadata": {
        "id": "WU_KWQ0XjO7K"
      }
    },
    {
      "cell_type": "code",
      "source": [
        "# Separate features and labels\n",
        "X_cnn = df_cnn.iloc[:, :-1]\n",
        "y_cnn = df_cnn.iloc[:, -1]\n",
        "\n",
        "# Encode labels (alphabetically)\n",
        "label_encoder = LabelEncoder()\n",
        "y_encoded = label_encoder.fit_transform(y_cnn)\n",
        "# encoding is benificial as working on numbers is lot easier than working on string\n",
        "\n",
        "# Ensure stratified split (16 training, 4 testing per class)\n",
        "X_train_cnn, X_test_cnn, y_train_cnn, y_test_cnn = train_test_split(X_cnn, y_encoded, test_size=1/5, random_state=42, stratify=y_encoded)\n",
        "\n",
        "# Normalize features\n",
        "scaler = StandardScaler()\n",
        "X_train_cnn = scaler.fit_transform(X_train_cnn)\n",
        "X_test_cnn = scaler.transform(X_test_cnn)\n",
        "\n",
        "print(f\"Dataset size: {df_cnn.shape}\")\n",
        "print(f\"Training size: {X_train_cnn.shape}, Testing size: {X_test_cnn.shape}\")"
      ],
      "metadata": {
        "colab": {
          "base_uri": "https://localhost:8080/"
        },
        "id": "cOdOJRPmJXLk",
        "outputId": "6d2a2578-d6e1-4fbc-ccb2-4969905fab56"
      },
      "execution_count": 7,
      "outputs": [
        {
          "output_type": "stream",
          "name": "stdout",
          "text": [
            "Dataset size: (4324, 2050)\n",
            "Training size: (3459, 2049), Testing size: (865, 2049)\n"
          ]
        }
      ]
    },
    {
      "cell_type": "code",
      "source": [
        "print(y_train_cnn[:10])"
      ],
      "metadata": {
        "colab": {
          "base_uri": "https://localhost:8080/"
        },
        "id": "8ivBo4geM414",
        "outputId": "135c62af-09a9-4ebd-cf4e-6836c2c3d841"
      },
      "execution_count": 23,
      "outputs": [
        {
          "output_type": "stream",
          "name": "stdout",
          "text": [
            "[ 36 134 146   6  41  23  61  28 134  53]\n"
          ]
        }
      ]
    },
    {
      "cell_type": "markdown",
      "source": [
        "# Reading HoG features"
      ],
      "metadata": {
        "id": "ME1Ya2JxZ8Gr"
      }
    },
    {
      "cell_type": "code",
      "source": [
        "url_filtered_HoG_features_dataset='/content/drive/My Drive/filtered_HOG_features_dataset.csv'\n",
        "df_hog=pd.read_csv(url_filtered_HoG_features_dataset)"
      ],
      "metadata": {
        "id": "ilp3kobSaBeW"
      },
      "execution_count": null,
      "outputs": []
    },
    {
      "cell_type": "code",
      "source": [
        "df_hog.head(10)"
      ],
      "metadata": {
        "id": "JDGUurVfdCf2"
      },
      "execution_count": null,
      "outputs": []
    },
    {
      "cell_type": "markdown",
      "source": [
        "# Train/Test split - for HoG dataset"
      ],
      "metadata": {
        "id": "jj0cyKMBjMz5"
      }
    },
    {
      "cell_type": "code",
      "source": [
        "# Separate features and labels\n",
        "X_hog = df_hog.iloc[:, :-1]\n",
        "y_hog = df_hog.iloc[:, -1]\n",
        "\n",
        "# Encode labels (alphabetically)\n",
        "label_encoder = LabelEncoder()\n",
        "y_encoded = label_encoder.fit_transform(y_hog)\n",
        "# encoding is benificial as working on numbers is lot easier than working on string\n",
        "\n",
        "# Ensure stratified split (16 training, 4 testing per class)\n",
        "X_train_hog, X_test_hog, y_train_hog, y_test_hog = train_test_split(X_hog, y_encoded, test_size=1/5, random_state=42, stratify=y_encoded)\n",
        "\n",
        "# Normalize features\n",
        "scaler = StandardScaler()\n",
        "X_train_hog = scaler.fit_transform(X_train_hog)\n",
        "X_test_hog = scaler.transform(X_test_hog)\n",
        "\n",
        "print(f\"Dataset size: {df_hog.shape}\")\n",
        "print(f\"Training size: {X_train_hog.shape}, Testing size: {X_test_hog.shape}\")"
      ],
      "metadata": {
        "id": "RdfVYz72dG0B"
      },
      "execution_count": null,
      "outputs": []
    },
    {
      "cell_type": "markdown",
      "source": [
        "# Reading LBP features"
      ],
      "metadata": {
        "id": "7CLgbYhXifZq"
      }
    },
    {
      "cell_type": "code",
      "source": [
        "url_filtered_lbp_features = 'https://raw.githubusercontent.com/AgarwalMayank2/Face_Detection/refs/heads/main/processed_dataset/filtered_LBP_features_dataset.csv'\n",
        "df_LBP = pd.read_csv(url_filtered_lbp_features)"
      ],
      "metadata": {
        "id": "PfPbJMxQie_9"
      },
      "execution_count": 9,
      "outputs": []
    },
    {
      "cell_type": "code",
      "source": [
        "df_LBP.head(10)"
      ],
      "metadata": {
        "colab": {
          "base_uri": "https://localhost:8080/",
          "height": 429
        },
        "id": "1Aq-5GLCi9nk",
        "outputId": "f4ba2512-cb36-4c2f-d123-377b816b548b"
      },
      "execution_count": 10,
      "outputs": [
        {
          "output_type": "execute_result",
          "data": {
            "text/plain": [
              "   Unnamed: 0       0      1      2      3      4     5      6      7      8  \\\n",
              "0           0   589.0   57.0  319.0  205.0   67.0   4.0  195.0  466.0  370.0   \n",
              "1           1  1012.0  113.0  383.0  203.0   76.0  11.0  205.0  369.0  505.0   \n",
              "2           2   920.0   92.0  288.0  152.0  107.0  18.0  192.0  403.0  313.0   \n",
              "3           3  1068.0   85.0  447.0  298.0   90.0  11.0  293.0  732.0  546.0   \n",
              "4           4   510.0   43.0  304.0  189.0   47.0   8.0  201.0  387.0  296.0   \n",
              "5           5   678.0   65.0  173.0  131.0   66.0  14.0  114.0  255.0  292.0   \n",
              "6           6   668.0   62.0  344.0  187.0   60.0  10.0  218.0  347.0  330.0   \n",
              "7           7   745.0   74.0  267.0  218.0   80.0  10.0  180.0  363.0  376.0   \n",
              "8           8   428.0   45.0  268.0  222.0   44.0   6.0  210.0  430.0  265.0   \n",
              "9           9  1154.0  103.0  354.0  234.0  113.0  16.0  260.0  374.0  473.0   \n",
              "\n",
              "   ...    247     248    249   250    251    252    253    254      255  \\\n",
              "0  ...  474.0  1924.0  612.0  26.0  357.0  592.0  523.0  328.0   6088.0   \n",
              "1  ...  591.0  2086.0  681.0  29.0  447.0  699.0  535.0  486.0  13472.0   \n",
              "2  ...  461.0  1812.0  579.0  41.0  428.0  597.0  411.0  374.0  11673.0   \n",
              "3  ...  727.0  2150.0  650.0  32.0  374.0  564.0  585.0  367.0   5449.0   \n",
              "4  ...  405.0  3263.0  588.0  36.0  307.0  593.0  350.0  328.0   4606.0   \n",
              "5  ...  366.0  2675.0  577.0  43.0  556.0  678.0  313.0  581.0  17998.0   \n",
              "6  ...  510.0  2106.0  678.0  51.0  612.0  660.0  435.0  639.0  13194.0   \n",
              "7  ...  590.0  2008.0  622.0  44.0  417.0  545.0  410.0  380.0   9406.0   \n",
              "8  ...  343.0  1964.0  668.0  35.0  315.0  537.0  433.0  283.0   3225.0   \n",
              "9  ...  578.0  1488.0  599.0  30.0  396.0  587.0  482.0  399.0  11423.0   \n",
              "\n",
              "          256  \n",
              "0  Tim_Henman  \n",
              "1  Tim_Henman  \n",
              "2  Tim_Henman  \n",
              "3  Tim_Henman  \n",
              "4  Tim_Henman  \n",
              "5  Tim_Henman  \n",
              "6  Tim_Henman  \n",
              "7  Tim_Henman  \n",
              "8  Tim_Henman  \n",
              "9  Tim_Henman  \n",
              "\n",
              "[10 rows x 258 columns]"
            ],
            "text/html": [
              "\n",
              "  <div id=\"df-721817b2-2f91-4434-92c5-8717bcac1892\" class=\"colab-df-container\">\n",
              "    <div>\n",
              "<style scoped>\n",
              "    .dataframe tbody tr th:only-of-type {\n",
              "        vertical-align: middle;\n",
              "    }\n",
              "\n",
              "    .dataframe tbody tr th {\n",
              "        vertical-align: top;\n",
              "    }\n",
              "\n",
              "    .dataframe thead th {\n",
              "        text-align: right;\n",
              "    }\n",
              "</style>\n",
              "<table border=\"1\" class=\"dataframe\">\n",
              "  <thead>\n",
              "    <tr style=\"text-align: right;\">\n",
              "      <th></th>\n",
              "      <th>Unnamed: 0</th>\n",
              "      <th>0</th>\n",
              "      <th>1</th>\n",
              "      <th>2</th>\n",
              "      <th>3</th>\n",
              "      <th>4</th>\n",
              "      <th>5</th>\n",
              "      <th>6</th>\n",
              "      <th>7</th>\n",
              "      <th>8</th>\n",
              "      <th>...</th>\n",
              "      <th>247</th>\n",
              "      <th>248</th>\n",
              "      <th>249</th>\n",
              "      <th>250</th>\n",
              "      <th>251</th>\n",
              "      <th>252</th>\n",
              "      <th>253</th>\n",
              "      <th>254</th>\n",
              "      <th>255</th>\n",
              "      <th>256</th>\n",
              "    </tr>\n",
              "  </thead>\n",
              "  <tbody>\n",
              "    <tr>\n",
              "      <th>0</th>\n",
              "      <td>0</td>\n",
              "      <td>589.0</td>\n",
              "      <td>57.0</td>\n",
              "      <td>319.0</td>\n",
              "      <td>205.0</td>\n",
              "      <td>67.0</td>\n",
              "      <td>4.0</td>\n",
              "      <td>195.0</td>\n",
              "      <td>466.0</td>\n",
              "      <td>370.0</td>\n",
              "      <td>...</td>\n",
              "      <td>474.0</td>\n",
              "      <td>1924.0</td>\n",
              "      <td>612.0</td>\n",
              "      <td>26.0</td>\n",
              "      <td>357.0</td>\n",
              "      <td>592.0</td>\n",
              "      <td>523.0</td>\n",
              "      <td>328.0</td>\n",
              "      <td>6088.0</td>\n",
              "      <td>Tim_Henman</td>\n",
              "    </tr>\n",
              "    <tr>\n",
              "      <th>1</th>\n",
              "      <td>1</td>\n",
              "      <td>1012.0</td>\n",
              "      <td>113.0</td>\n",
              "      <td>383.0</td>\n",
              "      <td>203.0</td>\n",
              "      <td>76.0</td>\n",
              "      <td>11.0</td>\n",
              "      <td>205.0</td>\n",
              "      <td>369.0</td>\n",
              "      <td>505.0</td>\n",
              "      <td>...</td>\n",
              "      <td>591.0</td>\n",
              "      <td>2086.0</td>\n",
              "      <td>681.0</td>\n",
              "      <td>29.0</td>\n",
              "      <td>447.0</td>\n",
              "      <td>699.0</td>\n",
              "      <td>535.0</td>\n",
              "      <td>486.0</td>\n",
              "      <td>13472.0</td>\n",
              "      <td>Tim_Henman</td>\n",
              "    </tr>\n",
              "    <tr>\n",
              "      <th>2</th>\n",
              "      <td>2</td>\n",
              "      <td>920.0</td>\n",
              "      <td>92.0</td>\n",
              "      <td>288.0</td>\n",
              "      <td>152.0</td>\n",
              "      <td>107.0</td>\n",
              "      <td>18.0</td>\n",
              "      <td>192.0</td>\n",
              "      <td>403.0</td>\n",
              "      <td>313.0</td>\n",
              "      <td>...</td>\n",
              "      <td>461.0</td>\n",
              "      <td>1812.0</td>\n",
              "      <td>579.0</td>\n",
              "      <td>41.0</td>\n",
              "      <td>428.0</td>\n",
              "      <td>597.0</td>\n",
              "      <td>411.0</td>\n",
              "      <td>374.0</td>\n",
              "      <td>11673.0</td>\n",
              "      <td>Tim_Henman</td>\n",
              "    </tr>\n",
              "    <tr>\n",
              "      <th>3</th>\n",
              "      <td>3</td>\n",
              "      <td>1068.0</td>\n",
              "      <td>85.0</td>\n",
              "      <td>447.0</td>\n",
              "      <td>298.0</td>\n",
              "      <td>90.0</td>\n",
              "      <td>11.0</td>\n",
              "      <td>293.0</td>\n",
              "      <td>732.0</td>\n",
              "      <td>546.0</td>\n",
              "      <td>...</td>\n",
              "      <td>727.0</td>\n",
              "      <td>2150.0</td>\n",
              "      <td>650.0</td>\n",
              "      <td>32.0</td>\n",
              "      <td>374.0</td>\n",
              "      <td>564.0</td>\n",
              "      <td>585.0</td>\n",
              "      <td>367.0</td>\n",
              "      <td>5449.0</td>\n",
              "      <td>Tim_Henman</td>\n",
              "    </tr>\n",
              "    <tr>\n",
              "      <th>4</th>\n",
              "      <td>4</td>\n",
              "      <td>510.0</td>\n",
              "      <td>43.0</td>\n",
              "      <td>304.0</td>\n",
              "      <td>189.0</td>\n",
              "      <td>47.0</td>\n",
              "      <td>8.0</td>\n",
              "      <td>201.0</td>\n",
              "      <td>387.0</td>\n",
              "      <td>296.0</td>\n",
              "      <td>...</td>\n",
              "      <td>405.0</td>\n",
              "      <td>3263.0</td>\n",
              "      <td>588.0</td>\n",
              "      <td>36.0</td>\n",
              "      <td>307.0</td>\n",
              "      <td>593.0</td>\n",
              "      <td>350.0</td>\n",
              "      <td>328.0</td>\n",
              "      <td>4606.0</td>\n",
              "      <td>Tim_Henman</td>\n",
              "    </tr>\n",
              "    <tr>\n",
              "      <th>5</th>\n",
              "      <td>5</td>\n",
              "      <td>678.0</td>\n",
              "      <td>65.0</td>\n",
              "      <td>173.0</td>\n",
              "      <td>131.0</td>\n",
              "      <td>66.0</td>\n",
              "      <td>14.0</td>\n",
              "      <td>114.0</td>\n",
              "      <td>255.0</td>\n",
              "      <td>292.0</td>\n",
              "      <td>...</td>\n",
              "      <td>366.0</td>\n",
              "      <td>2675.0</td>\n",
              "      <td>577.0</td>\n",
              "      <td>43.0</td>\n",
              "      <td>556.0</td>\n",
              "      <td>678.0</td>\n",
              "      <td>313.0</td>\n",
              "      <td>581.0</td>\n",
              "      <td>17998.0</td>\n",
              "      <td>Tim_Henman</td>\n",
              "    </tr>\n",
              "    <tr>\n",
              "      <th>6</th>\n",
              "      <td>6</td>\n",
              "      <td>668.0</td>\n",
              "      <td>62.0</td>\n",
              "      <td>344.0</td>\n",
              "      <td>187.0</td>\n",
              "      <td>60.0</td>\n",
              "      <td>10.0</td>\n",
              "      <td>218.0</td>\n",
              "      <td>347.0</td>\n",
              "      <td>330.0</td>\n",
              "      <td>...</td>\n",
              "      <td>510.0</td>\n",
              "      <td>2106.0</td>\n",
              "      <td>678.0</td>\n",
              "      <td>51.0</td>\n",
              "      <td>612.0</td>\n",
              "      <td>660.0</td>\n",
              "      <td>435.0</td>\n",
              "      <td>639.0</td>\n",
              "      <td>13194.0</td>\n",
              "      <td>Tim_Henman</td>\n",
              "    </tr>\n",
              "    <tr>\n",
              "      <th>7</th>\n",
              "      <td>7</td>\n",
              "      <td>745.0</td>\n",
              "      <td>74.0</td>\n",
              "      <td>267.0</td>\n",
              "      <td>218.0</td>\n",
              "      <td>80.0</td>\n",
              "      <td>10.0</td>\n",
              "      <td>180.0</td>\n",
              "      <td>363.0</td>\n",
              "      <td>376.0</td>\n",
              "      <td>...</td>\n",
              "      <td>590.0</td>\n",
              "      <td>2008.0</td>\n",
              "      <td>622.0</td>\n",
              "      <td>44.0</td>\n",
              "      <td>417.0</td>\n",
              "      <td>545.0</td>\n",
              "      <td>410.0</td>\n",
              "      <td>380.0</td>\n",
              "      <td>9406.0</td>\n",
              "      <td>Tim_Henman</td>\n",
              "    </tr>\n",
              "    <tr>\n",
              "      <th>8</th>\n",
              "      <td>8</td>\n",
              "      <td>428.0</td>\n",
              "      <td>45.0</td>\n",
              "      <td>268.0</td>\n",
              "      <td>222.0</td>\n",
              "      <td>44.0</td>\n",
              "      <td>6.0</td>\n",
              "      <td>210.0</td>\n",
              "      <td>430.0</td>\n",
              "      <td>265.0</td>\n",
              "      <td>...</td>\n",
              "      <td>343.0</td>\n",
              "      <td>1964.0</td>\n",
              "      <td>668.0</td>\n",
              "      <td>35.0</td>\n",
              "      <td>315.0</td>\n",
              "      <td>537.0</td>\n",
              "      <td>433.0</td>\n",
              "      <td>283.0</td>\n",
              "      <td>3225.0</td>\n",
              "      <td>Tim_Henman</td>\n",
              "    </tr>\n",
              "    <tr>\n",
              "      <th>9</th>\n",
              "      <td>9</td>\n",
              "      <td>1154.0</td>\n",
              "      <td>103.0</td>\n",
              "      <td>354.0</td>\n",
              "      <td>234.0</td>\n",
              "      <td>113.0</td>\n",
              "      <td>16.0</td>\n",
              "      <td>260.0</td>\n",
              "      <td>374.0</td>\n",
              "      <td>473.0</td>\n",
              "      <td>...</td>\n",
              "      <td>578.0</td>\n",
              "      <td>1488.0</td>\n",
              "      <td>599.0</td>\n",
              "      <td>30.0</td>\n",
              "      <td>396.0</td>\n",
              "      <td>587.0</td>\n",
              "      <td>482.0</td>\n",
              "      <td>399.0</td>\n",
              "      <td>11423.0</td>\n",
              "      <td>Tim_Henman</td>\n",
              "    </tr>\n",
              "  </tbody>\n",
              "</table>\n",
              "<p>10 rows × 258 columns</p>\n",
              "</div>\n",
              "    <div class=\"colab-df-buttons\">\n",
              "\n",
              "  <div class=\"colab-df-container\">\n",
              "    <button class=\"colab-df-convert\" onclick=\"convertToInteractive('df-721817b2-2f91-4434-92c5-8717bcac1892')\"\n",
              "            title=\"Convert this dataframe to an interactive table.\"\n",
              "            style=\"display:none;\">\n",
              "\n",
              "  <svg xmlns=\"http://www.w3.org/2000/svg\" height=\"24px\" viewBox=\"0 -960 960 960\">\n",
              "    <path d=\"M120-120v-720h720v720H120Zm60-500h600v-160H180v160Zm220 220h160v-160H400v160Zm0 220h160v-160H400v160ZM180-400h160v-160H180v160Zm440 0h160v-160H620v160ZM180-180h160v-160H180v160Zm440 0h160v-160H620v160Z\"/>\n",
              "  </svg>\n",
              "    </button>\n",
              "\n",
              "  <style>\n",
              "    .colab-df-container {\n",
              "      display:flex;\n",
              "      gap: 12px;\n",
              "    }\n",
              "\n",
              "    .colab-df-convert {\n",
              "      background-color: #E8F0FE;\n",
              "      border: none;\n",
              "      border-radius: 50%;\n",
              "      cursor: pointer;\n",
              "      display: none;\n",
              "      fill: #1967D2;\n",
              "      height: 32px;\n",
              "      padding: 0 0 0 0;\n",
              "      width: 32px;\n",
              "    }\n",
              "\n",
              "    .colab-df-convert:hover {\n",
              "      background-color: #E2EBFA;\n",
              "      box-shadow: 0px 1px 2px rgba(60, 64, 67, 0.3), 0px 1px 3px 1px rgba(60, 64, 67, 0.15);\n",
              "      fill: #174EA6;\n",
              "    }\n",
              "\n",
              "    .colab-df-buttons div {\n",
              "      margin-bottom: 4px;\n",
              "    }\n",
              "\n",
              "    [theme=dark] .colab-df-convert {\n",
              "      background-color: #3B4455;\n",
              "      fill: #D2E3FC;\n",
              "    }\n",
              "\n",
              "    [theme=dark] .colab-df-convert:hover {\n",
              "      background-color: #434B5C;\n",
              "      box-shadow: 0px 1px 3px 1px rgba(0, 0, 0, 0.15);\n",
              "      filter: drop-shadow(0px 1px 2px rgba(0, 0, 0, 0.3));\n",
              "      fill: #FFFFFF;\n",
              "    }\n",
              "  </style>\n",
              "\n",
              "    <script>\n",
              "      const buttonEl =\n",
              "        document.querySelector('#df-721817b2-2f91-4434-92c5-8717bcac1892 button.colab-df-convert');\n",
              "      buttonEl.style.display =\n",
              "        google.colab.kernel.accessAllowed ? 'block' : 'none';\n",
              "\n",
              "      async function convertToInteractive(key) {\n",
              "        const element = document.querySelector('#df-721817b2-2f91-4434-92c5-8717bcac1892');\n",
              "        const dataTable =\n",
              "          await google.colab.kernel.invokeFunction('convertToInteractive',\n",
              "                                                    [key], {});\n",
              "        if (!dataTable) return;\n",
              "\n",
              "        const docLinkHtml = 'Like what you see? Visit the ' +\n",
              "          '<a target=\"_blank\" href=https://colab.research.google.com/notebooks/data_table.ipynb>data table notebook</a>'\n",
              "          + ' to learn more about interactive tables.';\n",
              "        element.innerHTML = '';\n",
              "        dataTable['output_type'] = 'display_data';\n",
              "        await google.colab.output.renderOutput(dataTable, element);\n",
              "        const docLink = document.createElement('div');\n",
              "        docLink.innerHTML = docLinkHtml;\n",
              "        element.appendChild(docLink);\n",
              "      }\n",
              "    </script>\n",
              "  </div>\n",
              "\n",
              "\n",
              "<div id=\"df-a5480c52-3211-4ed1-831f-0f20601d1abd\">\n",
              "  <button class=\"colab-df-quickchart\" onclick=\"quickchart('df-a5480c52-3211-4ed1-831f-0f20601d1abd')\"\n",
              "            title=\"Suggest charts\"\n",
              "            style=\"display:none;\">\n",
              "\n",
              "<svg xmlns=\"http://www.w3.org/2000/svg\" height=\"24px\"viewBox=\"0 0 24 24\"\n",
              "     width=\"24px\">\n",
              "    <g>\n",
              "        <path d=\"M19 3H5c-1.1 0-2 .9-2 2v14c0 1.1.9 2 2 2h14c1.1 0 2-.9 2-2V5c0-1.1-.9-2-2-2zM9 17H7v-7h2v7zm4 0h-2V7h2v10zm4 0h-2v-4h2v4z\"/>\n",
              "    </g>\n",
              "</svg>\n",
              "  </button>\n",
              "\n",
              "<style>\n",
              "  .colab-df-quickchart {\n",
              "      --bg-color: #E8F0FE;\n",
              "      --fill-color: #1967D2;\n",
              "      --hover-bg-color: #E2EBFA;\n",
              "      --hover-fill-color: #174EA6;\n",
              "      --disabled-fill-color: #AAA;\n",
              "      --disabled-bg-color: #DDD;\n",
              "  }\n",
              "\n",
              "  [theme=dark] .colab-df-quickchart {\n",
              "      --bg-color: #3B4455;\n",
              "      --fill-color: #D2E3FC;\n",
              "      --hover-bg-color: #434B5C;\n",
              "      --hover-fill-color: #FFFFFF;\n",
              "      --disabled-bg-color: #3B4455;\n",
              "      --disabled-fill-color: #666;\n",
              "  }\n",
              "\n",
              "  .colab-df-quickchart {\n",
              "    background-color: var(--bg-color);\n",
              "    border: none;\n",
              "    border-radius: 50%;\n",
              "    cursor: pointer;\n",
              "    display: none;\n",
              "    fill: var(--fill-color);\n",
              "    height: 32px;\n",
              "    padding: 0;\n",
              "    width: 32px;\n",
              "  }\n",
              "\n",
              "  .colab-df-quickchart:hover {\n",
              "    background-color: var(--hover-bg-color);\n",
              "    box-shadow: 0 1px 2px rgba(60, 64, 67, 0.3), 0 1px 3px 1px rgba(60, 64, 67, 0.15);\n",
              "    fill: var(--button-hover-fill-color);\n",
              "  }\n",
              "\n",
              "  .colab-df-quickchart-complete:disabled,\n",
              "  .colab-df-quickchart-complete:disabled:hover {\n",
              "    background-color: var(--disabled-bg-color);\n",
              "    fill: var(--disabled-fill-color);\n",
              "    box-shadow: none;\n",
              "  }\n",
              "\n",
              "  .colab-df-spinner {\n",
              "    border: 2px solid var(--fill-color);\n",
              "    border-color: transparent;\n",
              "    border-bottom-color: var(--fill-color);\n",
              "    animation:\n",
              "      spin 1s steps(1) infinite;\n",
              "  }\n",
              "\n",
              "  @keyframes spin {\n",
              "    0% {\n",
              "      border-color: transparent;\n",
              "      border-bottom-color: var(--fill-color);\n",
              "      border-left-color: var(--fill-color);\n",
              "    }\n",
              "    20% {\n",
              "      border-color: transparent;\n",
              "      border-left-color: var(--fill-color);\n",
              "      border-top-color: var(--fill-color);\n",
              "    }\n",
              "    30% {\n",
              "      border-color: transparent;\n",
              "      border-left-color: var(--fill-color);\n",
              "      border-top-color: var(--fill-color);\n",
              "      border-right-color: var(--fill-color);\n",
              "    }\n",
              "    40% {\n",
              "      border-color: transparent;\n",
              "      border-right-color: var(--fill-color);\n",
              "      border-top-color: var(--fill-color);\n",
              "    }\n",
              "    60% {\n",
              "      border-color: transparent;\n",
              "      border-right-color: var(--fill-color);\n",
              "    }\n",
              "    80% {\n",
              "      border-color: transparent;\n",
              "      border-right-color: var(--fill-color);\n",
              "      border-bottom-color: var(--fill-color);\n",
              "    }\n",
              "    90% {\n",
              "      border-color: transparent;\n",
              "      border-bottom-color: var(--fill-color);\n",
              "    }\n",
              "  }\n",
              "</style>\n",
              "\n",
              "  <script>\n",
              "    async function quickchart(key) {\n",
              "      const quickchartButtonEl =\n",
              "        document.querySelector('#' + key + ' button');\n",
              "      quickchartButtonEl.disabled = true;  // To prevent multiple clicks.\n",
              "      quickchartButtonEl.classList.add('colab-df-spinner');\n",
              "      try {\n",
              "        const charts = await google.colab.kernel.invokeFunction(\n",
              "            'suggestCharts', [key], {});\n",
              "      } catch (error) {\n",
              "        console.error('Error during call to suggestCharts:', error);\n",
              "      }\n",
              "      quickchartButtonEl.classList.remove('colab-df-spinner');\n",
              "      quickchartButtonEl.classList.add('colab-df-quickchart-complete');\n",
              "    }\n",
              "    (() => {\n",
              "      let quickchartButtonEl =\n",
              "        document.querySelector('#df-a5480c52-3211-4ed1-831f-0f20601d1abd button');\n",
              "      quickchartButtonEl.style.display =\n",
              "        google.colab.kernel.accessAllowed ? 'block' : 'none';\n",
              "    })();\n",
              "  </script>\n",
              "</div>\n",
              "\n",
              "    </div>\n",
              "  </div>\n"
            ],
            "application/vnd.google.colaboratory.intrinsic+json": {
              "type": "dataframe",
              "variable_name": "df_LBP"
            }
          },
          "metadata": {},
          "execution_count": 10
        }
      ]
    },
    {
      "cell_type": "markdown",
      "source": [
        "# Train/Test split - for LBP dataset"
      ],
      "metadata": {
        "id": "AVs6_YoYjCoS"
      }
    },
    {
      "cell_type": "code",
      "source": [
        "# Separate features and labels\n",
        "X_LBP = df_LBP.iloc[:, :-1]\n",
        "y_LBP = df_LBP.iloc[:, -1]\n",
        "\n",
        "# Encode labels (alphabetically)\n",
        "label_encoder = LabelEncoder()\n",
        "y_encoded = label_encoder.fit_transform(y_LBP)\n",
        "# encoding is benificial as working on numbers is lot easier than working on string\n",
        "\n",
        "# Ensure stratified split (16 training, 4 testing per class)\n",
        "X_train_LBP, X_test_LBP, y_train_LBP, y_test_LBP = train_test_split(X_LBP, y_encoded, test_size=1/5, random_state=42, stratify=y_encoded)\n",
        "\n",
        "# Normalize features\n",
        "scaler = StandardScaler()\n",
        "X_train_LBP = scaler.fit_transform(X_train_LBP)\n",
        "X_test_LBP = scaler.transform(X_test_LBP)\n",
        "\n",
        "print(f\"Dataset size: {df_LBP.shape}\")\n",
        "print(f\"Training size: {X_train_LBP.shape}, Testing size: {X_test_LBP.shape}\")"
      ],
      "metadata": {
        "colab": {
          "base_uri": "https://localhost:8080/"
        },
        "id": "Abp0KaGlieJZ",
        "outputId": "8007bc84-d1ea-4694-d7b7-9f41931d8b9c"
      },
      "execution_count": 14,
      "outputs": [
        {
          "output_type": "stream",
          "name": "stdout",
          "text": [
            "Dataset size: (4324, 258)\n",
            "Training size: (3459, 257), Testing size: (865, 257)\n"
          ]
        }
      ]
    },
    {
      "cell_type": "markdown",
      "source": [
        "# Applying PCA for dimensionality reduction"
      ],
      "metadata": {
        "id": "awUGb0PmJK8S"
      }
    },
    {
      "cell_type": "code",
      "source": [
        "from sklearn.decomposition import PCA"
      ],
      "metadata": {
        "id": "Lcv0-yj-oC7e"
      },
      "execution_count": 1,
      "outputs": []
    },
    {
      "cell_type": "markdown",
      "source": [
        "# PCA on CNN features"
      ],
      "metadata": {
        "id": "mIP-Die8Zw1I"
      }
    },
    {
      "cell_type": "code",
      "source": [
        "pca=PCA(n_components=300)\n",
        "\n",
        "X_train_cnn_pca=pca.fit_transform(X_train_cnn)\n",
        "X_test_cnn_pca=pca.transform(X_test_cnn)\n",
        "\n",
        "print(X_train_cnn_pca.shape)\n",
        "print(X_test_cnn_pca.shape)"
      ],
      "metadata": {
        "id": "Sj5t1lrSJ3AL",
        "colab": {
          "base_uri": "https://localhost:8080/",
          "height": 211
        },
        "outputId": "315333af-93bc-4291-c8cb-6f10daed0dd7"
      },
      "execution_count": 2,
      "outputs": [
        {
          "output_type": "error",
          "ename": "NameError",
          "evalue": "name 'X_train_cnn' is not defined",
          "traceback": [
            "\u001b[0;31m---------------------------------------------------------------------------\u001b[0m",
            "\u001b[0;31mNameError\u001b[0m                                 Traceback (most recent call last)",
            "\u001b[0;32m<ipython-input-2-ac81ff5cf841>\u001b[0m in \u001b[0;36m<cell line: 0>\u001b[0;34m()\u001b[0m\n\u001b[1;32m      1\u001b[0m \u001b[0mpca\u001b[0m\u001b[0;34m=\u001b[0m\u001b[0mPCA\u001b[0m\u001b[0;34m(\u001b[0m\u001b[0mn_components\u001b[0m\u001b[0;34m=\u001b[0m\u001b[0;36m300\u001b[0m\u001b[0;34m)\u001b[0m\u001b[0;34m\u001b[0m\u001b[0;34m\u001b[0m\u001b[0m\n\u001b[1;32m      2\u001b[0m \u001b[0;34m\u001b[0m\u001b[0m\n\u001b[0;32m----> 3\u001b[0;31m \u001b[0mX_train_cnn_pca\u001b[0m\u001b[0;34m=\u001b[0m\u001b[0mpca\u001b[0m\u001b[0;34m.\u001b[0m\u001b[0mfit_transform\u001b[0m\u001b[0;34m(\u001b[0m\u001b[0mX_train_cnn\u001b[0m\u001b[0;34m)\u001b[0m\u001b[0;34m\u001b[0m\u001b[0;34m\u001b[0m\u001b[0m\n\u001b[0m\u001b[1;32m      4\u001b[0m \u001b[0mX_test_cnn_pca\u001b[0m\u001b[0;34m=\u001b[0m\u001b[0mpca\u001b[0m\u001b[0;34m.\u001b[0m\u001b[0mtransform\u001b[0m\u001b[0;34m(\u001b[0m\u001b[0mX_test_cnn\u001b[0m\u001b[0;34m)\u001b[0m\u001b[0;34m\u001b[0m\u001b[0;34m\u001b[0m\u001b[0m\n\u001b[1;32m      5\u001b[0m \u001b[0;34m\u001b[0m\u001b[0m\n",
            "\u001b[0;31mNameError\u001b[0m: name 'X_train_cnn' is not defined"
          ]
        }
      ]
    },
    {
      "cell_type": "markdown",
      "source": [
        "# PCA on HoG features"
      ],
      "metadata": {
        "id": "LV3iXQw4Zzxm"
      }
    },
    {
      "cell_type": "code",
      "source": [
        "pca=PCA(n_components=1000)\n",
        "\n",
        "X_train_hog_pca=pca.fit_transform(X_train_hog)\n",
        "X_test_hog_pca=pca.transform(X_test_hog)\n",
        "\n",
        "print(X_train_hog_pca.shape)\n",
        "print(X_test_hog_pca.shape)"
      ],
      "metadata": {
        "id": "84PdM4jfji_z"
      },
      "execution_count": null,
      "outputs": []
    },
    {
      "cell_type": "markdown",
      "source": [
        "# PCA on LBP features"
      ],
      "metadata": {
        "id": "hmJHV_bkjp40"
      }
    },
    {
      "cell_type": "code",
      "source": [
        "pca=PCA(n_components=50)\n",
        "\n",
        "X_train_LBP_pca=pca.fit_transform(X_train_LBP)\n",
        "X_test_LBP_pca=pca.transform(X_test_LBP)\n",
        "\n",
        "print(X_train_LBP_pca.shape)\n",
        "print(X_test_LBP_pca.shape)"
      ],
      "metadata": {
        "colab": {
          "base_uri": "https://localhost:8080/"
        },
        "id": "VdySM0Z1jsyS",
        "outputId": "d91da2ec-400a-40f3-a791-56eed48bc6e7"
      },
      "execution_count": 16,
      "outputs": [
        {
          "output_type": "stream",
          "name": "stdout",
          "text": [
            "(3459, 50)\n",
            "(865, 50)\n"
          ]
        }
      ]
    },
    {
      "cell_type": "markdown",
      "source": [
        "# Combining all features"
      ],
      "metadata": {
        "id": "CO_MKFsQGpPx"
      }
    },
    {
      "cell_type": "code",
      "source": [
        "combined_X_train = np.concatenate((X_train_cnn_pca, X_train_hog_pca, X_train_LBP_pca))\n",
        "combined_X_test = np.concatenate((X_test_cnn_pca, X_test_hog_pca, X_test_LBP_pca))"
      ],
      "metadata": {
        "id": "dPU4c3XwkdPj"
      },
      "execution_count": null,
      "outputs": []
    },
    {
      "cell_type": "code",
      "source": [
        "y_train = y_train_cnn\n",
        "y_test = y_test_cnn\n",
        "\n",
        "print(y_train[:10])\n",
        "print(y_test[:10])"
      ],
      "metadata": {
        "colab": {
          "base_uri": "https://localhost:8080/"
        },
        "id": "ELhA7ealldlc",
        "outputId": "945027e4-0fba-4f66-96a4-ee8e9d07a965"
      },
      "execution_count": 17,
      "outputs": [
        {
          "output_type": "stream",
          "name": "stdout",
          "text": [
            "[ 36 134 146   6  41  23  61  28 134  53]\n",
            "[ 91  60 128  35  11 103  50 111  89  80]\n"
          ]
        }
      ]
    },
    {
      "cell_type": "markdown",
      "source": [
        "# Check Printing"
      ],
      "metadata": {
        "id": "mPWmL6HUo2Yf"
      }
    },
    {
      "cell_type": "code",
      "source": [
        "# for i in range(X_test_cnn_pca.shape[0]):\n",
        "#   if i%100==0:\n",
        "#     print(X_test_cnn_pca[i,:])"
      ],
      "metadata": {
        "id": "qRJ9QQpZRwcY"
      },
      "execution_count": 91,
      "outputs": []
    },
    {
      "cell_type": "code",
      "source": [
        "for i in range(len(y_test)):\n",
        "  if i%100==0:\n",
        "    print(label_encoder.inverse_transform([y_test[i]])[0])"
      ],
      "metadata": {
        "colab": {
          "base_uri": "https://localhost:8080/"
        },
        "id": "N5x6rv8hSB16",
        "outputId": "fc3019cf-b4c6-4eee-c1f4-892597b3b799"
      },
      "execution_count": 84,
      "outputs": [
        {
          "output_type": "stream",
          "name": "stdout",
          "text": [
            "Laura_Bush\n",
            "Angelina_Jolie\n",
            "Andre_Agassi\n",
            "Mike_Weir\n",
            "Colin_Powell\n",
            "John_Negroponte\n",
            "Dick_Cheney\n",
            "Vladimir_Putin\n",
            "Gerhard_Schroeder\n"
          ]
        }
      ]
    },
    {
      "cell_type": "markdown",
      "source": [
        "# KNN Model"
      ],
      "metadata": {
        "id": "1vd_jfouKV5K"
      }
    },
    {
      "cell_type": "code",
      "source": [
        "import numpy as np\n",
        "import math"
      ],
      "metadata": {
        "id": "pNanG4XBJx-q"
      },
      "execution_count": 85,
      "outputs": []
    },
    {
      "cell_type": "code",
      "source": [
        "def euclidean_dist(x,y):\n",
        "  # x1,y1,z1=x\n",
        "  # x2,y2,z2=y\n",
        "  return math.sqrt(sum([(a-b)**2 for a,b in zip(x,y)]))"
      ],
      "metadata": {
        "id": "2sYnoEgFKlA5"
      },
      "execution_count": 86,
      "outputs": []
    },
    {
      "cell_type": "code",
      "source": [
        "point1 = [2,3,4]\n",
        "point2 = [1,2,1]\n",
        "print(euclidean_dist(point1, point2))"
      ],
      "metadata": {
        "colab": {
          "base_uri": "https://localhost:8080/"
        },
        "id": "0nbnWdaMJpOS",
        "outputId": "e09dae1a-7bb4-4d28-ac34-2bf956b1a9e1"
      },
      "execution_count": 17,
      "outputs": [
        {
          "output_type": "stream",
          "name": "stdout",
          "text": [
            "3.3166247903554\n"
          ]
        }
      ]
    },
    {
      "cell_type": "code",
      "source": [
        "k=3"
      ],
      "metadata": {
        "id": "VEjvfGrnm9vM"
      },
      "execution_count": 87,
      "outputs": []
    },
    {
      "cell_type": "code",
      "source": [
        "from collections import Counter"
      ],
      "metadata": {
        "id": "MPcW1M_GOpjH"
      },
      "execution_count": 88,
      "outputs": []
    },
    {
      "cell_type": "code",
      "source": [
        "predictions=[]\n",
        "for i in range(combined_X_test.shape[0]):\n",
        "  distances=[]\n",
        "  nearest_labels=[]\n",
        "  for j in range(combined_X_train.shape[0]):\n",
        "    # append the pair (distance, index) to distances\n",
        "    distance=euclidean_dist(combined_X_test[i], combined_X_train[j])\n",
        "    distances.append((distance, j))\n",
        "  # sorting distances on the basis of first item of pair i.e. distance\n",
        "  distances.sort(key=lambda x:x[0])\n",
        "  for k1 in range(k):\n",
        "    nearest_labels.append(y_train[distances[k1][1]])\n",
        "\n",
        "  label_counts = Counter(nearest_labels)\n",
        "  most_common_label = label_counts.most_common(1)[0][0] if nearest_labels else -1\n",
        "\n",
        "  predictions.append(label_encoder.inverse_transform([most_common_label])[0])\n",
        "\n",
        "  if i%100==0:\n",
        "    print(f'Label {i} detected')\n",
        "    # if most_common_label!=-1:\n",
        "    #   print(X_test_cnn_pca[i], '\\t', label_encoder.inverse_transform([most_common_label])[0])\n",
        "    # else:\n",
        "    #   print(X_test_cnn_pca[i], '\\t', 'Unknown')\n",
        "\n",
        "print(predictions)"
      ],
      "metadata": {
        "id": "dBOh51aIlv0Q",
        "colab": {
          "base_uri": "https://localhost:8080/"
        },
        "outputId": "c937d47f-6599-4fba-fa3c-932dc93fb620"
      },
      "execution_count": 90,
      "outputs": [
        {
          "output_type": "stream",
          "name": "stdout",
          "text": [
            "Label 0 detected\n",
            "Label 100 detected\n",
            "Label 200 detected\n",
            "Label 300 detected\n",
            "Label 400 detected\n",
            "Label 500 detected\n",
            "Label 600 detected\n",
            "Label 700 detected\n",
            "Label 800 detected\n",
            "['Rubens_Barrichello', 'Colin_Powell', 'Carlos_Moya', 'George_W_Bush', 'George_W_Bush', 'Anna_Kournikova', 'Serena_Williams', 'Gray_Davis', 'Colin_Powell', 'Ariel_Sharon', 'George_W_Bush', 'Mohammed_Al-Douri', 'Jose_Maria_Aznar', 'Hugo_Chavez', 'George_W_Bush', 'Arnold_Schwarzenegger', 'Gonzalo_Sanchez_de_Lozada', 'Gerhard_Schroeder', 'Alejandro_Toledo', 'Donald_Rumsfeld', 'Tony_Blair', 'Naomi_Watts', 'Jacques_Chirac', 'Ricardo_Lagos', 'John_Negroponte', 'John_Negroponte', 'Paul_Bremer', 'Jennifer_Garner', 'Colin_Powell', 'Kim_Clijsters', 'Jean_Chretien', 'Tim_Henman', 'Megawati_Sukarnoputri', 'George_W_Bush', 'Megawati_Sukarnoputri', 'George_W_Bush', 'Trent_Lott', 'Carlos_Menem', 'Luiz_Inacio_Lula_da_Silva', 'George_W_Bush', 'Luiz_Inacio_Lula_da_Silva', 'Pierce_Brosnan', 'George_W_Bush', 'Recep_Tayyip_Erdogan', 'Megawati_Sukarnoputri', 'Jennifer_Capriati', 'Guillermo_Coria', 'Tony_Blair', 'Winona_Ryder', 'Jean_Chretien', 'Tony_Blair', 'Kofi_Annan', 'George_W_Bush', 'George_W_Bush', 'Gonzalo_Sanchez_de_Lozada', 'Joe_Lieberman', 'Colin_Powell', 'Tony_Blair', 'Luiz_Inacio_Lula_da_Silva', 'George_W_Bush', 'Laura_Bush', 'Lance_Armstrong', 'Gerhard_Schroeder', 'George_W_Bush', 'Colin_Powell', 'Tom_Daschle', 'Andre_Agassi', 'Colin_Powell', 'Atal_Bihari_Vajpayee', 'Kofi_Annan', 'Jose_Maria_Aznar', 'Donald_Rumsfeld', 'George_W_Bush', 'Jose_Maria_Aznar', 'Colin_Powell', 'Tony_Blair', 'George_W_Bush', 'George_W_Bush', 'Donald_Rumsfeld', 'John_Ashcroft', 'Colin_Powell', 'George_W_Bush', 'Julianne_Moore', 'George_Robertson', 'Arnold_Schwarzenegger', 'George_W_Bush', 'Dick_Cheney', 'George_W_Bush', 'Ariel_Sharon', 'George_W_Bush', 'John_Snow', 'Colin_Powell', 'Gerhard_Schroeder', 'Sergio_Vieira_De_Mello', 'Jennifer_Garner', 'Laura_Bush', 'Rudolph_Giuliani', 'Colin_Powell', 'Tommy_Thompson', 'Donald_Rumsfeld', 'Ann_Veneman', 'Mark_Philippoussis', 'Tom_Hanks', 'Tony_Blair', 'Donald_Rumsfeld', 'John_Ashcroft', 'George_W_Bush', 'George_W_Bush', 'Catherine_Zeta-Jones', 'George_Robertson', 'Ari_Fleischer', 'Jennifer_Aniston', 'George_W_Bush', 'Hugo_Chavez', 'Salma_Hayek', 'Gloria_Macapagal_Arroyo', 'George_W_Bush', 'Laura_Bush', 'Carlos_Moya', 'George_W_Bush', 'Lindsay_Davenport', 'Ricardo_Lagos', 'George_W_Bush', 'Carlos_Moya', 'Guillermo_Coria', 'Taha_Yassin_Ramadan', 'George_W_Bush', 'George_W_Bush', 'Tony_Blair', 'Jacques_Chirac', 'Jeremy_Greenstock', 'Tang_Jiaxuan', 'Lleyton_Hewitt', 'Spencer_Abraham', 'Junichiro_Koizumi', 'David_Nalbandian', 'Meryl_Streep', 'Gerhard_Schroeder', 'Tommy_Thompson', 'Winona_Ryder', 'George_W_Bush', 'Gloria_Macapagal_Arroyo', 'Naomi_Watts', 'Junichiro_Koizumi', 'George_W_Bush', 'Jacques_Chirac', 'Gloria_Macapagal_Arroyo', 'Colin_Powell', 'Tom_Daschle', 'Rudolph_Giuliani', 'George_W_Bush', 'Colin_Powell', 'Jennifer_Capriati', 'Jack_Straw', 'John_Negroponte', 'Ariel_Sharon', 'Hugo_Chavez', 'Colin_Powell', 'George_W_Bush', 'George_W_Bush', 'Ian_Thorpe', 'Jennifer_Lopez', 'Hillary_Clinton', 'Colin_Powell', 'Gerhard_Schroeder', 'Tony_Blair', 'John_Ashcroft', 'Alvaro_Uribe', 'Julie_Gerberding', 'Carlos_Moya', 'Lance_Armstrong', 'Harrison_Ford', 'Kim_Clijsters', 'George_W_Bush', 'Colin_Powell', 'Laura_Bush', 'George_W_Bush', 'George_W_Bush', 'Tony_Blair', 'Bill_Gates', 'Hugo_Chavez', 'Tom_Ridge', 'Gerhard_Schroeder', 'Dominique_de_Villepin', 'Alvaro_Uribe', 'George_W_Bush', 'Amelie_Mauresmo', 'Colin_Powell', 'Andre_Agassi', 'Colin_Powell', 'Andy_Roddick', 'Hu_Jintao', 'Hillary_Clinton', 'Richard_Gephardt', 'Vladimir_Putin', 'Colin_Powell', 'Colin_Powell', 'Carlos_Moya', 'Amelie_Mauresmo', 'Recep_Tayyip_Erdogan', 'Lleyton_Hewitt', 'Gray_Davis', 'Ricardo_Lagos', 'Junichiro_Koizumi', 'Walter_Mondale', 'Rubens_Barrichello', 'George_W_Bush', 'Luiz_Inacio_Lula_da_Silva', 'Jean_Chretien', 'Bill_Simon', 'George_W_Bush', 'Pervez_Musharraf', 'Gerhard_Schroeder', 'Spencer_Abraham', 'Arnold_Schwarzenegger', 'John_Kerry', 'George_W_Bush', 'George_W_Bush', 'Colin_Powell', 'George_Robertson', 'Donald_Rumsfeld', 'Charles_Moose', 'George_W_Bush', 'George_W_Bush', 'Tim_Henman', 'Rudolph_Giuliani', 'Britney_Spears', 'George_W_Bush', 'George_W_Bush', 'George_W_Bush', 'Harrison_Ford', 'Jacques_Chirac', 'Serena_Williams', 'Gloria_Macapagal_Arroyo', 'Bill_Simon', 'George_W_Bush', 'Lindsay_Davenport', 'George_W_Bush', 'Ricardo_Lagos', 'Luiz_Inacio_Lula_da_Silva', 'Jose_Maria_Aznar', 'Donald_Rumsfeld', 'George_W_Bush', 'Halle_Berry', 'Eduardo_Duhalde', 'Colin_Powell', 'Serena_Williams', 'George_W_Bush', 'Colin_Powell', 'Jacques_Chirac', 'Tony_Blair', 'Kofi_Annan', 'George_W_Bush', 'Ariel_Sharon', 'Jacques_Rogge', 'Spencer_Abraham', 'George_W_Bush', 'Atal_Bihari_Vajpayee', 'Bill_Clinton', 'Igor_Ivanov', 'George_W_Bush', 'Lleyton_Hewitt', 'Gerhard_Schroeder', 'George_W_Bush', 'Colin_Powell', 'George_W_Bush', 'Norah_Jones', 'Tim_Henman', 'Joschka_Fischer', 'Hugo_Chavez', 'Jean_Chretien', 'Colin_Powell', 'George_W_Bush', 'George_W_Bush', 'Saddam_Hussein', 'Mohammad_Khatami', 'Tom_Ridge', 'Tony_Blair', 'Tom_Ridge', 'George_W_Bush', 'George_W_Bush', 'Hu_Jintao', 'George_W_Bush', 'George_W_Bush', 'Colin_Powell', 'Halle_Berry', 'Andre_Agassi', 'George_W_Bush', 'John_Ashcroft', 'Nicole_Kidman', 'Jean_Chretien', 'George_W_Bush', 'Colin_Powell', 'Nestor_Kirchner', 'Harrison_Ford', 'Kofi_Annan', 'Lleyton_Hewitt', 'George_W_Bush', 'Jeremy_Greenstock', 'George_W_Bush', 'Tang_Jiaxuan', 'Tony_Blair', 'Hugo_Chavez', 'Winona_Ryder', 'Alvaro_Uribe', 'Kofi_Annan', 'Lleyton_Hewitt', 'Jack_Straw', 'Julie_Gerberding', 'Vicente_Fox', 'Taha_Yassin_Ramadan', 'Alejandro_Toledo', 'Paul_Burrell', 'George_W_Bush', 'Donald_Rumsfeld', 'George_W_Bush', 'Megawati_Sukarnoputri', 'George_W_Bush', 'Carlos_Menem', 'George_W_Bush', 'Ricardo_Lagos', 'Colin_Powell', 'George_W_Bush', 'Gloria_Macapagal_Arroyo', 'George_W_Bush', 'Colin_Powell', 'Jean-David_Levitte', 'George_W_Bush', 'Venus_Williams', 'Colin_Powell', 'Junichiro_Koizumi', 'Arnold_Schwarzenegger', 'Michael_Schumacher', 'Andre_Agassi', 'David_Beckham', 'Colin_Powell', 'George_W_Bush', 'George_W_Bush', 'Spencer_Abraham', 'Mahmoud_Abbas', 'Junichiro_Koizumi', 'Colin_Powell', 'Jean_Chretien', 'Gerhard_Schroeder', 'Carlos_Moya', 'Tom_Ridge', 'Gloria_Macapagal_Arroyo', 'Guillermo_Coria', 'Vladimir_Putin', 'Serena_Williams', 'Alvaro_Uribe', 'George_W_Bush', 'Mark_Philippoussis', 'George_W_Bush', 'Jack_Straw', 'Halle_Berry', 'Lucio_Gutierrez', 'George_W_Bush', 'Ariel_Sharon', 'George_W_Bush', 'Nancy_Pelosi', 'Renee_Zellweger', 'Gerhard_Schroeder', 'Serena_Williams', 'Mohammed_Al-Douri', 'Rudolph_Giuliani', 'George_W_Bush', 'John_Kerry', 'Paul_Bremer', 'George_W_Bush', 'Naomi_Watts', 'Lleyton_Hewitt', 'Hu_Jintao', 'Jiang_Zemin', 'Tom_Ridge', 'Dominique_de_Villepin', 'Edmund_Stoiber', 'Donald_Rumsfeld', 'George_W_Bush', 'Tony_Blair', 'George_W_Bush', 'Jean_Chretien', 'Julianne_Moore', 'Jennifer_Lopez', 'Mahmoud_Abbas', 'Tony_Blair', 'Ariel_Sharon', 'Jennifer_Garner', 'Halle_Berry', 'George_W_Bush', 'Naomi_Watts', 'Winona_Ryder', 'Meryl_Streep', 'Bill_Gates', 'Serena_Williams', 'Donald_Rumsfeld', 'Kofi_Annan', 'Jackie_Chan', 'Serena_Williams', 'George_W_Bush', 'Colin_Powell', 'Jean_Chretien', 'Serena_Williams', 'Catherine_Zeta-Jones', 'Tony_Blair', 'Colin_Powell', 'Meryl_Streep', 'George_W_Bush', 'Hu_Jintao', 'Jennifer_Capriati', 'George_W_Bush', 'Colin_Powell', 'Laura_Bush', 'John_Negroponte', 'Colin_Powell', 'Junichiro_Koizumi', 'Tom_Cruise', 'David_Nalbandian', 'Kofi_Annan', 'Pete_Sampras', 'Alvaro_Uribe', 'Colin_Powell', 'Jennifer_Capriati', 'Mahmoud_Abbas', 'Ricardo_Lagos', 'James_Kelly', 'Tony_Blair', 'Lucio_Gutierrez', 'Jennifer_Lopez', 'Michael_Bloomberg', 'Julie_Gerberding', 'Jacques_Chirac', 'Ariel_Sharon', 'George_W_Bush', 'Arnold_Schwarzenegger', 'Ariel_Sharon', 'Jacques_Chirac', 'Norah_Jones', 'George_W_Bush', 'George_W_Bush', 'Colin_Powell', 'Tom_Ridge', 'Howard_Dean', 'Mohammed_Al-Douri', 'John_Ashcroft', 'Colin_Powell', 'Donald_Rumsfeld', 'Nancy_Pelosi', 'Guillermo_Coria', 'George_W_Bush', 'Carlos_Moya', 'Gerhard_Schroeder', 'Jennifer_Capriati', 'George_W_Bush', 'Jack_Straw', 'Jennifer_Aniston', 'Julianne_Moore', 'Tim_Henman', 'Donald_Rumsfeld', 'Tony_Blair', 'Luiz_Inacio_Lula_da_Silva', 'Megawati_Sukarnoputri', 'Ariel_Sharon', 'Tom_Daschle', 'Queen_Elizabeth_II', 'Ariel_Sharon', 'Jack_Straw', 'Javier_Solana', 'Gerhard_Schroeder', 'George_W_Bush', 'Trent_Lott', 'Trent_Lott', 'Donald_Rumsfeld', 'Spencer_Abraham', 'Taha_Yassin_Ramadan', 'Tony_Blair', 'George_W_Bush', 'Nancy_Pelosi', 'Spencer_Abraham', 'Colin_Powell', 'Donald_Rumsfeld', 'Harrison_Ford', 'Jiri_Novak', 'Hugo_Chavez', 'Donald_Rumsfeld', 'Arnold_Schwarzenegger', 'Michael_Schumacher', 'John_Allen_Muhammad', 'Tony_Blair', 'Arnold_Schwarzenegger', 'John_Howard', 'Tony_Blair', 'Jackie_Chan', 'Tim_Henman', 'Colin_Powell', 'Jean_Chretien', 'George_W_Bush', 'Colin_Powell', 'Paul_Bremer', 'Bill_McBride', 'Jeremy_Greenstock', 'Amelie_Mauresmo', 'Gerhard_Schroeder', 'James_Blake', 'David_Nalbandian', 'George_W_Bush', 'Guillermo_Coria', 'Norah_Jones', 'Hugo_Chavez', 'Colin_Powell', 'Ariel_Sharon', 'George_W_Bush', 'George_W_Bush', 'George_W_Bush', 'Recep_Tayyip_Erdogan', 'Colin_Powell', 'David_Nalbandian', 'Atal_Bihari_Vajpayee', 'George_W_Bush', 'Colin_Powell', 'George_W_Bush', 'George_W_Bush', 'George_W_Bush', 'James_Blake', 'Lleyton_Hewitt', 'Roger_Federer', 'Colin_Powell', 'Jean_Chretien', 'Yoriko_Kawaguchi', 'Britney_Spears', 'John_Ashcroft', 'Keanu_Reeves', 'Vladimir_Putin', 'Alvaro_Uribe', 'Ariel_Sharon', 'George_W_Bush', 'Andre_Agassi', 'George_W_Bush', 'Colin_Powell', 'George_W_Bush', 'George_W_Bush', 'David_Beckham', 'John_Negroponte', 'Hugo_Chavez', 'Donald_Rumsfeld', 'Serena_Williams', 'John_Bolton', 'Tony_Blair', 'Winona_Ryder', 'Colin_Powell', 'Muhammad_Ali', 'Jennifer_Aniston', 'Gordon_Brown', 'Colin_Powell', 'Colin_Powell', 'Tony_Blair', 'Donald_Rumsfeld', 'Junichiro_Koizumi', 'Donald_Rumsfeld', 'Alejandro_Toledo', 'George_W_Bush', 'George_W_Bush', 'Hugo_Chavez', 'George_W_Bush', 'Recep_Tayyip_Erdogan', 'Andre_Agassi', 'George_W_Bush', 'Donald_Rumsfeld', 'Laura_Bush', 'Gloria_Macapagal_Arroyo', 'Jeb_Bush', 'Sergio_Vieira_De_Mello', 'Hu_Jintao', 'George_W_Bush', 'Gerhard_Schroeder', 'Paul_Bremer', 'George_W_Bush', 'Donald_Rumsfeld', 'Jean-David_Levitte', 'Tony_Blair', 'Jackie_Chan', 'Kim_Clijsters', 'George_W_Bush', 'Donald_Rumsfeld', 'George_W_Bush', 'Saddam_Hussein', 'Mike_Weir', 'George_W_Bush', 'Colin_Powell', 'Jose_Maria_Aznar', 'Ariel_Sharon', 'George_W_Bush', 'Amelie_Mauresmo', 'George_W_Bush', 'George_W_Bush', 'George_W_Bush', 'Spencer_Abraham', 'Dick_Cheney', 'Gerhard_Schroeder', 'Colin_Powell', 'Ariel_Sharon', 'Pete_Sampras', 'Hugo_Chavez', 'Britney_Spears', 'George_W_Bush', 'Gerhard_Schroeder', 'George_W_Bush', 'Gerhard_Schroeder', 'Roger_Federer', 'Pete_Sampras', 'Recep_Tayyip_Erdogan', 'George_W_Bush', 'Andre_Agassi', 'Tony_Blair', 'George_W_Bush', 'Britney_Spears', 'Keanu_Reeves', 'Donald_Rumsfeld', 'Donald_Rumsfeld', 'Nancy_Pelosi', 'Colin_Powell', 'George_W_Bush', 'Tony_Blair', 'Ari_Fleischer', 'Colin_Powell', 'Carlos_Menem', 'Jennifer_Lopez', 'Jacques_Chirac', 'Colin_Powell', 'Paul_Bremer', 'Donald_Rumsfeld', 'Pierce_Brosnan', 'Colin_Powell', 'Hans_Blix', 'George_W_Bush', 'George_W_Bush', 'Tom_Ridge', 'Donald_Rumsfeld', 'George_W_Bush', 'Colin_Powell', 'Anna_Kournikova', 'Colin_Powell', 'Fidel_Castro', 'George_W_Bush', 'Sergey_Lavrov', 'Colin_Powell', 'David_Nalbandian', 'Tony_Blair', 'Alvaro_Uribe', 'George_W_Bush', 'Roh_Moo-hyun', 'Alejandro_Toledo', 'Hugo_Chavez', 'Michael_Jackson', 'Lleyton_Hewitt', 'Nancy_Pelosi', 'Andre_Agassi', 'Jeremy_Greenstock', 'George_W_Bush', 'Hans_Blix', 'George_W_Bush', 'Tony_Blair', 'Jean_Chretien', 'Megawati_Sukarnoputri', 'Jean_Chretien', 'Jacques_Chirac', 'George_W_Bush', 'Yoriko_Kawaguchi', 'Hamid_Karzai', 'Nestor_Kirchner', 'George_W_Bush', 'Guillermo_Coria', 'Jean-David_Levitte', 'Colin_Powell', 'Serena_Williams', 'Britney_Spears', 'George_W_Bush', 'George_W_Bush', 'Junichiro_Koizumi', 'Michael_Bloomberg', 'Gerhard_Schroeder', 'George_W_Bush', 'Pete_Sampras', 'George_W_Bush', 'Bill_McBride', 'Harrison_Ford', 'Jean_Chretien', 'Donald_Rumsfeld', 'Hans_Blix', 'George_W_Bush', 'Lindsay_Davenport', 'Britney_Spears', 'Andre_Agassi', 'Laura_Bush', 'Donald_Rumsfeld', 'Colin_Powell', 'John_Ashcroft', 'Jeremy_Greenstock', 'John_Negroponte', 'Serena_Williams', 'George_W_Bush', 'Donald_Rumsfeld', 'Tiger_Woods', 'Tony_Blair', 'Vladimir_Putin', 'Ariel_Sharon', 'Tony_Blair', 'Colin_Powell', 'George_W_Bush', 'George_W_Bush', 'Colin_Powell', 'George_HW_Bush', 'Nicanor_Duarte_Frutos', 'Tony_Blair', 'Joschka_Fischer', 'Bill_Gates', 'Gerhard_Schroeder', 'Jack_Straw', 'Alejandro_Toledo', 'George_W_Bush', 'George_W_Bush', 'Igor_Ivanov', 'John_Ashcroft', 'Richard_Myers', 'Jennifer_Capriati', 'Jennifer_Lopez', 'Donald_Rumsfeld', 'Arnold_Schwarzenegger', 'Tony_Blair', 'Donald_Rumsfeld', 'Guillermo_Coria', 'George_W_Bush', 'Tang_Jiaxuan', 'George_W_Bush', 'Tony_Blair', 'Laura_Bush', 'Colin_Powell', 'Serena_Williams', 'Jennifer_Aniston', 'John_Ashcroft', 'Jennifer_Lopez', 'Jeremy_Greenstock', 'Jacques_Chirac', 'Gerhard_Schroeder', 'George_W_Bush', 'Mike_Weir', 'Ricardo_Lagos', 'Colin_Powell', 'George_W_Bush', 'Tony_Blair', 'Jacques_Chirac', 'Colin_Powell', 'Jacques_Chirac', 'George_W_Bush', 'George_W_Bush', 'Jacques_Chirac', 'Richard_Myers', 'Howard_Dean', 'Gerhard_Schroeder', 'Colin_Powell', 'Colin_Powell', 'Colin_Powell', 'John_Snow', 'Arnold_Schwarzenegger', 'Jeb_Bush', 'George_W_Bush', 'Jean_Chretien', 'George_W_Bush', 'Paul_Wolfowitz', 'Colin_Powell', 'Meryl_Streep', 'Pete_Sampras', 'Nancy_Pelosi', 'Tom_Ridge', 'George_W_Bush', 'Condoleezza_Rice', 'Andy_Roddick', 'Atal_Bihari_Vajpayee', 'George_W_Bush', 'Colin_Powell', 'Rudolph_Giuliani', 'Colin_Powell', 'George_W_Bush', 'Gerhard_Schroeder', 'George_W_Bush', 'George_W_Bush', 'Junichiro_Koizumi', 'Ariel_Sharon', 'Tony_Blair', 'George_W_Bush', 'George_W_Bush', 'George_W_Bush', 'Richard_Myers', 'George_W_Bush', 'Colin_Powell', 'Colin_Powell', 'Sergey_Lavrov', 'George_W_Bush', 'Winona_Ryder', 'Gerhard_Schroeder', 'Colin_Powell', 'Nestor_Kirchner', 'Paul_Burrell', 'George_W_Bush', 'Colin_Powell', 'Tony_Blair', 'Lindsay_Davenport', 'Bill_Clinton', 'George_W_Bush', 'Jacques_Rogge', 'Serena_Williams', 'Paul_Bremer', 'Donald_Rumsfeld', 'Megawati_Sukarnoputri', 'Tony_Blair', 'Carlos_Moya', 'George_W_Bush', 'George_W_Bush', 'George_W_Bush', 'Ariel_Sharon', 'Tony_Blair', 'Gerhard_Schroeder', 'George_W_Bush', 'Juan_Carlos_Ferrero', 'James_Kelly', 'George_W_Bush', 'Tony_Blair', 'Ian_Thorpe', 'George_W_Bush', 'George_W_Bush', 'Dominique_de_Villepin', 'Colin_Powell', 'Jennifer_Garner', 'George_W_Bush', 'George_W_Bush', 'George_W_Bush', 'George_W_Bush', 'Tony_Blair', 'Andre_Agassi', 'George_W_Bush', 'Abdullah_Gul', 'Ariel_Sharon', 'Alejandro_Toledo', 'Paul_Wolfowitz', 'Hugo_Chavez', 'Lleyton_Hewitt', 'Junichiro_Koizumi', 'John_Ashcroft', 'George_W_Bush', 'Fidel_Castro', 'John_Ashcroft', 'George_HW_Bush', 'Hugo_Chavez', 'Paul_Bremer', 'Catherine_Zeta-Jones', 'Colin_Powell', 'George_W_Bush', 'Vicente_Fox', 'Tim_Henman', 'Tony_Blair', 'Jeremy_Greenstock', 'Bill_McBride', 'Pete_Sampras', 'Jacques_Chirac', 'George_W_Bush']\n"
          ]
        }
      ]
    }
  ]
}