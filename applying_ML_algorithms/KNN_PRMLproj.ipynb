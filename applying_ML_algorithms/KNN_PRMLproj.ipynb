{
  "nbformat": 4,
  "nbformat_minor": 0,
  "metadata": {
    "colab": {
      "provenance": [],
      "collapsed_sections": [
        "L_9GgieIJlTd"
      ],
      "authorship_tag": "ABX9TyNJxAZxewFoKI7NZ0FZfL1T",
      "include_colab_link": true
    },
    "kernelspec": {
      "name": "python3",
      "display_name": "Python 3"
    },
    "language_info": {
      "name": "python"
    }
  },
  "cells": [
    {
      "cell_type": "markdown",
      "metadata": {
        "id": "view-in-github",
        "colab_type": "text"
      },
      "source": [
        "<a href=\"https://colab.research.google.com/github/AgarwalMayank2/Face_Detection/blob/main/applying_ML_algorithms/KNN_PRMLproj.ipynb\" target=\"_parent\"><img src=\"https://colab.research.google.com/assets/colab-badge.svg\" alt=\"Open In Colab\"/></a>"
      ]
    },
    {
      "cell_type": "markdown",
      "source": [
        "# Importing libraries"
      ],
      "metadata": {
        "id": "VluHYP4O7ya-"
      }
    },
    {
      "cell_type": "code",
      "execution_count": 1,
      "metadata": {
        "id": "s9r-dpHDIufI"
      },
      "outputs": [],
      "source": [
        "import pandas as pd"
      ]
    },
    {
      "cell_type": "code",
      "execution_count": 2,
      "metadata": {
        "id": "RAtDSaH4hp8J"
      },
      "outputs": [],
      "source": [
        "from sklearn.model_selection import train_test_split\n",
        "from sklearn.preprocessing import LabelEncoder, StandardScaler"
      ]
    },
    {
      "cell_type": "code",
      "execution_count": null,
      "metadata": {
        "colab": {
          "base_uri": "https://localhost:8080/"
        },
        "id": "abJAGmSnaMjK",
        "outputId": "fb52e46a-fcef-4753-f651-47e140da4a34"
      },
      "outputs": [
        {
          "name": "stdout",
          "output_type": "stream",
          "text": [
            "Mounted at /content/drive\n"
          ]
        }
      ],
      "source": [
        "# mount google drive\n",
        "# from google.colab import drive\n",
        "# drive.mount('/content/drive')"
      ]
    },
    {
      "cell_type": "markdown",
      "metadata": {
        "id": "6_aCtTzCZ36W"
      },
      "source": [
        "# Reading CNN features"
      ]
    },
    {
      "cell_type": "code",
      "execution_count": 27,
      "metadata": {
        "id": "OgLogzTLI2UA"
      },
      "outputs": [],
      "source": [
        "url_filtered_CNN_features_dataset = 'https://raw.githubusercontent.com/AgarwalMayank2/Face_Detection/refs/heads/main/processed_dataset/filtered_CNN_features_dataset.csv' #for CNN limited\n",
        "df = pd.read_csv(url_filtered_CNN_features_dataset) # reading url for extracted CNN_features_dataset_limited.csv"
      ]
    },
    {
      "cell_type": "code",
      "source": [
        "df.shape"
      ],
      "metadata": {
        "id": "VPomEdQK9yB-",
        "outputId": "07de42d1-4085-4663-be84-2b960042435d",
        "colab": {
          "base_uri": "https://localhost:8080/"
        }
      },
      "execution_count": 28,
      "outputs": [
        {
          "output_type": "execute_result",
          "data": {
            "text/plain": [
              "(4324, 2050)"
            ]
          },
          "metadata": {},
          "execution_count": 28
        }
      ]
    },
    {
      "cell_type": "code",
      "source": [
        "label_counts = df['2048'].value_counts()\n",
        "valid_labels = label_counts[label_counts >= 80].index\n",
        "filtered_df_cnn = df[df['2048'].isin(valid_labels)]\n",
        "# filtered_df.to_csv(\"filtered_dataset.csv\", index=False)"
      ],
      "metadata": {
        "id": "mfBOHr069Kdh"
      },
      "execution_count": 29,
      "outputs": []
    },
    {
      "cell_type": "code",
      "source": [
        "filtered_df_cnn.drop('Unnamed: 0', axis=1, inplace=True)"
      ],
      "metadata": {
        "id": "jG9yl0Ys9TnF",
        "outputId": "eeca1a20-ef93-46d0-b749-cb2e0831359e",
        "colab": {
          "base_uri": "https://localhost:8080/"
        }
      },
      "execution_count": 30,
      "outputs": [
        {
          "output_type": "stream",
          "name": "stderr",
          "text": [
            "<ipython-input-30-1b9970b241a1>:1: SettingWithCopyWarning: \n",
            "A value is trying to be set on a copy of a slice from a DataFrame\n",
            "\n",
            "See the caveats in the documentation: https://pandas.pydata.org/pandas-docs/stable/user_guide/indexing.html#returning-a-view-versus-a-copy\n",
            "  filtered_df_cnn.drop('Unnamed: 0', axis=1, inplace=True)\n"
          ]
        }
      ]
    },
    {
      "cell_type": "code",
      "source": [
        "filtered_df_cnn.head()"
      ],
      "metadata": {
        "id": "oS846xZF9to_",
        "outputId": "4cdda45b-909a-4286-c59f-3141ebe0b8b7",
        "colab": {
          "base_uri": "https://localhost:8080/",
          "height": 255
        }
      },
      "execution_count": 31,
      "outputs": [
        {
          "output_type": "execute_result",
          "data": {
            "text/plain": [
              "            0         1         2         3         4         5         6  \\\n",
              "207  0.334396  1.031447  0.751403  0.061664  1.358539  0.131194  2.189165   \n",
              "208  0.052159  1.385429  0.948584  0.242452  0.765526  0.205163  2.773744   \n",
              "209  0.215924  1.243201  1.040831  0.082872  0.996569  0.093324  3.699462   \n",
              "210  0.273529  1.568788  1.131568  0.069734  1.060217  0.003534  3.313872   \n",
              "211  0.209844  1.102461  0.380182  0.109593  0.713786  0.054662  2.087155   \n",
              "\n",
              "            7         8         9  ...      2039      2040      2041  \\\n",
              "207  0.168872  0.077561  0.128026  ...  0.238129  0.033446  0.691363   \n",
              "208  0.487321  0.375770  0.297134  ...  0.151970  0.030394  0.931749   \n",
              "209  0.166822  0.085976  0.420676  ...  0.280522  0.046874  0.933633   \n",
              "210  0.470634  0.280771  0.550614  ...  0.392776  0.303419  0.718607   \n",
              "211  0.206262  0.103134  0.152454  ...  0.100046  0.225041  0.373597   \n",
              "\n",
              "         2042      2043      2044      2045      2046      2047  \\\n",
              "207  1.453779  0.023197  1.180975  0.147620  0.132144  0.061259   \n",
              "208  1.507545  0.074761  1.410434  0.187171  0.037343  0.192220   \n",
              "209  1.932075  0.076832  1.779623  0.345520  0.009288  0.176782   \n",
              "210  1.815761  0.034294  1.519493  0.046060  0.031623  0.141197   \n",
              "211  0.834548  0.102522  0.784862  0.023190  0.141059  0.058093   \n",
              "\n",
              "                2048  \n",
              "207  Donald_Rumsfeld  \n",
              "208  Donald_Rumsfeld  \n",
              "209  Donald_Rumsfeld  \n",
              "210  Donald_Rumsfeld  \n",
              "211  Donald_Rumsfeld  \n",
              "\n",
              "[5 rows x 2049 columns]"
            ],
            "text/html": [
              "\n",
              "  <div id=\"df-e169d4d4-dac3-4099-932c-3c80914ae461\" class=\"colab-df-container\">\n",
              "    <div>\n",
              "<style scoped>\n",
              "    .dataframe tbody tr th:only-of-type {\n",
              "        vertical-align: middle;\n",
              "    }\n",
              "\n",
              "    .dataframe tbody tr th {\n",
              "        vertical-align: top;\n",
              "    }\n",
              "\n",
              "    .dataframe thead th {\n",
              "        text-align: right;\n",
              "    }\n",
              "</style>\n",
              "<table border=\"1\" class=\"dataframe\">\n",
              "  <thead>\n",
              "    <tr style=\"text-align: right;\">\n",
              "      <th></th>\n",
              "      <th>0</th>\n",
              "      <th>1</th>\n",
              "      <th>2</th>\n",
              "      <th>3</th>\n",
              "      <th>4</th>\n",
              "      <th>5</th>\n",
              "      <th>6</th>\n",
              "      <th>7</th>\n",
              "      <th>8</th>\n",
              "      <th>9</th>\n",
              "      <th>...</th>\n",
              "      <th>2039</th>\n",
              "      <th>2040</th>\n",
              "      <th>2041</th>\n",
              "      <th>2042</th>\n",
              "      <th>2043</th>\n",
              "      <th>2044</th>\n",
              "      <th>2045</th>\n",
              "      <th>2046</th>\n",
              "      <th>2047</th>\n",
              "      <th>2048</th>\n",
              "    </tr>\n",
              "  </thead>\n",
              "  <tbody>\n",
              "    <tr>\n",
              "      <th>207</th>\n",
              "      <td>0.334396</td>\n",
              "      <td>1.031447</td>\n",
              "      <td>0.751403</td>\n",
              "      <td>0.061664</td>\n",
              "      <td>1.358539</td>\n",
              "      <td>0.131194</td>\n",
              "      <td>2.189165</td>\n",
              "      <td>0.168872</td>\n",
              "      <td>0.077561</td>\n",
              "      <td>0.128026</td>\n",
              "      <td>...</td>\n",
              "      <td>0.238129</td>\n",
              "      <td>0.033446</td>\n",
              "      <td>0.691363</td>\n",
              "      <td>1.453779</td>\n",
              "      <td>0.023197</td>\n",
              "      <td>1.180975</td>\n",
              "      <td>0.147620</td>\n",
              "      <td>0.132144</td>\n",
              "      <td>0.061259</td>\n",
              "      <td>Donald_Rumsfeld</td>\n",
              "    </tr>\n",
              "    <tr>\n",
              "      <th>208</th>\n",
              "      <td>0.052159</td>\n",
              "      <td>1.385429</td>\n",
              "      <td>0.948584</td>\n",
              "      <td>0.242452</td>\n",
              "      <td>0.765526</td>\n",
              "      <td>0.205163</td>\n",
              "      <td>2.773744</td>\n",
              "      <td>0.487321</td>\n",
              "      <td>0.375770</td>\n",
              "      <td>0.297134</td>\n",
              "      <td>...</td>\n",
              "      <td>0.151970</td>\n",
              "      <td>0.030394</td>\n",
              "      <td>0.931749</td>\n",
              "      <td>1.507545</td>\n",
              "      <td>0.074761</td>\n",
              "      <td>1.410434</td>\n",
              "      <td>0.187171</td>\n",
              "      <td>0.037343</td>\n",
              "      <td>0.192220</td>\n",
              "      <td>Donald_Rumsfeld</td>\n",
              "    </tr>\n",
              "    <tr>\n",
              "      <th>209</th>\n",
              "      <td>0.215924</td>\n",
              "      <td>1.243201</td>\n",
              "      <td>1.040831</td>\n",
              "      <td>0.082872</td>\n",
              "      <td>0.996569</td>\n",
              "      <td>0.093324</td>\n",
              "      <td>3.699462</td>\n",
              "      <td>0.166822</td>\n",
              "      <td>0.085976</td>\n",
              "      <td>0.420676</td>\n",
              "      <td>...</td>\n",
              "      <td>0.280522</td>\n",
              "      <td>0.046874</td>\n",
              "      <td>0.933633</td>\n",
              "      <td>1.932075</td>\n",
              "      <td>0.076832</td>\n",
              "      <td>1.779623</td>\n",
              "      <td>0.345520</td>\n",
              "      <td>0.009288</td>\n",
              "      <td>0.176782</td>\n",
              "      <td>Donald_Rumsfeld</td>\n",
              "    </tr>\n",
              "    <tr>\n",
              "      <th>210</th>\n",
              "      <td>0.273529</td>\n",
              "      <td>1.568788</td>\n",
              "      <td>1.131568</td>\n",
              "      <td>0.069734</td>\n",
              "      <td>1.060217</td>\n",
              "      <td>0.003534</td>\n",
              "      <td>3.313872</td>\n",
              "      <td>0.470634</td>\n",
              "      <td>0.280771</td>\n",
              "      <td>0.550614</td>\n",
              "      <td>...</td>\n",
              "      <td>0.392776</td>\n",
              "      <td>0.303419</td>\n",
              "      <td>0.718607</td>\n",
              "      <td>1.815761</td>\n",
              "      <td>0.034294</td>\n",
              "      <td>1.519493</td>\n",
              "      <td>0.046060</td>\n",
              "      <td>0.031623</td>\n",
              "      <td>0.141197</td>\n",
              "      <td>Donald_Rumsfeld</td>\n",
              "    </tr>\n",
              "    <tr>\n",
              "      <th>211</th>\n",
              "      <td>0.209844</td>\n",
              "      <td>1.102461</td>\n",
              "      <td>0.380182</td>\n",
              "      <td>0.109593</td>\n",
              "      <td>0.713786</td>\n",
              "      <td>0.054662</td>\n",
              "      <td>2.087155</td>\n",
              "      <td>0.206262</td>\n",
              "      <td>0.103134</td>\n",
              "      <td>0.152454</td>\n",
              "      <td>...</td>\n",
              "      <td>0.100046</td>\n",
              "      <td>0.225041</td>\n",
              "      <td>0.373597</td>\n",
              "      <td>0.834548</td>\n",
              "      <td>0.102522</td>\n",
              "      <td>0.784862</td>\n",
              "      <td>0.023190</td>\n",
              "      <td>0.141059</td>\n",
              "      <td>0.058093</td>\n",
              "      <td>Donald_Rumsfeld</td>\n",
              "    </tr>\n",
              "  </tbody>\n",
              "</table>\n",
              "<p>5 rows × 2049 columns</p>\n",
              "</div>\n",
              "    <div class=\"colab-df-buttons\">\n",
              "\n",
              "  <div class=\"colab-df-container\">\n",
              "    <button class=\"colab-df-convert\" onclick=\"convertToInteractive('df-e169d4d4-dac3-4099-932c-3c80914ae461')\"\n",
              "            title=\"Convert this dataframe to an interactive table.\"\n",
              "            style=\"display:none;\">\n",
              "\n",
              "  <svg xmlns=\"http://www.w3.org/2000/svg\" height=\"24px\" viewBox=\"0 -960 960 960\">\n",
              "    <path d=\"M120-120v-720h720v720H120Zm60-500h600v-160H180v160Zm220 220h160v-160H400v160Zm0 220h160v-160H400v160ZM180-400h160v-160H180v160Zm440 0h160v-160H620v160ZM180-180h160v-160H180v160Zm440 0h160v-160H620v160Z\"/>\n",
              "  </svg>\n",
              "    </button>\n",
              "\n",
              "  <style>\n",
              "    .colab-df-container {\n",
              "      display:flex;\n",
              "      gap: 12px;\n",
              "    }\n",
              "\n",
              "    .colab-df-convert {\n",
              "      background-color: #E8F0FE;\n",
              "      border: none;\n",
              "      border-radius: 50%;\n",
              "      cursor: pointer;\n",
              "      display: none;\n",
              "      fill: #1967D2;\n",
              "      height: 32px;\n",
              "      padding: 0 0 0 0;\n",
              "      width: 32px;\n",
              "    }\n",
              "\n",
              "    .colab-df-convert:hover {\n",
              "      background-color: #E2EBFA;\n",
              "      box-shadow: 0px 1px 2px rgba(60, 64, 67, 0.3), 0px 1px 3px 1px rgba(60, 64, 67, 0.15);\n",
              "      fill: #174EA6;\n",
              "    }\n",
              "\n",
              "    .colab-df-buttons div {\n",
              "      margin-bottom: 4px;\n",
              "    }\n",
              "\n",
              "    [theme=dark] .colab-df-convert {\n",
              "      background-color: #3B4455;\n",
              "      fill: #D2E3FC;\n",
              "    }\n",
              "\n",
              "    [theme=dark] .colab-df-convert:hover {\n",
              "      background-color: #434B5C;\n",
              "      box-shadow: 0px 1px 3px 1px rgba(0, 0, 0, 0.15);\n",
              "      filter: drop-shadow(0px 1px 2px rgba(0, 0, 0, 0.3));\n",
              "      fill: #FFFFFF;\n",
              "    }\n",
              "  </style>\n",
              "\n",
              "    <script>\n",
              "      const buttonEl =\n",
              "        document.querySelector('#df-e169d4d4-dac3-4099-932c-3c80914ae461 button.colab-df-convert');\n",
              "      buttonEl.style.display =\n",
              "        google.colab.kernel.accessAllowed ? 'block' : 'none';\n",
              "\n",
              "      async function convertToInteractive(key) {\n",
              "        const element = document.querySelector('#df-e169d4d4-dac3-4099-932c-3c80914ae461');\n",
              "        const dataTable =\n",
              "          await google.colab.kernel.invokeFunction('convertToInteractive',\n",
              "                                                    [key], {});\n",
              "        if (!dataTable) return;\n",
              "\n",
              "        const docLinkHtml = 'Like what you see? Visit the ' +\n",
              "          '<a target=\"_blank\" href=https://colab.research.google.com/notebooks/data_table.ipynb>data table notebook</a>'\n",
              "          + ' to learn more about interactive tables.';\n",
              "        element.innerHTML = '';\n",
              "        dataTable['output_type'] = 'display_data';\n",
              "        await google.colab.output.renderOutput(dataTable, element);\n",
              "        const docLink = document.createElement('div');\n",
              "        docLink.innerHTML = docLinkHtml;\n",
              "        element.appendChild(docLink);\n",
              "      }\n",
              "    </script>\n",
              "  </div>\n",
              "\n",
              "\n",
              "<div id=\"df-0776db29-6ea1-4d26-a030-7a8ad3c295d9\">\n",
              "  <button class=\"colab-df-quickchart\" onclick=\"quickchart('df-0776db29-6ea1-4d26-a030-7a8ad3c295d9')\"\n",
              "            title=\"Suggest charts\"\n",
              "            style=\"display:none;\">\n",
              "\n",
              "<svg xmlns=\"http://www.w3.org/2000/svg\" height=\"24px\"viewBox=\"0 0 24 24\"\n",
              "     width=\"24px\">\n",
              "    <g>\n",
              "        <path d=\"M19 3H5c-1.1 0-2 .9-2 2v14c0 1.1.9 2 2 2h14c1.1 0 2-.9 2-2V5c0-1.1-.9-2-2-2zM9 17H7v-7h2v7zm4 0h-2V7h2v10zm4 0h-2v-4h2v4z\"/>\n",
              "    </g>\n",
              "</svg>\n",
              "  </button>\n",
              "\n",
              "<style>\n",
              "  .colab-df-quickchart {\n",
              "      --bg-color: #E8F0FE;\n",
              "      --fill-color: #1967D2;\n",
              "      --hover-bg-color: #E2EBFA;\n",
              "      --hover-fill-color: #174EA6;\n",
              "      --disabled-fill-color: #AAA;\n",
              "      --disabled-bg-color: #DDD;\n",
              "  }\n",
              "\n",
              "  [theme=dark] .colab-df-quickchart {\n",
              "      --bg-color: #3B4455;\n",
              "      --fill-color: #D2E3FC;\n",
              "      --hover-bg-color: #434B5C;\n",
              "      --hover-fill-color: #FFFFFF;\n",
              "      --disabled-bg-color: #3B4455;\n",
              "      --disabled-fill-color: #666;\n",
              "  }\n",
              "\n",
              "  .colab-df-quickchart {\n",
              "    background-color: var(--bg-color);\n",
              "    border: none;\n",
              "    border-radius: 50%;\n",
              "    cursor: pointer;\n",
              "    display: none;\n",
              "    fill: var(--fill-color);\n",
              "    height: 32px;\n",
              "    padding: 0;\n",
              "    width: 32px;\n",
              "  }\n",
              "\n",
              "  .colab-df-quickchart:hover {\n",
              "    background-color: var(--hover-bg-color);\n",
              "    box-shadow: 0 1px 2px rgba(60, 64, 67, 0.3), 0 1px 3px 1px rgba(60, 64, 67, 0.15);\n",
              "    fill: var(--button-hover-fill-color);\n",
              "  }\n",
              "\n",
              "  .colab-df-quickchart-complete:disabled,\n",
              "  .colab-df-quickchart-complete:disabled:hover {\n",
              "    background-color: var(--disabled-bg-color);\n",
              "    fill: var(--disabled-fill-color);\n",
              "    box-shadow: none;\n",
              "  }\n",
              "\n",
              "  .colab-df-spinner {\n",
              "    border: 2px solid var(--fill-color);\n",
              "    border-color: transparent;\n",
              "    border-bottom-color: var(--fill-color);\n",
              "    animation:\n",
              "      spin 1s steps(1) infinite;\n",
              "  }\n",
              "\n",
              "  @keyframes spin {\n",
              "    0% {\n",
              "      border-color: transparent;\n",
              "      border-bottom-color: var(--fill-color);\n",
              "      border-left-color: var(--fill-color);\n",
              "    }\n",
              "    20% {\n",
              "      border-color: transparent;\n",
              "      border-left-color: var(--fill-color);\n",
              "      border-top-color: var(--fill-color);\n",
              "    }\n",
              "    30% {\n",
              "      border-color: transparent;\n",
              "      border-left-color: var(--fill-color);\n",
              "      border-top-color: var(--fill-color);\n",
              "      border-right-color: var(--fill-color);\n",
              "    }\n",
              "    40% {\n",
              "      border-color: transparent;\n",
              "      border-right-color: var(--fill-color);\n",
              "      border-top-color: var(--fill-color);\n",
              "    }\n",
              "    60% {\n",
              "      border-color: transparent;\n",
              "      border-right-color: var(--fill-color);\n",
              "    }\n",
              "    80% {\n",
              "      border-color: transparent;\n",
              "      border-right-color: var(--fill-color);\n",
              "      border-bottom-color: var(--fill-color);\n",
              "    }\n",
              "    90% {\n",
              "      border-color: transparent;\n",
              "      border-bottom-color: var(--fill-color);\n",
              "    }\n",
              "  }\n",
              "</style>\n",
              "\n",
              "  <script>\n",
              "    async function quickchart(key) {\n",
              "      const quickchartButtonEl =\n",
              "        document.querySelector('#' + key + ' button');\n",
              "      quickchartButtonEl.disabled = true;  // To prevent multiple clicks.\n",
              "      quickchartButtonEl.classList.add('colab-df-spinner');\n",
              "      try {\n",
              "        const charts = await google.colab.kernel.invokeFunction(\n",
              "            'suggestCharts', [key], {});\n",
              "      } catch (error) {\n",
              "        console.error('Error during call to suggestCharts:', error);\n",
              "      }\n",
              "      quickchartButtonEl.classList.remove('colab-df-spinner');\n",
              "      quickchartButtonEl.classList.add('colab-df-quickchart-complete');\n",
              "    }\n",
              "    (() => {\n",
              "      let quickchartButtonEl =\n",
              "        document.querySelector('#df-0776db29-6ea1-4d26-a030-7a8ad3c295d9 button');\n",
              "      quickchartButtonEl.style.display =\n",
              "        google.colab.kernel.accessAllowed ? 'block' : 'none';\n",
              "    })();\n",
              "  </script>\n",
              "</div>\n",
              "\n",
              "    </div>\n",
              "  </div>\n"
            ],
            "application/vnd.google.colaboratory.intrinsic+json": {
              "type": "dataframe",
              "variable_name": "filtered_df_cnn"
            }
          },
          "metadata": {},
          "execution_count": 31
        }
      ]
    },
    {
      "cell_type": "markdown",
      "metadata": {
        "id": "WU_KWQ0XjO7K"
      },
      "source": [
        "# Train/Test split - for CNN dataset"
      ]
    },
    {
      "cell_type": "code",
      "execution_count": 32,
      "metadata": {
        "colab": {
          "base_uri": "https://localhost:8080/"
        },
        "id": "cOdOJRPmJXLk",
        "outputId": "a967cf86-e04f-457d-d8d2-cc78154dfe23"
      },
      "outputs": [
        {
          "output_type": "stream",
          "name": "stdout",
          "text": [
            "Dataset size: (1140, 2049)\n",
            "Training size: (912, 2048), Testing size: (228, 2048)\n"
          ]
        }
      ],
      "source": [
        "# Separate features and labels\n",
        "X_cnn = filtered_df_cnn.iloc[:, :-1]\n",
        "y_cnn = filtered_df_cnn.iloc[:, -1]\n",
        "\n",
        "# Encode labels (alphabetically)\n",
        "label_encoder = LabelEncoder()\n",
        "y_encoded = label_encoder.fit_transform(y_cnn)\n",
        "# encoding is benificial as working on numbers is lot easier than working on string\n",
        "\n",
        "# Ensure stratified split (16 training, 4 testing per class)\n",
        "X_train_cnn, X_test_cnn, y_train_cnn, y_test_cnn = train_test_split(X_cnn, y_encoded, test_size=1/5, random_state=42, stratify=y_encoded)\n",
        "\n",
        "# Normalize features\n",
        "scaler = StandardScaler()\n",
        "X_train_cnn = scaler.fit_transform(X_train_cnn)\n",
        "X_test_cnn = scaler.transform(X_test_cnn)\n",
        "\n",
        "print(f\"Dataset size: {filtered_df_cnn.shape}\")\n",
        "print(f\"Training size: {X_train_cnn.shape}, Testing size: {X_test_cnn.shape}\")"
      ]
    },
    {
      "cell_type": "markdown",
      "metadata": {
        "id": "awUGb0PmJK8S"
      },
      "source": [
        "# Applying PCA for dimensionality reduction"
      ]
    },
    {
      "cell_type": "code",
      "source": [
        "filtered_df_cnn.shape"
      ],
      "metadata": {
        "id": "x179khf591KA",
        "outputId": "4d4610d8-c22b-45e8-d804-69064e16a774",
        "colab": {
          "base_uri": "https://localhost:8080/"
        }
      },
      "execution_count": 33,
      "outputs": [
        {
          "output_type": "execute_result",
          "data": {
            "text/plain": [
              "(1140, 2049)"
            ]
          },
          "metadata": {},
          "execution_count": 33
        }
      ]
    },
    {
      "cell_type": "code",
      "execution_count": 34,
      "metadata": {
        "id": "Lcv0-yj-oC7e"
      },
      "outputs": [],
      "source": [
        "from sklearn.decomposition import PCA"
      ]
    },
    {
      "cell_type": "markdown",
      "metadata": {
        "id": "mIP-Die8Zw1I"
      },
      "source": [
        "# PCA on CNN features"
      ]
    },
    {
      "cell_type": "code",
      "execution_count": null,
      "metadata": {
        "colab": {
          "base_uri": "https://localhost:8080/"
        },
        "id": "Sj5t1lrSJ3AL",
        "outputId": "1d236387-0ed6-4b99-fc6f-a118d5d4fbe9"
      },
      "outputs": [
        {
          "output_type": "stream",
          "name": "stdout",
          "text": [
            "(1248, 900)\n",
            "(312, 900)\n"
          ]
        }
      ],
      "source": [
        "pca=PCA(n_components=900)\n",
        "\n",
        "X_train_cnn_pca=pca.fit_transform(X_train_cnn)\n",
        "X_test_cnn_pca=pca.transform(X_test_cnn)\n",
        "\n",
        "print(X_train_cnn_pca.shape)\n",
        "print(X_test_cnn_pca.shape)"
      ]
    },
    {
      "cell_type": "code",
      "source": [
        "import numpy as np"
      ],
      "metadata": {
        "id": "BXaJ8rPY-VAt"
      },
      "execution_count": 35,
      "outputs": []
    },
    {
      "cell_type": "code",
      "source": [
        "print(np.sum(pca.explained_variance_ratio_))  # Should be close to 1"
      ],
      "metadata": {
        "colab": {
          "base_uri": "https://localhost:8080/"
        },
        "id": "-kV7M52hv_qS",
        "outputId": "a13c9605-11c8-4f66-c078-277dce982ec3"
      },
      "execution_count": null,
      "outputs": [
        {
          "output_type": "stream",
          "name": "stdout",
          "text": [
            "0.9918722899317882\n"
          ]
        }
      ]
    },
    {
      "cell_type": "markdown",
      "source": [
        "# Printing y_test for checking"
      ],
      "metadata": {
        "id": "f4NqOXTL9YcU"
      }
    },
    {
      "cell_type": "code",
      "source": [
        "y_train = y_train_cnn\n",
        "y_test = y_test_cnn\n",
        "\n",
        "print(y_train[:10])\n",
        "print(y_test[:10])"
      ],
      "metadata": {
        "colab": {
          "base_uri": "https://localhost:8080/"
        },
        "id": "Ymwq48vA-jQg",
        "outputId": "bfbc975e-6406-46b4-c687-0252027cd9d2"
      },
      "execution_count": 36,
      "outputs": [
        {
          "output_type": "stream",
          "name": "stdout",
          "text": [
            "[2 0 1 1 2 2 2 0 2 2]\n",
            "[2 4 2 1 2 3 2 0 4 2]\n"
          ]
        }
      ]
    },
    {
      "cell_type": "code",
      "source": [
        "for i in range(len(y_test)):\n",
        "  if i<=100:\n",
        "    print(label_encoder.inverse_transform([y_test[i]])[0])"
      ],
      "metadata": {
        "colab": {
          "base_uri": "https://localhost:8080/"
        },
        "id": "CG9Qs37d9OAB",
        "outputId": "3759ab31-9455-4eae-9e16-2529acebc12c"
      },
      "execution_count": 37,
      "outputs": [
        {
          "output_type": "stream",
          "name": "stdout",
          "text": [
            "George_W_Bush\n",
            "Tony_Blair\n",
            "George_W_Bush\n",
            "Donald_Rumsfeld\n",
            "George_W_Bush\n",
            "Gerhard_Schroeder\n",
            "George_W_Bush\n",
            "Colin_Powell\n",
            "Tony_Blair\n",
            "George_W_Bush\n",
            "Colin_Powell\n",
            "Colin_Powell\n",
            "Gerhard_Schroeder\n",
            "George_W_Bush\n",
            "Donald_Rumsfeld\n",
            "Tony_Blair\n",
            "George_W_Bush\n",
            "Colin_Powell\n",
            "Colin_Powell\n",
            "George_W_Bush\n",
            "George_W_Bush\n",
            "Colin_Powell\n",
            "George_W_Bush\n",
            "Colin_Powell\n",
            "Donald_Rumsfeld\n",
            "Colin_Powell\n",
            "George_W_Bush\n",
            "George_W_Bush\n",
            "Colin_Powell\n",
            "George_W_Bush\n",
            "George_W_Bush\n",
            "Colin_Powell\n",
            "George_W_Bush\n",
            "Tony_Blair\n",
            "Donald_Rumsfeld\n",
            "Donald_Rumsfeld\n",
            "Tony_Blair\n",
            "George_W_Bush\n",
            "Tony_Blair\n",
            "George_W_Bush\n",
            "Gerhard_Schroeder\n",
            "Donald_Rumsfeld\n",
            "Colin_Powell\n",
            "Gerhard_Schroeder\n",
            "George_W_Bush\n",
            "Tony_Blair\n",
            "Gerhard_Schroeder\n",
            "Donald_Rumsfeld\n",
            "Donald_Rumsfeld\n",
            "George_W_Bush\n",
            "George_W_Bush\n",
            "George_W_Bush\n",
            "Gerhard_Schroeder\n",
            "Colin_Powell\n",
            "George_W_Bush\n",
            "George_W_Bush\n",
            "Gerhard_Schroeder\n",
            "Colin_Powell\n",
            "George_W_Bush\n",
            "Colin_Powell\n",
            "Tony_Blair\n",
            "George_W_Bush\n",
            "Tony_Blair\n",
            "George_W_Bush\n",
            "Tony_Blair\n",
            "George_W_Bush\n",
            "Colin_Powell\n",
            "George_W_Bush\n",
            "George_W_Bush\n",
            "Donald_Rumsfeld\n",
            "Donald_Rumsfeld\n",
            "George_W_Bush\n",
            "George_W_Bush\n",
            "Colin_Powell\n",
            "George_W_Bush\n",
            "George_W_Bush\n",
            "Gerhard_Schroeder\n",
            "George_W_Bush\n",
            "George_W_Bush\n",
            "Donald_Rumsfeld\n",
            "George_W_Bush\n",
            "George_W_Bush\n",
            "Gerhard_Schroeder\n",
            "Gerhard_Schroeder\n",
            "George_W_Bush\n",
            "Colin_Powell\n",
            "George_W_Bush\n",
            "Gerhard_Schroeder\n",
            "Gerhard_Schroeder\n",
            "Colin_Powell\n",
            "George_W_Bush\n",
            "George_W_Bush\n",
            "Gerhard_Schroeder\n",
            "George_W_Bush\n",
            "George_W_Bush\n",
            "George_W_Bush\n",
            "George_W_Bush\n",
            "Colin_Powell\n",
            "George_W_Bush\n",
            "Gerhard_Schroeder\n",
            "Colin_Powell\n"
          ]
        }
      ]
    },
    {
      "cell_type": "markdown",
      "metadata": {
        "id": "7CLgbYhXifZq"
      },
      "source": [
        "# Reading LBP features"
      ]
    },
    {
      "cell_type": "code",
      "execution_count": 38,
      "metadata": {
        "id": "PfPbJMxQie_9"
      },
      "outputs": [],
      "source": [
        "url_filtered_lbp_features = 'https://raw.githubusercontent.com/AgarwalMayank2/Face_Detection/refs/heads/main/processed_dataset/filtered_LBP_features_dataset.csv'\n",
        "df = pd.read_csv(url_filtered_lbp_features)"
      ]
    },
    {
      "cell_type": "code",
      "source": [
        "label_counts = df['256'].value_counts()\n",
        "valid_labels = label_counts[label_counts >= 80].index\n",
        "filtered_df_LBP = df[df['256'].isin(valid_labels)]\n",
        "# filtered_df.to_csv(\"filtered_dataset.csv\", index=False)"
      ],
      "metadata": {
        "id": "XBKfrpqDb0-L"
      },
      "execution_count": 39,
      "outputs": []
    },
    {
      "cell_type": "code",
      "source": [
        "filtered_df_LBP.drop('Unnamed: 0', axis=1, inplace=True)"
      ],
      "metadata": {
        "colab": {
          "base_uri": "https://localhost:8080/"
        },
        "id": "dcIY3K5EH-7o",
        "outputId": "37d6818d-62a0-4df0-db33-fff1f44a9c80"
      },
      "execution_count": 40,
      "outputs": [
        {
          "output_type": "stream",
          "name": "stderr",
          "text": [
            "<ipython-input-40-d86ca3657dd2>:1: SettingWithCopyWarning: \n",
            "A value is trying to be set on a copy of a slice from a DataFrame\n",
            "\n",
            "See the caveats in the documentation: https://pandas.pydata.org/pandas-docs/stable/user_guide/indexing.html#returning-a-view-versus-a-copy\n",
            "  filtered_df_LBP.drop('Unnamed: 0', axis=1, inplace=True)\n"
          ]
        }
      ]
    },
    {
      "cell_type": "code",
      "source": [
        "print(filtered_df_LBP.head())"
      ],
      "metadata": {
        "id": "M6TnJfKjb9pT",
        "outputId": "91acf965-0e50-4c01-832d-f7b6f78a2ace",
        "colab": {
          "base_uri": "https://localhost:8080/"
        }
      },
      "execution_count": 41,
      "outputs": [
        {
          "output_type": "stream",
          "name": "stdout",
          "text": [
            "         0     1      2      3     4     5      6      7      8     9  ...  \\\n",
            "199  747.0  72.0  433.0  185.0  61.0   6.0  224.0  354.0  392.0  30.0  ...   \n",
            "200  516.0  33.0  438.0  186.0  34.0   2.0  172.0  316.0  243.0  23.0  ...   \n",
            "201  805.0  76.0  366.0  204.0  68.0  10.0  181.0  307.0  537.0  54.0  ...   \n",
            "202  572.0  42.0  304.0  219.0  37.0   3.0  247.0  736.0  587.0  22.0  ...   \n",
            "203  577.0  49.0  403.0  268.0  87.0   4.0  334.0  641.0  494.0  34.0  ...   \n",
            "\n",
            "       247     248    249   250    251    252    253    254      255  \\\n",
            "199  498.0  3001.0  734.0  36.0  578.0  616.0  546.0  453.0  12702.0   \n",
            "200  341.0  2309.0  466.0  24.0  354.0  500.0  426.0  516.0  17530.0   \n",
            "201  529.0  2171.0  559.0  37.0  413.0  581.0  438.0  537.0  22703.0   \n",
            "202  624.0  3621.0  582.0  28.0  273.0  590.0  465.0  315.0   3466.0   \n",
            "203  564.0  1535.0  548.0  21.0  284.0  500.0  448.0  280.0   4402.0   \n",
            "\n",
            "               256  \n",
            "199  George_W_Bush  \n",
            "200  George_W_Bush  \n",
            "201  George_W_Bush  \n",
            "202  George_W_Bush  \n",
            "203  George_W_Bush  \n",
            "\n",
            "[5 rows x 257 columns]\n"
          ]
        }
      ]
    },
    {
      "cell_type": "code",
      "execution_count": null,
      "metadata": {
        "colab": {
          "base_uri": "https://localhost:8080/",
          "height": 429
        },
        "id": "1Aq-5GLCi9nk",
        "outputId": "f2ab8f3b-3997-4c29-f78b-90e8597130a7"
      },
      "outputs": [
        {
          "output_type": "execute_result",
          "data": {
            "text/plain": [
              "   Unnamed: 0       0      1      2      3      4     5      6      7      8  \\\n",
              "0           0   589.0   57.0  319.0  205.0   67.0   4.0  195.0  466.0  370.0   \n",
              "1           1  1012.0  113.0  383.0  203.0   76.0  11.0  205.0  369.0  505.0   \n",
              "2           2   920.0   92.0  288.0  152.0  107.0  18.0  192.0  403.0  313.0   \n",
              "3           3  1068.0   85.0  447.0  298.0   90.0  11.0  293.0  732.0  546.0   \n",
              "4           4   510.0   43.0  304.0  189.0   47.0   8.0  201.0  387.0  296.0   \n",
              "5           5   678.0   65.0  173.0  131.0   66.0  14.0  114.0  255.0  292.0   \n",
              "6           6   668.0   62.0  344.0  187.0   60.0  10.0  218.0  347.0  330.0   \n",
              "7           7   745.0   74.0  267.0  218.0   80.0  10.0  180.0  363.0  376.0   \n",
              "8           8   428.0   45.0  268.0  222.0   44.0   6.0  210.0  430.0  265.0   \n",
              "9           9  1154.0  103.0  354.0  234.0  113.0  16.0  260.0  374.0  473.0   \n",
              "\n",
              "   ...    247     248    249   250    251    252    253    254      255  \\\n",
              "0  ...  474.0  1924.0  612.0  26.0  357.0  592.0  523.0  328.0   6088.0   \n",
              "1  ...  591.0  2086.0  681.0  29.0  447.0  699.0  535.0  486.0  13472.0   \n",
              "2  ...  461.0  1812.0  579.0  41.0  428.0  597.0  411.0  374.0  11673.0   \n",
              "3  ...  727.0  2150.0  650.0  32.0  374.0  564.0  585.0  367.0   5449.0   \n",
              "4  ...  405.0  3263.0  588.0  36.0  307.0  593.0  350.0  328.0   4606.0   \n",
              "5  ...  366.0  2675.0  577.0  43.0  556.0  678.0  313.0  581.0  17998.0   \n",
              "6  ...  510.0  2106.0  678.0  51.0  612.0  660.0  435.0  639.0  13194.0   \n",
              "7  ...  590.0  2008.0  622.0  44.0  417.0  545.0  410.0  380.0   9406.0   \n",
              "8  ...  343.0  1964.0  668.0  35.0  315.0  537.0  433.0  283.0   3225.0   \n",
              "9  ...  578.0  1488.0  599.0  30.0  396.0  587.0  482.0  399.0  11423.0   \n",
              "\n",
              "          256  \n",
              "0  Tim_Henman  \n",
              "1  Tim_Henman  \n",
              "2  Tim_Henman  \n",
              "3  Tim_Henman  \n",
              "4  Tim_Henman  \n",
              "5  Tim_Henman  \n",
              "6  Tim_Henman  \n",
              "7  Tim_Henman  \n",
              "8  Tim_Henman  \n",
              "9  Tim_Henman  \n",
              "\n",
              "[10 rows x 258 columns]"
            ],
            "text/html": [
              "\n",
              "  <div id=\"df-5cd45fc4-bc3d-44d1-b972-575ce67bfd18\" class=\"colab-df-container\">\n",
              "    <div>\n",
              "<style scoped>\n",
              "    .dataframe tbody tr th:only-of-type {\n",
              "        vertical-align: middle;\n",
              "    }\n",
              "\n",
              "    .dataframe tbody tr th {\n",
              "        vertical-align: top;\n",
              "    }\n",
              "\n",
              "    .dataframe thead th {\n",
              "        text-align: right;\n",
              "    }\n",
              "</style>\n",
              "<table border=\"1\" class=\"dataframe\">\n",
              "  <thead>\n",
              "    <tr style=\"text-align: right;\">\n",
              "      <th></th>\n",
              "      <th>Unnamed: 0</th>\n",
              "      <th>0</th>\n",
              "      <th>1</th>\n",
              "      <th>2</th>\n",
              "      <th>3</th>\n",
              "      <th>4</th>\n",
              "      <th>5</th>\n",
              "      <th>6</th>\n",
              "      <th>7</th>\n",
              "      <th>8</th>\n",
              "      <th>...</th>\n",
              "      <th>247</th>\n",
              "      <th>248</th>\n",
              "      <th>249</th>\n",
              "      <th>250</th>\n",
              "      <th>251</th>\n",
              "      <th>252</th>\n",
              "      <th>253</th>\n",
              "      <th>254</th>\n",
              "      <th>255</th>\n",
              "      <th>256</th>\n",
              "    </tr>\n",
              "  </thead>\n",
              "  <tbody>\n",
              "    <tr>\n",
              "      <th>0</th>\n",
              "      <td>0</td>\n",
              "      <td>589.0</td>\n",
              "      <td>57.0</td>\n",
              "      <td>319.0</td>\n",
              "      <td>205.0</td>\n",
              "      <td>67.0</td>\n",
              "      <td>4.0</td>\n",
              "      <td>195.0</td>\n",
              "      <td>466.0</td>\n",
              "      <td>370.0</td>\n",
              "      <td>...</td>\n",
              "      <td>474.0</td>\n",
              "      <td>1924.0</td>\n",
              "      <td>612.0</td>\n",
              "      <td>26.0</td>\n",
              "      <td>357.0</td>\n",
              "      <td>592.0</td>\n",
              "      <td>523.0</td>\n",
              "      <td>328.0</td>\n",
              "      <td>6088.0</td>\n",
              "      <td>Tim_Henman</td>\n",
              "    </tr>\n",
              "    <tr>\n",
              "      <th>1</th>\n",
              "      <td>1</td>\n",
              "      <td>1012.0</td>\n",
              "      <td>113.0</td>\n",
              "      <td>383.0</td>\n",
              "      <td>203.0</td>\n",
              "      <td>76.0</td>\n",
              "      <td>11.0</td>\n",
              "      <td>205.0</td>\n",
              "      <td>369.0</td>\n",
              "      <td>505.0</td>\n",
              "      <td>...</td>\n",
              "      <td>591.0</td>\n",
              "      <td>2086.0</td>\n",
              "      <td>681.0</td>\n",
              "      <td>29.0</td>\n",
              "      <td>447.0</td>\n",
              "      <td>699.0</td>\n",
              "      <td>535.0</td>\n",
              "      <td>486.0</td>\n",
              "      <td>13472.0</td>\n",
              "      <td>Tim_Henman</td>\n",
              "    </tr>\n",
              "    <tr>\n",
              "      <th>2</th>\n",
              "      <td>2</td>\n",
              "      <td>920.0</td>\n",
              "      <td>92.0</td>\n",
              "      <td>288.0</td>\n",
              "      <td>152.0</td>\n",
              "      <td>107.0</td>\n",
              "      <td>18.0</td>\n",
              "      <td>192.0</td>\n",
              "      <td>403.0</td>\n",
              "      <td>313.0</td>\n",
              "      <td>...</td>\n",
              "      <td>461.0</td>\n",
              "      <td>1812.0</td>\n",
              "      <td>579.0</td>\n",
              "      <td>41.0</td>\n",
              "      <td>428.0</td>\n",
              "      <td>597.0</td>\n",
              "      <td>411.0</td>\n",
              "      <td>374.0</td>\n",
              "      <td>11673.0</td>\n",
              "      <td>Tim_Henman</td>\n",
              "    </tr>\n",
              "    <tr>\n",
              "      <th>3</th>\n",
              "      <td>3</td>\n",
              "      <td>1068.0</td>\n",
              "      <td>85.0</td>\n",
              "      <td>447.0</td>\n",
              "      <td>298.0</td>\n",
              "      <td>90.0</td>\n",
              "      <td>11.0</td>\n",
              "      <td>293.0</td>\n",
              "      <td>732.0</td>\n",
              "      <td>546.0</td>\n",
              "      <td>...</td>\n",
              "      <td>727.0</td>\n",
              "      <td>2150.0</td>\n",
              "      <td>650.0</td>\n",
              "      <td>32.0</td>\n",
              "      <td>374.0</td>\n",
              "      <td>564.0</td>\n",
              "      <td>585.0</td>\n",
              "      <td>367.0</td>\n",
              "      <td>5449.0</td>\n",
              "      <td>Tim_Henman</td>\n",
              "    </tr>\n",
              "    <tr>\n",
              "      <th>4</th>\n",
              "      <td>4</td>\n",
              "      <td>510.0</td>\n",
              "      <td>43.0</td>\n",
              "      <td>304.0</td>\n",
              "      <td>189.0</td>\n",
              "      <td>47.0</td>\n",
              "      <td>8.0</td>\n",
              "      <td>201.0</td>\n",
              "      <td>387.0</td>\n",
              "      <td>296.0</td>\n",
              "      <td>...</td>\n",
              "      <td>405.0</td>\n",
              "      <td>3263.0</td>\n",
              "      <td>588.0</td>\n",
              "      <td>36.0</td>\n",
              "      <td>307.0</td>\n",
              "      <td>593.0</td>\n",
              "      <td>350.0</td>\n",
              "      <td>328.0</td>\n",
              "      <td>4606.0</td>\n",
              "      <td>Tim_Henman</td>\n",
              "    </tr>\n",
              "    <tr>\n",
              "      <th>5</th>\n",
              "      <td>5</td>\n",
              "      <td>678.0</td>\n",
              "      <td>65.0</td>\n",
              "      <td>173.0</td>\n",
              "      <td>131.0</td>\n",
              "      <td>66.0</td>\n",
              "      <td>14.0</td>\n",
              "      <td>114.0</td>\n",
              "      <td>255.0</td>\n",
              "      <td>292.0</td>\n",
              "      <td>...</td>\n",
              "      <td>366.0</td>\n",
              "      <td>2675.0</td>\n",
              "      <td>577.0</td>\n",
              "      <td>43.0</td>\n",
              "      <td>556.0</td>\n",
              "      <td>678.0</td>\n",
              "      <td>313.0</td>\n",
              "      <td>581.0</td>\n",
              "      <td>17998.0</td>\n",
              "      <td>Tim_Henman</td>\n",
              "    </tr>\n",
              "    <tr>\n",
              "      <th>6</th>\n",
              "      <td>6</td>\n",
              "      <td>668.0</td>\n",
              "      <td>62.0</td>\n",
              "      <td>344.0</td>\n",
              "      <td>187.0</td>\n",
              "      <td>60.0</td>\n",
              "      <td>10.0</td>\n",
              "      <td>218.0</td>\n",
              "      <td>347.0</td>\n",
              "      <td>330.0</td>\n",
              "      <td>...</td>\n",
              "      <td>510.0</td>\n",
              "      <td>2106.0</td>\n",
              "      <td>678.0</td>\n",
              "      <td>51.0</td>\n",
              "      <td>612.0</td>\n",
              "      <td>660.0</td>\n",
              "      <td>435.0</td>\n",
              "      <td>639.0</td>\n",
              "      <td>13194.0</td>\n",
              "      <td>Tim_Henman</td>\n",
              "    </tr>\n",
              "    <tr>\n",
              "      <th>7</th>\n",
              "      <td>7</td>\n",
              "      <td>745.0</td>\n",
              "      <td>74.0</td>\n",
              "      <td>267.0</td>\n",
              "      <td>218.0</td>\n",
              "      <td>80.0</td>\n",
              "      <td>10.0</td>\n",
              "      <td>180.0</td>\n",
              "      <td>363.0</td>\n",
              "      <td>376.0</td>\n",
              "      <td>...</td>\n",
              "      <td>590.0</td>\n",
              "      <td>2008.0</td>\n",
              "      <td>622.0</td>\n",
              "      <td>44.0</td>\n",
              "      <td>417.0</td>\n",
              "      <td>545.0</td>\n",
              "      <td>410.0</td>\n",
              "      <td>380.0</td>\n",
              "      <td>9406.0</td>\n",
              "      <td>Tim_Henman</td>\n",
              "    </tr>\n",
              "    <tr>\n",
              "      <th>8</th>\n",
              "      <td>8</td>\n",
              "      <td>428.0</td>\n",
              "      <td>45.0</td>\n",
              "      <td>268.0</td>\n",
              "      <td>222.0</td>\n",
              "      <td>44.0</td>\n",
              "      <td>6.0</td>\n",
              "      <td>210.0</td>\n",
              "      <td>430.0</td>\n",
              "      <td>265.0</td>\n",
              "      <td>...</td>\n",
              "      <td>343.0</td>\n",
              "      <td>1964.0</td>\n",
              "      <td>668.0</td>\n",
              "      <td>35.0</td>\n",
              "      <td>315.0</td>\n",
              "      <td>537.0</td>\n",
              "      <td>433.0</td>\n",
              "      <td>283.0</td>\n",
              "      <td>3225.0</td>\n",
              "      <td>Tim_Henman</td>\n",
              "    </tr>\n",
              "    <tr>\n",
              "      <th>9</th>\n",
              "      <td>9</td>\n",
              "      <td>1154.0</td>\n",
              "      <td>103.0</td>\n",
              "      <td>354.0</td>\n",
              "      <td>234.0</td>\n",
              "      <td>113.0</td>\n",
              "      <td>16.0</td>\n",
              "      <td>260.0</td>\n",
              "      <td>374.0</td>\n",
              "      <td>473.0</td>\n",
              "      <td>...</td>\n",
              "      <td>578.0</td>\n",
              "      <td>1488.0</td>\n",
              "      <td>599.0</td>\n",
              "      <td>30.0</td>\n",
              "      <td>396.0</td>\n",
              "      <td>587.0</td>\n",
              "      <td>482.0</td>\n",
              "      <td>399.0</td>\n",
              "      <td>11423.0</td>\n",
              "      <td>Tim_Henman</td>\n",
              "    </tr>\n",
              "  </tbody>\n",
              "</table>\n",
              "<p>10 rows × 258 columns</p>\n",
              "</div>\n",
              "    <div class=\"colab-df-buttons\">\n",
              "\n",
              "  <div class=\"colab-df-container\">\n",
              "    <button class=\"colab-df-convert\" onclick=\"convertToInteractive('df-5cd45fc4-bc3d-44d1-b972-575ce67bfd18')\"\n",
              "            title=\"Convert this dataframe to an interactive table.\"\n",
              "            style=\"display:none;\">\n",
              "\n",
              "  <svg xmlns=\"http://www.w3.org/2000/svg\" height=\"24px\" viewBox=\"0 -960 960 960\">\n",
              "    <path d=\"M120-120v-720h720v720H120Zm60-500h600v-160H180v160Zm220 220h160v-160H400v160Zm0 220h160v-160H400v160ZM180-400h160v-160H180v160Zm440 0h160v-160H620v160ZM180-180h160v-160H180v160Zm440 0h160v-160H620v160Z\"/>\n",
              "  </svg>\n",
              "    </button>\n",
              "\n",
              "  <style>\n",
              "    .colab-df-container {\n",
              "      display:flex;\n",
              "      gap: 12px;\n",
              "    }\n",
              "\n",
              "    .colab-df-convert {\n",
              "      background-color: #E8F0FE;\n",
              "      border: none;\n",
              "      border-radius: 50%;\n",
              "      cursor: pointer;\n",
              "      display: none;\n",
              "      fill: #1967D2;\n",
              "      height: 32px;\n",
              "      padding: 0 0 0 0;\n",
              "      width: 32px;\n",
              "    }\n",
              "\n",
              "    .colab-df-convert:hover {\n",
              "      background-color: #E2EBFA;\n",
              "      box-shadow: 0px 1px 2px rgba(60, 64, 67, 0.3), 0px 1px 3px 1px rgba(60, 64, 67, 0.15);\n",
              "      fill: #174EA6;\n",
              "    }\n",
              "\n",
              "    .colab-df-buttons div {\n",
              "      margin-bottom: 4px;\n",
              "    }\n",
              "\n",
              "    [theme=dark] .colab-df-convert {\n",
              "      background-color: #3B4455;\n",
              "      fill: #D2E3FC;\n",
              "    }\n",
              "\n",
              "    [theme=dark] .colab-df-convert:hover {\n",
              "      background-color: #434B5C;\n",
              "      box-shadow: 0px 1px 3px 1px rgba(0, 0, 0, 0.15);\n",
              "      filter: drop-shadow(0px 1px 2px rgba(0, 0, 0, 0.3));\n",
              "      fill: #FFFFFF;\n",
              "    }\n",
              "  </style>\n",
              "\n",
              "    <script>\n",
              "      const buttonEl =\n",
              "        document.querySelector('#df-5cd45fc4-bc3d-44d1-b972-575ce67bfd18 button.colab-df-convert');\n",
              "      buttonEl.style.display =\n",
              "        google.colab.kernel.accessAllowed ? 'block' : 'none';\n",
              "\n",
              "      async function convertToInteractive(key) {\n",
              "        const element = document.querySelector('#df-5cd45fc4-bc3d-44d1-b972-575ce67bfd18');\n",
              "        const dataTable =\n",
              "          await google.colab.kernel.invokeFunction('convertToInteractive',\n",
              "                                                    [key], {});\n",
              "        if (!dataTable) return;\n",
              "\n",
              "        const docLinkHtml = 'Like what you see? Visit the ' +\n",
              "          '<a target=\"_blank\" href=https://colab.research.google.com/notebooks/data_table.ipynb>data table notebook</a>'\n",
              "          + ' to learn more about interactive tables.';\n",
              "        element.innerHTML = '';\n",
              "        dataTable['output_type'] = 'display_data';\n",
              "        await google.colab.output.renderOutput(dataTable, element);\n",
              "        const docLink = document.createElement('div');\n",
              "        docLink.innerHTML = docLinkHtml;\n",
              "        element.appendChild(docLink);\n",
              "      }\n",
              "    </script>\n",
              "  </div>\n",
              "\n",
              "\n",
              "<div id=\"df-25703992-6312-4531-8aac-6afbc4f708c2\">\n",
              "  <button class=\"colab-df-quickchart\" onclick=\"quickchart('df-25703992-6312-4531-8aac-6afbc4f708c2')\"\n",
              "            title=\"Suggest charts\"\n",
              "            style=\"display:none;\">\n",
              "\n",
              "<svg xmlns=\"http://www.w3.org/2000/svg\" height=\"24px\"viewBox=\"0 0 24 24\"\n",
              "     width=\"24px\">\n",
              "    <g>\n",
              "        <path d=\"M19 3H5c-1.1 0-2 .9-2 2v14c0 1.1.9 2 2 2h14c1.1 0 2-.9 2-2V5c0-1.1-.9-2-2-2zM9 17H7v-7h2v7zm4 0h-2V7h2v10zm4 0h-2v-4h2v4z\"/>\n",
              "    </g>\n",
              "</svg>\n",
              "  </button>\n",
              "\n",
              "<style>\n",
              "  .colab-df-quickchart {\n",
              "      --bg-color: #E8F0FE;\n",
              "      --fill-color: #1967D2;\n",
              "      --hover-bg-color: #E2EBFA;\n",
              "      --hover-fill-color: #174EA6;\n",
              "      --disabled-fill-color: #AAA;\n",
              "      --disabled-bg-color: #DDD;\n",
              "  }\n",
              "\n",
              "  [theme=dark] .colab-df-quickchart {\n",
              "      --bg-color: #3B4455;\n",
              "      --fill-color: #D2E3FC;\n",
              "      --hover-bg-color: #434B5C;\n",
              "      --hover-fill-color: #FFFFFF;\n",
              "      --disabled-bg-color: #3B4455;\n",
              "      --disabled-fill-color: #666;\n",
              "  }\n",
              "\n",
              "  .colab-df-quickchart {\n",
              "    background-color: var(--bg-color);\n",
              "    border: none;\n",
              "    border-radius: 50%;\n",
              "    cursor: pointer;\n",
              "    display: none;\n",
              "    fill: var(--fill-color);\n",
              "    height: 32px;\n",
              "    padding: 0;\n",
              "    width: 32px;\n",
              "  }\n",
              "\n",
              "  .colab-df-quickchart:hover {\n",
              "    background-color: var(--hover-bg-color);\n",
              "    box-shadow: 0 1px 2px rgba(60, 64, 67, 0.3), 0 1px 3px 1px rgba(60, 64, 67, 0.15);\n",
              "    fill: var(--button-hover-fill-color);\n",
              "  }\n",
              "\n",
              "  .colab-df-quickchart-complete:disabled,\n",
              "  .colab-df-quickchart-complete:disabled:hover {\n",
              "    background-color: var(--disabled-bg-color);\n",
              "    fill: var(--disabled-fill-color);\n",
              "    box-shadow: none;\n",
              "  }\n",
              "\n",
              "  .colab-df-spinner {\n",
              "    border: 2px solid var(--fill-color);\n",
              "    border-color: transparent;\n",
              "    border-bottom-color: var(--fill-color);\n",
              "    animation:\n",
              "      spin 1s steps(1) infinite;\n",
              "  }\n",
              "\n",
              "  @keyframes spin {\n",
              "    0% {\n",
              "      border-color: transparent;\n",
              "      border-bottom-color: var(--fill-color);\n",
              "      border-left-color: var(--fill-color);\n",
              "    }\n",
              "    20% {\n",
              "      border-color: transparent;\n",
              "      border-left-color: var(--fill-color);\n",
              "      border-top-color: var(--fill-color);\n",
              "    }\n",
              "    30% {\n",
              "      border-color: transparent;\n",
              "      border-left-color: var(--fill-color);\n",
              "      border-top-color: var(--fill-color);\n",
              "      border-right-color: var(--fill-color);\n",
              "    }\n",
              "    40% {\n",
              "      border-color: transparent;\n",
              "      border-right-color: var(--fill-color);\n",
              "      border-top-color: var(--fill-color);\n",
              "    }\n",
              "    60% {\n",
              "      border-color: transparent;\n",
              "      border-right-color: var(--fill-color);\n",
              "    }\n",
              "    80% {\n",
              "      border-color: transparent;\n",
              "      border-right-color: var(--fill-color);\n",
              "      border-bottom-color: var(--fill-color);\n",
              "    }\n",
              "    90% {\n",
              "      border-color: transparent;\n",
              "      border-bottom-color: var(--fill-color);\n",
              "    }\n",
              "  }\n",
              "</style>\n",
              "\n",
              "  <script>\n",
              "    async function quickchart(key) {\n",
              "      const quickchartButtonEl =\n",
              "        document.querySelector('#' + key + ' button');\n",
              "      quickchartButtonEl.disabled = true;  // To prevent multiple clicks.\n",
              "      quickchartButtonEl.classList.add('colab-df-spinner');\n",
              "      try {\n",
              "        const charts = await google.colab.kernel.invokeFunction(\n",
              "            'suggestCharts', [key], {});\n",
              "      } catch (error) {\n",
              "        console.error('Error during call to suggestCharts:', error);\n",
              "      }\n",
              "      quickchartButtonEl.classList.remove('colab-df-spinner');\n",
              "      quickchartButtonEl.classList.add('colab-df-quickchart-complete');\n",
              "    }\n",
              "    (() => {\n",
              "      let quickchartButtonEl =\n",
              "        document.querySelector('#df-25703992-6312-4531-8aac-6afbc4f708c2 button');\n",
              "      quickchartButtonEl.style.display =\n",
              "        google.colab.kernel.accessAllowed ? 'block' : 'none';\n",
              "    })();\n",
              "  </script>\n",
              "</div>\n",
              "\n",
              "    </div>\n",
              "  </div>\n"
            ],
            "application/vnd.google.colaboratory.intrinsic+json": {
              "type": "dataframe",
              "variable_name": "df_LBP"
            }
          },
          "metadata": {},
          "execution_count": 19
        }
      ],
      "source": [
        "df_LBP.head(10)"
      ]
    },
    {
      "cell_type": "markdown",
      "metadata": {
        "id": "AVs6_YoYjCoS"
      },
      "source": [
        "# Train/Test split - for LBP dataset"
      ]
    },
    {
      "cell_type": "code",
      "execution_count": 42,
      "metadata": {
        "colab": {
          "base_uri": "https://localhost:8080/"
        },
        "id": "Abp0KaGlieJZ",
        "outputId": "7a66bbe4-88f0-407e-b48b-717b6026683e"
      },
      "outputs": [
        {
          "output_type": "stream",
          "name": "stdout",
          "text": [
            "Dataset size: (1140, 257)\n",
            "Training size: (912, 256), Testing size: (228, 256)\n"
          ]
        }
      ],
      "source": [
        "# Separate features and labels\n",
        "X_LBP = filtered_df_LBP.iloc[:, :-1]\n",
        "y_LBP = filtered_df_LBP.iloc[:, -1]\n",
        "\n",
        "# Encode labels (alphabetically)\n",
        "label_encoder = LabelEncoder()\n",
        "y_encoded = label_encoder.fit_transform(y_LBP)\n",
        "# encoding is benificial as working on numbers is lot easier than working on string\n",
        "\n",
        "# Ensure stratified split (16 training, 4 testing per class)\n",
        "X_train_LBP, X_test_LBP, y_train_LBP, y_test_LBP = train_test_split(X_LBP, y_encoded, test_size=1/5, random_state=42, stratify=y_encoded)\n",
        "\n",
        "# Normalize features\n",
        "scaler = StandardScaler()\n",
        "X_train_LBP = scaler.fit_transform(X_train_LBP)\n",
        "X_test_LBP = scaler.transform(X_test_LBP)\n",
        "\n",
        "print(f\"Dataset size: {filtered_df_LBP.shape}\")\n",
        "print(f\"Training size: {X_train_LBP.shape}, Testing size: {X_test_LBP.shape}\")"
      ]
    },
    {
      "cell_type": "code",
      "source": [
        "y_train = y_train_LBP\n",
        "y_test = y_test_LBP\n",
        "\n",
        "print(y_train[:10])\n",
        "print(y_test[:10])"
      ],
      "metadata": {
        "colab": {
          "base_uri": "https://localhost:8080/"
        },
        "id": "uloPrW9AI3C1",
        "outputId": "a93f0073-98da-4cea-c4b7-9e767a403a31"
      },
      "execution_count": 43,
      "outputs": [
        {
          "output_type": "stream",
          "name": "stdout",
          "text": [
            "[2 0 1 1 2 2 2 0 2 2]\n",
            "[2 4 2 1 2 3 2 0 4 2]\n"
          ]
        }
      ]
    },
    {
      "cell_type": "code",
      "source": [
        "for i in range(len(y_test)):\n",
        "  if i<=100:\n",
        "    print(label_encoder.inverse_transform([y_test[i]])[0])"
      ],
      "metadata": {
        "colab": {
          "base_uri": "https://localhost:8080/"
        },
        "id": "fv62t5O0I-T4",
        "outputId": "3b799ac0-5ae4-49eb-bcb0-6160d550a9e4"
      },
      "execution_count": 44,
      "outputs": [
        {
          "output_type": "stream",
          "name": "stdout",
          "text": [
            "George_W_Bush\n",
            "Tony_Blair\n",
            "George_W_Bush\n",
            "Donald_Rumsfeld\n",
            "George_W_Bush\n",
            "Gerhard_Schroeder\n",
            "George_W_Bush\n",
            "Colin_Powell\n",
            "Tony_Blair\n",
            "George_W_Bush\n",
            "Colin_Powell\n",
            "Colin_Powell\n",
            "Gerhard_Schroeder\n",
            "George_W_Bush\n",
            "Donald_Rumsfeld\n",
            "Tony_Blair\n",
            "George_W_Bush\n",
            "Colin_Powell\n",
            "Colin_Powell\n",
            "George_W_Bush\n",
            "George_W_Bush\n",
            "Colin_Powell\n",
            "George_W_Bush\n",
            "Colin_Powell\n",
            "Donald_Rumsfeld\n",
            "Colin_Powell\n",
            "George_W_Bush\n",
            "George_W_Bush\n",
            "Colin_Powell\n",
            "George_W_Bush\n",
            "George_W_Bush\n",
            "Colin_Powell\n",
            "George_W_Bush\n",
            "Tony_Blair\n",
            "Donald_Rumsfeld\n",
            "Donald_Rumsfeld\n",
            "Tony_Blair\n",
            "George_W_Bush\n",
            "Tony_Blair\n",
            "George_W_Bush\n",
            "Gerhard_Schroeder\n",
            "Donald_Rumsfeld\n",
            "Colin_Powell\n",
            "Gerhard_Schroeder\n",
            "George_W_Bush\n",
            "Tony_Blair\n",
            "Gerhard_Schroeder\n",
            "Donald_Rumsfeld\n",
            "Donald_Rumsfeld\n",
            "George_W_Bush\n",
            "George_W_Bush\n",
            "George_W_Bush\n",
            "Gerhard_Schroeder\n",
            "Colin_Powell\n",
            "George_W_Bush\n",
            "George_W_Bush\n",
            "Gerhard_Schroeder\n",
            "Colin_Powell\n",
            "George_W_Bush\n",
            "Colin_Powell\n",
            "Tony_Blair\n",
            "George_W_Bush\n",
            "Tony_Blair\n",
            "George_W_Bush\n",
            "Tony_Blair\n",
            "George_W_Bush\n",
            "Colin_Powell\n",
            "George_W_Bush\n",
            "George_W_Bush\n",
            "Donald_Rumsfeld\n",
            "Donald_Rumsfeld\n",
            "George_W_Bush\n",
            "George_W_Bush\n",
            "Colin_Powell\n",
            "George_W_Bush\n",
            "George_W_Bush\n",
            "Gerhard_Schroeder\n",
            "George_W_Bush\n",
            "George_W_Bush\n",
            "Donald_Rumsfeld\n",
            "George_W_Bush\n",
            "George_W_Bush\n",
            "Gerhard_Schroeder\n",
            "Gerhard_Schroeder\n",
            "George_W_Bush\n",
            "Colin_Powell\n",
            "George_W_Bush\n",
            "Gerhard_Schroeder\n",
            "Gerhard_Schroeder\n",
            "Colin_Powell\n",
            "George_W_Bush\n",
            "George_W_Bush\n",
            "Gerhard_Schroeder\n",
            "George_W_Bush\n",
            "George_W_Bush\n",
            "George_W_Bush\n",
            "George_W_Bush\n",
            "Colin_Powell\n",
            "George_W_Bush\n",
            "Gerhard_Schroeder\n",
            "Colin_Powell\n"
          ]
        }
      ]
    },
    {
      "cell_type": "markdown",
      "metadata": {
        "id": "1vd_jfouKV5K"
      },
      "source": [
        "# KNN Model"
      ]
    },
    {
      "cell_type": "code",
      "execution_count": 45,
      "metadata": {
        "id": "pNanG4XBJx-q"
      },
      "outputs": [],
      "source": [
        "import numpy as np\n",
        "import math"
      ]
    },
    {
      "cell_type": "code",
      "execution_count": 46,
      "metadata": {
        "id": "2sYnoEgFKlA5"
      },
      "outputs": [],
      "source": [
        "def euclidean_dist(x,y):\n",
        "  # x1,y1,z1=x\n",
        "  # x2,y2,z2=y\n",
        "  return math.sqrt(sum([(a-b)**2 for a,b in zip(x,y)]))"
      ]
    },
    {
      "cell_type": "code",
      "execution_count": null,
      "metadata": {
        "colab": {
          "base_uri": "https://localhost:8080/"
        },
        "id": "0nbnWdaMJpOS",
        "outputId": "e09dae1a-7bb4-4d28-ac34-2bf956b1a9e1"
      },
      "outputs": [
        {
          "name": "stdout",
          "output_type": "stream",
          "text": [
            "3.3166247903554\n"
          ]
        }
      ],
      "source": [
        "point1 = [2,3,4]\n",
        "point2 = [1,2,1]\n",
        "print(euclidean_dist(point1, point2))"
      ]
    },
    {
      "cell_type": "code",
      "execution_count": null,
      "metadata": {
        "id": "VEjvfGrnm9vM"
      },
      "outputs": [],
      "source": [
        "k=5"
      ]
    },
    {
      "cell_type": "code",
      "execution_count": 47,
      "metadata": {
        "id": "MPcW1M_GOpjH"
      },
      "outputs": [],
      "source": [
        "from collections import Counter"
      ]
    },
    {
      "cell_type": "markdown",
      "source": [
        "# CNN Prediction"
      ],
      "metadata": {
        "id": "L_9GgieIJlTd"
      }
    },
    {
      "cell_type": "code",
      "execution_count": null,
      "metadata": {
        "colab": {
          "base_uri": "https://localhost:8080/"
        },
        "id": "dBOh51aIlv0Q",
        "outputId": "fe946c73-0a11-4f4d-d7f6-b3d3a1f19157"
      },
      "outputs": [
        {
          "output_type": "stream",
          "name": "stdout",
          "text": [
            "Label 0 detected : George_W_Bush\n",
            "Label 1 detected : George_W_Bush\n",
            "Label 2 detected : George_W_Bush\n",
            "Label 3 detected : Donald_Rumsfeld\n",
            "Label 4 detected : George_W_Bush\n",
            "Label 5 detected : Donald_Rumsfeld\n",
            "Label 6 detected : George_W_Bush\n",
            "Label 7 detected : Colin_Powell\n",
            "Label 8 detected : Tony_Blair\n",
            "Label 9 detected : George_W_Bush\n",
            "Label 10 detected : Tony_Blair\n",
            "Label 11 detected : Donald_Rumsfeld\n",
            "Label 12 detected : Gerhard_Schroeder\n",
            "Label 13 detected : George_W_Bush\n",
            "Label 14 detected : George_W_Bush\n",
            "Label 15 detected : Tony_Blair\n",
            "Label 16 detected : George_W_Bush\n",
            "Label 17 detected : Colin_Powell\n",
            "Label 18 detected : George_W_Bush\n",
            "Label 19 detected : George_W_Bush\n",
            "Label 20 detected : George_W_Bush\n",
            "Label 21 detected : George_W_Bush\n",
            "Label 22 detected : George_W_Bush\n",
            "Label 23 detected : Colin_Powell\n",
            "Label 24 detected : George_W_Bush\n",
            "Label 25 detected : Colin_Powell\n",
            "Label 26 detected : George_W_Bush\n",
            "Label 27 detected : George_W_Bush\n",
            "Label 28 detected : George_W_Bush\n",
            "Label 29 detected : George_W_Bush\n",
            "Label 30 detected : George_W_Bush\n",
            "Label 31 detected : Colin_Powell\n",
            "Label 32 detected : Tony_Blair\n",
            "Label 33 detected : George_W_Bush\n",
            "Label 34 detected : Donald_Rumsfeld\n",
            "Label 35 detected : Gerhard_Schroeder\n",
            "Label 36 detected : Tony_Blair\n",
            "Label 37 detected : George_W_Bush\n",
            "Label 38 detected : Tony_Blair\n",
            "Label 39 detected : George_W_Bush\n",
            "Label 40 detected : Colin_Powell\n",
            "Label 41 detected : Colin_Powell\n",
            "Label 42 detected : George_W_Bush\n",
            "Label 43 detected : Gerhard_Schroeder\n",
            "Label 44 detected : George_W_Bush\n",
            "Label 45 detected : Tony_Blair\n",
            "Label 46 detected : Gerhard_Schroeder\n",
            "Label 47 detected : Donald_Rumsfeld\n",
            "Label 48 detected : Donald_Rumsfeld\n",
            "Label 49 detected : George_W_Bush\n",
            "Label 50 detected : George_W_Bush\n",
            "Label 51 detected : George_W_Bush\n",
            "Label 52 detected : George_W_Bush\n",
            "Label 53 detected : Colin_Powell\n",
            "Label 54 detected : Tony_Blair\n",
            "Label 55 detected : Colin_Powell\n",
            "Label 56 detected : Tony_Blair\n",
            "Label 57 detected : George_W_Bush\n",
            "Label 58 detected : George_W_Bush\n",
            "Label 59 detected : Colin_Powell\n",
            "Label 60 detected : George_W_Bush\n",
            "Label 61 detected : George_W_Bush\n",
            "Label 62 detected : Tony_Blair\n",
            "Label 63 detected : George_W_Bush\n",
            "Label 64 detected : Tony_Blair\n",
            "Label 65 detected : Colin_Powell\n",
            "Label 66 detected : Colin_Powell\n",
            "Label 67 detected : George_W_Bush\n",
            "Label 68 detected : George_W_Bush\n",
            "Label 69 detected : George_W_Bush\n",
            "Label 70 detected : George_W_Bush\n",
            "Label 71 detected : George_W_Bush\n",
            "Label 72 detected : George_W_Bush\n",
            "Label 73 detected : Colin_Powell\n",
            "Label 74 detected : George_W_Bush\n",
            "Label 75 detected : George_W_Bush\n",
            "Label 76 detected : George_W_Bush\n",
            "Label 77 detected : George_W_Bush\n",
            "Label 78 detected : George_W_Bush\n",
            "Label 79 detected : George_W_Bush\n",
            "Label 80 detected : Tony_Blair\n",
            "Label 81 detected : George_W_Bush\n",
            "Label 82 detected : Colin_Powell\n",
            "Label 83 detected : George_W_Bush\n",
            "Label 84 detected : George_W_Bush\n",
            "Label 85 detected : Colin_Powell\n",
            "Label 86 detected : George_W_Bush\n",
            "Label 87 detected : Gerhard_Schroeder\n",
            "Label 88 detected : Gerhard_Schroeder\n",
            "Label 89 detected : Colin_Powell\n",
            "Label 90 detected : George_W_Bush\n",
            "Label 91 detected : George_W_Bush\n",
            "Label 92 detected : George_W_Bush\n",
            "Label 93 detected : George_W_Bush\n",
            "Label 94 detected : George_W_Bush\n",
            "Label 95 detected : George_W_Bush\n",
            "Label 96 detected : George_W_Bush\n",
            "Label 97 detected : Colin_Powell\n",
            "Label 98 detected : George_W_Bush\n",
            "Label 99 detected : George_W_Bush\n",
            "Label 100 detected : George_W_Bush\n",
            "['George_W_Bush', 'George_W_Bush', 'George_W_Bush', 'Donald_Rumsfeld', 'George_W_Bush', 'Donald_Rumsfeld', 'George_W_Bush', 'Colin_Powell', 'Tony_Blair', 'George_W_Bush', 'Tony_Blair', 'Donald_Rumsfeld', 'Gerhard_Schroeder', 'George_W_Bush', 'George_W_Bush', 'Tony_Blair', 'George_W_Bush', 'Colin_Powell', 'George_W_Bush', 'George_W_Bush', 'George_W_Bush', 'George_W_Bush', 'George_W_Bush', 'Colin_Powell', 'George_W_Bush', 'Colin_Powell', 'George_W_Bush', 'George_W_Bush', 'George_W_Bush', 'George_W_Bush', 'George_W_Bush', 'Colin_Powell', 'Tony_Blair', 'George_W_Bush', 'Donald_Rumsfeld', 'Gerhard_Schroeder', 'Tony_Blair', 'George_W_Bush', 'Tony_Blair', 'George_W_Bush', 'Colin_Powell', 'Colin_Powell', 'George_W_Bush', 'Gerhard_Schroeder', 'George_W_Bush', 'Tony_Blair', 'Gerhard_Schroeder', 'Donald_Rumsfeld', 'Donald_Rumsfeld', 'George_W_Bush', 'George_W_Bush', 'George_W_Bush', 'George_W_Bush', 'Colin_Powell', 'Tony_Blair', 'Colin_Powell', 'Tony_Blair', 'George_W_Bush', 'George_W_Bush', 'Colin_Powell', 'George_W_Bush', 'George_W_Bush', 'Tony_Blair', 'George_W_Bush', 'Tony_Blair', 'Colin_Powell', 'Colin_Powell', 'George_W_Bush', 'George_W_Bush', 'George_W_Bush', 'George_W_Bush', 'George_W_Bush', 'George_W_Bush', 'Colin_Powell', 'George_W_Bush', 'George_W_Bush', 'George_W_Bush', 'George_W_Bush', 'George_W_Bush', 'George_W_Bush', 'Tony_Blair', 'George_W_Bush', 'Colin_Powell', 'George_W_Bush', 'George_W_Bush', 'Colin_Powell', 'George_W_Bush', 'Gerhard_Schroeder', 'Gerhard_Schroeder', 'Colin_Powell', 'George_W_Bush', 'George_W_Bush', 'George_W_Bush', 'George_W_Bush', 'George_W_Bush', 'George_W_Bush', 'George_W_Bush', 'Colin_Powell', 'George_W_Bush', 'George_W_Bush', 'George_W_Bush', 'George_W_Bush', 'Colin_Powell', 'George_W_Bush', 'George_W_Bush', 'George_W_Bush', 'Tony_Blair', 'George_W_Bush', 'George_W_Bush', 'George_W_Bush', 'Colin_Powell', 'Colin_Powell', 'George_W_Bush', 'Gerhard_Schroeder', 'Tony_Blair', 'George_W_Bush', 'George_W_Bush', 'Tony_Blair', 'Colin_Powell', 'George_W_Bush', 'George_W_Bush', 'George_W_Bush', 'Donald_Rumsfeld', 'Tony_Blair', 'Colin_Powell', 'George_W_Bush', 'George_W_Bush', 'Colin_Powell', 'George_W_Bush', 'Colin_Powell', 'George_W_Bush', 'George_W_Bush', 'Tony_Blair', 'George_W_Bush', 'George_W_Bush', 'Tony_Blair', 'George_W_Bush', 'Colin_Powell', 'George_W_Bush', 'George_W_Bush', 'Tony_Blair', 'George_W_Bush', 'George_W_Bush', 'Colin_Powell', 'Colin_Powell', 'George_W_Bush', 'George_W_Bush', 'George_W_Bush', 'Colin_Powell', 'George_W_Bush', 'George_W_Bush', 'George_W_Bush', 'Colin_Powell', 'Colin_Powell', 'George_W_Bush', 'Colin_Powell', 'Donald_Rumsfeld', 'George_W_Bush', 'Colin_Powell', 'Colin_Powell', 'Colin_Powell', 'Gerhard_Schroeder', 'George_W_Bush', 'Colin_Powell', 'George_W_Bush', 'George_W_Bush', 'George_W_Bush', 'Tony_Blair', 'George_W_Bush', 'Donald_Rumsfeld', 'George_W_Bush', 'Donald_Rumsfeld', 'George_W_Bush', 'Colin_Powell', 'Colin_Powell', 'Tony_Blair', 'Colin_Powell', 'George_W_Bush', 'George_W_Bush', 'Colin_Powell', 'Colin_Powell', 'Colin_Powell', 'George_W_Bush', 'Donald_Rumsfeld', 'Tony_Blair', 'Colin_Powell', 'George_W_Bush', 'Colin_Powell', 'George_W_Bush', 'George_W_Bush', 'George_W_Bush', 'Donald_Rumsfeld', 'George_W_Bush', 'Tony_Blair', 'Donald_Rumsfeld', 'George_W_Bush', 'George_W_Bush', 'George_W_Bush', 'George_W_Bush', 'George_W_Bush', 'George_W_Bush', 'George_W_Bush', 'George_W_Bush', 'George_W_Bush', 'George_W_Bush', 'Tony_Blair', 'Colin_Powell', 'George_W_Bush', 'George_W_Bush', 'Colin_Powell', 'Donald_Rumsfeld', 'George_W_Bush', 'Donald_Rumsfeld', 'George_W_Bush', 'George_W_Bush', 'Colin_Powell', 'George_W_Bush', 'Tony_Blair', 'Colin_Powell', 'George_W_Bush', 'George_W_Bush', 'Colin_Powell', 'Gerhard_Schroeder', 'Gerhard_Schroeder', 'Gerhard_Schroeder', 'George_W_Bush', 'Colin_Powell', 'George_W_Bush']\n"
          ]
        }
      ],
      "source": [
        "predictions=[]\n",
        "for i in range(X_test_cnn.shape[0]):\n",
        "  distances=[]\n",
        "  nearest_labels=[]\n",
        "  for j in range(X_train_cnn.shape[0]):\n",
        "    # append the pair (distance, index) to distances\n",
        "    dist=euclidean_dist(X_test_cnn[i], X_train_cnn[j])\n",
        "    distances.append((dist, j))\n",
        "  # sorting distances on the basis of first item of pair i.e. distance\n",
        "  distances.sort(key=lambda x:x[0])\n",
        "  for k1 in range(min(k, len(distances))):  # Ensure k does not exceed available distances\n",
        "    nearest_labels.append(y_train[distances[k1][1]])\n",
        "\n",
        "  label_counts = Counter(nearest_labels)\n",
        "  most_common_label = label_counts.most_common(1)[0][0] if nearest_labels else -1\n",
        "\n",
        "  predictions.append(label_encoder.inverse_transform([most_common_label])[0])\n",
        "\n",
        "  if i<=100 or i==300 or i==500 or i==800 or i==900:\n",
        "    print(f'Label {i} detected : {predictions[i]}')\n",
        "    # if most_common_label!=-1:\n",
        "    #   print(X_test_cnn_pca[i], '\\t', label_encoder.inverse_transform([most_common_label])[0])\n",
        "    # else:\n",
        "    #   print(X_test_cnn_pca[i], '\\t', 'Unknown')\n",
        "\n",
        "print(predictions)"
      ]
    },
    {
      "cell_type": "code",
      "source": [
        "count=0\n",
        "print(predictions)\n",
        "# print(y_test)\n",
        "for i in range(len(predictions)):\n",
        "  if predictions[i]==label_encoder.inverse_transform([y_test[i]])[0]:\n",
        "    count+=1\n",
        "\n",
        "accuracy = count/len(predictions)\n",
        "print(f\"Accuracy: {accuracy * 100:.100f}%\")"
      ],
      "metadata": {
        "id": "2nN88aYhATZY",
        "outputId": "a48cf445-5a7f-462c-b421-ffc1920371ba",
        "colab": {
          "base_uri": "https://localhost:8080/"
        }
      },
      "execution_count": null,
      "outputs": [
        {
          "output_type": "stream",
          "name": "stdout",
          "text": [
            "['George_W_Bush', 'George_W_Bush', 'George_W_Bush', 'Donald_Rumsfeld', 'George_W_Bush', 'George_W_Bush', 'George_W_Bush', 'Colin_Powell', 'Tony_Blair', 'George_W_Bush', 'Tony_Blair', 'Donald_Rumsfeld', 'Gerhard_Schroeder', 'George_W_Bush', 'George_W_Bush', 'Tony_Blair', 'George_W_Bush', 'Colin_Powell', 'George_W_Bush', 'George_W_Bush', 'George_W_Bush', 'George_W_Bush', 'George_W_Bush', 'Colin_Powell', 'George_W_Bush', 'Colin_Powell', 'George_W_Bush', 'George_W_Bush', 'George_W_Bush', 'George_W_Bush', 'George_W_Bush', 'Colin_Powell', 'Tony_Blair', 'Gerhard_Schroeder', 'Donald_Rumsfeld', 'Gerhard_Schroeder', 'Tony_Blair', 'George_W_Bush', 'Colin_Powell', 'George_W_Bush', 'Colin_Powell', 'Colin_Powell', 'George_W_Bush', 'Gerhard_Schroeder', 'George_W_Bush', 'Tony_Blair', 'George_W_Bush', 'Donald_Rumsfeld', 'Donald_Rumsfeld', 'George_W_Bush', 'George_W_Bush', 'George_W_Bush', 'George_W_Bush', 'Colin_Powell', 'George_W_Bush', 'George_W_Bush', 'George_W_Bush', 'George_W_Bush', 'George_W_Bush', 'Colin_Powell', 'George_W_Bush', 'George_W_Bush', 'Tony_Blair', 'George_W_Bush', 'Tony_Blair', 'Colin_Powell', 'Colin_Powell', 'George_W_Bush', 'George_W_Bush', 'George_W_Bush', 'George_W_Bush', 'George_W_Bush', 'George_W_Bush', 'Colin_Powell', 'George_W_Bush', 'George_W_Bush', 'George_W_Bush', 'George_W_Bush', 'George_W_Bush', 'Colin_Powell', 'Tony_Blair', 'George_W_Bush', 'Colin_Powell', 'George_W_Bush', 'George_W_Bush', 'Colin_Powell', 'George_W_Bush', 'Gerhard_Schroeder', 'Gerhard_Schroeder', 'Colin_Powell', 'George_W_Bush', 'George_W_Bush', 'George_W_Bush', 'George_W_Bush', 'George_W_Bush', 'George_W_Bush', 'George_W_Bush', 'Colin_Powell', 'George_W_Bush', 'George_W_Bush', 'George_W_Bush', 'George_W_Bush', 'Colin_Powell', 'George_W_Bush', 'George_W_Bush', 'George_W_Bush', 'Tony_Blair', 'George_W_Bush', 'George_W_Bush', 'George_W_Bush', 'Donald_Rumsfeld', 'Colin_Powell', 'George_W_Bush', 'Donald_Rumsfeld', 'Tony_Blair', 'George_W_Bush', 'George_W_Bush', 'Tony_Blair', 'Colin_Powell', 'George_W_Bush', 'George_W_Bush', 'George_W_Bush', 'Donald_Rumsfeld', 'Tony_Blair', 'Colin_Powell', 'George_W_Bush', 'George_W_Bush', 'Colin_Powell', 'Tony_Blair', 'Colin_Powell', 'George_W_Bush', 'George_W_Bush', 'George_W_Bush', 'George_W_Bush', 'George_W_Bush', 'Tony_Blair', 'George_W_Bush', 'Colin_Powell', 'George_W_Bush', 'George_W_Bush', 'George_W_Bush', 'Tony_Blair', 'George_W_Bush', 'Colin_Powell', 'Colin_Powell', 'George_W_Bush', 'George_W_Bush', 'George_W_Bush', 'Colin_Powell', 'George_W_Bush', 'George_W_Bush', 'George_W_Bush', 'Colin_Powell', 'Colin_Powell', 'George_W_Bush', 'Colin_Powell', 'Donald_Rumsfeld', 'George_W_Bush', 'Colin_Powell', 'Colin_Powell', 'Colin_Powell', 'Gerhard_Schroeder', 'George_W_Bush', 'Colin_Powell', 'George_W_Bush', 'George_W_Bush', 'George_W_Bush', 'Tony_Blair', 'George_W_Bush', 'Donald_Rumsfeld', 'George_W_Bush', 'George_W_Bush', 'George_W_Bush', 'Colin_Powell', 'Colin_Powell', 'Tony_Blair', 'Colin_Powell', 'George_W_Bush', 'George_W_Bush', 'Colin_Powell', 'Colin_Powell', 'Colin_Powell', 'George_W_Bush', 'Donald_Rumsfeld', 'Tony_Blair', 'Colin_Powell', 'George_W_Bush', 'Colin_Powell', 'George_W_Bush', 'George_W_Bush', 'George_W_Bush', 'George_W_Bush', 'Tony_Blair', 'Tony_Blair', 'Donald_Rumsfeld', 'George_W_Bush', 'George_W_Bush', 'George_W_Bush', 'George_W_Bush', 'George_W_Bush', 'George_W_Bush', 'George_W_Bush', 'George_W_Bush', 'George_W_Bush', 'George_W_Bush', 'Tony_Blair', 'Tony_Blair', 'Tony_Blair', 'George_W_Bush', 'Colin_Powell', 'Donald_Rumsfeld', 'George_W_Bush', 'Donald_Rumsfeld', 'George_W_Bush', 'George_W_Bush', 'Colin_Powell', 'George_W_Bush', 'Tony_Blair', 'Colin_Powell', 'George_W_Bush', 'George_W_Bush', 'Colin_Powell', 'Gerhard_Schroeder', 'Gerhard_Schroeder', 'Gerhard_Schroeder', 'Tony_Blair', 'Colin_Powell', 'George_W_Bush']\n",
            "Accuracy: 64.9122807017543834717798745259642601013183593750000000000000000000000000000000000000000000000000000000%\n"
          ]
        }
      ]
    },
    {
      "cell_type": "code",
      "source": [],
      "metadata": {
        "id": "U1_yNuViBfQ0"
      },
      "execution_count": null,
      "outputs": []
    },
    {
      "cell_type": "markdown",
      "source": [
        "# LBP Prediction"
      ],
      "metadata": {
        "id": "OtKNwN0MJsz2"
      }
    },
    {
      "cell_type": "code",
      "source": [
        "def knn(k, X_train, X_test, y_test):\n",
        "  predictions=[]\n",
        "  for i in range(X_test.shape[0]):\n",
        "    distances=[]\n",
        "    nearest_labels=[]\n",
        "    for j in range(X_train.shape[0]):\n",
        "      # append the pair (distance, index) to distances\n",
        "      dist=euclidean_dist(X_test[i], X_train[j])\n",
        "      distances.append((dist, j))\n",
        "    # sorting distances on the basis of first item of pair i.e. distance\n",
        "    distances.sort(key=lambda x:x[0])\n",
        "    for k1 in range(min(k, len(distances))):  # Ensure k does not exceed available distances\n",
        "      nearest_labels.append(y_train[distances[k1][1]])\n",
        "\n",
        "    label_counts = Counter(nearest_labels)\n",
        "    most_common_label = label_counts.most_common(1)[0][0] if nearest_labels else -1\n",
        "\n",
        "    predictions.append(label_encoder.inverse_transform([most_common_label])[0])\n",
        "\n",
        "    if i<=100 or i==300 or i==500 or i==800 or i==900:\n",
        "      print(f'Label {i} detected : {predictions[i]}')\n",
        "      # if most_common_label!=-1:\n",
        "      #   print(X_test_cnn_pca[i], '\\t', label_encoder.inverse_transform([most_common_label])[0])\n",
        "      # else:\n",
        "      #   print(X_test_cnn_pca[i], '\\t', 'Unknown')\n",
        "\n",
        "  print(predictions)\n",
        "  findAccuracy(predictions, y_test)"
      ],
      "metadata": {
        "id": "DnHVFCDXL8Qc"
      },
      "execution_count": 61,
      "outputs": []
    },
    {
      "cell_type": "code",
      "source": [
        "def findAccuracy(predictions, y_test):\n",
        "  count=0\n",
        "  print(predictions)\n",
        "  # print(y_test)\n",
        "  for i in range(len(predictions)):\n",
        "    if predictions[i]==label_encoder.inverse_transform([y_test[i]])[0]:\n",
        "      count+=1\n",
        "\n",
        "  accuracy = count/len(predictions)\n",
        "  print(f\"Accuracy: {accuracy * 100:.5f}%\")"
      ],
      "metadata": {
        "id": "-nK2cWpxJsz3"
      },
      "execution_count": 62,
      "outputs": []
    },
    {
      "cell_type": "code",
      "source": [
        "knn(5, X_train_LBP, X_test_LBP, y_test)"
      ],
      "metadata": {
        "id": "vjSWSNcaJsz3"
      },
      "execution_count": null,
      "outputs": []
    },
    {
      "cell_type": "code",
      "source": [
        "knn(5, X_train_cnn, X_test_cnn, y_test)"
      ],
      "metadata": {
        "id": "4P2gwLJuOGmH"
      },
      "execution_count": null,
      "outputs": []
    },
    {
      "cell_type": "markdown",
      "source": [
        "# Combined features"
      ],
      "metadata": {
        "id": "POEd-bMY_jTw"
      }
    },
    {
      "cell_type": "code",
      "source": [
        "combined_X_train = np.concatenate((X_train_cnn, X_train_LBP), axis=1)\n",
        "combined_X_test = np.concatenate((X_test_cnn, X_test_LBP), axis=1)"
      ],
      "metadata": {
        "id": "_1nI48vn_lW9"
      },
      "execution_count": 63,
      "outputs": []
    },
    {
      "cell_type": "code",
      "source": [
        "pca=PCA(n_components=500)\n",
        "\n",
        "X_train_pca=pca.fit_transform(combined_X_train)\n",
        "X_test_pca=pca.transform(combined_X_test)\n",
        "\n",
        "print(X_train_pca.shape)\n",
        "print(X_test_pca.shape)"
      ],
      "metadata": {
        "colab": {
          "base_uri": "https://localhost:8080/"
        },
        "id": "mpcm4fUqFjT9",
        "outputId": "b8dae239-1936-461d-f124-f733c8a284a6"
      },
      "execution_count": 64,
      "outputs": [
        {
          "output_type": "stream",
          "name": "stdout",
          "text": [
            "(912, 500)\n",
            "(228, 500)\n"
          ]
        }
      ]
    },
    {
      "cell_type": "code",
      "source": [
        "print(X_train_cnn.shape[1])"
      ],
      "metadata": {
        "colab": {
          "base_uri": "https://localhost:8080/"
        },
        "id": "5Z-mYjihBS35",
        "outputId": "83f8e7d3-4582-4766-f567-2594eeb4ae58"
      },
      "execution_count": 51,
      "outputs": [
        {
          "output_type": "stream",
          "name": "stdout",
          "text": [
            "2048\n"
          ]
        }
      ]
    },
    {
      "cell_type": "code",
      "source": [
        "print(X_train_LBP.shape)"
      ],
      "metadata": {
        "colab": {
          "base_uri": "https://localhost:8080/"
        },
        "id": "LIC8o561CnGQ",
        "outputId": "a2de9709-4c2f-476d-d041-72dfb961812d"
      },
      "execution_count": 53,
      "outputs": [
        {
          "output_type": "stream",
          "name": "stdout",
          "text": [
            "(912, 256)\n"
          ]
        }
      ]
    },
    {
      "cell_type": "code",
      "source": [
        "print(combined_X_train.shape[1])\n",
        "print(combined_X_test.shape[1])"
      ],
      "metadata": {
        "colab": {
          "base_uri": "https://localhost:8080/"
        },
        "id": "eBpg84eHFHdj",
        "outputId": "529f3424-48e0-448b-c2a9-957f4164cd26"
      },
      "execution_count": 65,
      "outputs": [
        {
          "output_type": "stream",
          "name": "stdout",
          "text": [
            "2304\n",
            "2304\n"
          ]
        }
      ]
    },
    {
      "cell_type": "code",
      "source": [
        "knn(5, X_train_pca, X_test_pca, y_test)"
      ],
      "metadata": {
        "colab": {
          "base_uri": "https://localhost:8080/"
        },
        "id": "Nnvn1QkcFI8L",
        "outputId": "044e79c9-b885-4cdb-a5fe-1b9064aba70f"
      },
      "execution_count": 67,
      "outputs": [
        {
          "output_type": "stream",
          "name": "stdout",
          "text": [
            "Label 0 detected : George_W_Bush\n",
            "Label 1 detected : George_W_Bush\n",
            "Label 2 detected : George_W_Bush\n",
            "Label 3 detected : Donald_Rumsfeld\n",
            "Label 4 detected : George_W_Bush\n",
            "Label 5 detected : Donald_Rumsfeld\n",
            "Label 6 detected : George_W_Bush\n",
            "Label 7 detected : George_W_Bush\n",
            "Label 8 detected : Tony_Blair\n",
            "Label 9 detected : George_W_Bush\n",
            "Label 10 detected : Tony_Blair\n",
            "Label 11 detected : Donald_Rumsfeld\n",
            "Label 12 detected : Tony_Blair\n",
            "Label 13 detected : Tony_Blair\n",
            "Label 14 detected : George_W_Bush\n",
            "Label 15 detected : Tony_Blair\n",
            "Label 16 detected : Donald_Rumsfeld\n",
            "Label 17 detected : Colin_Powell\n",
            "Label 18 detected : George_W_Bush\n",
            "Label 19 detected : George_W_Bush\n",
            "Label 20 detected : George_W_Bush\n",
            "Label 21 detected : George_W_Bush\n",
            "Label 22 detected : George_W_Bush\n",
            "Label 23 detected : Colin_Powell\n",
            "Label 24 detected : George_W_Bush\n",
            "Label 25 detected : Colin_Powell\n",
            "Label 26 detected : Colin_Powell\n",
            "Label 27 detected : Tony_Blair\n",
            "Label 28 detected : George_W_Bush\n",
            "Label 29 detected : George_W_Bush\n",
            "Label 30 detected : George_W_Bush\n",
            "Label 31 detected : Colin_Powell\n",
            "Label 32 detected : Tony_Blair\n",
            "Label 33 detected : George_W_Bush\n",
            "Label 34 detected : George_W_Bush\n",
            "Label 35 detected : Gerhard_Schroeder\n",
            "Label 36 detected : Tony_Blair\n",
            "Label 37 detected : George_W_Bush\n",
            "Label 38 detected : Tony_Blair\n",
            "Label 39 detected : George_W_Bush\n",
            "Label 40 detected : Colin_Powell\n",
            "Label 41 detected : Tony_Blair\n",
            "Label 42 detected : George_W_Bush\n",
            "Label 43 detected : Gerhard_Schroeder\n",
            "Label 44 detected : George_W_Bush\n",
            "Label 45 detected : Tony_Blair\n",
            "Label 46 detected : Gerhard_Schroeder\n",
            "Label 47 detected : George_W_Bush\n",
            "Label 48 detected : Tony_Blair\n",
            "Label 49 detected : George_W_Bush\n",
            "Label 50 detected : George_W_Bush\n",
            "Label 51 detected : George_W_Bush\n",
            "Label 52 detected : George_W_Bush\n",
            "Label 53 detected : Colin_Powell\n",
            "Label 54 detected : Tony_Blair\n",
            "Label 55 detected : George_W_Bush\n",
            "Label 56 detected : George_W_Bush\n",
            "Label 57 detected : George_W_Bush\n",
            "Label 58 detected : George_W_Bush\n",
            "Label 59 detected : Colin_Powell\n",
            "Label 60 detected : George_W_Bush\n",
            "Label 61 detected : George_W_Bush\n",
            "Label 62 detected : Tony_Blair\n",
            "Label 63 detected : George_W_Bush\n",
            "Label 64 detected : Tony_Blair\n",
            "Label 65 detected : Colin_Powell\n",
            "Label 66 detected : Colin_Powell\n",
            "Label 67 detected : George_W_Bush\n",
            "Label 68 detected : George_W_Bush\n",
            "Label 69 detected : George_W_Bush\n",
            "Label 70 detected : Donald_Rumsfeld\n",
            "Label 71 detected : George_W_Bush\n",
            "Label 72 detected : George_W_Bush\n",
            "Label 73 detected : Donald_Rumsfeld\n",
            "Label 74 detected : George_W_Bush\n",
            "Label 75 detected : George_W_Bush\n",
            "Label 76 detected : George_W_Bush\n",
            "Label 77 detected : George_W_Bush\n",
            "Label 78 detected : George_W_Bush\n",
            "Label 79 detected : George_W_Bush\n",
            "Label 80 detected : Tony_Blair\n",
            "Label 81 detected : George_W_Bush\n",
            "Label 82 detected : Colin_Powell\n",
            "Label 83 detected : George_W_Bush\n",
            "Label 84 detected : George_W_Bush\n",
            "Label 85 detected : Colin_Powell\n",
            "Label 86 detected : George_W_Bush\n",
            "Label 87 detected : Gerhard_Schroeder\n",
            "Label 88 detected : Gerhard_Schroeder\n",
            "Label 89 detected : Colin_Powell\n",
            "Label 90 detected : George_W_Bush\n",
            "Label 91 detected : George_W_Bush\n",
            "Label 92 detected : George_W_Bush\n",
            "Label 93 detected : George_W_Bush\n",
            "Label 94 detected : George_W_Bush\n",
            "Label 95 detected : George_W_Bush\n",
            "Label 96 detected : George_W_Bush\n",
            "Label 97 detected : Colin_Powell\n",
            "Label 98 detected : George_W_Bush\n",
            "Label 99 detected : George_W_Bush\n",
            "Label 100 detected : George_W_Bush\n",
            "['George_W_Bush', 'George_W_Bush', 'George_W_Bush', 'Donald_Rumsfeld', 'George_W_Bush', 'Donald_Rumsfeld', 'George_W_Bush', 'George_W_Bush', 'Tony_Blair', 'George_W_Bush', 'Tony_Blair', 'Donald_Rumsfeld', 'Tony_Blair', 'Tony_Blair', 'George_W_Bush', 'Tony_Blair', 'Donald_Rumsfeld', 'Colin_Powell', 'George_W_Bush', 'George_W_Bush', 'George_W_Bush', 'George_W_Bush', 'George_W_Bush', 'Colin_Powell', 'George_W_Bush', 'Colin_Powell', 'Colin_Powell', 'Tony_Blair', 'George_W_Bush', 'George_W_Bush', 'George_W_Bush', 'Colin_Powell', 'Tony_Blair', 'George_W_Bush', 'George_W_Bush', 'Gerhard_Schroeder', 'Tony_Blair', 'George_W_Bush', 'Tony_Blair', 'George_W_Bush', 'Colin_Powell', 'Tony_Blair', 'George_W_Bush', 'Gerhard_Schroeder', 'George_W_Bush', 'Tony_Blair', 'Gerhard_Schroeder', 'George_W_Bush', 'Tony_Blair', 'George_W_Bush', 'George_W_Bush', 'George_W_Bush', 'George_W_Bush', 'Colin_Powell', 'Tony_Blair', 'George_W_Bush', 'George_W_Bush', 'George_W_Bush', 'George_W_Bush', 'Colin_Powell', 'George_W_Bush', 'George_W_Bush', 'Tony_Blair', 'George_W_Bush', 'Tony_Blair', 'Colin_Powell', 'Colin_Powell', 'George_W_Bush', 'George_W_Bush', 'George_W_Bush', 'Donald_Rumsfeld', 'George_W_Bush', 'George_W_Bush', 'Donald_Rumsfeld', 'George_W_Bush', 'George_W_Bush', 'George_W_Bush', 'George_W_Bush', 'George_W_Bush', 'George_W_Bush', 'Tony_Blair', 'George_W_Bush', 'Colin_Powell', 'George_W_Bush', 'George_W_Bush', 'Colin_Powell', 'George_W_Bush', 'Gerhard_Schroeder', 'Gerhard_Schroeder', 'Colin_Powell', 'George_W_Bush', 'George_W_Bush', 'George_W_Bush', 'George_W_Bush', 'George_W_Bush', 'George_W_Bush', 'George_W_Bush', 'Colin_Powell', 'George_W_Bush', 'George_W_Bush', 'George_W_Bush', 'George_W_Bush', 'Colin_Powell', 'George_W_Bush', 'George_W_Bush', 'George_W_Bush', 'Colin_Powell', 'George_W_Bush', 'George_W_Bush', 'George_W_Bush', 'Colin_Powell', 'Colin_Powell', 'George_W_Bush', 'Donald_Rumsfeld', 'Tony_Blair', 'George_W_Bush', 'George_W_Bush', 'Tony_Blair', 'Colin_Powell', 'George_W_Bush', 'George_W_Bush', 'George_W_Bush', 'Donald_Rumsfeld', 'Tony_Blair', 'Colin_Powell', 'George_W_Bush', 'George_W_Bush', 'Colin_Powell', 'George_W_Bush', 'Colin_Powell', 'George_W_Bush', 'George_W_Bush', 'Tony_Blair', 'George_W_Bush', 'Colin_Powell', 'Tony_Blair', 'George_W_Bush', 'Colin_Powell', 'George_W_Bush', 'George_W_Bush', 'George_W_Bush', 'Colin_Powell', 'George_W_Bush', 'George_W_Bush', 'Colin_Powell', 'George_W_Bush', 'George_W_Bush', 'George_W_Bush', 'Colin_Powell', 'George_W_Bush', 'George_W_Bush', 'George_W_Bush', 'Colin_Powell', 'Colin_Powell', 'George_W_Bush', 'Colin_Powell', 'Donald_Rumsfeld', 'George_W_Bush', 'George_W_Bush', 'Colin_Powell', 'Colin_Powell', 'Gerhard_Schroeder', 'Donald_Rumsfeld', 'Colin_Powell', 'Colin_Powell', 'George_W_Bush', 'George_W_Bush', 'Colin_Powell', 'Tony_Blair', 'Donald_Rumsfeld', 'George_W_Bush', 'Donald_Rumsfeld', 'George_W_Bush', 'Colin_Powell', 'Colin_Powell', 'Tony_Blair', 'Tony_Blair', 'George_W_Bush', 'George_W_Bush', 'Colin_Powell', 'George_W_Bush', 'Donald_Rumsfeld', 'George_W_Bush', 'Donald_Rumsfeld', 'Tony_Blair', 'Gerhard_Schroeder', 'George_W_Bush', 'George_W_Bush', 'George_W_Bush', 'George_W_Bush', 'George_W_Bush', 'George_W_Bush', 'Colin_Powell', 'Tony_Blair', 'George_W_Bush', 'George_W_Bush', 'George_W_Bush', 'Tony_Blair', 'George_W_Bush', 'George_W_Bush', 'George_W_Bush', 'George_W_Bush', 'George_W_Bush', 'George_W_Bush', 'George_W_Bush', 'Tony_Blair', 'Tony_Blair', 'Tony_Blair', 'George_W_Bush', 'George_W_Bush', 'Donald_Rumsfeld', 'George_W_Bush', 'Donald_Rumsfeld', 'George_W_Bush', 'George_W_Bush', 'Colin_Powell', 'George_W_Bush', 'Tony_Blair', 'Colin_Powell', 'George_W_Bush', 'George_W_Bush', 'Colin_Powell', 'Gerhard_Schroeder', 'Gerhard_Schroeder', 'Gerhard_Schroeder', 'George_W_Bush', 'Colin_Powell', 'George_W_Bush']\n",
            "['George_W_Bush', 'George_W_Bush', 'George_W_Bush', 'Donald_Rumsfeld', 'George_W_Bush', 'Donald_Rumsfeld', 'George_W_Bush', 'George_W_Bush', 'Tony_Blair', 'George_W_Bush', 'Tony_Blair', 'Donald_Rumsfeld', 'Tony_Blair', 'Tony_Blair', 'George_W_Bush', 'Tony_Blair', 'Donald_Rumsfeld', 'Colin_Powell', 'George_W_Bush', 'George_W_Bush', 'George_W_Bush', 'George_W_Bush', 'George_W_Bush', 'Colin_Powell', 'George_W_Bush', 'Colin_Powell', 'Colin_Powell', 'Tony_Blair', 'George_W_Bush', 'George_W_Bush', 'George_W_Bush', 'Colin_Powell', 'Tony_Blair', 'George_W_Bush', 'George_W_Bush', 'Gerhard_Schroeder', 'Tony_Blair', 'George_W_Bush', 'Tony_Blair', 'George_W_Bush', 'Colin_Powell', 'Tony_Blair', 'George_W_Bush', 'Gerhard_Schroeder', 'George_W_Bush', 'Tony_Blair', 'Gerhard_Schroeder', 'George_W_Bush', 'Tony_Blair', 'George_W_Bush', 'George_W_Bush', 'George_W_Bush', 'George_W_Bush', 'Colin_Powell', 'Tony_Blair', 'George_W_Bush', 'George_W_Bush', 'George_W_Bush', 'George_W_Bush', 'Colin_Powell', 'George_W_Bush', 'George_W_Bush', 'Tony_Blair', 'George_W_Bush', 'Tony_Blair', 'Colin_Powell', 'Colin_Powell', 'George_W_Bush', 'George_W_Bush', 'George_W_Bush', 'Donald_Rumsfeld', 'George_W_Bush', 'George_W_Bush', 'Donald_Rumsfeld', 'George_W_Bush', 'George_W_Bush', 'George_W_Bush', 'George_W_Bush', 'George_W_Bush', 'George_W_Bush', 'Tony_Blair', 'George_W_Bush', 'Colin_Powell', 'George_W_Bush', 'George_W_Bush', 'Colin_Powell', 'George_W_Bush', 'Gerhard_Schroeder', 'Gerhard_Schroeder', 'Colin_Powell', 'George_W_Bush', 'George_W_Bush', 'George_W_Bush', 'George_W_Bush', 'George_W_Bush', 'George_W_Bush', 'George_W_Bush', 'Colin_Powell', 'George_W_Bush', 'George_W_Bush', 'George_W_Bush', 'George_W_Bush', 'Colin_Powell', 'George_W_Bush', 'George_W_Bush', 'George_W_Bush', 'Colin_Powell', 'George_W_Bush', 'George_W_Bush', 'George_W_Bush', 'Colin_Powell', 'Colin_Powell', 'George_W_Bush', 'Donald_Rumsfeld', 'Tony_Blair', 'George_W_Bush', 'George_W_Bush', 'Tony_Blair', 'Colin_Powell', 'George_W_Bush', 'George_W_Bush', 'George_W_Bush', 'Donald_Rumsfeld', 'Tony_Blair', 'Colin_Powell', 'George_W_Bush', 'George_W_Bush', 'Colin_Powell', 'George_W_Bush', 'Colin_Powell', 'George_W_Bush', 'George_W_Bush', 'Tony_Blair', 'George_W_Bush', 'Colin_Powell', 'Tony_Blair', 'George_W_Bush', 'Colin_Powell', 'George_W_Bush', 'George_W_Bush', 'George_W_Bush', 'Colin_Powell', 'George_W_Bush', 'George_W_Bush', 'Colin_Powell', 'George_W_Bush', 'George_W_Bush', 'George_W_Bush', 'Colin_Powell', 'George_W_Bush', 'George_W_Bush', 'George_W_Bush', 'Colin_Powell', 'Colin_Powell', 'George_W_Bush', 'Colin_Powell', 'Donald_Rumsfeld', 'George_W_Bush', 'George_W_Bush', 'Colin_Powell', 'Colin_Powell', 'Gerhard_Schroeder', 'Donald_Rumsfeld', 'Colin_Powell', 'Colin_Powell', 'George_W_Bush', 'George_W_Bush', 'Colin_Powell', 'Tony_Blair', 'Donald_Rumsfeld', 'George_W_Bush', 'Donald_Rumsfeld', 'George_W_Bush', 'Colin_Powell', 'Colin_Powell', 'Tony_Blair', 'Tony_Blair', 'George_W_Bush', 'George_W_Bush', 'Colin_Powell', 'George_W_Bush', 'Donald_Rumsfeld', 'George_W_Bush', 'Donald_Rumsfeld', 'Tony_Blair', 'Gerhard_Schroeder', 'George_W_Bush', 'George_W_Bush', 'George_W_Bush', 'George_W_Bush', 'George_W_Bush', 'George_W_Bush', 'Colin_Powell', 'Tony_Blair', 'George_W_Bush', 'George_W_Bush', 'George_W_Bush', 'Tony_Blair', 'George_W_Bush', 'George_W_Bush', 'George_W_Bush', 'George_W_Bush', 'George_W_Bush', 'George_W_Bush', 'George_W_Bush', 'Tony_Blair', 'Tony_Blair', 'Tony_Blair', 'George_W_Bush', 'George_W_Bush', 'Donald_Rumsfeld', 'George_W_Bush', 'Donald_Rumsfeld', 'George_W_Bush', 'George_W_Bush', 'Colin_Powell', 'George_W_Bush', 'Tony_Blair', 'Colin_Powell', 'George_W_Bush', 'George_W_Bush', 'Colin_Powell', 'Gerhard_Schroeder', 'Gerhard_Schroeder', 'Gerhard_Schroeder', 'George_W_Bush', 'Colin_Powell', 'George_W_Bush']\n",
            "Accuracy: 58.33333%\n"
          ]
        }
      ]
    },
    {
      "cell_type": "code",
      "source": [
        "knn(5, combined_X_train, combined_X_test, y_test)"
      ],
      "metadata": {
        "colab": {
          "base_uri": "https://localhost:8080/"
        },
        "id": "uZda_uNdGH79",
        "outputId": "3bfba36e-6553-4fb4-b52f-aedbeb2d6bf8"
      },
      "execution_count": 66,
      "outputs": [
        {
          "output_type": "stream",
          "name": "stdout",
          "text": [
            "Label 0 detected : George_W_Bush\n",
            "Label 1 detected : George_W_Bush\n",
            "Label 2 detected : George_W_Bush\n",
            "Label 3 detected : Donald_Rumsfeld\n",
            "Label 4 detected : George_W_Bush\n",
            "Label 5 detected : Donald_Rumsfeld\n",
            "Label 6 detected : George_W_Bush\n",
            "Label 7 detected : George_W_Bush\n",
            "Label 8 detected : Tony_Blair\n",
            "Label 9 detected : George_W_Bush\n",
            "Label 10 detected : Tony_Blair\n",
            "Label 11 detected : Donald_Rumsfeld\n",
            "Label 12 detected : Tony_Blair\n",
            "Label 13 detected : George_W_Bush\n",
            "Label 14 detected : George_W_Bush\n",
            "Label 15 detected : Tony_Blair\n",
            "Label 16 detected : Donald_Rumsfeld\n",
            "Label 17 detected : Colin_Powell\n",
            "Label 18 detected : George_W_Bush\n",
            "Label 19 detected : George_W_Bush\n",
            "Label 20 detected : George_W_Bush\n",
            "Label 21 detected : George_W_Bush\n",
            "Label 22 detected : George_W_Bush\n",
            "Label 23 detected : Colin_Powell\n",
            "Label 24 detected : George_W_Bush\n",
            "Label 25 detected : Colin_Powell\n",
            "Label 26 detected : Colin_Powell\n",
            "Label 27 detected : Tony_Blair\n",
            "Label 28 detected : George_W_Bush\n",
            "Label 29 detected : George_W_Bush\n",
            "Label 30 detected : George_W_Bush\n",
            "Label 31 detected : Colin_Powell\n",
            "Label 32 detected : Tony_Blair\n",
            "Label 33 detected : George_W_Bush\n",
            "Label 34 detected : George_W_Bush\n",
            "Label 35 detected : Gerhard_Schroeder\n",
            "Label 36 detected : Tony_Blair\n",
            "Label 37 detected : George_W_Bush\n",
            "Label 38 detected : Tony_Blair\n",
            "Label 39 detected : George_W_Bush\n",
            "Label 40 detected : Colin_Powell\n",
            "Label 41 detected : Tony_Blair\n",
            "Label 42 detected : George_W_Bush\n",
            "Label 43 detected : Gerhard_Schroeder\n",
            "Label 44 detected : George_W_Bush\n",
            "Label 45 detected : Tony_Blair\n",
            "Label 46 detected : Gerhard_Schroeder\n",
            "Label 47 detected : George_W_Bush\n",
            "Label 48 detected : Tony_Blair\n",
            "Label 49 detected : George_W_Bush\n",
            "Label 50 detected : George_W_Bush\n",
            "Label 51 detected : George_W_Bush\n",
            "Label 52 detected : George_W_Bush\n",
            "Label 53 detected : Colin_Powell\n",
            "Label 54 detected : Tony_Blair\n",
            "Label 55 detected : George_W_Bush\n",
            "Label 56 detected : George_W_Bush\n",
            "Label 57 detected : George_W_Bush\n",
            "Label 58 detected : George_W_Bush\n",
            "Label 59 detected : Colin_Powell\n",
            "Label 60 detected : George_W_Bush\n",
            "Label 61 detected : George_W_Bush\n",
            "Label 62 detected : Tony_Blair\n",
            "Label 63 detected : George_W_Bush\n",
            "Label 64 detected : Tony_Blair\n",
            "Label 65 detected : Colin_Powell\n",
            "Label 66 detected : Colin_Powell\n",
            "Label 67 detected : George_W_Bush\n",
            "Label 68 detected : George_W_Bush\n",
            "Label 69 detected : George_W_Bush\n",
            "Label 70 detected : Donald_Rumsfeld\n",
            "Label 71 detected : George_W_Bush\n",
            "Label 72 detected : George_W_Bush\n",
            "Label 73 detected : Colin_Powell\n",
            "Label 74 detected : George_W_Bush\n",
            "Label 75 detected : George_W_Bush\n",
            "Label 76 detected : George_W_Bush\n",
            "Label 77 detected : George_W_Bush\n",
            "Label 78 detected : George_W_Bush\n",
            "Label 79 detected : George_W_Bush\n",
            "Label 80 detected : Tony_Blair\n",
            "Label 81 detected : George_W_Bush\n",
            "Label 82 detected : Colin_Powell\n",
            "Label 83 detected : George_W_Bush\n",
            "Label 84 detected : George_W_Bush\n",
            "Label 85 detected : Colin_Powell\n",
            "Label 86 detected : George_W_Bush\n",
            "Label 87 detected : Gerhard_Schroeder\n",
            "Label 88 detected : Gerhard_Schroeder\n",
            "Label 89 detected : Colin_Powell\n",
            "Label 90 detected : George_W_Bush\n",
            "Label 91 detected : George_W_Bush\n",
            "Label 92 detected : George_W_Bush\n",
            "Label 93 detected : George_W_Bush\n",
            "Label 94 detected : George_W_Bush\n",
            "Label 95 detected : George_W_Bush\n",
            "Label 96 detected : George_W_Bush\n",
            "Label 97 detected : Colin_Powell\n",
            "Label 98 detected : George_W_Bush\n",
            "Label 99 detected : George_W_Bush\n",
            "Label 100 detected : George_W_Bush\n",
            "['George_W_Bush', 'George_W_Bush', 'George_W_Bush', 'Donald_Rumsfeld', 'George_W_Bush', 'Donald_Rumsfeld', 'George_W_Bush', 'George_W_Bush', 'Tony_Blair', 'George_W_Bush', 'Tony_Blair', 'Donald_Rumsfeld', 'Tony_Blair', 'George_W_Bush', 'George_W_Bush', 'Tony_Blair', 'Donald_Rumsfeld', 'Colin_Powell', 'George_W_Bush', 'George_W_Bush', 'George_W_Bush', 'George_W_Bush', 'George_W_Bush', 'Colin_Powell', 'George_W_Bush', 'Colin_Powell', 'Colin_Powell', 'Tony_Blair', 'George_W_Bush', 'George_W_Bush', 'George_W_Bush', 'Colin_Powell', 'Tony_Blair', 'George_W_Bush', 'George_W_Bush', 'Gerhard_Schroeder', 'Tony_Blair', 'George_W_Bush', 'Tony_Blair', 'George_W_Bush', 'Colin_Powell', 'Tony_Blair', 'George_W_Bush', 'Gerhard_Schroeder', 'George_W_Bush', 'Tony_Blair', 'Gerhard_Schroeder', 'George_W_Bush', 'Tony_Blair', 'George_W_Bush', 'George_W_Bush', 'George_W_Bush', 'George_W_Bush', 'Colin_Powell', 'Tony_Blair', 'George_W_Bush', 'George_W_Bush', 'George_W_Bush', 'George_W_Bush', 'Colin_Powell', 'George_W_Bush', 'George_W_Bush', 'Tony_Blair', 'George_W_Bush', 'Tony_Blair', 'Colin_Powell', 'Colin_Powell', 'George_W_Bush', 'George_W_Bush', 'George_W_Bush', 'Donald_Rumsfeld', 'George_W_Bush', 'George_W_Bush', 'Colin_Powell', 'George_W_Bush', 'George_W_Bush', 'George_W_Bush', 'George_W_Bush', 'George_W_Bush', 'George_W_Bush', 'Tony_Blair', 'George_W_Bush', 'Colin_Powell', 'George_W_Bush', 'George_W_Bush', 'Colin_Powell', 'George_W_Bush', 'Gerhard_Schroeder', 'Gerhard_Schroeder', 'Colin_Powell', 'George_W_Bush', 'George_W_Bush', 'George_W_Bush', 'George_W_Bush', 'George_W_Bush', 'George_W_Bush', 'George_W_Bush', 'Colin_Powell', 'George_W_Bush', 'George_W_Bush', 'George_W_Bush', 'George_W_Bush', 'Colin_Powell', 'George_W_Bush', 'George_W_Bush', 'George_W_Bush', 'Colin_Powell', 'George_W_Bush', 'George_W_Bush', 'George_W_Bush', 'Colin_Powell', 'Colin_Powell', 'George_W_Bush', 'Donald_Rumsfeld', 'Tony_Blair', 'George_W_Bush', 'George_W_Bush', 'Tony_Blair', 'Colin_Powell', 'George_W_Bush', 'George_W_Bush', 'George_W_Bush', 'Donald_Rumsfeld', 'Tony_Blair', 'George_W_Bush', 'George_W_Bush', 'George_W_Bush', 'Colin_Powell', 'George_W_Bush', 'Colin_Powell', 'George_W_Bush', 'George_W_Bush', 'Colin_Powell', 'George_W_Bush', 'Colin_Powell', 'Tony_Blair', 'George_W_Bush', 'Colin_Powell', 'George_W_Bush', 'George_W_Bush', 'George_W_Bush', 'Colin_Powell', 'George_W_Bush', 'George_W_Bush', 'Colin_Powell', 'George_W_Bush', 'George_W_Bush', 'George_W_Bush', 'Colin_Powell', 'George_W_Bush', 'George_W_Bush', 'George_W_Bush', 'Colin_Powell', 'Colin_Powell', 'George_W_Bush', 'Colin_Powell', 'Donald_Rumsfeld', 'George_W_Bush', 'George_W_Bush', 'Colin_Powell', 'Colin_Powell', 'Gerhard_Schroeder', 'Donald_Rumsfeld', 'Colin_Powell', 'Colin_Powell', 'Tony_Blair', 'George_W_Bush', 'Colin_Powell', 'George_W_Bush', 'Donald_Rumsfeld', 'George_W_Bush', 'Donald_Rumsfeld', 'George_W_Bush', 'Colin_Powell', 'Colin_Powell', 'Tony_Blair', 'Tony_Blair', 'George_W_Bush', 'George_W_Bush', 'Colin_Powell', 'George_W_Bush', 'Donald_Rumsfeld', 'George_W_Bush', 'Donald_Rumsfeld', 'Tony_Blair', 'Gerhard_Schroeder', 'George_W_Bush', 'George_W_Bush', 'George_W_Bush', 'George_W_Bush', 'George_W_Bush', 'George_W_Bush', 'Gerhard_Schroeder', 'Tony_Blair', 'George_W_Bush', 'George_W_Bush', 'George_W_Bush', 'Tony_Blair', 'George_W_Bush', 'George_W_Bush', 'George_W_Bush', 'George_W_Bush', 'George_W_Bush', 'George_W_Bush', 'George_W_Bush', 'Tony_Blair', 'Tony_Blair', 'Tony_Blair', 'George_W_Bush', 'George_W_Bush', 'Donald_Rumsfeld', 'George_W_Bush', 'Donald_Rumsfeld', 'George_W_Bush', 'George_W_Bush', 'Colin_Powell', 'George_W_Bush', 'Tony_Blair', 'Colin_Powell', 'George_W_Bush', 'George_W_Bush', 'Colin_Powell', 'Gerhard_Schroeder', 'Gerhard_Schroeder', 'Gerhard_Schroeder', 'George_W_Bush', 'Colin_Powell', 'George_W_Bush']\n",
            "['George_W_Bush', 'George_W_Bush', 'George_W_Bush', 'Donald_Rumsfeld', 'George_W_Bush', 'Donald_Rumsfeld', 'George_W_Bush', 'George_W_Bush', 'Tony_Blair', 'George_W_Bush', 'Tony_Blair', 'Donald_Rumsfeld', 'Tony_Blair', 'George_W_Bush', 'George_W_Bush', 'Tony_Blair', 'Donald_Rumsfeld', 'Colin_Powell', 'George_W_Bush', 'George_W_Bush', 'George_W_Bush', 'George_W_Bush', 'George_W_Bush', 'Colin_Powell', 'George_W_Bush', 'Colin_Powell', 'Colin_Powell', 'Tony_Blair', 'George_W_Bush', 'George_W_Bush', 'George_W_Bush', 'Colin_Powell', 'Tony_Blair', 'George_W_Bush', 'George_W_Bush', 'Gerhard_Schroeder', 'Tony_Blair', 'George_W_Bush', 'Tony_Blair', 'George_W_Bush', 'Colin_Powell', 'Tony_Blair', 'George_W_Bush', 'Gerhard_Schroeder', 'George_W_Bush', 'Tony_Blair', 'Gerhard_Schroeder', 'George_W_Bush', 'Tony_Blair', 'George_W_Bush', 'George_W_Bush', 'George_W_Bush', 'George_W_Bush', 'Colin_Powell', 'Tony_Blair', 'George_W_Bush', 'George_W_Bush', 'George_W_Bush', 'George_W_Bush', 'Colin_Powell', 'George_W_Bush', 'George_W_Bush', 'Tony_Blair', 'George_W_Bush', 'Tony_Blair', 'Colin_Powell', 'Colin_Powell', 'George_W_Bush', 'George_W_Bush', 'George_W_Bush', 'Donald_Rumsfeld', 'George_W_Bush', 'George_W_Bush', 'Colin_Powell', 'George_W_Bush', 'George_W_Bush', 'George_W_Bush', 'George_W_Bush', 'George_W_Bush', 'George_W_Bush', 'Tony_Blair', 'George_W_Bush', 'Colin_Powell', 'George_W_Bush', 'George_W_Bush', 'Colin_Powell', 'George_W_Bush', 'Gerhard_Schroeder', 'Gerhard_Schroeder', 'Colin_Powell', 'George_W_Bush', 'George_W_Bush', 'George_W_Bush', 'George_W_Bush', 'George_W_Bush', 'George_W_Bush', 'George_W_Bush', 'Colin_Powell', 'George_W_Bush', 'George_W_Bush', 'George_W_Bush', 'George_W_Bush', 'Colin_Powell', 'George_W_Bush', 'George_W_Bush', 'George_W_Bush', 'Colin_Powell', 'George_W_Bush', 'George_W_Bush', 'George_W_Bush', 'Colin_Powell', 'Colin_Powell', 'George_W_Bush', 'Donald_Rumsfeld', 'Tony_Blair', 'George_W_Bush', 'George_W_Bush', 'Tony_Blair', 'Colin_Powell', 'George_W_Bush', 'George_W_Bush', 'George_W_Bush', 'Donald_Rumsfeld', 'Tony_Blair', 'George_W_Bush', 'George_W_Bush', 'George_W_Bush', 'Colin_Powell', 'George_W_Bush', 'Colin_Powell', 'George_W_Bush', 'George_W_Bush', 'Colin_Powell', 'George_W_Bush', 'Colin_Powell', 'Tony_Blair', 'George_W_Bush', 'Colin_Powell', 'George_W_Bush', 'George_W_Bush', 'George_W_Bush', 'Colin_Powell', 'George_W_Bush', 'George_W_Bush', 'Colin_Powell', 'George_W_Bush', 'George_W_Bush', 'George_W_Bush', 'Colin_Powell', 'George_W_Bush', 'George_W_Bush', 'George_W_Bush', 'Colin_Powell', 'Colin_Powell', 'George_W_Bush', 'Colin_Powell', 'Donald_Rumsfeld', 'George_W_Bush', 'George_W_Bush', 'Colin_Powell', 'Colin_Powell', 'Gerhard_Schroeder', 'Donald_Rumsfeld', 'Colin_Powell', 'Colin_Powell', 'Tony_Blair', 'George_W_Bush', 'Colin_Powell', 'George_W_Bush', 'Donald_Rumsfeld', 'George_W_Bush', 'Donald_Rumsfeld', 'George_W_Bush', 'Colin_Powell', 'Colin_Powell', 'Tony_Blair', 'Tony_Blair', 'George_W_Bush', 'George_W_Bush', 'Colin_Powell', 'George_W_Bush', 'Donald_Rumsfeld', 'George_W_Bush', 'Donald_Rumsfeld', 'Tony_Blair', 'Gerhard_Schroeder', 'George_W_Bush', 'George_W_Bush', 'George_W_Bush', 'George_W_Bush', 'George_W_Bush', 'George_W_Bush', 'Gerhard_Schroeder', 'Tony_Blair', 'George_W_Bush', 'George_W_Bush', 'George_W_Bush', 'Tony_Blair', 'George_W_Bush', 'George_W_Bush', 'George_W_Bush', 'George_W_Bush', 'George_W_Bush', 'George_W_Bush', 'George_W_Bush', 'Tony_Blair', 'Tony_Blair', 'Tony_Blair', 'George_W_Bush', 'George_W_Bush', 'Donald_Rumsfeld', 'George_W_Bush', 'Donald_Rumsfeld', 'George_W_Bush', 'George_W_Bush', 'Colin_Powell', 'George_W_Bush', 'Tony_Blair', 'Colin_Powell', 'George_W_Bush', 'George_W_Bush', 'Colin_Powell', 'Gerhard_Schroeder', 'Gerhard_Schroeder', 'Gerhard_Schroeder', 'George_W_Bush', 'Colin_Powell', 'George_W_Bush']\n",
            "Accuracy: 60.08772%\n"
          ]
        }
      ]
    },
    {
      "cell_type": "markdown",
      "source": [
        "# Applying LDA"
      ],
      "metadata": {
        "id": "Auske-YMHtzM"
      }
    },
    {
      "cell_type": "code",
      "source": [
        "from sklearn.discriminant_analysis import LinearDiscriminantAnalysis as LDA\n",
        "\n",
        "# Apply LDA with at most (number of classes - 1) components\n",
        "lda = LDA(n_components=min(500, len(set(y_train)) - 1))\n",
        "\n",
        "X_train_lda = lda.fit_transform(combined_X_train, y_train)\n",
        "X_test_lda = lda.transform(combined_X_test)\n",
        "\n",
        "print(X_train_lda.shape)\n",
        "print(X_test_lda.shape)"
      ],
      "metadata": {
        "colab": {
          "base_uri": "https://localhost:8080/"
        },
        "id": "5B8U4hwdHvlU",
        "outputId": "57709a91-bfb2-4c3a-dab3-cb8ce6326b4c"
      },
      "execution_count": 68,
      "outputs": [
        {
          "output_type": "stream",
          "name": "stdout",
          "text": [
            "(912, 4)\n",
            "(228, 4)\n"
          ]
        }
      ]
    },
    {
      "cell_type": "code",
      "source": [
        "knn(5, X_train_lda, X_test_lda, y_test)"
      ],
      "metadata": {
        "colab": {
          "base_uri": "https://localhost:8080/"
        },
        "id": "-yK1LPbzI9wy",
        "outputId": "0fca6c05-fa3f-4577-a846-2841c723b99e"
      },
      "execution_count": 69,
      "outputs": [
        {
          "output_type": "stream",
          "name": "stdout",
          "text": [
            "Label 0 detected : George_W_Bush\n",
            "Label 1 detected : Tony_Blair\n",
            "Label 2 detected : George_W_Bush\n",
            "Label 3 detected : Donald_Rumsfeld\n",
            "Label 4 detected : George_W_Bush\n",
            "Label 5 detected : George_W_Bush\n",
            "Label 6 detected : Gerhard_Schroeder\n",
            "Label 7 detected : Colin_Powell\n",
            "Label 8 detected : Tony_Blair\n",
            "Label 9 detected : George_W_Bush\n",
            "Label 10 detected : Colin_Powell\n",
            "Label 11 detected : Colin_Powell\n",
            "Label 12 detected : Gerhard_Schroeder\n",
            "Label 13 detected : George_W_Bush\n",
            "Label 14 detected : Donald_Rumsfeld\n",
            "Label 15 detected : George_W_Bush\n",
            "Label 16 detected : George_W_Bush\n",
            "Label 17 detected : Tony_Blair\n",
            "Label 18 detected : George_W_Bush\n",
            "Label 19 detected : George_W_Bush\n",
            "Label 20 detected : George_W_Bush\n",
            "Label 21 detected : Donald_Rumsfeld\n",
            "Label 22 detected : George_W_Bush\n",
            "Label 23 detected : Colin_Powell\n",
            "Label 24 detected : George_W_Bush\n",
            "Label 25 detected : Colin_Powell\n",
            "Label 26 detected : George_W_Bush\n",
            "Label 27 detected : George_W_Bush\n",
            "Label 28 detected : Gerhard_Schroeder\n",
            "Label 29 detected : George_W_Bush\n",
            "Label 30 detected : George_W_Bush\n",
            "Label 31 detected : Colin_Powell\n",
            "Label 32 detected : George_W_Bush\n",
            "Label 33 detected : Tony_Blair\n",
            "Label 34 detected : Donald_Rumsfeld\n",
            "Label 35 detected : Donald_Rumsfeld\n",
            "Label 36 detected : Tony_Blair\n",
            "Label 37 detected : George_W_Bush\n",
            "Label 38 detected : Tony_Blair\n",
            "Label 39 detected : George_W_Bush\n",
            "Label 40 detected : Gerhard_Schroeder\n",
            "Label 41 detected : Donald_Rumsfeld\n",
            "Label 42 detected : George_W_Bush\n",
            "Label 43 detected : Gerhard_Schroeder\n",
            "Label 44 detected : George_W_Bush\n",
            "Label 45 detected : Tony_Blair\n",
            "Label 46 detected : Gerhard_Schroeder\n",
            "Label 47 detected : Donald_Rumsfeld\n",
            "Label 48 detected : Donald_Rumsfeld\n",
            "Label 49 detected : George_W_Bush\n",
            "Label 50 detected : George_W_Bush\n",
            "Label 51 detected : George_W_Bush\n",
            "Label 52 detected : George_W_Bush\n",
            "Label 53 detected : Colin_Powell\n",
            "Label 54 detected : George_W_Bush\n",
            "Label 55 detected : George_W_Bush\n",
            "Label 56 detected : George_W_Bush\n",
            "Label 57 detected : Colin_Powell\n",
            "Label 58 detected : George_W_Bush\n",
            "Label 59 detected : Colin_Powell\n",
            "Label 60 detected : Tony_Blair\n",
            "Label 61 detected : George_W_Bush\n",
            "Label 62 detected : George_W_Bush\n",
            "Label 63 detected : George_W_Bush\n",
            "Label 64 detected : George_W_Bush\n",
            "Label 65 detected : George_W_Bush\n",
            "Label 66 detected : Colin_Powell\n",
            "Label 67 detected : Tony_Blair\n",
            "Label 68 detected : Donald_Rumsfeld\n",
            "Label 69 detected : Donald_Rumsfeld\n",
            "Label 70 detected : George_W_Bush\n",
            "Label 71 detected : George_W_Bush\n",
            "Label 72 detected : Colin_Powell\n",
            "Label 73 detected : Colin_Powell\n",
            "Label 74 detected : George_W_Bush\n",
            "Label 75 detected : George_W_Bush\n",
            "Label 76 detected : Tony_Blair\n",
            "Label 77 detected : George_W_Bush\n",
            "Label 78 detected : George_W_Bush\n",
            "Label 79 detected : Donald_Rumsfeld\n",
            "Label 80 detected : George_W_Bush\n",
            "Label 81 detected : George_W_Bush\n",
            "Label 82 detected : Gerhard_Schroeder\n",
            "Label 83 detected : George_W_Bush\n",
            "Label 84 detected : George_W_Bush\n",
            "Label 85 detected : Colin_Powell\n",
            "Label 86 detected : George_W_Bush\n",
            "Label 87 detected : Gerhard_Schroeder\n",
            "Label 88 detected : Gerhard_Schroeder\n",
            "Label 89 detected : Colin_Powell\n",
            "Label 90 detected : Colin_Powell\n",
            "Label 91 detected : George_W_Bush\n",
            "Label 92 detected : Gerhard_Schroeder\n",
            "Label 93 detected : George_W_Bush\n",
            "Label 94 detected : Gerhard_Schroeder\n",
            "Label 95 detected : George_W_Bush\n",
            "Label 96 detected : George_W_Bush\n",
            "Label 97 detected : Colin_Powell\n",
            "Label 98 detected : George_W_Bush\n",
            "Label 99 detected : George_W_Bush\n",
            "Label 100 detected : Colin_Powell\n",
            "['George_W_Bush', 'Tony_Blair', 'George_W_Bush', 'Donald_Rumsfeld', 'George_W_Bush', 'George_W_Bush', 'Gerhard_Schroeder', 'Colin_Powell', 'Tony_Blair', 'George_W_Bush', 'Colin_Powell', 'Colin_Powell', 'Gerhard_Schroeder', 'George_W_Bush', 'Donald_Rumsfeld', 'George_W_Bush', 'George_W_Bush', 'Tony_Blair', 'George_W_Bush', 'George_W_Bush', 'George_W_Bush', 'Donald_Rumsfeld', 'George_W_Bush', 'Colin_Powell', 'George_W_Bush', 'Colin_Powell', 'George_W_Bush', 'George_W_Bush', 'Gerhard_Schroeder', 'George_W_Bush', 'George_W_Bush', 'Colin_Powell', 'George_W_Bush', 'Tony_Blair', 'Donald_Rumsfeld', 'Donald_Rumsfeld', 'Tony_Blair', 'George_W_Bush', 'Tony_Blair', 'George_W_Bush', 'Gerhard_Schroeder', 'Donald_Rumsfeld', 'George_W_Bush', 'Gerhard_Schroeder', 'George_W_Bush', 'Tony_Blair', 'Gerhard_Schroeder', 'Donald_Rumsfeld', 'Donald_Rumsfeld', 'George_W_Bush', 'George_W_Bush', 'George_W_Bush', 'George_W_Bush', 'Colin_Powell', 'George_W_Bush', 'George_W_Bush', 'George_W_Bush', 'Colin_Powell', 'George_W_Bush', 'Colin_Powell', 'Tony_Blair', 'George_W_Bush', 'George_W_Bush', 'George_W_Bush', 'George_W_Bush', 'George_W_Bush', 'Colin_Powell', 'Tony_Blair', 'Donald_Rumsfeld', 'Donald_Rumsfeld', 'George_W_Bush', 'George_W_Bush', 'Colin_Powell', 'Colin_Powell', 'George_W_Bush', 'George_W_Bush', 'Tony_Blair', 'George_W_Bush', 'George_W_Bush', 'Donald_Rumsfeld', 'George_W_Bush', 'George_W_Bush', 'Gerhard_Schroeder', 'George_W_Bush', 'George_W_Bush', 'Colin_Powell', 'George_W_Bush', 'Gerhard_Schroeder', 'Gerhard_Schroeder', 'Colin_Powell', 'Colin_Powell', 'George_W_Bush', 'Gerhard_Schroeder', 'George_W_Bush', 'Gerhard_Schroeder', 'George_W_Bush', 'George_W_Bush', 'Colin_Powell', 'George_W_Bush', 'George_W_Bush', 'Colin_Powell', 'Colin_Powell', 'Colin_Powell', 'Gerhard_Schroeder', 'George_W_Bush', 'Tony_Blair', 'George_W_Bush', 'George_W_Bush', 'George_W_Bush', 'George_W_Bush', 'Donald_Rumsfeld', 'Colin_Powell', 'George_W_Bush', 'Donald_Rumsfeld', 'Tony_Blair', 'George_W_Bush', 'Colin_Powell', 'Colin_Powell', 'Colin_Powell', 'George_W_Bush', 'George_W_Bush', 'George_W_Bush', 'Colin_Powell', 'Tony_Blair', 'George_W_Bush', 'Tony_Blair', 'Tony_Blair', 'Colin_Powell', 'Tony_Blair', 'Colin_Powell', 'George_W_Bush', 'George_W_Bush', 'Colin_Powell', 'Donald_Rumsfeld', 'George_W_Bush', 'Tony_Blair', 'George_W_Bush', 'Colin_Powell', 'George_W_Bush', 'George_W_Bush', 'George_W_Bush', 'George_W_Bush', 'Donald_Rumsfeld', 'Colin_Powell', 'George_W_Bush', 'Tony_Blair', 'George_W_Bush', 'George_W_Bush', 'Colin_Powell', 'George_W_Bush', 'George_W_Bush', 'George_W_Bush', 'Colin_Powell', 'Colin_Powell', 'George_W_Bush', 'George_W_Bush', 'Donald_Rumsfeld', 'George_W_Bush', 'Colin_Powell', 'Colin_Powell', 'Tony_Blair', 'Colin_Powell', 'George_W_Bush', 'George_W_Bush', 'Colin_Powell', 'Colin_Powell', 'George_W_Bush', 'George_W_Bush', 'George_W_Bush', 'Donald_Rumsfeld', 'George_W_Bush', 'Colin_Powell', 'George_W_Bush', 'Colin_Powell', 'Colin_Powell', 'George_W_Bush', 'George_W_Bush', 'George_W_Bush', 'Tony_Blair', 'Colin_Powell', 'Tony_Blair', 'George_W_Bush', 'Colin_Powell', 'Colin_Powell', 'Tony_Blair', 'George_W_Bush', 'Donald_Rumsfeld', 'George_W_Bush', 'George_W_Bush', 'Tony_Blair', 'George_W_Bush', 'Donald_Rumsfeld', 'George_W_Bush', 'Tony_Blair', 'George_W_Bush', 'George_W_Bush', 'George_W_Bush', 'George_W_Bush', 'George_W_Bush', 'George_W_Bush', 'Colin_Powell', 'George_W_Bush', 'George_W_Bush', 'Tony_Blair', 'George_W_Bush', 'Tony_Blair', 'George_W_Bush', 'George_W_Bush', 'Donald_Rumsfeld', 'Tony_Blair', 'Donald_Rumsfeld', 'Tony_Blair', 'George_W_Bush', 'George_W_Bush', 'Tony_Blair', 'Colin_Powell', 'George_W_Bush', 'George_W_Bush', 'George_W_Bush', 'George_W_Bush', 'George_W_Bush', 'George_W_Bush', 'Gerhard_Schroeder', 'Tony_Blair', 'Gerhard_Schroeder', 'George_W_Bush', 'Gerhard_Schroeder', 'George_W_Bush']\n",
            "['George_W_Bush', 'Tony_Blair', 'George_W_Bush', 'Donald_Rumsfeld', 'George_W_Bush', 'George_W_Bush', 'Gerhard_Schroeder', 'Colin_Powell', 'Tony_Blair', 'George_W_Bush', 'Colin_Powell', 'Colin_Powell', 'Gerhard_Schroeder', 'George_W_Bush', 'Donald_Rumsfeld', 'George_W_Bush', 'George_W_Bush', 'Tony_Blair', 'George_W_Bush', 'George_W_Bush', 'George_W_Bush', 'Donald_Rumsfeld', 'George_W_Bush', 'Colin_Powell', 'George_W_Bush', 'Colin_Powell', 'George_W_Bush', 'George_W_Bush', 'Gerhard_Schroeder', 'George_W_Bush', 'George_W_Bush', 'Colin_Powell', 'George_W_Bush', 'Tony_Blair', 'Donald_Rumsfeld', 'Donald_Rumsfeld', 'Tony_Blair', 'George_W_Bush', 'Tony_Blair', 'George_W_Bush', 'Gerhard_Schroeder', 'Donald_Rumsfeld', 'George_W_Bush', 'Gerhard_Schroeder', 'George_W_Bush', 'Tony_Blair', 'Gerhard_Schroeder', 'Donald_Rumsfeld', 'Donald_Rumsfeld', 'George_W_Bush', 'George_W_Bush', 'George_W_Bush', 'George_W_Bush', 'Colin_Powell', 'George_W_Bush', 'George_W_Bush', 'George_W_Bush', 'Colin_Powell', 'George_W_Bush', 'Colin_Powell', 'Tony_Blair', 'George_W_Bush', 'George_W_Bush', 'George_W_Bush', 'George_W_Bush', 'George_W_Bush', 'Colin_Powell', 'Tony_Blair', 'Donald_Rumsfeld', 'Donald_Rumsfeld', 'George_W_Bush', 'George_W_Bush', 'Colin_Powell', 'Colin_Powell', 'George_W_Bush', 'George_W_Bush', 'Tony_Blair', 'George_W_Bush', 'George_W_Bush', 'Donald_Rumsfeld', 'George_W_Bush', 'George_W_Bush', 'Gerhard_Schroeder', 'George_W_Bush', 'George_W_Bush', 'Colin_Powell', 'George_W_Bush', 'Gerhard_Schroeder', 'Gerhard_Schroeder', 'Colin_Powell', 'Colin_Powell', 'George_W_Bush', 'Gerhard_Schroeder', 'George_W_Bush', 'Gerhard_Schroeder', 'George_W_Bush', 'George_W_Bush', 'Colin_Powell', 'George_W_Bush', 'George_W_Bush', 'Colin_Powell', 'Colin_Powell', 'Colin_Powell', 'Gerhard_Schroeder', 'George_W_Bush', 'Tony_Blair', 'George_W_Bush', 'George_W_Bush', 'George_W_Bush', 'George_W_Bush', 'Donald_Rumsfeld', 'Colin_Powell', 'George_W_Bush', 'Donald_Rumsfeld', 'Tony_Blair', 'George_W_Bush', 'Colin_Powell', 'Colin_Powell', 'Colin_Powell', 'George_W_Bush', 'George_W_Bush', 'George_W_Bush', 'Colin_Powell', 'Tony_Blair', 'George_W_Bush', 'Tony_Blair', 'Tony_Blair', 'Colin_Powell', 'Tony_Blair', 'Colin_Powell', 'George_W_Bush', 'George_W_Bush', 'Colin_Powell', 'Donald_Rumsfeld', 'George_W_Bush', 'Tony_Blair', 'George_W_Bush', 'Colin_Powell', 'George_W_Bush', 'George_W_Bush', 'George_W_Bush', 'George_W_Bush', 'Donald_Rumsfeld', 'Colin_Powell', 'George_W_Bush', 'Tony_Blair', 'George_W_Bush', 'George_W_Bush', 'Colin_Powell', 'George_W_Bush', 'George_W_Bush', 'George_W_Bush', 'Colin_Powell', 'Colin_Powell', 'George_W_Bush', 'George_W_Bush', 'Donald_Rumsfeld', 'George_W_Bush', 'Colin_Powell', 'Colin_Powell', 'Tony_Blair', 'Colin_Powell', 'George_W_Bush', 'George_W_Bush', 'Colin_Powell', 'Colin_Powell', 'George_W_Bush', 'George_W_Bush', 'George_W_Bush', 'Donald_Rumsfeld', 'George_W_Bush', 'Colin_Powell', 'George_W_Bush', 'Colin_Powell', 'Colin_Powell', 'George_W_Bush', 'George_W_Bush', 'George_W_Bush', 'Tony_Blair', 'Colin_Powell', 'Tony_Blair', 'George_W_Bush', 'Colin_Powell', 'Colin_Powell', 'Tony_Blair', 'George_W_Bush', 'Donald_Rumsfeld', 'George_W_Bush', 'George_W_Bush', 'Tony_Blair', 'George_W_Bush', 'Donald_Rumsfeld', 'George_W_Bush', 'Tony_Blair', 'George_W_Bush', 'George_W_Bush', 'George_W_Bush', 'George_W_Bush', 'George_W_Bush', 'George_W_Bush', 'Colin_Powell', 'George_W_Bush', 'George_W_Bush', 'Tony_Blair', 'George_W_Bush', 'Tony_Blair', 'George_W_Bush', 'George_W_Bush', 'Donald_Rumsfeld', 'Tony_Blair', 'Donald_Rumsfeld', 'Tony_Blair', 'George_W_Bush', 'George_W_Bush', 'Tony_Blair', 'Colin_Powell', 'George_W_Bush', 'George_W_Bush', 'George_W_Bush', 'George_W_Bush', 'George_W_Bush', 'George_W_Bush', 'Gerhard_Schroeder', 'Tony_Blair', 'Gerhard_Schroeder', 'George_W_Bush', 'Gerhard_Schroeder', 'George_W_Bush']\n",
            "Accuracy: 81.14035%\n"
          ]
        }
      ]
    }
  ]
}