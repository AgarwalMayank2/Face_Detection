{
  "nbformat": 4,
  "nbformat_minor": 0,
  "metadata": {
    "colab": {
      "provenance": [],
      "collapsed_sections": [
        "L_9GgieIJlTd"
      ],
      "authorship_tag": "ABX9TyOuNvWMA6XKKIgwOy5Gd4XJ",
      "include_colab_link": true
    },
    "kernelspec": {
      "name": "python3",
      "display_name": "Python 3"
    },
    "language_info": {
      "name": "python"
    }
  },
  "cells": [
    {
      "cell_type": "markdown",
      "metadata": {
        "id": "view-in-github",
        "colab_type": "text"
      },
      "source": [
        "<a href=\"https://colab.research.google.com/github/AgarwalMayank2/Face_Detection/blob/main/applying_ML_algorithms/KNN_PRMLproj.ipynb\" target=\"_parent\"><img src=\"https://colab.research.google.com/assets/colab-badge.svg\" alt=\"Open In Colab\"/></a>"
      ]
    },
    {
      "cell_type": "markdown",
      "source": [
        "# Importing libraries"
      ],
      "metadata": {
        "id": "VluHYP4O7ya-"
      }
    },
    {
      "cell_type": "code",
      "execution_count": 2,
      "metadata": {
        "id": "s9r-dpHDIufI"
      },
      "outputs": [],
      "source": [
        "import pandas as pd\n",
        "from sklearn.model_selection import train_test_split\n",
        "from sklearn.preprocessing import LabelEncoder, StandardScaler"
      ]
    },
    {
      "cell_type": "markdown",
      "metadata": {
        "id": "1vd_jfouKV5K"
      },
      "source": [
        "# KNN Model"
      ]
    },
    {
      "cell_type": "code",
      "execution_count": 3,
      "metadata": {
        "id": "pNanG4XBJx-q"
      },
      "outputs": [],
      "source": [
        "import numpy as np\n",
        "import math"
      ]
    },
    {
      "cell_type": "code",
      "execution_count": 4,
      "metadata": {
        "id": "2sYnoEgFKlA5"
      },
      "outputs": [],
      "source": [
        "def euclidean_dist(x,y):\n",
        "  # x1,y1,z1=x\n",
        "  # x2,y2,z2=y\n",
        "  return math.sqrt(sum([(a-b)**2 for a,b in zip(x,y)]))"
      ]
    },
    {
      "cell_type": "code",
      "execution_count": 5,
      "metadata": {
        "id": "MPcW1M_GOpjH"
      },
      "outputs": [],
      "source": [
        "from collections import Counter"
      ]
    },
    {
      "cell_type": "code",
      "source": [
        "def knn(k, X_train, X_test, y_test):\n",
        "  predictions=[]\n",
        "  for i in range(X_test.shape[0]):\n",
        "    distances=[]\n",
        "    nearest_labels=[]\n",
        "    for j in range(X_train.shape[0]):\n",
        "      # append the pair (distance, index) to distances\n",
        "      dist=euclidean_dist(X_test[i], X_train[j])\n",
        "      distances.append((dist, j))\n",
        "    # sorting distances on the basis of first item of pair i.e. distance\n",
        "    distances.sort(key=lambda x:x[0])\n",
        "    for k1 in range(min(k, len(distances))):  # Ensure k does not exceed available distances\n",
        "      nearest_labels.append(y_train[distances[k1][1]])\n",
        "\n",
        "    label_counts = Counter(nearest_labels)\n",
        "    most_common_label = label_counts.most_common(1)[0][0] if nearest_labels else -1\n",
        "\n",
        "    predictions.append(label_encoder.inverse_transform([most_common_label])[0])\n",
        "\n",
        "    if (i<=100 and i%10==0) or i==200:\n",
        "      print(f'Label {i} detected : {predictions[i]}')\n",
        "\n",
        "  accuracy = findAccuracy(predictions, y_test)\n",
        "  return predictions, accuracy"
      ],
      "metadata": {
        "id": "DnHVFCDXL8Qc"
      },
      "execution_count": 63,
      "outputs": []
    },
    {
      "cell_type": "code",
      "source": [
        "def findAccuracy(predictions, y_test):\n",
        "  count=0\n",
        "  print(predictions)\n",
        "  # print(y_test)\n",
        "  for i in range(len(predictions)):\n",
        "    if predictions[i]==label_encoder.inverse_transform([y_test[i]])[0]:\n",
        "      count+=1\n",
        "\n",
        "  accuracy = count/len(predictions)\n",
        "  return accuracy*100"
      ],
      "metadata": {
        "id": "-nK2cWpxJsz3"
      },
      "execution_count": 64,
      "outputs": []
    },
    {
      "cell_type": "markdown",
      "metadata": {
        "id": "6_aCtTzCZ36W"
      },
      "source": [
        "# Reading and Filtering Filtered CNN features"
      ]
    },
    {
      "cell_type": "code",
      "execution_count": 8,
      "metadata": {
        "id": "OgLogzTLI2UA",
        "colab": {
          "base_uri": "https://localhost:8080/"
        },
        "outputId": "fb3e6568-82c7-4a40-c446-8bad456acf0a"
      },
      "outputs": [
        {
          "output_type": "execute_result",
          "data": {
            "text/plain": [
              "(4324, 2050)"
            ]
          },
          "metadata": {},
          "execution_count": 8
        }
      ],
      "source": [
        "url_filtered_CNN_features_dataset = 'https://raw.githubusercontent.com/AgarwalMayank2/Face_Detection/refs/heads/main/processed_dataset/filtered_CNN_features_dataset.csv' #for CNN limited\n",
        "df = pd.read_csv(url_filtered_CNN_features_dataset) # reading url for extracted CNN_features_dataset_limited.csv\n",
        "df.shape"
      ]
    },
    {
      "cell_type": "code",
      "source": [
        "label_counts = df['2048'].value_counts()\n",
        "valid_labels = label_counts[label_counts >= 80].index\n",
        "filtered_df_cnn = df[df['2048'].isin(valid_labels)]\n",
        "filtered_df_cnn.drop('Unnamed: 0', axis=1, inplace=True)\n",
        "filtered_df_cnn.head()"
      ],
      "metadata": {
        "id": "mfBOHr069Kdh",
        "colab": {
          "base_uri": "https://localhost:8080/",
          "height": 342
        },
        "outputId": "0ed7c3f4-1f45-47b0-d08d-aab8b8fc5189"
      },
      "execution_count": 9,
      "outputs": [
        {
          "output_type": "stream",
          "name": "stderr",
          "text": [
            "<ipython-input-9-ee670fc6a4bf>:4: SettingWithCopyWarning: \n",
            "A value is trying to be set on a copy of a slice from a DataFrame\n",
            "\n",
            "See the caveats in the documentation: https://pandas.pydata.org/pandas-docs/stable/user_guide/indexing.html#returning-a-view-versus-a-copy\n",
            "  filtered_df_cnn.drop('Unnamed: 0', axis=1, inplace=True)\n"
          ]
        },
        {
          "output_type": "execute_result",
          "data": {
            "text/plain": [
              "            0         1         2         3  ...      2045      2046      2047             2048\n",
              "207  0.334396  1.031447  0.751403  0.061664  ...  0.147620  0.132144  0.061259  Donald_Rumsfeld\n",
              "208  0.052159  1.385429  0.948584  0.242452  ...  0.187171  0.037343  0.192220  Donald_Rumsfeld\n",
              "209  0.215924  1.243201  1.040831  0.082872  ...  0.345520  0.009288  0.176782  Donald_Rumsfeld\n",
              "210  0.273529  1.568788  1.131568  0.069734  ...  0.046060  0.031623  0.141197  Donald_Rumsfeld\n",
              "211  0.209844  1.102461  0.380182  0.109593  ...  0.023190  0.141059  0.058093  Donald_Rumsfeld\n",
              "\n",
              "[5 rows x 2049 columns]"
            ],
            "text/html": [
              "\n",
              "  <div id=\"df-d9c68479-a79a-4d7d-915c-163e0bf1b779\" class=\"colab-df-container\">\n",
              "    <div>\n",
              "<style scoped>\n",
              "    .dataframe tbody tr th:only-of-type {\n",
              "        vertical-align: middle;\n",
              "    }\n",
              "\n",
              "    .dataframe tbody tr th {\n",
              "        vertical-align: top;\n",
              "    }\n",
              "\n",
              "    .dataframe thead th {\n",
              "        text-align: right;\n",
              "    }\n",
              "</style>\n",
              "<table border=\"1\" class=\"dataframe\">\n",
              "  <thead>\n",
              "    <tr style=\"text-align: right;\">\n",
              "      <th></th>\n",
              "      <th>0</th>\n",
              "      <th>1</th>\n",
              "      <th>2</th>\n",
              "      <th>3</th>\n",
              "      <th>4</th>\n",
              "      <th>5</th>\n",
              "      <th>6</th>\n",
              "      <th>7</th>\n",
              "      <th>8</th>\n",
              "      <th>9</th>\n",
              "      <th>10</th>\n",
              "      <th>11</th>\n",
              "      <th>12</th>\n",
              "      <th>13</th>\n",
              "      <th>14</th>\n",
              "      <th>15</th>\n",
              "      <th>16</th>\n",
              "      <th>17</th>\n",
              "      <th>18</th>\n",
              "      <th>19</th>\n",
              "      <th>20</th>\n",
              "      <th>21</th>\n",
              "      <th>22</th>\n",
              "      <th>23</th>\n",
              "      <th>24</th>\n",
              "      <th>25</th>\n",
              "      <th>26</th>\n",
              "      <th>27</th>\n",
              "      <th>28</th>\n",
              "      <th>29</th>\n",
              "      <th>30</th>\n",
              "      <th>31</th>\n",
              "      <th>32</th>\n",
              "      <th>33</th>\n",
              "      <th>34</th>\n",
              "      <th>35</th>\n",
              "      <th>36</th>\n",
              "      <th>37</th>\n",
              "      <th>38</th>\n",
              "      <th>39</th>\n",
              "      <th>40</th>\n",
              "      <th>41</th>\n",
              "      <th>42</th>\n",
              "      <th>43</th>\n",
              "      <th>44</th>\n",
              "      <th>45</th>\n",
              "      <th>46</th>\n",
              "      <th>47</th>\n",
              "      <th>48</th>\n",
              "      <th>49</th>\n",
              "      <th>...</th>\n",
              "      <th>1999</th>\n",
              "      <th>2000</th>\n",
              "      <th>2001</th>\n",
              "      <th>2002</th>\n",
              "      <th>2003</th>\n",
              "      <th>2004</th>\n",
              "      <th>2005</th>\n",
              "      <th>2006</th>\n",
              "      <th>2007</th>\n",
              "      <th>2008</th>\n",
              "      <th>2009</th>\n",
              "      <th>2010</th>\n",
              "      <th>2011</th>\n",
              "      <th>2012</th>\n",
              "      <th>2013</th>\n",
              "      <th>2014</th>\n",
              "      <th>2015</th>\n",
              "      <th>2016</th>\n",
              "      <th>2017</th>\n",
              "      <th>2018</th>\n",
              "      <th>2019</th>\n",
              "      <th>2020</th>\n",
              "      <th>2021</th>\n",
              "      <th>2022</th>\n",
              "      <th>2023</th>\n",
              "      <th>2024</th>\n",
              "      <th>2025</th>\n",
              "      <th>2026</th>\n",
              "      <th>2027</th>\n",
              "      <th>2028</th>\n",
              "      <th>2029</th>\n",
              "      <th>2030</th>\n",
              "      <th>2031</th>\n",
              "      <th>2032</th>\n",
              "      <th>2033</th>\n",
              "      <th>2034</th>\n",
              "      <th>2035</th>\n",
              "      <th>2036</th>\n",
              "      <th>2037</th>\n",
              "      <th>2038</th>\n",
              "      <th>2039</th>\n",
              "      <th>2040</th>\n",
              "      <th>2041</th>\n",
              "      <th>2042</th>\n",
              "      <th>2043</th>\n",
              "      <th>2044</th>\n",
              "      <th>2045</th>\n",
              "      <th>2046</th>\n",
              "      <th>2047</th>\n",
              "      <th>2048</th>\n",
              "    </tr>\n",
              "  </thead>\n",
              "  <tbody>\n",
              "    <tr>\n",
              "      <th>207</th>\n",
              "      <td>0.334396</td>\n",
              "      <td>1.031447</td>\n",
              "      <td>0.751403</td>\n",
              "      <td>0.061664</td>\n",
              "      <td>1.358539</td>\n",
              "      <td>0.131194</td>\n",
              "      <td>2.189165</td>\n",
              "      <td>0.168872</td>\n",
              "      <td>0.077561</td>\n",
              "      <td>0.128026</td>\n",
              "      <td>0.183989</td>\n",
              "      <td>0.538582</td>\n",
              "      <td>0.101362</td>\n",
              "      <td>1.070623</td>\n",
              "      <td>1.274965</td>\n",
              "      <td>0.787965</td>\n",
              "      <td>1.010745</td>\n",
              "      <td>0.132910</td>\n",
              "      <td>0.028314</td>\n",
              "      <td>0.232709</td>\n",
              "      <td>0.125170</td>\n",
              "      <td>0.105015</td>\n",
              "      <td>0.464956</td>\n",
              "      <td>0.589406</td>\n",
              "      <td>0.245979</td>\n",
              "      <td>0.153097</td>\n",
              "      <td>0.682273</td>\n",
              "      <td>0.122172</td>\n",
              "      <td>0.666718</td>\n",
              "      <td>0.247453</td>\n",
              "      <td>0.008064</td>\n",
              "      <td>0.236150</td>\n",
              "      <td>0.472303</td>\n",
              "      <td>0.800596</td>\n",
              "      <td>0.308289</td>\n",
              "      <td>0.239711</td>\n",
              "      <td>0.476891</td>\n",
              "      <td>0.304502</td>\n",
              "      <td>0.680071</td>\n",
              "      <td>0.037881</td>\n",
              "      <td>0.757090</td>\n",
              "      <td>0.265668</td>\n",
              "      <td>0.062931</td>\n",
              "      <td>0.220174</td>\n",
              "      <td>0.270265</td>\n",
              "      <td>0.331900</td>\n",
              "      <td>0.522528</td>\n",
              "      <td>0.491509</td>\n",
              "      <td>0.038696</td>\n",
              "      <td>1.318256</td>\n",
              "      <td>...</td>\n",
              "      <td>0.112970</td>\n",
              "      <td>0.056320</td>\n",
              "      <td>0.082865</td>\n",
              "      <td>0.028923</td>\n",
              "      <td>0.209435</td>\n",
              "      <td>0.269742</td>\n",
              "      <td>0.005409</td>\n",
              "      <td>0.408730</td>\n",
              "      <td>0.123543</td>\n",
              "      <td>0.327678</td>\n",
              "      <td>1.284034</td>\n",
              "      <td>0.853707</td>\n",
              "      <td>0.804634</td>\n",
              "      <td>1.210236</td>\n",
              "      <td>0.327396</td>\n",
              "      <td>0.373742</td>\n",
              "      <td>0.089335</td>\n",
              "      <td>0.367123</td>\n",
              "      <td>0.925686</td>\n",
              "      <td>4.466197</td>\n",
              "      <td>0.013423</td>\n",
              "      <td>0.135680</td>\n",
              "      <td>0.016924</td>\n",
              "      <td>0.244878</td>\n",
              "      <td>0.039128</td>\n",
              "      <td>0.109210</td>\n",
              "      <td>0.607092</td>\n",
              "      <td>0.891468</td>\n",
              "      <td>0.262277</td>\n",
              "      <td>0.172887</td>\n",
              "      <td>0.159232</td>\n",
              "      <td>0.100507</td>\n",
              "      <td>0.027761</td>\n",
              "      <td>0.074810</td>\n",
              "      <td>0.167721</td>\n",
              "      <td>0.441469</td>\n",
              "      <td>0.068923</td>\n",
              "      <td>0.259991</td>\n",
              "      <td>0.056991</td>\n",
              "      <td>0.383078</td>\n",
              "      <td>0.238129</td>\n",
              "      <td>0.033446</td>\n",
              "      <td>0.691363</td>\n",
              "      <td>1.453779</td>\n",
              "      <td>0.023197</td>\n",
              "      <td>1.180975</td>\n",
              "      <td>0.147620</td>\n",
              "      <td>0.132144</td>\n",
              "      <td>0.061259</td>\n",
              "      <td>Donald_Rumsfeld</td>\n",
              "    </tr>\n",
              "    <tr>\n",
              "      <th>208</th>\n",
              "      <td>0.052159</td>\n",
              "      <td>1.385429</td>\n",
              "      <td>0.948584</td>\n",
              "      <td>0.242452</td>\n",
              "      <td>0.765526</td>\n",
              "      <td>0.205163</td>\n",
              "      <td>2.773744</td>\n",
              "      <td>0.487321</td>\n",
              "      <td>0.375770</td>\n",
              "      <td>0.297134</td>\n",
              "      <td>0.254478</td>\n",
              "      <td>0.268817</td>\n",
              "      <td>0.226023</td>\n",
              "      <td>0.755306</td>\n",
              "      <td>1.571226</td>\n",
              "      <td>0.634896</td>\n",
              "      <td>0.817997</td>\n",
              "      <td>0.279519</td>\n",
              "      <td>0.030687</td>\n",
              "      <td>0.638580</td>\n",
              "      <td>0.174374</td>\n",
              "      <td>0.192283</td>\n",
              "      <td>0.085247</td>\n",
              "      <td>0.038912</td>\n",
              "      <td>0.096299</td>\n",
              "      <td>0.230478</td>\n",
              "      <td>1.051941</td>\n",
              "      <td>0.557886</td>\n",
              "      <td>0.487828</td>\n",
              "      <td>0.096042</td>\n",
              "      <td>0.013753</td>\n",
              "      <td>0.253503</td>\n",
              "      <td>0.575466</td>\n",
              "      <td>0.742829</td>\n",
              "      <td>0.895683</td>\n",
              "      <td>0.090171</td>\n",
              "      <td>0.859928</td>\n",
              "      <td>0.090771</td>\n",
              "      <td>0.406033</td>\n",
              "      <td>0.007923</td>\n",
              "      <td>0.734094</td>\n",
              "      <td>0.281045</td>\n",
              "      <td>0.079760</td>\n",
              "      <td>0.306069</td>\n",
              "      <td>0.139493</td>\n",
              "      <td>0.093931</td>\n",
              "      <td>0.173692</td>\n",
              "      <td>0.798374</td>\n",
              "      <td>0.122333</td>\n",
              "      <td>0.540524</td>\n",
              "      <td>...</td>\n",
              "      <td>0.045386</td>\n",
              "      <td>0.086372</td>\n",
              "      <td>0.488368</td>\n",
              "      <td>0.045875</td>\n",
              "      <td>0.103680</td>\n",
              "      <td>0.922695</td>\n",
              "      <td>0.170794</td>\n",
              "      <td>0.367679</td>\n",
              "      <td>0.065409</td>\n",
              "      <td>0.188405</td>\n",
              "      <td>0.422431</td>\n",
              "      <td>1.099042</td>\n",
              "      <td>0.659823</td>\n",
              "      <td>1.011939</td>\n",
              "      <td>0.216857</td>\n",
              "      <td>0.493250</td>\n",
              "      <td>0.097184</td>\n",
              "      <td>0.119635</td>\n",
              "      <td>0.462243</td>\n",
              "      <td>2.912949</td>\n",
              "      <td>0.236338</td>\n",
              "      <td>0.237484</td>\n",
              "      <td>0.141670</td>\n",
              "      <td>0.035104</td>\n",
              "      <td>0.284068</td>\n",
              "      <td>0.123931</td>\n",
              "      <td>0.417244</td>\n",
              "      <td>0.408527</td>\n",
              "      <td>0.257193</td>\n",
              "      <td>0.160546</td>\n",
              "      <td>0.292699</td>\n",
              "      <td>0.385621</td>\n",
              "      <td>0.485847</td>\n",
              "      <td>0.118369</td>\n",
              "      <td>0.537141</td>\n",
              "      <td>0.401974</td>\n",
              "      <td>0.234668</td>\n",
              "      <td>0.328464</td>\n",
              "      <td>0.012105</td>\n",
              "      <td>0.509841</td>\n",
              "      <td>0.151970</td>\n",
              "      <td>0.030394</td>\n",
              "      <td>0.931749</td>\n",
              "      <td>1.507545</td>\n",
              "      <td>0.074761</td>\n",
              "      <td>1.410434</td>\n",
              "      <td>0.187171</td>\n",
              "      <td>0.037343</td>\n",
              "      <td>0.192220</td>\n",
              "      <td>Donald_Rumsfeld</td>\n",
              "    </tr>\n",
              "    <tr>\n",
              "      <th>209</th>\n",
              "      <td>0.215924</td>\n",
              "      <td>1.243201</td>\n",
              "      <td>1.040831</td>\n",
              "      <td>0.082872</td>\n",
              "      <td>0.996569</td>\n",
              "      <td>0.093324</td>\n",
              "      <td>3.699462</td>\n",
              "      <td>0.166822</td>\n",
              "      <td>0.085976</td>\n",
              "      <td>0.420676</td>\n",
              "      <td>0.743072</td>\n",
              "      <td>0.594263</td>\n",
              "      <td>0.322835</td>\n",
              "      <td>0.709497</td>\n",
              "      <td>1.102945</td>\n",
              "      <td>0.320867</td>\n",
              "      <td>0.884347</td>\n",
              "      <td>0.566730</td>\n",
              "      <td>0.000000</td>\n",
              "      <td>0.289763</td>\n",
              "      <td>0.127146</td>\n",
              "      <td>0.087026</td>\n",
              "      <td>0.343736</td>\n",
              "      <td>0.235992</td>\n",
              "      <td>0.022421</td>\n",
              "      <td>0.324048</td>\n",
              "      <td>0.569728</td>\n",
              "      <td>0.145811</td>\n",
              "      <td>1.424425</td>\n",
              "      <td>0.256161</td>\n",
              "      <td>0.058473</td>\n",
              "      <td>0.704165</td>\n",
              "      <td>0.387318</td>\n",
              "      <td>0.732642</td>\n",
              "      <td>0.286128</td>\n",
              "      <td>0.588900</td>\n",
              "      <td>0.114140</td>\n",
              "      <td>0.491552</td>\n",
              "      <td>0.665335</td>\n",
              "      <td>0.043467</td>\n",
              "      <td>0.519100</td>\n",
              "      <td>1.306838</td>\n",
              "      <td>0.157735</td>\n",
              "      <td>0.139541</td>\n",
              "      <td>0.202527</td>\n",
              "      <td>0.586414</td>\n",
              "      <td>0.195795</td>\n",
              "      <td>1.026655</td>\n",
              "      <td>0.029231</td>\n",
              "      <td>1.132063</td>\n",
              "      <td>...</td>\n",
              "      <td>0.091276</td>\n",
              "      <td>0.104907</td>\n",
              "      <td>0.461138</td>\n",
              "      <td>0.281048</td>\n",
              "      <td>0.192890</td>\n",
              "      <td>0.213128</td>\n",
              "      <td>0.099762</td>\n",
              "      <td>0.345900</td>\n",
              "      <td>0.447771</td>\n",
              "      <td>0.189232</td>\n",
              "      <td>1.449099</td>\n",
              "      <td>0.357289</td>\n",
              "      <td>0.778549</td>\n",
              "      <td>2.066705</td>\n",
              "      <td>0.517479</td>\n",
              "      <td>0.227441</td>\n",
              "      <td>0.147518</td>\n",
              "      <td>0.255494</td>\n",
              "      <td>1.600174</td>\n",
              "      <td>3.875662</td>\n",
              "      <td>0.007723</td>\n",
              "      <td>0.066497</td>\n",
              "      <td>0.231190</td>\n",
              "      <td>0.465194</td>\n",
              "      <td>0.154737</td>\n",
              "      <td>0.076969</td>\n",
              "      <td>1.172616</td>\n",
              "      <td>0.964553</td>\n",
              "      <td>0.397674</td>\n",
              "      <td>0.171304</td>\n",
              "      <td>0.182417</td>\n",
              "      <td>0.955412</td>\n",
              "      <td>0.343841</td>\n",
              "      <td>0.146380</td>\n",
              "      <td>0.652763</td>\n",
              "      <td>2.213488</td>\n",
              "      <td>0.377401</td>\n",
              "      <td>0.239819</td>\n",
              "      <td>0.121612</td>\n",
              "      <td>0.207383</td>\n",
              "      <td>0.280522</td>\n",
              "      <td>0.046874</td>\n",
              "      <td>0.933633</td>\n",
              "      <td>1.932075</td>\n",
              "      <td>0.076832</td>\n",
              "      <td>1.779623</td>\n",
              "      <td>0.345520</td>\n",
              "      <td>0.009288</td>\n",
              "      <td>0.176782</td>\n",
              "      <td>Donald_Rumsfeld</td>\n",
              "    </tr>\n",
              "    <tr>\n",
              "      <th>210</th>\n",
              "      <td>0.273529</td>\n",
              "      <td>1.568788</td>\n",
              "      <td>1.131568</td>\n",
              "      <td>0.069734</td>\n",
              "      <td>1.060217</td>\n",
              "      <td>0.003534</td>\n",
              "      <td>3.313872</td>\n",
              "      <td>0.470634</td>\n",
              "      <td>0.280771</td>\n",
              "      <td>0.550614</td>\n",
              "      <td>0.262875</td>\n",
              "      <td>0.203978</td>\n",
              "      <td>0.048359</td>\n",
              "      <td>0.683967</td>\n",
              "      <td>1.463157</td>\n",
              "      <td>0.409798</td>\n",
              "      <td>0.093417</td>\n",
              "      <td>0.014698</td>\n",
              "      <td>0.007150</td>\n",
              "      <td>0.033282</td>\n",
              "      <td>0.343952</td>\n",
              "      <td>0.047161</td>\n",
              "      <td>0.375896</td>\n",
              "      <td>0.512190</td>\n",
              "      <td>0.050570</td>\n",
              "      <td>0.142738</td>\n",
              "      <td>0.438233</td>\n",
              "      <td>0.136246</td>\n",
              "      <td>0.490448</td>\n",
              "      <td>0.306854</td>\n",
              "      <td>0.073924</td>\n",
              "      <td>0.337281</td>\n",
              "      <td>0.558025</td>\n",
              "      <td>0.466077</td>\n",
              "      <td>0.365227</td>\n",
              "      <td>0.380679</td>\n",
              "      <td>0.501479</td>\n",
              "      <td>0.459256</td>\n",
              "      <td>0.593401</td>\n",
              "      <td>0.165174</td>\n",
              "      <td>0.578679</td>\n",
              "      <td>0.190065</td>\n",
              "      <td>0.084886</td>\n",
              "      <td>0.027726</td>\n",
              "      <td>0.094829</td>\n",
              "      <td>0.125089</td>\n",
              "      <td>0.542136</td>\n",
              "      <td>0.634845</td>\n",
              "      <td>0.105904</td>\n",
              "      <td>1.298495</td>\n",
              "      <td>...</td>\n",
              "      <td>0.104201</td>\n",
              "      <td>0.047140</td>\n",
              "      <td>0.356027</td>\n",
              "      <td>0.056475</td>\n",
              "      <td>0.413982</td>\n",
              "      <td>0.104343</td>\n",
              "      <td>0.099540</td>\n",
              "      <td>0.150833</td>\n",
              "      <td>0.175534</td>\n",
              "      <td>0.201969</td>\n",
              "      <td>1.577922</td>\n",
              "      <td>0.516723</td>\n",
              "      <td>0.885130</td>\n",
              "      <td>0.936657</td>\n",
              "      <td>0.417312</td>\n",
              "      <td>0.317837</td>\n",
              "      <td>0.043798</td>\n",
              "      <td>0.405229</td>\n",
              "      <td>1.113544</td>\n",
              "      <td>4.088609</td>\n",
              "      <td>0.000829</td>\n",
              "      <td>0.175648</td>\n",
              "      <td>0.122848</td>\n",
              "      <td>0.101090</td>\n",
              "      <td>0.030845</td>\n",
              "      <td>0.169748</td>\n",
              "      <td>0.373309</td>\n",
              "      <td>0.369156</td>\n",
              "      <td>0.120333</td>\n",
              "      <td>0.111474</td>\n",
              "      <td>0.022102</td>\n",
              "      <td>0.631690</td>\n",
              "      <td>0.022785</td>\n",
              "      <td>0.033291</td>\n",
              "      <td>0.589543</td>\n",
              "      <td>0.904901</td>\n",
              "      <td>0.076007</td>\n",
              "      <td>0.020517</td>\n",
              "      <td>0.040802</td>\n",
              "      <td>0.564273</td>\n",
              "      <td>0.392776</td>\n",
              "      <td>0.303419</td>\n",
              "      <td>0.718607</td>\n",
              "      <td>1.815761</td>\n",
              "      <td>0.034294</td>\n",
              "      <td>1.519493</td>\n",
              "      <td>0.046060</td>\n",
              "      <td>0.031623</td>\n",
              "      <td>0.141197</td>\n",
              "      <td>Donald_Rumsfeld</td>\n",
              "    </tr>\n",
              "    <tr>\n",
              "      <th>211</th>\n",
              "      <td>0.209844</td>\n",
              "      <td>1.102461</td>\n",
              "      <td>0.380182</td>\n",
              "      <td>0.109593</td>\n",
              "      <td>0.713786</td>\n",
              "      <td>0.054662</td>\n",
              "      <td>2.087155</td>\n",
              "      <td>0.206262</td>\n",
              "      <td>0.103134</td>\n",
              "      <td>0.152454</td>\n",
              "      <td>0.544870</td>\n",
              "      <td>0.384297</td>\n",
              "      <td>0.107711</td>\n",
              "      <td>0.495701</td>\n",
              "      <td>0.925893</td>\n",
              "      <td>0.130184</td>\n",
              "      <td>0.572360</td>\n",
              "      <td>0.002464</td>\n",
              "      <td>0.044079</td>\n",
              "      <td>0.260112</td>\n",
              "      <td>0.115030</td>\n",
              "      <td>0.035327</td>\n",
              "      <td>0.236488</td>\n",
              "      <td>0.369316</td>\n",
              "      <td>0.175367</td>\n",
              "      <td>0.241396</td>\n",
              "      <td>0.473532</td>\n",
              "      <td>0.023199</td>\n",
              "      <td>0.265580</td>\n",
              "      <td>0.193958</td>\n",
              "      <td>0.008591</td>\n",
              "      <td>0.420873</td>\n",
              "      <td>0.538016</td>\n",
              "      <td>0.471454</td>\n",
              "      <td>0.551168</td>\n",
              "      <td>0.074625</td>\n",
              "      <td>0.074648</td>\n",
              "      <td>0.213925</td>\n",
              "      <td>0.398623</td>\n",
              "      <td>0.051314</td>\n",
              "      <td>0.521675</td>\n",
              "      <td>0.073174</td>\n",
              "      <td>0.109710</td>\n",
              "      <td>0.229176</td>\n",
              "      <td>0.091655</td>\n",
              "      <td>0.191976</td>\n",
              "      <td>0.285846</td>\n",
              "      <td>0.229178</td>\n",
              "      <td>0.039637</td>\n",
              "      <td>0.379845</td>\n",
              "      <td>...</td>\n",
              "      <td>0.022282</td>\n",
              "      <td>0.146601</td>\n",
              "      <td>0.260160</td>\n",
              "      <td>0.033758</td>\n",
              "      <td>0.215550</td>\n",
              "      <td>0.158741</td>\n",
              "      <td>0.046117</td>\n",
              "      <td>0.401809</td>\n",
              "      <td>0.110448</td>\n",
              "      <td>0.179984</td>\n",
              "      <td>1.289523</td>\n",
              "      <td>0.159809</td>\n",
              "      <td>0.633244</td>\n",
              "      <td>0.986827</td>\n",
              "      <td>0.295658</td>\n",
              "      <td>0.305419</td>\n",
              "      <td>0.039048</td>\n",
              "      <td>0.318410</td>\n",
              "      <td>0.784917</td>\n",
              "      <td>4.214817</td>\n",
              "      <td>0.001992</td>\n",
              "      <td>0.134677</td>\n",
              "      <td>0.020395</td>\n",
              "      <td>0.070364</td>\n",
              "      <td>0.094344</td>\n",
              "      <td>0.105027</td>\n",
              "      <td>0.647883</td>\n",
              "      <td>0.192270</td>\n",
              "      <td>0.117715</td>\n",
              "      <td>0.045679</td>\n",
              "      <td>0.026649</td>\n",
              "      <td>0.205789</td>\n",
              "      <td>0.025363</td>\n",
              "      <td>0.011193</td>\n",
              "      <td>0.601532</td>\n",
              "      <td>0.840772</td>\n",
              "      <td>0.025184</td>\n",
              "      <td>0.197661</td>\n",
              "      <td>0.002461</td>\n",
              "      <td>0.298249</td>\n",
              "      <td>0.100046</td>\n",
              "      <td>0.225041</td>\n",
              "      <td>0.373597</td>\n",
              "      <td>0.834548</td>\n",
              "      <td>0.102522</td>\n",
              "      <td>0.784862</td>\n",
              "      <td>0.023190</td>\n",
              "      <td>0.141059</td>\n",
              "      <td>0.058093</td>\n",
              "      <td>Donald_Rumsfeld</td>\n",
              "    </tr>\n",
              "  </tbody>\n",
              "</table>\n",
              "<p>5 rows × 2049 columns</p>\n",
              "</div>\n",
              "    <div class=\"colab-df-buttons\">\n",
              "\n",
              "  <div class=\"colab-df-container\">\n",
              "    <button class=\"colab-df-convert\" onclick=\"convertToInteractive('df-d9c68479-a79a-4d7d-915c-163e0bf1b779')\"\n",
              "            title=\"Convert this dataframe to an interactive table.\"\n",
              "            style=\"display:none;\">\n",
              "\n",
              "  <svg xmlns=\"http://www.w3.org/2000/svg\" height=\"24px\" viewBox=\"0 -960 960 960\">\n",
              "    <path d=\"M120-120v-720h720v720H120Zm60-500h600v-160H180v160Zm220 220h160v-160H400v160Zm0 220h160v-160H400v160ZM180-400h160v-160H180v160Zm440 0h160v-160H620v160ZM180-180h160v-160H180v160Zm440 0h160v-160H620v160Z\"/>\n",
              "  </svg>\n",
              "    </button>\n",
              "\n",
              "  <style>\n",
              "    .colab-df-container {\n",
              "      display:flex;\n",
              "      gap: 12px;\n",
              "    }\n",
              "\n",
              "    .colab-df-convert {\n",
              "      background-color: #E8F0FE;\n",
              "      border: none;\n",
              "      border-radius: 50%;\n",
              "      cursor: pointer;\n",
              "      display: none;\n",
              "      fill: #1967D2;\n",
              "      height: 32px;\n",
              "      padding: 0 0 0 0;\n",
              "      width: 32px;\n",
              "    }\n",
              "\n",
              "    .colab-df-convert:hover {\n",
              "      background-color: #E2EBFA;\n",
              "      box-shadow: 0px 1px 2px rgba(60, 64, 67, 0.3), 0px 1px 3px 1px rgba(60, 64, 67, 0.15);\n",
              "      fill: #174EA6;\n",
              "    }\n",
              "\n",
              "    .colab-df-buttons div {\n",
              "      margin-bottom: 4px;\n",
              "    }\n",
              "\n",
              "    [theme=dark] .colab-df-convert {\n",
              "      background-color: #3B4455;\n",
              "      fill: #D2E3FC;\n",
              "    }\n",
              "\n",
              "    [theme=dark] .colab-df-convert:hover {\n",
              "      background-color: #434B5C;\n",
              "      box-shadow: 0px 1px 3px 1px rgba(0, 0, 0, 0.15);\n",
              "      filter: drop-shadow(0px 1px 2px rgba(0, 0, 0, 0.3));\n",
              "      fill: #FFFFFF;\n",
              "    }\n",
              "  </style>\n",
              "\n",
              "    <script>\n",
              "      const buttonEl =\n",
              "        document.querySelector('#df-d9c68479-a79a-4d7d-915c-163e0bf1b779 button.colab-df-convert');\n",
              "      buttonEl.style.display =\n",
              "        google.colab.kernel.accessAllowed ? 'block' : 'none';\n",
              "\n",
              "      async function convertToInteractive(key) {\n",
              "        const element = document.querySelector('#df-d9c68479-a79a-4d7d-915c-163e0bf1b779');\n",
              "        const dataTable =\n",
              "          await google.colab.kernel.invokeFunction('convertToInteractive',\n",
              "                                                    [key], {});\n",
              "        if (!dataTable) return;\n",
              "\n",
              "        const docLinkHtml = 'Like what you see? Visit the ' +\n",
              "          '<a target=\"_blank\" href=https://colab.research.google.com/notebooks/data_table.ipynb>data table notebook</a>'\n",
              "          + ' to learn more about interactive tables.';\n",
              "        element.innerHTML = '';\n",
              "        dataTable['output_type'] = 'display_data';\n",
              "        await google.colab.output.renderOutput(dataTable, element);\n",
              "        const docLink = document.createElement('div');\n",
              "        docLink.innerHTML = docLinkHtml;\n",
              "        element.appendChild(docLink);\n",
              "      }\n",
              "    </script>\n",
              "  </div>\n",
              "\n",
              "\n",
              "<div id=\"df-63619255-7958-4774-81c1-e6ea6029a7ec\">\n",
              "  <button class=\"colab-df-quickchart\" onclick=\"quickchart('df-63619255-7958-4774-81c1-e6ea6029a7ec')\"\n",
              "            title=\"Suggest charts\"\n",
              "            style=\"display:none;\">\n",
              "\n",
              "<svg xmlns=\"http://www.w3.org/2000/svg\" height=\"24px\"viewBox=\"0 0 24 24\"\n",
              "     width=\"24px\">\n",
              "    <g>\n",
              "        <path d=\"M19 3H5c-1.1 0-2 .9-2 2v14c0 1.1.9 2 2 2h14c1.1 0 2-.9 2-2V5c0-1.1-.9-2-2-2zM9 17H7v-7h2v7zm4 0h-2V7h2v10zm4 0h-2v-4h2v4z\"/>\n",
              "    </g>\n",
              "</svg>\n",
              "  </button>\n",
              "\n",
              "<style>\n",
              "  .colab-df-quickchart {\n",
              "      --bg-color: #E8F0FE;\n",
              "      --fill-color: #1967D2;\n",
              "      --hover-bg-color: #E2EBFA;\n",
              "      --hover-fill-color: #174EA6;\n",
              "      --disabled-fill-color: #AAA;\n",
              "      --disabled-bg-color: #DDD;\n",
              "  }\n",
              "\n",
              "  [theme=dark] .colab-df-quickchart {\n",
              "      --bg-color: #3B4455;\n",
              "      --fill-color: #D2E3FC;\n",
              "      --hover-bg-color: #434B5C;\n",
              "      --hover-fill-color: #FFFFFF;\n",
              "      --disabled-bg-color: #3B4455;\n",
              "      --disabled-fill-color: #666;\n",
              "  }\n",
              "\n",
              "  .colab-df-quickchart {\n",
              "    background-color: var(--bg-color);\n",
              "    border: none;\n",
              "    border-radius: 50%;\n",
              "    cursor: pointer;\n",
              "    display: none;\n",
              "    fill: var(--fill-color);\n",
              "    height: 32px;\n",
              "    padding: 0;\n",
              "    width: 32px;\n",
              "  }\n",
              "\n",
              "  .colab-df-quickchart:hover {\n",
              "    background-color: var(--hover-bg-color);\n",
              "    box-shadow: 0 1px 2px rgba(60, 64, 67, 0.3), 0 1px 3px 1px rgba(60, 64, 67, 0.15);\n",
              "    fill: var(--button-hover-fill-color);\n",
              "  }\n",
              "\n",
              "  .colab-df-quickchart-complete:disabled,\n",
              "  .colab-df-quickchart-complete:disabled:hover {\n",
              "    background-color: var(--disabled-bg-color);\n",
              "    fill: var(--disabled-fill-color);\n",
              "    box-shadow: none;\n",
              "  }\n",
              "\n",
              "  .colab-df-spinner {\n",
              "    border: 2px solid var(--fill-color);\n",
              "    border-color: transparent;\n",
              "    border-bottom-color: var(--fill-color);\n",
              "    animation:\n",
              "      spin 1s steps(1) infinite;\n",
              "  }\n",
              "\n",
              "  @keyframes spin {\n",
              "    0% {\n",
              "      border-color: transparent;\n",
              "      border-bottom-color: var(--fill-color);\n",
              "      border-left-color: var(--fill-color);\n",
              "    }\n",
              "    20% {\n",
              "      border-color: transparent;\n",
              "      border-left-color: var(--fill-color);\n",
              "      border-top-color: var(--fill-color);\n",
              "    }\n",
              "    30% {\n",
              "      border-color: transparent;\n",
              "      border-left-color: var(--fill-color);\n",
              "      border-top-color: var(--fill-color);\n",
              "      border-right-color: var(--fill-color);\n",
              "    }\n",
              "    40% {\n",
              "      border-color: transparent;\n",
              "      border-right-color: var(--fill-color);\n",
              "      border-top-color: var(--fill-color);\n",
              "    }\n",
              "    60% {\n",
              "      border-color: transparent;\n",
              "      border-right-color: var(--fill-color);\n",
              "    }\n",
              "    80% {\n",
              "      border-color: transparent;\n",
              "      border-right-color: var(--fill-color);\n",
              "      border-bottom-color: var(--fill-color);\n",
              "    }\n",
              "    90% {\n",
              "      border-color: transparent;\n",
              "      border-bottom-color: var(--fill-color);\n",
              "    }\n",
              "  }\n",
              "</style>\n",
              "\n",
              "  <script>\n",
              "    async function quickchart(key) {\n",
              "      const quickchartButtonEl =\n",
              "        document.querySelector('#' + key + ' button');\n",
              "      quickchartButtonEl.disabled = true;  // To prevent multiple clicks.\n",
              "      quickchartButtonEl.classList.add('colab-df-spinner');\n",
              "      try {\n",
              "        const charts = await google.colab.kernel.invokeFunction(\n",
              "            'suggestCharts', [key], {});\n",
              "      } catch (error) {\n",
              "        console.error('Error during call to suggestCharts:', error);\n",
              "      }\n",
              "      quickchartButtonEl.classList.remove('colab-df-spinner');\n",
              "      quickchartButtonEl.classList.add('colab-df-quickchart-complete');\n",
              "    }\n",
              "    (() => {\n",
              "      let quickchartButtonEl =\n",
              "        document.querySelector('#df-63619255-7958-4774-81c1-e6ea6029a7ec button');\n",
              "      quickchartButtonEl.style.display =\n",
              "        google.colab.kernel.accessAllowed ? 'block' : 'none';\n",
              "    })();\n",
              "  </script>\n",
              "</div>\n",
              "\n",
              "    </div>\n",
              "  </div>\n"
            ],
            "application/vnd.google.colaboratory.intrinsic+json": {
              "type": "dataframe",
              "variable_name": "filtered_df_cnn"
            }
          },
          "metadata": {},
          "execution_count": 9
        }
      ]
    },
    {
      "cell_type": "markdown",
      "metadata": {
        "id": "WU_KWQ0XjO7K"
      },
      "source": [
        "## Train/Test split - for CNN dataset"
      ]
    },
    {
      "cell_type": "code",
      "execution_count": 10,
      "metadata": {
        "colab": {
          "base_uri": "https://localhost:8080/"
        },
        "id": "cOdOJRPmJXLk",
        "outputId": "4da07b0f-5e78-4f0b-df50-0ebcba20e09b"
      },
      "outputs": [
        {
          "output_type": "stream",
          "name": "stdout",
          "text": [
            "Dataset size: (1140, 2049)\n",
            "Training size: (912, 2048), Testing size: (228, 2048)\n"
          ]
        }
      ],
      "source": [
        "# Separate features and labels\n",
        "X_cnn = filtered_df_cnn.iloc[:, :-1]\n",
        "y_cnn = filtered_df_cnn.iloc[:, -1]\n",
        "\n",
        "# Encode labels (alphabetically)\n",
        "label_encoder = LabelEncoder()\n",
        "y_encoded = label_encoder.fit_transform(y_cnn)\n",
        "# encoding is benificial as working on numbers is lot easier than working on string\n",
        "\n",
        "# Ensure stratified split (16 training, 4 testing per class)\n",
        "X_train_cnn, X_test_cnn, y_train_cnn, y_test_cnn = train_test_split(X_cnn, y_encoded, test_size=1/5, random_state=42, stratify=y_encoded)\n",
        "\n",
        "# Normalize features\n",
        "scaler = StandardScaler()\n",
        "X_train_cnn = scaler.fit_transform(X_train_cnn)\n",
        "X_test_cnn = scaler.transform(X_test_cnn)\n",
        "\n",
        "print(f\"Dataset size: {filtered_df_cnn.shape}\")\n",
        "print(f\"Training size: {X_train_cnn.shape}, Testing size: {X_test_cnn.shape}\")"
      ]
    },
    {
      "cell_type": "markdown",
      "metadata": {
        "id": "awUGb0PmJK8S"
      },
      "source": [
        "## Dimensionality reduction"
      ]
    },
    {
      "cell_type": "code",
      "execution_count": 11,
      "metadata": {
        "id": "Lcv0-yj-oC7e"
      },
      "outputs": [],
      "source": [
        "from sklearn.decomposition import PCA"
      ]
    },
    {
      "cell_type": "markdown",
      "metadata": {
        "id": "mIP-Die8Zw1I"
      },
      "source": [
        "### Applying PCA on CNN features"
      ]
    },
    {
      "cell_type": "code",
      "execution_count": 12,
      "metadata": {
        "colab": {
          "base_uri": "https://localhost:8080/"
        },
        "id": "Sj5t1lrSJ3AL",
        "outputId": "089a5ed8-3d09-4620-eb8c-cd0cb53ef4c9"
      },
      "outputs": [
        {
          "output_type": "stream",
          "name": "stdout",
          "text": [
            "(912, 900)\n",
            "(228, 900)\n"
          ]
        }
      ],
      "source": [
        "pca=PCA(n_components=900)\n",
        "\n",
        "X_train_cnn_pca=pca.fit_transform(X_train_cnn)\n",
        "X_test_cnn_pca=pca.transform(X_test_cnn)\n",
        "\n",
        "print(X_train_cnn_pca.shape)\n",
        "print(X_test_cnn_pca.shape)"
      ]
    },
    {
      "cell_type": "code",
      "source": [
        "import numpy as np\n",
        "print(np.sum(pca.explained_variance_ratio_))  # Should be close to 1"
      ],
      "metadata": {
        "id": "BXaJ8rPY-VAt",
        "colab": {
          "base_uri": "https://localhost:8080/"
        },
        "outputId": "d5096ecb-d2f9-4a17-e5cd-60016c0274ba"
      },
      "execution_count": 13,
      "outputs": [
        {
          "output_type": "stream",
          "name": "stdout",
          "text": [
            "0.9999248390743487\n"
          ]
        }
      ]
    },
    {
      "cell_type": "markdown",
      "source": [
        "### Applying LDA on CNN features"
      ],
      "metadata": {
        "id": "k16XzgRbRMAS"
      }
    },
    {
      "cell_type": "code",
      "source": [
        "from sklearn.discriminant_analysis import LinearDiscriminantAnalysis as LDA\n",
        "\n",
        "# Apply LDA with at most (number of classes - 1) components\n",
        "lda = LDA(n_components=min(500, len(set(y_train_cnn)) - 1))\n",
        "\n",
        "X_train_cnn_lda = lda.fit_transform(X_train_cnn, y_train_cnn)\n",
        "X_test_cnn_lda = lda.transform(X_test_cnn)\n",
        "\n",
        "print(X_train_cnn_lda.shape)\n",
        "print(X_test_cnn_lda.shape)"
      ],
      "metadata": {
        "colab": {
          "base_uri": "https://localhost:8080/"
        },
        "id": "-XHjQn7PRdlK",
        "outputId": "d995ebc8-ef80-4f50-ec44-cd48aff0b8ae"
      },
      "execution_count": 23,
      "outputs": [
        {
          "output_type": "stream",
          "name": "stdout",
          "text": [
            "(912, 4)\n",
            "(228, 4)\n"
          ]
        }
      ]
    },
    {
      "cell_type": "markdown",
      "source": [
        "## Setting y_train and y_test"
      ],
      "metadata": {
        "id": "f4NqOXTL9YcU"
      }
    },
    {
      "cell_type": "code",
      "source": [
        "y_train = y_train_cnn\n",
        "y_test = y_test_cnn\n",
        "\n",
        "print(y_train[:10])\n",
        "print(y_test[:10])"
      ],
      "metadata": {
        "colab": {
          "base_uri": "https://localhost:8080/"
        },
        "id": "Ymwq48vA-jQg",
        "outputId": "930a804f-2022-4cf1-e557-19b38b7ceb52"
      },
      "execution_count": 14,
      "outputs": [
        {
          "output_type": "stream",
          "name": "stdout",
          "text": [
            "[2 0 1 1 2 2 2 0 2 2]\n",
            "[2 4 2 1 2 3 2 0 4 2]\n"
          ]
        }
      ]
    },
    {
      "cell_type": "markdown",
      "source": [
        "## Printing y_test"
      ],
      "metadata": {
        "id": "RP2cyxDqefz_"
      }
    },
    {
      "cell_type": "code",
      "source": [
        "for i in range(len(y_test_cnn)):\n",
        "  if i<=100:\n",
        "    print(label_encoder.inverse_transform([y_test[i]])[0])"
      ],
      "metadata": {
        "colab": {
          "base_uri": "https://localhost:8080/"
        },
        "id": "CG9Qs37d9OAB",
        "outputId": "41ea60d6-4431-42f0-cbb5-4d6afb92b1ff"
      },
      "execution_count": 25,
      "outputs": [
        {
          "output_type": "stream",
          "name": "stdout",
          "text": [
            "George_W_Bush\n",
            "Tony_Blair\n",
            "George_W_Bush\n",
            "Donald_Rumsfeld\n",
            "George_W_Bush\n",
            "Gerhard_Schroeder\n",
            "George_W_Bush\n",
            "Colin_Powell\n",
            "Tony_Blair\n",
            "George_W_Bush\n",
            "Colin_Powell\n",
            "Colin_Powell\n",
            "Gerhard_Schroeder\n",
            "George_W_Bush\n",
            "Donald_Rumsfeld\n",
            "Tony_Blair\n",
            "George_W_Bush\n",
            "Colin_Powell\n",
            "Colin_Powell\n",
            "George_W_Bush\n",
            "George_W_Bush\n",
            "Colin_Powell\n",
            "George_W_Bush\n",
            "Colin_Powell\n",
            "Donald_Rumsfeld\n",
            "Colin_Powell\n",
            "George_W_Bush\n",
            "George_W_Bush\n",
            "Colin_Powell\n",
            "George_W_Bush\n",
            "George_W_Bush\n",
            "Colin_Powell\n",
            "George_W_Bush\n",
            "Tony_Blair\n",
            "Donald_Rumsfeld\n",
            "Donald_Rumsfeld\n",
            "Tony_Blair\n",
            "George_W_Bush\n",
            "Tony_Blair\n",
            "George_W_Bush\n",
            "Gerhard_Schroeder\n",
            "Donald_Rumsfeld\n",
            "Colin_Powell\n",
            "Gerhard_Schroeder\n",
            "George_W_Bush\n",
            "Tony_Blair\n",
            "Gerhard_Schroeder\n",
            "Donald_Rumsfeld\n",
            "Donald_Rumsfeld\n",
            "George_W_Bush\n",
            "George_W_Bush\n",
            "George_W_Bush\n",
            "Gerhard_Schroeder\n",
            "Colin_Powell\n",
            "George_W_Bush\n",
            "George_W_Bush\n",
            "Gerhard_Schroeder\n",
            "Colin_Powell\n",
            "George_W_Bush\n",
            "Colin_Powell\n",
            "Tony_Blair\n",
            "George_W_Bush\n",
            "Tony_Blair\n",
            "George_W_Bush\n",
            "Tony_Blair\n",
            "George_W_Bush\n",
            "Colin_Powell\n",
            "George_W_Bush\n",
            "George_W_Bush\n",
            "Donald_Rumsfeld\n",
            "Donald_Rumsfeld\n",
            "George_W_Bush\n",
            "George_W_Bush\n",
            "Colin_Powell\n",
            "George_W_Bush\n",
            "George_W_Bush\n",
            "Gerhard_Schroeder\n",
            "George_W_Bush\n",
            "George_W_Bush\n",
            "Donald_Rumsfeld\n",
            "George_W_Bush\n",
            "George_W_Bush\n",
            "Gerhard_Schroeder\n",
            "Gerhard_Schroeder\n",
            "George_W_Bush\n",
            "Colin_Powell\n",
            "George_W_Bush\n",
            "Gerhard_Schroeder\n",
            "Gerhard_Schroeder\n",
            "Colin_Powell\n",
            "George_W_Bush\n",
            "George_W_Bush\n",
            "Gerhard_Schroeder\n",
            "George_W_Bush\n",
            "George_W_Bush\n",
            "George_W_Bush\n",
            "George_W_Bush\n",
            "Colin_Powell\n",
            "George_W_Bush\n",
            "Gerhard_Schroeder\n",
            "Colin_Powell\n"
          ]
        }
      ]
    },
    {
      "cell_type": "markdown",
      "metadata": {
        "id": "7CLgbYhXifZq"
      },
      "source": [
        "# Reading and Filtering Filtered LBP features"
      ]
    },
    {
      "cell_type": "code",
      "execution_count": 26,
      "metadata": {
        "id": "PfPbJMxQie_9"
      },
      "outputs": [],
      "source": [
        "url_filtered_lbp_features = 'https://raw.githubusercontent.com/AgarwalMayank2/Face_Detection/refs/heads/main/processed_dataset/filtered_LBP_features_dataset.csv'\n",
        "df = pd.read_csv(url_filtered_lbp_features)"
      ]
    },
    {
      "cell_type": "code",
      "source": [
        "label_counts = df['256'].value_counts()\n",
        "valid_labels = label_counts[label_counts >= 80].index\n",
        "filtered_df_LBP = df[df['256'].isin(valid_labels)]\n",
        "filtered_df_LBP.drop('Unnamed: 0', axis=1, inplace=True)\n",
        "print(filtered_df_LBP.head())"
      ],
      "metadata": {
        "id": "XBKfrpqDb0-L",
        "colab": {
          "base_uri": "https://localhost:8080/"
        },
        "outputId": "81e1606b-f004-4068-9d4a-68cdf3cdd624"
      },
      "execution_count": 27,
      "outputs": [
        {
          "output_type": "stream",
          "name": "stdout",
          "text": [
            "         0     1      2      3     4     5  ...    251    252    253    254      255            256\n",
            "199  747.0  72.0  433.0  185.0  61.0   6.0  ...  578.0  616.0  546.0  453.0  12702.0  George_W_Bush\n",
            "200  516.0  33.0  438.0  186.0  34.0   2.0  ...  354.0  500.0  426.0  516.0  17530.0  George_W_Bush\n",
            "201  805.0  76.0  366.0  204.0  68.0  10.0  ...  413.0  581.0  438.0  537.0  22703.0  George_W_Bush\n",
            "202  572.0  42.0  304.0  219.0  37.0   3.0  ...  273.0  590.0  465.0  315.0   3466.0  George_W_Bush\n",
            "203  577.0  49.0  403.0  268.0  87.0   4.0  ...  284.0  500.0  448.0  280.0   4402.0  George_W_Bush\n",
            "\n",
            "[5 rows x 257 columns]\n"
          ]
        },
        {
          "output_type": "stream",
          "name": "stderr",
          "text": [
            "<ipython-input-27-d44b37404344>:4: SettingWithCopyWarning: \n",
            "A value is trying to be set on a copy of a slice from a DataFrame\n",
            "\n",
            "See the caveats in the documentation: https://pandas.pydata.org/pandas-docs/stable/user_guide/indexing.html#returning-a-view-versus-a-copy\n",
            "  filtered_df_LBP.drop('Unnamed: 0', axis=1, inplace=True)\n"
          ]
        }
      ]
    },
    {
      "cell_type": "markdown",
      "metadata": {
        "id": "AVs6_YoYjCoS"
      },
      "source": [
        "## Train/Test split - for LBP dataset"
      ]
    },
    {
      "cell_type": "code",
      "execution_count": 28,
      "metadata": {
        "colab": {
          "base_uri": "https://localhost:8080/"
        },
        "id": "Abp0KaGlieJZ",
        "outputId": "f74429be-d8c4-405c-f780-352ef0a9abec"
      },
      "outputs": [
        {
          "output_type": "stream",
          "name": "stdout",
          "text": [
            "Dataset size: (1140, 257)\n",
            "Training size: (912, 256), Testing size: (228, 256)\n"
          ]
        }
      ],
      "source": [
        "# Separate features and labels\n",
        "X_LBP = filtered_df_LBP.iloc[:, :-1]\n",
        "y_LBP = filtered_df_LBP.iloc[:, -1]\n",
        "\n",
        "# Encode labels (alphabetically)\n",
        "label_encoder = LabelEncoder()\n",
        "y_encoded = label_encoder.fit_transform(y_LBP)\n",
        "# encoding is benificial as working on numbers is lot easier than working on string\n",
        "\n",
        "# Ensure stratified split (64 training, 16 testing per class)\n",
        "X_train_LBP, X_test_LBP, y_train_LBP, y_test_LBP = train_test_split(X_LBP, y_encoded, test_size=1/5, random_state=42, stratify=y_encoded)\n",
        "\n",
        "# Normalize features\n",
        "scaler = StandardScaler()\n",
        "X_train_LBP = scaler.fit_transform(X_train_LBP)\n",
        "X_test_LBP = scaler.transform(X_test_LBP)\n",
        "\n",
        "print(f\"Dataset size: {filtered_df_LBP.shape}\")\n",
        "print(f\"Training size: {X_train_LBP.shape}, Testing size: {X_test_LBP.shape}\")"
      ]
    },
    {
      "cell_type": "markdown",
      "source": [
        "## Dimensionality Reduction"
      ],
      "metadata": {
        "id": "0NEoP2dxWUeD"
      }
    },
    {
      "cell_type": "markdown",
      "metadata": {
        "id": "NDtENpXSV2qx"
      },
      "source": [
        "### Applying PCA on LBP features"
      ]
    },
    {
      "cell_type": "code",
      "execution_count": 33,
      "metadata": {
        "colab": {
          "base_uri": "https://localhost:8080/"
        },
        "outputId": "c095a857-1ccd-41ec-f848-c26816b2eddb",
        "id": "aVeeoQ_VV2qx"
      },
      "outputs": [
        {
          "output_type": "stream",
          "name": "stdout",
          "text": [
            "(912, 150)\n",
            "(228, 150)\n"
          ]
        }
      ],
      "source": [
        "pca=PCA(n_components=150)\n",
        "\n",
        "X_train_LBP_pca=pca.fit_transform(X_train_LBP)\n",
        "X_test_LBP_pca=pca.transform(X_test_LBP)\n",
        "\n",
        "print(X_train_LBP_pca.shape)\n",
        "print(X_test_LBP_pca.shape)"
      ]
    },
    {
      "cell_type": "code",
      "source": [
        "import numpy as np\n",
        "print(np.sum(pca.explained_variance_ratio_))  # Should be close to 1"
      ],
      "metadata": {
        "outputId": "0d7a80e6-b594-4277-a419-e4fd2a63bb12",
        "colab": {
          "base_uri": "https://localhost:8080/"
        },
        "id": "dWa6jjo7V2qx"
      },
      "execution_count": 34,
      "outputs": [
        {
          "output_type": "stream",
          "name": "stdout",
          "text": [
            "0.9510735214976049\n"
          ]
        }
      ]
    },
    {
      "cell_type": "markdown",
      "source": [
        "### Applying LDA on LBP features"
      ],
      "metadata": {
        "id": "6yJv_5mjRU6o"
      }
    },
    {
      "cell_type": "code",
      "source": [
        "from sklearn.discriminant_analysis import LinearDiscriminantAnalysis as LDA\n",
        "\n",
        "# Apply LDA with at most (number of classes - 1) components\n",
        "lda = LDA(n_components=min(500, len(set(y_train_LBP)) - 1))\n",
        "\n",
        "X_train_LBP_lda = lda.fit_transform(X_train_LBP, y_train_LBP)\n",
        "X_test_LBP_lda = lda.transform(X_test_LBP)\n",
        "\n",
        "print(X_train_LBP_lda.shape)\n",
        "print(X_test_LBP_lda.shape)"
      ],
      "metadata": {
        "colab": {
          "base_uri": "https://localhost:8080/"
        },
        "id": "sAUVWGXLRfDO",
        "outputId": "54ea5900-199d-4365-8a68-afbb7fe1f2ac"
      },
      "execution_count": 35,
      "outputs": [
        {
          "output_type": "stream",
          "name": "stdout",
          "text": [
            "(912, 4)\n",
            "(228, 4)\n"
          ]
        }
      ]
    },
    {
      "cell_type": "markdown",
      "source": [
        "## Setting y_train and y_test"
      ],
      "metadata": {
        "id": "cvpKNZuYfIwe"
      }
    },
    {
      "cell_type": "code",
      "source": [
        "y_train = y_train_LBP\n",
        "y_test = y_test_LBP\n",
        "\n",
        "print(y_train[:10])\n",
        "print(y_test[:10])"
      ],
      "metadata": {
        "colab": {
          "base_uri": "https://localhost:8080/"
        },
        "id": "uloPrW9AI3C1",
        "outputId": "007a078d-b27a-47e4-90f1-f667d1dc23e7"
      },
      "execution_count": 36,
      "outputs": [
        {
          "output_type": "stream",
          "name": "stdout",
          "text": [
            "[2 0 1 1 2 2 2 0 2 2]\n",
            "[2 4 2 1 2 3 2 0 4 2]\n"
          ]
        }
      ]
    },
    {
      "cell_type": "markdown",
      "source": [
        "## Printing y_test for checking"
      ],
      "metadata": {
        "id": "Ctrd2Wd-fMFX"
      }
    },
    {
      "cell_type": "code",
      "source": [
        "for i in range(len(y_test_LBP)):\n",
        "  if i<=100:\n",
        "    print(label_encoder.inverse_transform([y_test[i]])[0])"
      ],
      "metadata": {
        "colab": {
          "base_uri": "https://localhost:8080/"
        },
        "id": "fv62t5O0I-T4",
        "outputId": "55d196e2-6e07-454a-ac0a-e8a68344f792"
      },
      "execution_count": 38,
      "outputs": [
        {
          "output_type": "stream",
          "name": "stdout",
          "text": [
            "George_W_Bush\n",
            "Tony_Blair\n",
            "George_W_Bush\n",
            "Donald_Rumsfeld\n",
            "George_W_Bush\n",
            "Gerhard_Schroeder\n",
            "George_W_Bush\n",
            "Colin_Powell\n",
            "Tony_Blair\n",
            "George_W_Bush\n",
            "Colin_Powell\n",
            "Colin_Powell\n",
            "Gerhard_Schroeder\n",
            "George_W_Bush\n",
            "Donald_Rumsfeld\n",
            "Tony_Blair\n",
            "George_W_Bush\n",
            "Colin_Powell\n",
            "Colin_Powell\n",
            "George_W_Bush\n",
            "George_W_Bush\n",
            "Colin_Powell\n",
            "George_W_Bush\n",
            "Colin_Powell\n",
            "Donald_Rumsfeld\n",
            "Colin_Powell\n",
            "George_W_Bush\n",
            "George_W_Bush\n",
            "Colin_Powell\n",
            "George_W_Bush\n",
            "George_W_Bush\n",
            "Colin_Powell\n",
            "George_W_Bush\n",
            "Tony_Blair\n",
            "Donald_Rumsfeld\n",
            "Donald_Rumsfeld\n",
            "Tony_Blair\n",
            "George_W_Bush\n",
            "Tony_Blair\n",
            "George_W_Bush\n",
            "Gerhard_Schroeder\n",
            "Donald_Rumsfeld\n",
            "Colin_Powell\n",
            "Gerhard_Schroeder\n",
            "George_W_Bush\n",
            "Tony_Blair\n",
            "Gerhard_Schroeder\n",
            "Donald_Rumsfeld\n",
            "Donald_Rumsfeld\n",
            "George_W_Bush\n",
            "George_W_Bush\n",
            "George_W_Bush\n",
            "Gerhard_Schroeder\n",
            "Colin_Powell\n",
            "George_W_Bush\n",
            "George_W_Bush\n",
            "Gerhard_Schroeder\n",
            "Colin_Powell\n",
            "George_W_Bush\n",
            "Colin_Powell\n",
            "Tony_Blair\n",
            "George_W_Bush\n",
            "Tony_Blair\n",
            "George_W_Bush\n",
            "Tony_Blair\n",
            "George_W_Bush\n",
            "Colin_Powell\n",
            "George_W_Bush\n",
            "George_W_Bush\n",
            "Donald_Rumsfeld\n",
            "Donald_Rumsfeld\n",
            "George_W_Bush\n",
            "George_W_Bush\n",
            "Colin_Powell\n",
            "George_W_Bush\n",
            "George_W_Bush\n",
            "Gerhard_Schroeder\n",
            "George_W_Bush\n",
            "George_W_Bush\n",
            "Donald_Rumsfeld\n",
            "George_W_Bush\n",
            "George_W_Bush\n",
            "Gerhard_Schroeder\n",
            "Gerhard_Schroeder\n",
            "George_W_Bush\n",
            "Colin_Powell\n",
            "George_W_Bush\n",
            "Gerhard_Schroeder\n",
            "Gerhard_Schroeder\n",
            "Colin_Powell\n",
            "George_W_Bush\n",
            "George_W_Bush\n",
            "Gerhard_Schroeder\n",
            "George_W_Bush\n",
            "George_W_Bush\n",
            "George_W_Bush\n",
            "George_W_Bush\n",
            "Colin_Powell\n",
            "George_W_Bush\n",
            "Gerhard_Schroeder\n",
            "Colin_Powell\n"
          ]
        }
      ]
    },
    {
      "cell_type": "markdown",
      "source": [
        "# Calling KNN function on CNN and LBP features (without Dimensionality Reduction)"
      ],
      "metadata": {
        "id": "5L2adWMlgMjh"
      }
    },
    {
      "cell_type": "code",
      "source": [
        "y_pred, acc = knn(5, X_train_cnn, X_test_cnn, y_test)\n",
        "print(\"Predictions : \", y_pred)\n",
        "print(\"Accuracy : \", acc, \" %\")"
      ],
      "metadata": {
        "id": "4P2gwLJuOGmH",
        "colab": {
          "base_uri": "https://localhost:8080/"
        },
        "outputId": "bc738a70-4ca8-41a4-8a4e-8ff87c58d4c8"
      },
      "execution_count": 56,
      "outputs": [
        {
          "output_type": "stream",
          "name": "stdout",
          "text": [
            "Label 0 detected : George_W_Bush\n",
            "Label 1 detected : George_W_Bush\n",
            "Label 2 detected : George_W_Bush\n",
            "Label 3 detected : Donald_Rumsfeld\n",
            "Label 4 detected : George_W_Bush\n",
            "Label 5 detected : Donald_Rumsfeld\n",
            "Label 6 detected : George_W_Bush\n",
            "Label 7 detected : Colin_Powell\n",
            "Label 8 detected : Tony_Blair\n",
            "Label 9 detected : George_W_Bush\n",
            "Label 10 detected : Tony_Blair\n",
            "Label 11 detected : Donald_Rumsfeld\n",
            "Label 12 detected : Gerhard_Schroeder\n",
            "Label 13 detected : George_W_Bush\n",
            "Label 14 detected : George_W_Bush\n",
            "Label 15 detected : Tony_Blair\n",
            "Label 16 detected : George_W_Bush\n",
            "Label 17 detected : Colin_Powell\n",
            "Label 18 detected : George_W_Bush\n",
            "Label 19 detected : George_W_Bush\n",
            "Label 20 detected : George_W_Bush\n",
            "Label 21 detected : George_W_Bush\n",
            "Label 22 detected : George_W_Bush\n",
            "Label 23 detected : Colin_Powell\n",
            "Label 24 detected : George_W_Bush\n",
            "Label 25 detected : Colin_Powell\n",
            "Label 26 detected : George_W_Bush\n",
            "Label 27 detected : George_W_Bush\n",
            "Label 28 detected : George_W_Bush\n",
            "Label 29 detected : George_W_Bush\n",
            "Label 30 detected : George_W_Bush\n",
            "Label 31 detected : Colin_Powell\n",
            "Label 32 detected : Tony_Blair\n",
            "Label 33 detected : George_W_Bush\n",
            "Label 34 detected : Donald_Rumsfeld\n",
            "Label 35 detected : Gerhard_Schroeder\n",
            "Label 36 detected : Tony_Blair\n",
            "Label 37 detected : George_W_Bush\n",
            "Label 38 detected : Tony_Blair\n",
            "Label 39 detected : George_W_Bush\n",
            "Label 40 detected : Colin_Powell\n",
            "Label 41 detected : Colin_Powell\n",
            "Label 42 detected : George_W_Bush\n",
            "Label 43 detected : Gerhard_Schroeder\n",
            "Label 44 detected : George_W_Bush\n",
            "Label 45 detected : Tony_Blair\n",
            "Label 46 detected : Gerhard_Schroeder\n",
            "Label 47 detected : Donald_Rumsfeld\n",
            "Label 48 detected : Donald_Rumsfeld\n",
            "Label 49 detected : George_W_Bush\n",
            "Label 50 detected : George_W_Bush\n",
            "Label 51 detected : George_W_Bush\n",
            "Label 52 detected : George_W_Bush\n",
            "Label 53 detected : Colin_Powell\n",
            "Label 54 detected : Tony_Blair\n",
            "Label 55 detected : Colin_Powell\n",
            "Label 56 detected : Tony_Blair\n",
            "Label 57 detected : George_W_Bush\n",
            "Label 58 detected : George_W_Bush\n",
            "Label 59 detected : Colin_Powell\n",
            "Label 60 detected : George_W_Bush\n",
            "Label 61 detected : George_W_Bush\n",
            "Label 62 detected : Tony_Blair\n",
            "Label 63 detected : George_W_Bush\n",
            "Label 64 detected : Tony_Blair\n",
            "Label 65 detected : Colin_Powell\n",
            "Label 66 detected : Colin_Powell\n",
            "Label 67 detected : George_W_Bush\n",
            "Label 68 detected : George_W_Bush\n",
            "Label 69 detected : George_W_Bush\n",
            "Label 70 detected : George_W_Bush\n",
            "Label 71 detected : George_W_Bush\n",
            "Label 72 detected : George_W_Bush\n",
            "Label 73 detected : Colin_Powell\n",
            "Label 74 detected : George_W_Bush\n",
            "Label 75 detected : George_W_Bush\n",
            "Label 76 detected : George_W_Bush\n",
            "Label 77 detected : George_W_Bush\n",
            "Label 78 detected : George_W_Bush\n",
            "Label 79 detected : Colin_Powell\n",
            "Label 80 detected : Tony_Blair\n",
            "Label 81 detected : George_W_Bush\n",
            "Label 82 detected : Colin_Powell\n",
            "Label 83 detected : George_W_Bush\n",
            "Label 84 detected : George_W_Bush\n",
            "Label 85 detected : Colin_Powell\n",
            "Label 86 detected : George_W_Bush\n",
            "Label 87 detected : Gerhard_Schroeder\n",
            "Label 88 detected : Gerhard_Schroeder\n",
            "Label 89 detected : Colin_Powell\n",
            "Label 90 detected : George_W_Bush\n",
            "Label 91 detected : George_W_Bush\n",
            "Label 92 detected : George_W_Bush\n",
            "Label 93 detected : George_W_Bush\n",
            "Label 94 detected : George_W_Bush\n",
            "Label 95 detected : George_W_Bush\n",
            "Label 96 detected : George_W_Bush\n",
            "Label 97 detected : Colin_Powell\n",
            "Label 98 detected : George_W_Bush\n",
            "Label 99 detected : George_W_Bush\n",
            "Label 100 detected : George_W_Bush\n",
            "['George_W_Bush', 'George_W_Bush', 'George_W_Bush', 'Donald_Rumsfeld', 'George_W_Bush', 'Donald_Rumsfeld', 'George_W_Bush', 'Colin_Powell', 'Tony_Blair', 'George_W_Bush', 'Tony_Blair', 'Donald_Rumsfeld', 'Gerhard_Schroeder', 'George_W_Bush', 'George_W_Bush', 'Tony_Blair', 'George_W_Bush', 'Colin_Powell', 'George_W_Bush', 'George_W_Bush', 'George_W_Bush', 'George_W_Bush', 'George_W_Bush', 'Colin_Powell', 'George_W_Bush', 'Colin_Powell', 'George_W_Bush', 'George_W_Bush', 'George_W_Bush', 'George_W_Bush', 'George_W_Bush', 'Colin_Powell', 'Tony_Blair', 'George_W_Bush', 'Donald_Rumsfeld', 'Gerhard_Schroeder', 'Tony_Blair', 'George_W_Bush', 'Tony_Blair', 'George_W_Bush', 'Colin_Powell', 'Colin_Powell', 'George_W_Bush', 'Gerhard_Schroeder', 'George_W_Bush', 'Tony_Blair', 'Gerhard_Schroeder', 'Donald_Rumsfeld', 'Donald_Rumsfeld', 'George_W_Bush', 'George_W_Bush', 'George_W_Bush', 'George_W_Bush', 'Colin_Powell', 'Tony_Blair', 'Colin_Powell', 'Tony_Blair', 'George_W_Bush', 'George_W_Bush', 'Colin_Powell', 'George_W_Bush', 'George_W_Bush', 'Tony_Blair', 'George_W_Bush', 'Tony_Blair', 'Colin_Powell', 'Colin_Powell', 'George_W_Bush', 'George_W_Bush', 'George_W_Bush', 'George_W_Bush', 'George_W_Bush', 'George_W_Bush', 'Colin_Powell', 'George_W_Bush', 'George_W_Bush', 'George_W_Bush', 'George_W_Bush', 'George_W_Bush', 'Colin_Powell', 'Tony_Blair', 'George_W_Bush', 'Colin_Powell', 'George_W_Bush', 'George_W_Bush', 'Colin_Powell', 'George_W_Bush', 'Gerhard_Schroeder', 'Gerhard_Schroeder', 'Colin_Powell', 'George_W_Bush', 'George_W_Bush', 'George_W_Bush', 'George_W_Bush', 'George_W_Bush', 'George_W_Bush', 'George_W_Bush', 'Colin_Powell', 'George_W_Bush', 'George_W_Bush', 'George_W_Bush', 'George_W_Bush', 'Colin_Powell', 'George_W_Bush', 'George_W_Bush', 'George_W_Bush', 'Tony_Blair', 'George_W_Bush', 'George_W_Bush', 'George_W_Bush', 'Colin_Powell', 'Colin_Powell', 'George_W_Bush', 'Gerhard_Schroeder', 'Tony_Blair', 'George_W_Bush', 'George_W_Bush', 'Tony_Blair', 'Colin_Powell', 'George_W_Bush', 'George_W_Bush', 'George_W_Bush', 'Donald_Rumsfeld', 'Tony_Blair', 'Colin_Powell', 'George_W_Bush', 'George_W_Bush', 'Colin_Powell', 'George_W_Bush', 'Colin_Powell', 'George_W_Bush', 'George_W_Bush', 'Tony_Blair', 'George_W_Bush', 'George_W_Bush', 'Tony_Blair', 'George_W_Bush', 'Colin_Powell', 'George_W_Bush', 'George_W_Bush', 'Tony_Blair', 'George_W_Bush', 'George_W_Bush', 'Colin_Powell', 'Colin_Powell', 'George_W_Bush', 'George_W_Bush', 'George_W_Bush', 'Colin_Powell', 'George_W_Bush', 'George_W_Bush', 'George_W_Bush', 'Colin_Powell', 'Colin_Powell', 'George_W_Bush', 'Colin_Powell', 'Donald_Rumsfeld', 'George_W_Bush', 'Colin_Powell', 'Colin_Powell', 'Colin_Powell', 'Gerhard_Schroeder', 'George_W_Bush', 'Colin_Powell', 'George_W_Bush', 'George_W_Bush', 'George_W_Bush', 'Tony_Blair', 'George_W_Bush', 'Donald_Rumsfeld', 'George_W_Bush', 'Donald_Rumsfeld', 'George_W_Bush', 'Colin_Powell', 'Colin_Powell', 'Tony_Blair', 'Colin_Powell', 'George_W_Bush', 'George_W_Bush', 'Colin_Powell', 'Colin_Powell', 'Colin_Powell', 'George_W_Bush', 'Donald_Rumsfeld', 'Tony_Blair', 'Colin_Powell', 'George_W_Bush', 'Colin_Powell', 'George_W_Bush', 'George_W_Bush', 'George_W_Bush', 'Donald_Rumsfeld', 'George_W_Bush', 'Tony_Blair', 'Donald_Rumsfeld', 'George_W_Bush', 'George_W_Bush', 'George_W_Bush', 'George_W_Bush', 'George_W_Bush', 'George_W_Bush', 'George_W_Bush', 'George_W_Bush', 'George_W_Bush', 'George_W_Bush', 'Tony_Blair', 'Colin_Powell', 'George_W_Bush', 'George_W_Bush', 'Colin_Powell', 'Donald_Rumsfeld', 'George_W_Bush', 'Donald_Rumsfeld', 'George_W_Bush', 'George_W_Bush', 'Colin_Powell', 'George_W_Bush', 'Tony_Blair', 'Colin_Powell', 'George_W_Bush', 'George_W_Bush', 'Colin_Powell', 'Gerhard_Schroeder', 'Gerhard_Schroeder', 'Gerhard_Schroeder', 'George_W_Bush', 'Colin_Powell', 'George_W_Bush']\n",
            "Predictions :  ['George_W_Bush', 'George_W_Bush', 'George_W_Bush', 'Donald_Rumsfeld', 'George_W_Bush', 'Donald_Rumsfeld', 'George_W_Bush', 'Colin_Powell', 'Tony_Blair', 'George_W_Bush', 'Tony_Blair', 'Donald_Rumsfeld', 'Gerhard_Schroeder', 'George_W_Bush', 'George_W_Bush', 'Tony_Blair', 'George_W_Bush', 'Colin_Powell', 'George_W_Bush', 'George_W_Bush', 'George_W_Bush', 'George_W_Bush', 'George_W_Bush', 'Colin_Powell', 'George_W_Bush', 'Colin_Powell', 'George_W_Bush', 'George_W_Bush', 'George_W_Bush', 'George_W_Bush', 'George_W_Bush', 'Colin_Powell', 'Tony_Blair', 'George_W_Bush', 'Donald_Rumsfeld', 'Gerhard_Schroeder', 'Tony_Blair', 'George_W_Bush', 'Tony_Blair', 'George_W_Bush', 'Colin_Powell', 'Colin_Powell', 'George_W_Bush', 'Gerhard_Schroeder', 'George_W_Bush', 'Tony_Blair', 'Gerhard_Schroeder', 'Donald_Rumsfeld', 'Donald_Rumsfeld', 'George_W_Bush', 'George_W_Bush', 'George_W_Bush', 'George_W_Bush', 'Colin_Powell', 'Tony_Blair', 'Colin_Powell', 'Tony_Blair', 'George_W_Bush', 'George_W_Bush', 'Colin_Powell', 'George_W_Bush', 'George_W_Bush', 'Tony_Blair', 'George_W_Bush', 'Tony_Blair', 'Colin_Powell', 'Colin_Powell', 'George_W_Bush', 'George_W_Bush', 'George_W_Bush', 'George_W_Bush', 'George_W_Bush', 'George_W_Bush', 'Colin_Powell', 'George_W_Bush', 'George_W_Bush', 'George_W_Bush', 'George_W_Bush', 'George_W_Bush', 'Colin_Powell', 'Tony_Blair', 'George_W_Bush', 'Colin_Powell', 'George_W_Bush', 'George_W_Bush', 'Colin_Powell', 'George_W_Bush', 'Gerhard_Schroeder', 'Gerhard_Schroeder', 'Colin_Powell', 'George_W_Bush', 'George_W_Bush', 'George_W_Bush', 'George_W_Bush', 'George_W_Bush', 'George_W_Bush', 'George_W_Bush', 'Colin_Powell', 'George_W_Bush', 'George_W_Bush', 'George_W_Bush', 'George_W_Bush', 'Colin_Powell', 'George_W_Bush', 'George_W_Bush', 'George_W_Bush', 'Tony_Blair', 'George_W_Bush', 'George_W_Bush', 'George_W_Bush', 'Colin_Powell', 'Colin_Powell', 'George_W_Bush', 'Gerhard_Schroeder', 'Tony_Blair', 'George_W_Bush', 'George_W_Bush', 'Tony_Blair', 'Colin_Powell', 'George_W_Bush', 'George_W_Bush', 'George_W_Bush', 'Donald_Rumsfeld', 'Tony_Blair', 'Colin_Powell', 'George_W_Bush', 'George_W_Bush', 'Colin_Powell', 'George_W_Bush', 'Colin_Powell', 'George_W_Bush', 'George_W_Bush', 'Tony_Blair', 'George_W_Bush', 'George_W_Bush', 'Tony_Blair', 'George_W_Bush', 'Colin_Powell', 'George_W_Bush', 'George_W_Bush', 'Tony_Blair', 'George_W_Bush', 'George_W_Bush', 'Colin_Powell', 'Colin_Powell', 'George_W_Bush', 'George_W_Bush', 'George_W_Bush', 'Colin_Powell', 'George_W_Bush', 'George_W_Bush', 'George_W_Bush', 'Colin_Powell', 'Colin_Powell', 'George_W_Bush', 'Colin_Powell', 'Donald_Rumsfeld', 'George_W_Bush', 'Colin_Powell', 'Colin_Powell', 'Colin_Powell', 'Gerhard_Schroeder', 'George_W_Bush', 'Colin_Powell', 'George_W_Bush', 'George_W_Bush', 'George_W_Bush', 'Tony_Blair', 'George_W_Bush', 'Donald_Rumsfeld', 'George_W_Bush', 'Donald_Rumsfeld', 'George_W_Bush', 'Colin_Powell', 'Colin_Powell', 'Tony_Blair', 'Colin_Powell', 'George_W_Bush', 'George_W_Bush', 'Colin_Powell', 'Colin_Powell', 'Colin_Powell', 'George_W_Bush', 'Donald_Rumsfeld', 'Tony_Blair', 'Colin_Powell', 'George_W_Bush', 'Colin_Powell', 'George_W_Bush', 'George_W_Bush', 'George_W_Bush', 'Donald_Rumsfeld', 'George_W_Bush', 'Tony_Blair', 'Donald_Rumsfeld', 'George_W_Bush', 'George_W_Bush', 'George_W_Bush', 'George_W_Bush', 'George_W_Bush', 'George_W_Bush', 'George_W_Bush', 'George_W_Bush', 'George_W_Bush', 'George_W_Bush', 'Tony_Blair', 'Colin_Powell', 'George_W_Bush', 'George_W_Bush', 'Colin_Powell', 'Donald_Rumsfeld', 'George_W_Bush', 'Donald_Rumsfeld', 'George_W_Bush', 'George_W_Bush', 'Colin_Powell', 'George_W_Bush', 'Tony_Blair', 'Colin_Powell', 'George_W_Bush', 'George_W_Bush', 'Colin_Powell', 'Gerhard_Schroeder', 'Gerhard_Schroeder', 'Gerhard_Schroeder', 'George_W_Bush', 'Colin_Powell', 'George_W_Bush']\n",
            "Accuracy :  0.6535087719298246  %\n"
          ]
        }
      ]
    },
    {
      "cell_type": "code",
      "source": [
        "y_pred, acc = knn(5, X_train_LBP, X_test_LBP, y_test)\n",
        "print(\"Predictions : \", y_pred)\n",
        "print(\"Accuracy : \", acc, \" %\")"
      ],
      "metadata": {
        "id": "vjSWSNcaJsz3"
      },
      "execution_count": 39,
      "outputs": []
    },
    {
      "cell_type": "markdown",
      "source": [
        "# Calling KNN function on CNN and LBP features (with Dimensionality Reduction)"
      ],
      "metadata": {
        "id": "GfWfFXw-YrML"
      }
    },
    {
      "cell_type": "markdown",
      "source": [
        "## PCA on CNN and LBP features"
      ],
      "metadata": {
        "id": "Z6Zb5IrEYzU0"
      }
    },
    {
      "cell_type": "code",
      "source": [
        "y_pred, acc = knn(5, X_train_cnn_pca, X_test_cnn_pca, y_test)\n",
        "print(\"Predictions : \", y_pred)\n",
        "print(\"Accuracy : \", acc, \" %\")"
      ],
      "metadata": {
        "id": "twGDaR2nYxvV"
      },
      "execution_count": null,
      "outputs": []
    },
    {
      "cell_type": "code",
      "source": [
        "y_pred, acc = knn(5, X_train_LBP_pca, X_test_LBP_pca, y_test)\n",
        "print(\"Predictions : \", y_pred)\n",
        "print(\"Accuracy : \", acc, \" %\")"
      ],
      "metadata": {
        "id": "mSNfNSX2ZiKX"
      },
      "execution_count": null,
      "outputs": []
    },
    {
      "cell_type": "markdown",
      "source": [
        "## LDA on CNN and LBP features"
      ],
      "metadata": {
        "id": "VfhsAPaIY3Y4"
      }
    },
    {
      "cell_type": "code",
      "source": [
        "y_pred, acc = knn(5, X_train_cnn_lda, X_test_cnn_lda, y_test)\n",
        "print(\"Predictions : \", y_pred)\n",
        "print(\"Accuracy : \", acc, \" %\")"
      ],
      "metadata": {
        "id": "aeoNtdcaY7S6"
      },
      "execution_count": null,
      "outputs": []
    },
    {
      "cell_type": "code",
      "source": [
        "y_pred, acc = knn(5, X_train_LBP_lda, X_test_LBP_lda, y_test)\n",
        "print(\"Predictions : \", y_pred)\n",
        "print(\"Accuracy : \", acc, \" %\")"
      ],
      "metadata": {
        "id": "1_COPVoAZsE1"
      },
      "execution_count": null,
      "outputs": []
    },
    {
      "cell_type": "markdown",
      "source": [
        "# Combining CNN and LBP features (Concatenating)"
      ],
      "metadata": {
        "id": "POEd-bMY_jTw"
      }
    },
    {
      "cell_type": "code",
      "source": [
        "combined_X_train = np.concatenate((X_train_cnn, X_train_LBP), axis=1)\n",
        "combined_X_test = np.concatenate((X_test_cnn, X_test_LBP), axis=1)"
      ],
      "metadata": {
        "id": "_1nI48vn_lW9"
      },
      "execution_count": 42,
      "outputs": []
    },
    {
      "cell_type": "code",
      "source": [
        "print(\"No. of CNN features + No. of LBP features = \", X_train_cnn.shape[1] + X_train_LBP.shape[1])\n",
        "print(\"Total no. of features after concatenation = \", combined_X_train.shape[1])"
      ],
      "metadata": {
        "colab": {
          "base_uri": "https://localhost:8080/"
        },
        "id": "5Z-mYjihBS35",
        "outputId": "a8111133-7d07-4f93-89ee-0d937e1211af"
      },
      "execution_count": 44,
      "outputs": [
        {
          "output_type": "stream",
          "name": "stdout",
          "text": [
            "No. of CNN features + No. of LBP features =  2304\n",
            "Total no. of features after concatenation =  2304\n"
          ]
        }
      ]
    },
    {
      "cell_type": "code",
      "source": [
        "print(combined_X_train.shape[1])\n",
        "print(combined_X_test.shape[1])"
      ],
      "metadata": {
        "colab": {
          "base_uri": "https://localhost:8080/"
        },
        "id": "eBpg84eHFHdj",
        "outputId": "a186c33d-dfdf-4412-b528-cd00164a67f5"
      },
      "execution_count": 45,
      "outputs": [
        {
          "output_type": "stream",
          "name": "stdout",
          "text": [
            "2304\n",
            "2304\n"
          ]
        }
      ]
    },
    {
      "cell_type": "markdown",
      "source": [
        "## Applying PCA on Combined features"
      ],
      "metadata": {
        "id": "eTIZmbAxhCo4"
      }
    },
    {
      "cell_type": "code",
      "source": [
        "pca=PCA(n_components=500)\n",
        "\n",
        "X_train_pca=pca.fit_transform(combined_X_train)\n",
        "X_test_pca=pca.transform(combined_X_test)\n",
        "\n",
        "print(X_train_pca.shape)\n",
        "print(X_test_pca.shape)"
      ],
      "metadata": {
        "colab": {
          "base_uri": "https://localhost:8080/"
        },
        "id": "mpcm4fUqFjT9",
        "outputId": "326fd28a-e54e-47b6-86d5-bd143ea4c4b9"
      },
      "execution_count": 46,
      "outputs": [
        {
          "output_type": "stream",
          "name": "stdout",
          "text": [
            "(912, 500)\n",
            "(228, 500)\n"
          ]
        }
      ]
    },
    {
      "cell_type": "markdown",
      "source": [
        "## Applying LDA on Combined features"
      ],
      "metadata": {
        "id": "Auske-YMHtzM"
      }
    },
    {
      "cell_type": "code",
      "source": [
        "from sklearn.discriminant_analysis import LinearDiscriminantAnalysis as LDA\n",
        "\n",
        "# Apply LDA with at most (number of classes - 1) components\n",
        "lda = LDA(n_components=min(500, len(set(y_train)) - 1))\n",
        "\n",
        "X_train_lda = lda.fit_transform(combined_X_train, y_train)\n",
        "X_test_lda = lda.transform(combined_X_test)\n",
        "\n",
        "print(X_train_lda.shape)\n",
        "print(X_test_lda.shape)"
      ],
      "metadata": {
        "colab": {
          "base_uri": "https://localhost:8080/"
        },
        "id": "5B8U4hwdHvlU",
        "outputId": "c4b81411-ec81-46a8-b8d7-9d3f4c57d3b4"
      },
      "execution_count": 47,
      "outputs": [
        {
          "output_type": "stream",
          "name": "stdout",
          "text": [
            "(912, 4)\n",
            "(228, 4)\n"
          ]
        }
      ]
    },
    {
      "cell_type": "markdown",
      "source": [
        "# Calling KNN function on Combined features (without Dimensionality Reduction)"
      ],
      "metadata": {
        "id": "9N3nxJX7YSLE"
      }
    },
    {
      "cell_type": "code",
      "source": [
        "y_pred, acc = knn(5, combined_X_train, combined_X_test, y_test)\n",
        "print(\"Predictions : \", y_pred)\n",
        "print(\"Accuracy : \", acc, \" %\")"
      ],
      "metadata": {
        "id": "uZda_uNdGH79"
      },
      "execution_count": 49,
      "outputs": []
    },
    {
      "cell_type": "markdown",
      "source": [
        "# Calling KNN function on Combined features (with Dimensionality Reduction)"
      ],
      "metadata": {
        "id": "NKp7QqvWZO4T"
      }
    },
    {
      "cell_type": "markdown",
      "source": [
        "## PCA on Combined features"
      ],
      "metadata": {
        "id": "WOHHuOYUhmaQ"
      }
    },
    {
      "cell_type": "code",
      "source": [
        "y_pred, acc = knn(5, X_train_pca, X_test_pca, y_test)\n",
        "print(\"Predictions : \", y_pred)\n",
        "print(\"Accuracy : \", acc, \" %\")"
      ],
      "metadata": {
        "colab": {
          "base_uri": "https://localhost:8080/"
        },
        "id": "Nnvn1QkcFI8L",
        "outputId": "14f02ee7-dfe0-4a9e-a6c1-569d116bb4f6"
      },
      "execution_count": 62,
      "outputs": [
        {
          "output_type": "stream",
          "name": "stdout",
          "text": [
            "Label 0 detected : George_W_Bush\n",
            "Label 1 detected : George_W_Bush\n",
            "Label 2 detected : George_W_Bush\n",
            "Label 3 detected : Donald_Rumsfeld\n",
            "Label 4 detected : George_W_Bush\n",
            "Label 5 detected : Donald_Rumsfeld\n",
            "Label 6 detected : George_W_Bush\n",
            "Label 7 detected : George_W_Bush\n",
            "Label 8 detected : Tony_Blair\n",
            "Label 9 detected : George_W_Bush\n",
            "Label 10 detected : Tony_Blair\n",
            "Label 11 detected : Donald_Rumsfeld\n",
            "Label 12 detected : Tony_Blair\n",
            "Label 13 detected : Tony_Blair\n",
            "Label 14 detected : George_W_Bush\n",
            "Label 15 detected : Tony_Blair\n",
            "Label 16 detected : Donald_Rumsfeld\n",
            "Label 17 detected : Colin_Powell\n",
            "Label 18 detected : George_W_Bush\n",
            "Label 19 detected : George_W_Bush\n",
            "Label 20 detected : George_W_Bush\n",
            "Label 21 detected : George_W_Bush\n",
            "Label 22 detected : George_W_Bush\n",
            "Label 23 detected : Colin_Powell\n",
            "Label 24 detected : George_W_Bush\n",
            "Label 25 detected : Colin_Powell\n",
            "Label 26 detected : Colin_Powell\n",
            "Label 27 detected : Tony_Blair\n",
            "Label 28 detected : George_W_Bush\n",
            "Label 29 detected : George_W_Bush\n",
            "Label 30 detected : George_W_Bush\n",
            "Label 31 detected : Colin_Powell\n",
            "Label 32 detected : Tony_Blair\n",
            "Label 33 detected : George_W_Bush\n",
            "Label 34 detected : George_W_Bush\n",
            "Label 35 detected : Gerhard_Schroeder\n",
            "Label 36 detected : Tony_Blair\n",
            "Label 37 detected : George_W_Bush\n",
            "Label 38 detected : Tony_Blair\n",
            "Label 39 detected : George_W_Bush\n",
            "Label 40 detected : Colin_Powell\n",
            "Label 41 detected : Tony_Blair\n",
            "Label 42 detected : George_W_Bush\n",
            "Label 43 detected : Gerhard_Schroeder\n",
            "Label 44 detected : George_W_Bush\n",
            "Label 45 detected : Tony_Blair\n",
            "Label 46 detected : Gerhard_Schroeder\n",
            "Label 47 detected : George_W_Bush\n",
            "Label 48 detected : Tony_Blair\n",
            "Label 49 detected : George_W_Bush\n",
            "Label 50 detected : George_W_Bush\n",
            "Label 51 detected : George_W_Bush\n",
            "Label 52 detected : George_W_Bush\n",
            "Label 53 detected : Colin_Powell\n",
            "Label 54 detected : Tony_Blair\n",
            "Label 55 detected : George_W_Bush\n",
            "Label 56 detected : George_W_Bush\n",
            "Label 57 detected : George_W_Bush\n",
            "Label 58 detected : George_W_Bush\n",
            "Label 59 detected : Colin_Powell\n",
            "Label 60 detected : George_W_Bush\n",
            "Label 61 detected : George_W_Bush\n",
            "Label 62 detected : Tony_Blair\n",
            "Label 63 detected : George_W_Bush\n",
            "Label 64 detected : Tony_Blair\n",
            "Label 65 detected : Colin_Powell\n",
            "Label 66 detected : Colin_Powell\n",
            "Label 67 detected : George_W_Bush\n",
            "Label 68 detected : George_W_Bush\n",
            "Label 69 detected : George_W_Bush\n",
            "Label 70 detected : Donald_Rumsfeld\n",
            "Label 71 detected : George_W_Bush\n",
            "Label 72 detected : George_W_Bush\n",
            "Label 73 detected : Colin_Powell\n",
            "Label 74 detected : George_W_Bush\n",
            "Label 75 detected : George_W_Bush\n",
            "Label 76 detected : George_W_Bush\n",
            "Label 77 detected : George_W_Bush\n",
            "Label 78 detected : George_W_Bush\n",
            "Label 79 detected : George_W_Bush\n",
            "Label 80 detected : Tony_Blair\n",
            "Label 81 detected : George_W_Bush\n",
            "Label 82 detected : Colin_Powell\n",
            "Label 83 detected : George_W_Bush\n",
            "Label 84 detected : George_W_Bush\n",
            "Label 85 detected : Colin_Powell\n",
            "Label 86 detected : George_W_Bush\n",
            "Label 87 detected : Gerhard_Schroeder\n",
            "Label 88 detected : Gerhard_Schroeder\n",
            "Label 89 detected : Colin_Powell\n",
            "Label 90 detected : George_W_Bush\n",
            "Label 91 detected : George_W_Bush\n",
            "Label 92 detected : George_W_Bush\n",
            "Label 93 detected : George_W_Bush\n",
            "Label 94 detected : George_W_Bush\n",
            "Label 95 detected : George_W_Bush\n",
            "Label 96 detected : George_W_Bush\n",
            "Label 97 detected : Colin_Powell\n",
            "Label 98 detected : George_W_Bush\n",
            "Label 99 detected : George_W_Bush\n",
            "Label 100 detected : George_W_Bush\n",
            "['George_W_Bush', 'George_W_Bush', 'George_W_Bush', 'Donald_Rumsfeld', 'George_W_Bush', 'Donald_Rumsfeld', 'George_W_Bush', 'George_W_Bush', 'Tony_Blair', 'George_W_Bush', 'Tony_Blair', 'Donald_Rumsfeld', 'Tony_Blair', 'Tony_Blair', 'George_W_Bush', 'Tony_Blair', 'Donald_Rumsfeld', 'Colin_Powell', 'George_W_Bush', 'George_W_Bush', 'George_W_Bush', 'George_W_Bush', 'George_W_Bush', 'Colin_Powell', 'George_W_Bush', 'Colin_Powell', 'Colin_Powell', 'Tony_Blair', 'George_W_Bush', 'George_W_Bush', 'George_W_Bush', 'Colin_Powell', 'Tony_Blair', 'George_W_Bush', 'George_W_Bush', 'Gerhard_Schroeder', 'Tony_Blair', 'George_W_Bush', 'Tony_Blair', 'George_W_Bush', 'Colin_Powell', 'Tony_Blair', 'George_W_Bush', 'Gerhard_Schroeder', 'George_W_Bush', 'Tony_Blair', 'Gerhard_Schroeder', 'George_W_Bush', 'Tony_Blair', 'George_W_Bush', 'George_W_Bush', 'George_W_Bush', 'George_W_Bush', 'Colin_Powell', 'Tony_Blair', 'George_W_Bush', 'George_W_Bush', 'George_W_Bush', 'George_W_Bush', 'Colin_Powell', 'George_W_Bush', 'George_W_Bush', 'Tony_Blair', 'George_W_Bush', 'Tony_Blair', 'Colin_Powell', 'Colin_Powell', 'George_W_Bush', 'George_W_Bush', 'George_W_Bush', 'Donald_Rumsfeld', 'George_W_Bush', 'George_W_Bush', 'Colin_Powell', 'George_W_Bush', 'George_W_Bush', 'George_W_Bush', 'George_W_Bush', 'George_W_Bush', 'George_W_Bush', 'Tony_Blair', 'George_W_Bush', 'Colin_Powell', 'George_W_Bush', 'George_W_Bush', 'Colin_Powell', 'George_W_Bush', 'Gerhard_Schroeder', 'Gerhard_Schroeder', 'Colin_Powell', 'George_W_Bush', 'George_W_Bush', 'George_W_Bush', 'George_W_Bush', 'George_W_Bush', 'George_W_Bush', 'George_W_Bush', 'Colin_Powell', 'George_W_Bush', 'George_W_Bush', 'George_W_Bush', 'George_W_Bush', 'Colin_Powell', 'George_W_Bush', 'George_W_Bush', 'George_W_Bush', 'Colin_Powell', 'George_W_Bush', 'George_W_Bush', 'George_W_Bush', 'Colin_Powell', 'Colin_Powell', 'George_W_Bush', 'Donald_Rumsfeld', 'Tony_Blair', 'George_W_Bush', 'George_W_Bush', 'Tony_Blair', 'Colin_Powell', 'George_W_Bush', 'George_W_Bush', 'George_W_Bush', 'Donald_Rumsfeld', 'Tony_Blair', 'Colin_Powell', 'George_W_Bush', 'George_W_Bush', 'Colin_Powell', 'George_W_Bush', 'Colin_Powell', 'George_W_Bush', 'George_W_Bush', 'Tony_Blair', 'George_W_Bush', 'Colin_Powell', 'Tony_Blair', 'George_W_Bush', 'Colin_Powell', 'George_W_Bush', 'George_W_Bush', 'George_W_Bush', 'Colin_Powell', 'George_W_Bush', 'George_W_Bush', 'Colin_Powell', 'George_W_Bush', 'George_W_Bush', 'George_W_Bush', 'Colin_Powell', 'George_W_Bush', 'George_W_Bush', 'George_W_Bush', 'Colin_Powell', 'Colin_Powell', 'George_W_Bush', 'Colin_Powell', 'Donald_Rumsfeld', 'George_W_Bush', 'George_W_Bush', 'Colin_Powell', 'Colin_Powell', 'Gerhard_Schroeder', 'Donald_Rumsfeld', 'Colin_Powell', 'Colin_Powell', 'George_W_Bush', 'George_W_Bush', 'Colin_Powell', 'Tony_Blair', 'Donald_Rumsfeld', 'George_W_Bush', 'Donald_Rumsfeld', 'George_W_Bush', 'Colin_Powell', 'Colin_Powell', 'Tony_Blair', 'Tony_Blair', 'George_W_Bush', 'George_W_Bush', 'Colin_Powell', 'George_W_Bush', 'Donald_Rumsfeld', 'George_W_Bush', 'Donald_Rumsfeld', 'Tony_Blair', 'Gerhard_Schroeder', 'George_W_Bush', 'George_W_Bush', 'George_W_Bush', 'George_W_Bush', 'George_W_Bush', 'George_W_Bush', 'Colin_Powell', 'Tony_Blair', 'George_W_Bush', 'George_W_Bush', 'George_W_Bush', 'Tony_Blair', 'George_W_Bush', 'George_W_Bush', 'George_W_Bush', 'George_W_Bush', 'George_W_Bush', 'George_W_Bush', 'George_W_Bush', 'Tony_Blair', 'Tony_Blair', 'Tony_Blair', 'George_W_Bush', 'George_W_Bush', 'Donald_Rumsfeld', 'George_W_Bush', 'Donald_Rumsfeld', 'George_W_Bush', 'George_W_Bush', 'Colin_Powell', 'George_W_Bush', 'Tony_Blair', 'Colin_Powell', 'George_W_Bush', 'George_W_Bush', 'Colin_Powell', 'Gerhard_Schroeder', 'Gerhard_Schroeder', 'Gerhard_Schroeder', 'George_W_Bush', 'Colin_Powell', 'George_W_Bush']\n",
            "Predictions :  ['George_W_Bush', 'George_W_Bush', 'George_W_Bush', 'Donald_Rumsfeld', 'George_W_Bush', 'Donald_Rumsfeld', 'George_W_Bush', 'George_W_Bush', 'Tony_Blair', 'George_W_Bush', 'Tony_Blair', 'Donald_Rumsfeld', 'Tony_Blair', 'Tony_Blair', 'George_W_Bush', 'Tony_Blair', 'Donald_Rumsfeld', 'Colin_Powell', 'George_W_Bush', 'George_W_Bush', 'George_W_Bush', 'George_W_Bush', 'George_W_Bush', 'Colin_Powell', 'George_W_Bush', 'Colin_Powell', 'Colin_Powell', 'Tony_Blair', 'George_W_Bush', 'George_W_Bush', 'George_W_Bush', 'Colin_Powell', 'Tony_Blair', 'George_W_Bush', 'George_W_Bush', 'Gerhard_Schroeder', 'Tony_Blair', 'George_W_Bush', 'Tony_Blair', 'George_W_Bush', 'Colin_Powell', 'Tony_Blair', 'George_W_Bush', 'Gerhard_Schroeder', 'George_W_Bush', 'Tony_Blair', 'Gerhard_Schroeder', 'George_W_Bush', 'Tony_Blair', 'George_W_Bush', 'George_W_Bush', 'George_W_Bush', 'George_W_Bush', 'Colin_Powell', 'Tony_Blair', 'George_W_Bush', 'George_W_Bush', 'George_W_Bush', 'George_W_Bush', 'Colin_Powell', 'George_W_Bush', 'George_W_Bush', 'Tony_Blair', 'George_W_Bush', 'Tony_Blair', 'Colin_Powell', 'Colin_Powell', 'George_W_Bush', 'George_W_Bush', 'George_W_Bush', 'Donald_Rumsfeld', 'George_W_Bush', 'George_W_Bush', 'Colin_Powell', 'George_W_Bush', 'George_W_Bush', 'George_W_Bush', 'George_W_Bush', 'George_W_Bush', 'George_W_Bush', 'Tony_Blair', 'George_W_Bush', 'Colin_Powell', 'George_W_Bush', 'George_W_Bush', 'Colin_Powell', 'George_W_Bush', 'Gerhard_Schroeder', 'Gerhard_Schroeder', 'Colin_Powell', 'George_W_Bush', 'George_W_Bush', 'George_W_Bush', 'George_W_Bush', 'George_W_Bush', 'George_W_Bush', 'George_W_Bush', 'Colin_Powell', 'George_W_Bush', 'George_W_Bush', 'George_W_Bush', 'George_W_Bush', 'Colin_Powell', 'George_W_Bush', 'George_W_Bush', 'George_W_Bush', 'Colin_Powell', 'George_W_Bush', 'George_W_Bush', 'George_W_Bush', 'Colin_Powell', 'Colin_Powell', 'George_W_Bush', 'Donald_Rumsfeld', 'Tony_Blair', 'George_W_Bush', 'George_W_Bush', 'Tony_Blair', 'Colin_Powell', 'George_W_Bush', 'George_W_Bush', 'George_W_Bush', 'Donald_Rumsfeld', 'Tony_Blair', 'Colin_Powell', 'George_W_Bush', 'George_W_Bush', 'Colin_Powell', 'George_W_Bush', 'Colin_Powell', 'George_W_Bush', 'George_W_Bush', 'Tony_Blair', 'George_W_Bush', 'Colin_Powell', 'Tony_Blair', 'George_W_Bush', 'Colin_Powell', 'George_W_Bush', 'George_W_Bush', 'George_W_Bush', 'Colin_Powell', 'George_W_Bush', 'George_W_Bush', 'Colin_Powell', 'George_W_Bush', 'George_W_Bush', 'George_W_Bush', 'Colin_Powell', 'George_W_Bush', 'George_W_Bush', 'George_W_Bush', 'Colin_Powell', 'Colin_Powell', 'George_W_Bush', 'Colin_Powell', 'Donald_Rumsfeld', 'George_W_Bush', 'George_W_Bush', 'Colin_Powell', 'Colin_Powell', 'Gerhard_Schroeder', 'Donald_Rumsfeld', 'Colin_Powell', 'Colin_Powell', 'George_W_Bush', 'George_W_Bush', 'Colin_Powell', 'Tony_Blair', 'Donald_Rumsfeld', 'George_W_Bush', 'Donald_Rumsfeld', 'George_W_Bush', 'Colin_Powell', 'Colin_Powell', 'Tony_Blair', 'Tony_Blair', 'George_W_Bush', 'George_W_Bush', 'Colin_Powell', 'George_W_Bush', 'Donald_Rumsfeld', 'George_W_Bush', 'Donald_Rumsfeld', 'Tony_Blair', 'Gerhard_Schroeder', 'George_W_Bush', 'George_W_Bush', 'George_W_Bush', 'George_W_Bush', 'George_W_Bush', 'George_W_Bush', 'Colin_Powell', 'Tony_Blair', 'George_W_Bush', 'George_W_Bush', 'George_W_Bush', 'Tony_Blair', 'George_W_Bush', 'George_W_Bush', 'George_W_Bush', 'George_W_Bush', 'George_W_Bush', 'George_W_Bush', 'George_W_Bush', 'Tony_Blair', 'Tony_Blair', 'Tony_Blair', 'George_W_Bush', 'George_W_Bush', 'Donald_Rumsfeld', 'George_W_Bush', 'Donald_Rumsfeld', 'George_W_Bush', 'George_W_Bush', 'Colin_Powell', 'George_W_Bush', 'Tony_Blair', 'Colin_Powell', 'George_W_Bush', 'George_W_Bush', 'Colin_Powell', 'Gerhard_Schroeder', 'Gerhard_Schroeder', 'Gerhard_Schroeder', 'George_W_Bush', 'Colin_Powell', 'George_W_Bush']\n",
            "Accuracy :  58.77192982456141  %\n"
          ]
        }
      ]
    },
    {
      "cell_type": "markdown",
      "source": [
        "## LDA on Combined features"
      ],
      "metadata": {
        "id": "jU179bkmhQSY"
      }
    },
    {
      "cell_type": "code",
      "source": [
        "y_pred, acc = knn(5, X_train_lda, X_test_lda, y_test)\n",
        "print(\"Predictions : \", y_pred)\n",
        "print(\"Accuracy : \", acc, \" %\")"
      ],
      "metadata": {
        "id": "64DqXngZVjWm",
        "colab": {
          "base_uri": "https://localhost:8080/"
        },
        "outputId": "82bd9e60-2778-4f11-b682-8bbefad8d6a9"
      },
      "execution_count": 65,
      "outputs": [
        {
          "output_type": "stream",
          "name": "stdout",
          "text": [
            "Label 0 detected : George_W_Bush\n",
            "Label 10 detected : Colin_Powell\n",
            "Label 20 detected : George_W_Bush\n",
            "Label 30 detected : George_W_Bush\n",
            "Label 40 detected : Gerhard_Schroeder\n",
            "Label 50 detected : George_W_Bush\n",
            "Label 60 detected : Tony_Blair\n",
            "Label 70 detected : George_W_Bush\n",
            "Label 80 detected : George_W_Bush\n",
            "Label 90 detected : Colin_Powell\n",
            "Label 100 detected : Colin_Powell\n",
            "Label 200 detected : Colin_Powell\n",
            "['George_W_Bush', 'Tony_Blair', 'George_W_Bush', 'Donald_Rumsfeld', 'George_W_Bush', 'George_W_Bush', 'Gerhard_Schroeder', 'Colin_Powell', 'Tony_Blair', 'George_W_Bush', 'Colin_Powell', 'Colin_Powell', 'Gerhard_Schroeder', 'George_W_Bush', 'Donald_Rumsfeld', 'George_W_Bush', 'George_W_Bush', 'Tony_Blair', 'George_W_Bush', 'George_W_Bush', 'George_W_Bush', 'Donald_Rumsfeld', 'George_W_Bush', 'Colin_Powell', 'George_W_Bush', 'Colin_Powell', 'George_W_Bush', 'George_W_Bush', 'Gerhard_Schroeder', 'George_W_Bush', 'George_W_Bush', 'Colin_Powell', 'George_W_Bush', 'Tony_Blair', 'Donald_Rumsfeld', 'Donald_Rumsfeld', 'Tony_Blair', 'George_W_Bush', 'Tony_Blair', 'George_W_Bush', 'Gerhard_Schroeder', 'Donald_Rumsfeld', 'George_W_Bush', 'Gerhard_Schroeder', 'George_W_Bush', 'Tony_Blair', 'Gerhard_Schroeder', 'Donald_Rumsfeld', 'Donald_Rumsfeld', 'George_W_Bush', 'George_W_Bush', 'George_W_Bush', 'George_W_Bush', 'Colin_Powell', 'George_W_Bush', 'George_W_Bush', 'George_W_Bush', 'Colin_Powell', 'George_W_Bush', 'Colin_Powell', 'Tony_Blair', 'George_W_Bush', 'George_W_Bush', 'George_W_Bush', 'George_W_Bush', 'George_W_Bush', 'Colin_Powell', 'Tony_Blair', 'Donald_Rumsfeld', 'Donald_Rumsfeld', 'George_W_Bush', 'George_W_Bush', 'Colin_Powell', 'Colin_Powell', 'George_W_Bush', 'George_W_Bush', 'Tony_Blair', 'George_W_Bush', 'George_W_Bush', 'Donald_Rumsfeld', 'George_W_Bush', 'George_W_Bush', 'Gerhard_Schroeder', 'George_W_Bush', 'George_W_Bush', 'Colin_Powell', 'George_W_Bush', 'Gerhard_Schroeder', 'Gerhard_Schroeder', 'Colin_Powell', 'Colin_Powell', 'George_W_Bush', 'Gerhard_Schroeder', 'George_W_Bush', 'Gerhard_Schroeder', 'George_W_Bush', 'George_W_Bush', 'Colin_Powell', 'George_W_Bush', 'George_W_Bush', 'Colin_Powell', 'Colin_Powell', 'Colin_Powell', 'Gerhard_Schroeder', 'George_W_Bush', 'Tony_Blair', 'George_W_Bush', 'George_W_Bush', 'George_W_Bush', 'George_W_Bush', 'Donald_Rumsfeld', 'Colin_Powell', 'George_W_Bush', 'Donald_Rumsfeld', 'Tony_Blair', 'George_W_Bush', 'Colin_Powell', 'Colin_Powell', 'Colin_Powell', 'George_W_Bush', 'George_W_Bush', 'George_W_Bush', 'Colin_Powell', 'Tony_Blair', 'George_W_Bush', 'Tony_Blair', 'Tony_Blair', 'Colin_Powell', 'Tony_Blair', 'Colin_Powell', 'George_W_Bush', 'George_W_Bush', 'Colin_Powell', 'Donald_Rumsfeld', 'George_W_Bush', 'Tony_Blair', 'George_W_Bush', 'Colin_Powell', 'George_W_Bush', 'George_W_Bush', 'George_W_Bush', 'George_W_Bush', 'Donald_Rumsfeld', 'Colin_Powell', 'George_W_Bush', 'Tony_Blair', 'George_W_Bush', 'George_W_Bush', 'Colin_Powell', 'George_W_Bush', 'George_W_Bush', 'George_W_Bush', 'Colin_Powell', 'Colin_Powell', 'George_W_Bush', 'George_W_Bush', 'Donald_Rumsfeld', 'George_W_Bush', 'Colin_Powell', 'Colin_Powell', 'Tony_Blair', 'Colin_Powell', 'George_W_Bush', 'George_W_Bush', 'Colin_Powell', 'Colin_Powell', 'George_W_Bush', 'George_W_Bush', 'George_W_Bush', 'Donald_Rumsfeld', 'George_W_Bush', 'Colin_Powell', 'George_W_Bush', 'Colin_Powell', 'Colin_Powell', 'George_W_Bush', 'George_W_Bush', 'George_W_Bush', 'Tony_Blair', 'Colin_Powell', 'Tony_Blair', 'George_W_Bush', 'Colin_Powell', 'Colin_Powell', 'Tony_Blair', 'George_W_Bush', 'Donald_Rumsfeld', 'George_W_Bush', 'George_W_Bush', 'Tony_Blair', 'George_W_Bush', 'Donald_Rumsfeld', 'George_W_Bush', 'Tony_Blair', 'George_W_Bush', 'George_W_Bush', 'George_W_Bush', 'George_W_Bush', 'George_W_Bush', 'George_W_Bush', 'Colin_Powell', 'George_W_Bush', 'George_W_Bush', 'Tony_Blair', 'George_W_Bush', 'Tony_Blair', 'George_W_Bush', 'George_W_Bush', 'Donald_Rumsfeld', 'Tony_Blair', 'Donald_Rumsfeld', 'Tony_Blair', 'George_W_Bush', 'George_W_Bush', 'Tony_Blair', 'Colin_Powell', 'George_W_Bush', 'George_W_Bush', 'George_W_Bush', 'George_W_Bush', 'George_W_Bush', 'George_W_Bush', 'Gerhard_Schroeder', 'Tony_Blair', 'Gerhard_Schroeder', 'George_W_Bush', 'Gerhard_Schroeder', 'George_W_Bush']\n",
            "Predictions :  ['George_W_Bush', 'Tony_Blair', 'George_W_Bush', 'Donald_Rumsfeld', 'George_W_Bush', 'George_W_Bush', 'Gerhard_Schroeder', 'Colin_Powell', 'Tony_Blair', 'George_W_Bush', 'Colin_Powell', 'Colin_Powell', 'Gerhard_Schroeder', 'George_W_Bush', 'Donald_Rumsfeld', 'George_W_Bush', 'George_W_Bush', 'Tony_Blair', 'George_W_Bush', 'George_W_Bush', 'George_W_Bush', 'Donald_Rumsfeld', 'George_W_Bush', 'Colin_Powell', 'George_W_Bush', 'Colin_Powell', 'George_W_Bush', 'George_W_Bush', 'Gerhard_Schroeder', 'George_W_Bush', 'George_W_Bush', 'Colin_Powell', 'George_W_Bush', 'Tony_Blair', 'Donald_Rumsfeld', 'Donald_Rumsfeld', 'Tony_Blair', 'George_W_Bush', 'Tony_Blair', 'George_W_Bush', 'Gerhard_Schroeder', 'Donald_Rumsfeld', 'George_W_Bush', 'Gerhard_Schroeder', 'George_W_Bush', 'Tony_Blair', 'Gerhard_Schroeder', 'Donald_Rumsfeld', 'Donald_Rumsfeld', 'George_W_Bush', 'George_W_Bush', 'George_W_Bush', 'George_W_Bush', 'Colin_Powell', 'George_W_Bush', 'George_W_Bush', 'George_W_Bush', 'Colin_Powell', 'George_W_Bush', 'Colin_Powell', 'Tony_Blair', 'George_W_Bush', 'George_W_Bush', 'George_W_Bush', 'George_W_Bush', 'George_W_Bush', 'Colin_Powell', 'Tony_Blair', 'Donald_Rumsfeld', 'Donald_Rumsfeld', 'George_W_Bush', 'George_W_Bush', 'Colin_Powell', 'Colin_Powell', 'George_W_Bush', 'George_W_Bush', 'Tony_Blair', 'George_W_Bush', 'George_W_Bush', 'Donald_Rumsfeld', 'George_W_Bush', 'George_W_Bush', 'Gerhard_Schroeder', 'George_W_Bush', 'George_W_Bush', 'Colin_Powell', 'George_W_Bush', 'Gerhard_Schroeder', 'Gerhard_Schroeder', 'Colin_Powell', 'Colin_Powell', 'George_W_Bush', 'Gerhard_Schroeder', 'George_W_Bush', 'Gerhard_Schroeder', 'George_W_Bush', 'George_W_Bush', 'Colin_Powell', 'George_W_Bush', 'George_W_Bush', 'Colin_Powell', 'Colin_Powell', 'Colin_Powell', 'Gerhard_Schroeder', 'George_W_Bush', 'Tony_Blair', 'George_W_Bush', 'George_W_Bush', 'George_W_Bush', 'George_W_Bush', 'Donald_Rumsfeld', 'Colin_Powell', 'George_W_Bush', 'Donald_Rumsfeld', 'Tony_Blair', 'George_W_Bush', 'Colin_Powell', 'Colin_Powell', 'Colin_Powell', 'George_W_Bush', 'George_W_Bush', 'George_W_Bush', 'Colin_Powell', 'Tony_Blair', 'George_W_Bush', 'Tony_Blair', 'Tony_Blair', 'Colin_Powell', 'Tony_Blair', 'Colin_Powell', 'George_W_Bush', 'George_W_Bush', 'Colin_Powell', 'Donald_Rumsfeld', 'George_W_Bush', 'Tony_Blair', 'George_W_Bush', 'Colin_Powell', 'George_W_Bush', 'George_W_Bush', 'George_W_Bush', 'George_W_Bush', 'Donald_Rumsfeld', 'Colin_Powell', 'George_W_Bush', 'Tony_Blair', 'George_W_Bush', 'George_W_Bush', 'Colin_Powell', 'George_W_Bush', 'George_W_Bush', 'George_W_Bush', 'Colin_Powell', 'Colin_Powell', 'George_W_Bush', 'George_W_Bush', 'Donald_Rumsfeld', 'George_W_Bush', 'Colin_Powell', 'Colin_Powell', 'Tony_Blair', 'Colin_Powell', 'George_W_Bush', 'George_W_Bush', 'Colin_Powell', 'Colin_Powell', 'George_W_Bush', 'George_W_Bush', 'George_W_Bush', 'Donald_Rumsfeld', 'George_W_Bush', 'Colin_Powell', 'George_W_Bush', 'Colin_Powell', 'Colin_Powell', 'George_W_Bush', 'George_W_Bush', 'George_W_Bush', 'Tony_Blair', 'Colin_Powell', 'Tony_Blair', 'George_W_Bush', 'Colin_Powell', 'Colin_Powell', 'Tony_Blair', 'George_W_Bush', 'Donald_Rumsfeld', 'George_W_Bush', 'George_W_Bush', 'Tony_Blair', 'George_W_Bush', 'Donald_Rumsfeld', 'George_W_Bush', 'Tony_Blair', 'George_W_Bush', 'George_W_Bush', 'George_W_Bush', 'George_W_Bush', 'George_W_Bush', 'George_W_Bush', 'Colin_Powell', 'George_W_Bush', 'George_W_Bush', 'Tony_Blair', 'George_W_Bush', 'Tony_Blair', 'George_W_Bush', 'George_W_Bush', 'Donald_Rumsfeld', 'Tony_Blair', 'Donald_Rumsfeld', 'Tony_Blair', 'George_W_Bush', 'George_W_Bush', 'Tony_Blair', 'Colin_Powell', 'George_W_Bush', 'George_W_Bush', 'George_W_Bush', 'George_W_Bush', 'George_W_Bush', 'George_W_Bush', 'Gerhard_Schroeder', 'Tony_Blair', 'Gerhard_Schroeder', 'George_W_Bush', 'Gerhard_Schroeder', 'George_W_Bush']\n",
            "Accuracy :  81.14035087719299  %\n"
          ]
        }
      ]
    },
    {
      "cell_type": "markdown",
      "source": [
        "# Visualization"
      ],
      "metadata": {
        "id": "ahlQlxfNZ_D6"
      }
    },
    {
      "cell_type": "markdown",
      "source": [
        "## Apply LDA on Combined features to keep only 2 features"
      ],
      "metadata": {
        "id": "AMxQNZwVexEh"
      }
    },
    {
      "cell_type": "code",
      "source": [
        "lda = LDA(n_components=2)\n",
        "\n",
        "X_train_lda_graph = lda.fit_transform(combined_X_train, y_train)\n",
        "X_test_lda_graph = lda.transform(combined_X_test)\n",
        "\n",
        "print(X_train_lda_graph.shape)\n",
        "print(X_test_lda_graph.shape)"
      ],
      "metadata": {
        "colab": {
          "base_uri": "https://localhost:8080/"
        },
        "id": "iIWO6qrNe13V",
        "outputId": "48b5edf1-4eea-4e12-aeee-d60003096fe7"
      },
      "execution_count": 69,
      "outputs": [
        {
          "output_type": "stream",
          "name": "stdout",
          "text": [
            "(912, 2)\n",
            "(228, 2)\n"
          ]
        }
      ]
    },
    {
      "cell_type": "code",
      "source": [
        "y_pred, acc = knn(5, X_train_lda_graph, X_test_lda_graph, y_test)\n",
        "print(\"Predictions : \", y_pred)\n",
        "print(\"Accuracy : \", acc, \" %\")"
      ],
      "metadata": {
        "colab": {
          "base_uri": "https://localhost:8080/"
        },
        "id": "7WKr03MNfICB",
        "outputId": "acb6ad90-2db5-40c7-c10e-7aa032946162"
      },
      "execution_count": 70,
      "outputs": [
        {
          "output_type": "stream",
          "name": "stdout",
          "text": [
            "Label 0 detected : George_W_Bush\n",
            "Label 10 detected : Colin_Powell\n",
            "Label 20 detected : George_W_Bush\n",
            "Label 30 detected : Donald_Rumsfeld\n",
            "Label 40 detected : Gerhard_Schroeder\n",
            "Label 50 detected : George_W_Bush\n",
            "Label 60 detected : George_W_Bush\n",
            "Label 70 detected : George_W_Bush\n",
            "Label 80 detected : George_W_Bush\n",
            "Label 90 detected : Colin_Powell\n",
            "Label 100 detected : Colin_Powell\n",
            "Label 200 detected : Colin_Powell\n",
            "['George_W_Bush', 'Gerhard_Schroeder', 'George_W_Bush', 'Gerhard_Schroeder', 'George_W_Bush', 'Tony_Blair', 'Donald_Rumsfeld', 'Colin_Powell', 'Tony_Blair', 'George_W_Bush', 'Colin_Powell', 'Colin_Powell', 'Colin_Powell', 'Gerhard_Schroeder', 'Donald_Rumsfeld', 'George_W_Bush', 'George_W_Bush', 'Gerhard_Schroeder', 'Gerhard_Schroeder', 'George_W_Bush', 'George_W_Bush', 'Donald_Rumsfeld', 'Gerhard_Schroeder', 'Gerhard_Schroeder', 'Donald_Rumsfeld', 'Colin_Powell', 'George_W_Bush', 'Gerhard_Schroeder', 'Gerhard_Schroeder', 'George_W_Bush', 'Donald_Rumsfeld', 'Colin_Powell', 'George_W_Bush', 'George_W_Bush', 'Gerhard_Schroeder', 'Donald_Rumsfeld', 'Gerhard_Schroeder', 'George_W_Bush', 'Tony_Blair', 'George_W_Bush', 'Gerhard_Schroeder', 'Donald_Rumsfeld', 'Gerhard_Schroeder', 'George_W_Bush', 'Gerhard_Schroeder', 'Tony_Blair', 'Gerhard_Schroeder', 'Donald_Rumsfeld', 'Donald_Rumsfeld', 'George_W_Bush', 'George_W_Bush', 'Tony_Blair', 'Gerhard_Schroeder', 'Colin_Powell', 'Gerhard_Schroeder', 'George_W_Bush', 'George_W_Bush', 'Colin_Powell', 'George_W_Bush', 'Colin_Powell', 'George_W_Bush', 'George_W_Bush', 'George_W_Bush', 'George_W_Bush', 'Gerhard_Schroeder', 'Donald_Rumsfeld', 'Colin_Powell', 'Tony_Blair', 'George_W_Bush', 'Donald_Rumsfeld', 'George_W_Bush', 'George_W_Bush', 'Donald_Rumsfeld', 'Colin_Powell', 'George_W_Bush', 'Gerhard_Schroeder', 'George_W_Bush', 'Donald_Rumsfeld', 'George_W_Bush', 'Donald_Rumsfeld', 'George_W_Bush', 'George_W_Bush', 'Gerhard_Schroeder', 'George_W_Bush', 'Tony_Blair', 'Colin_Powell', 'George_W_Bush', 'Gerhard_Schroeder', 'Colin_Powell', 'Gerhard_Schroeder', 'Colin_Powell', 'George_W_Bush', 'Donald_Rumsfeld', 'George_W_Bush', 'George_W_Bush', 'George_W_Bush', 'George_W_Bush', 'Colin_Powell', 'George_W_Bush', 'Gerhard_Schroeder', 'Colin_Powell', 'Gerhard_Schroeder', 'Colin_Powell', 'Gerhard_Schroeder', 'George_W_Bush', 'Tony_Blair', 'Tony_Blair', 'Tony_Blair', 'George_W_Bush', 'George_W_Bush', 'Donald_Rumsfeld', 'Gerhard_Schroeder', 'Tony_Blair', 'Donald_Rumsfeld', 'Gerhard_Schroeder', 'George_W_Bush', 'Colin_Powell', 'Colin_Powell', 'Colin_Powell', 'George_W_Bush', 'George_W_Bush', 'Donald_Rumsfeld', 'Colin_Powell', 'Tony_Blair', 'George_W_Bush', 'Tony_Blair', 'George_W_Bush', 'Colin_Powell', 'George_W_Bush', 'Colin_Powell', 'George_W_Bush', 'Gerhard_Schroeder', 'Colin_Powell', 'Donald_Rumsfeld', 'George_W_Bush', 'Tony_Blair', 'George_W_Bush', 'Colin_Powell', 'Gerhard_Schroeder', 'George_W_Bush', 'George_W_Bush', 'Gerhard_Schroeder', 'Donald_Rumsfeld', 'Colin_Powell', 'Gerhard_Schroeder', 'Tony_Blair', 'George_W_Bush', 'George_W_Bush', 'Colin_Powell', 'George_W_Bush', 'George_W_Bush', 'George_W_Bush', 'Colin_Powell', 'Gerhard_Schroeder', 'George_W_Bush', 'Gerhard_Schroeder', 'Colin_Powell', 'George_W_Bush', 'Colin_Powell', 'Colin_Powell', 'Tony_Blair', 'Colin_Powell', 'Donald_Rumsfeld', 'George_W_Bush', 'Colin_Powell', 'Tony_Blair', 'George_W_Bush', 'George_W_Bush', 'George_W_Bush', 'Donald_Rumsfeld', 'George_W_Bush', 'Colin_Powell', 'George_W_Bush', 'Colin_Powell', 'Colin_Powell', 'Gerhard_Schroeder', 'Tony_Blair', 'George_W_Bush', 'Tony_Blair', 'Colin_Powell', 'Tony_Blair', 'Gerhard_Schroeder', 'Colin_Powell', 'Donald_Rumsfeld', 'Tony_Blair', 'George_W_Bush', 'Donald_Rumsfeld', 'Donald_Rumsfeld', 'George_W_Bush', 'Tony_Blair', 'George_W_Bush', 'Donald_Rumsfeld', 'George_W_Bush', 'Gerhard_Schroeder', 'Donald_Rumsfeld', 'George_W_Bush', 'George_W_Bush', 'George_W_Bush', 'George_W_Bush', 'George_W_Bush', 'Colin_Powell', 'Gerhard_Schroeder', 'George_W_Bush', 'Tony_Blair', 'Gerhard_Schroeder', 'Tony_Blair', 'George_W_Bush', 'George_W_Bush', 'Donald_Rumsfeld', 'Tony_Blair', 'Donald_Rumsfeld', 'Tony_Blair', 'George_W_Bush', 'Gerhard_Schroeder', 'Tony_Blair', 'Colin_Powell', 'Gerhard_Schroeder', 'George_W_Bush', 'Donald_Rumsfeld', 'George_W_Bush', 'George_W_Bush', 'George_W_Bush', 'George_W_Bush', 'Tony_Blair', 'Tony_Blair', 'George_W_Bush', 'Colin_Powell', 'George_W_Bush']\n",
            "Predictions :  ['George_W_Bush', 'Gerhard_Schroeder', 'George_W_Bush', 'Gerhard_Schroeder', 'George_W_Bush', 'Tony_Blair', 'Donald_Rumsfeld', 'Colin_Powell', 'Tony_Blair', 'George_W_Bush', 'Colin_Powell', 'Colin_Powell', 'Colin_Powell', 'Gerhard_Schroeder', 'Donald_Rumsfeld', 'George_W_Bush', 'George_W_Bush', 'Gerhard_Schroeder', 'Gerhard_Schroeder', 'George_W_Bush', 'George_W_Bush', 'Donald_Rumsfeld', 'Gerhard_Schroeder', 'Gerhard_Schroeder', 'Donald_Rumsfeld', 'Colin_Powell', 'George_W_Bush', 'Gerhard_Schroeder', 'Gerhard_Schroeder', 'George_W_Bush', 'Donald_Rumsfeld', 'Colin_Powell', 'George_W_Bush', 'George_W_Bush', 'Gerhard_Schroeder', 'Donald_Rumsfeld', 'Gerhard_Schroeder', 'George_W_Bush', 'Tony_Blair', 'George_W_Bush', 'Gerhard_Schroeder', 'Donald_Rumsfeld', 'Gerhard_Schroeder', 'George_W_Bush', 'Gerhard_Schroeder', 'Tony_Blair', 'Gerhard_Schroeder', 'Donald_Rumsfeld', 'Donald_Rumsfeld', 'George_W_Bush', 'George_W_Bush', 'Tony_Blair', 'Gerhard_Schroeder', 'Colin_Powell', 'Gerhard_Schroeder', 'George_W_Bush', 'George_W_Bush', 'Colin_Powell', 'George_W_Bush', 'Colin_Powell', 'George_W_Bush', 'George_W_Bush', 'George_W_Bush', 'George_W_Bush', 'Gerhard_Schroeder', 'Donald_Rumsfeld', 'Colin_Powell', 'Tony_Blair', 'George_W_Bush', 'Donald_Rumsfeld', 'George_W_Bush', 'George_W_Bush', 'Donald_Rumsfeld', 'Colin_Powell', 'George_W_Bush', 'Gerhard_Schroeder', 'George_W_Bush', 'Donald_Rumsfeld', 'George_W_Bush', 'Donald_Rumsfeld', 'George_W_Bush', 'George_W_Bush', 'Gerhard_Schroeder', 'George_W_Bush', 'Tony_Blair', 'Colin_Powell', 'George_W_Bush', 'Gerhard_Schroeder', 'Colin_Powell', 'Gerhard_Schroeder', 'Colin_Powell', 'George_W_Bush', 'Donald_Rumsfeld', 'George_W_Bush', 'George_W_Bush', 'George_W_Bush', 'George_W_Bush', 'Colin_Powell', 'George_W_Bush', 'Gerhard_Schroeder', 'Colin_Powell', 'Gerhard_Schroeder', 'Colin_Powell', 'Gerhard_Schroeder', 'George_W_Bush', 'Tony_Blair', 'Tony_Blair', 'Tony_Blair', 'George_W_Bush', 'George_W_Bush', 'Donald_Rumsfeld', 'Gerhard_Schroeder', 'Tony_Blair', 'Donald_Rumsfeld', 'Gerhard_Schroeder', 'George_W_Bush', 'Colin_Powell', 'Colin_Powell', 'Colin_Powell', 'George_W_Bush', 'George_W_Bush', 'Donald_Rumsfeld', 'Colin_Powell', 'Tony_Blair', 'George_W_Bush', 'Tony_Blair', 'George_W_Bush', 'Colin_Powell', 'George_W_Bush', 'Colin_Powell', 'George_W_Bush', 'Gerhard_Schroeder', 'Colin_Powell', 'Donald_Rumsfeld', 'George_W_Bush', 'Tony_Blair', 'George_W_Bush', 'Colin_Powell', 'Gerhard_Schroeder', 'George_W_Bush', 'George_W_Bush', 'Gerhard_Schroeder', 'Donald_Rumsfeld', 'Colin_Powell', 'Gerhard_Schroeder', 'Tony_Blair', 'George_W_Bush', 'George_W_Bush', 'Colin_Powell', 'George_W_Bush', 'George_W_Bush', 'George_W_Bush', 'Colin_Powell', 'Gerhard_Schroeder', 'George_W_Bush', 'Gerhard_Schroeder', 'Colin_Powell', 'George_W_Bush', 'Colin_Powell', 'Colin_Powell', 'Tony_Blair', 'Colin_Powell', 'Donald_Rumsfeld', 'George_W_Bush', 'Colin_Powell', 'Tony_Blair', 'George_W_Bush', 'George_W_Bush', 'George_W_Bush', 'Donald_Rumsfeld', 'George_W_Bush', 'Colin_Powell', 'George_W_Bush', 'Colin_Powell', 'Colin_Powell', 'Gerhard_Schroeder', 'Tony_Blair', 'George_W_Bush', 'Tony_Blair', 'Colin_Powell', 'Tony_Blair', 'Gerhard_Schroeder', 'Colin_Powell', 'Donald_Rumsfeld', 'Tony_Blair', 'George_W_Bush', 'Donald_Rumsfeld', 'Donald_Rumsfeld', 'George_W_Bush', 'Tony_Blair', 'George_W_Bush', 'Donald_Rumsfeld', 'George_W_Bush', 'Gerhard_Schroeder', 'Donald_Rumsfeld', 'George_W_Bush', 'George_W_Bush', 'George_W_Bush', 'George_W_Bush', 'George_W_Bush', 'Colin_Powell', 'Gerhard_Schroeder', 'George_W_Bush', 'Tony_Blair', 'Gerhard_Schroeder', 'Tony_Blair', 'George_W_Bush', 'George_W_Bush', 'Donald_Rumsfeld', 'Tony_Blair', 'Donald_Rumsfeld', 'Tony_Blair', 'George_W_Bush', 'Gerhard_Schroeder', 'Tony_Blair', 'Colin_Powell', 'Gerhard_Schroeder', 'George_W_Bush', 'Donald_Rumsfeld', 'George_W_Bush', 'George_W_Bush', 'George_W_Bush', 'George_W_Bush', 'Tony_Blair', 'Tony_Blair', 'George_W_Bush', 'Colin_Powell', 'George_W_Bush']\n",
            "Accuracy :  64.91228070175438  %\n"
          ]
        }
      ]
    },
    {
      "cell_type": "code",
      "source": [
        "# Actual labels\n",
        "y_test_labels = label_encoder.inverse_transform(y_test)"
      ],
      "metadata": {
        "id": "CoIntBTlaBcN"
      },
      "execution_count": 66,
      "outputs": []
    },
    {
      "cell_type": "code",
      "source": [
        "print(np.unique(y_test_labels))"
      ],
      "metadata": {
        "colab": {
          "base_uri": "https://localhost:8080/"
        },
        "id": "1o-3N04ohKYs",
        "outputId": "8c5752df-4214-44ca-a7c4-86820cadfd30"
      },
      "execution_count": 73,
      "outputs": [
        {
          "output_type": "stream",
          "name": "stdout",
          "text": [
            "['Colin_Powell' 'Donald_Rumsfeld' 'George_W_Bush' 'Gerhard_Schroeder'\n",
            " 'Tony_Blair']\n"
          ]
        }
      ]
    },
    {
      "cell_type": "markdown",
      "source": [
        "### Graph visualisation"
      ],
      "metadata": {
        "id": "AiLrE79Snk_t"
      }
    },
    {
      "cell_type": "code",
      "source": [
        "import matplotlib.pyplot as plt\n",
        "import numpy as np\n",
        "\n",
        "X_plot = X_test_lda_graph\n",
        "y_actual = np.array(y_test_labels)\n",
        "y_pred = np.array(y_pred)\n",
        "\n",
        "classes = np.unique(y_actual)\n",
        "colors = plt.cm.get_cmap('tab10', len(classes))\n",
        "\n",
        "# Identify misclassified points\n",
        "misclassified = y_actual != y_pred\n",
        "\n",
        "# Create side-by-side subplots\n",
        "fig, axs = plt.subplots(1, 2, figsize=(12, 5))\n",
        "\n",
        "# --- Plot y_actual ---\n",
        "for i, label in enumerate(classes):\n",
        "    indices = np.where(y_actual == label)\n",
        "    axs[0].scatter(X_plot[indices, 0], X_plot[indices, 1], label=f'{label}', color=colors(i))\n",
        "axs[0].set_title(\"Actual Labels (y_actual)\")\n",
        "axs[0].set_xlabel(\"LDA Component 1\")\n",
        "axs[0].set_ylabel(\"LDA Component 2\")\n",
        "axs[0].legend()\n",
        "axs[0].grid(True)\n",
        "\n",
        "# --- Plot y_pred ---\n",
        "for i, label in enumerate(classes):\n",
        "    indices = np.where(y_pred == label)\n",
        "    axs[1].scatter(X_plot[indices, 0], X_plot[indices, 1], label=f'{label}', color=colors(i), alpha=0.7)\n",
        "\n",
        "# Highlight misclassified points with red borders\n",
        "axs[1].scatter(X_plot[misclassified, 0], X_plot[misclassified, 1],\n",
        "               facecolors='none', edgecolors='red', s=100, linewidths=1.5, label='Misclassified')\n",
        "\n",
        "axs[1].set_title(\"Predicted Labels (y_pred)\")\n",
        "axs[1].set_xlabel(\"LDA Component 1\")\n",
        "axs[1].set_ylabel(\"LDA Component 2\")\n",
        "axs[1].legend()\n",
        "axs[1].grid(True)\n",
        "\n",
        "plt.tight_layout()\n",
        "plt.show()\n"
      ],
      "metadata": {
        "colab": {
          "base_uri": "https://localhost:8080/",
          "height": 543
        },
        "id": "MZPxFT4yeeuC",
        "outputId": "616d9f49-6600-4371-84c7-5f82257c5685"
      },
      "execution_count": 90,
      "outputs": [
        {
          "output_type": "stream",
          "name": "stderr",
          "text": [
            "<ipython-input-90-310e31f358de>:9: MatplotlibDeprecationWarning: The get_cmap function was deprecated in Matplotlib 3.7 and will be removed in 3.11. Use ``matplotlib.colormaps[name]`` or ``matplotlib.colormaps.get_cmap()`` or ``pyplot.get_cmap()`` instead.\n",
            "  colors = plt.cm.get_cmap('tab10', len(classes))\n"
          ]
        },
        {
          "output_type": "display_data",
          "data": {
            "text/plain": [
              "<Figure size 1200x500 with 2 Axes>"
            ],
            "image/png": "[encoded data removed]"
          },
          "metadata": {}
        }
      ]
    },
    {
      "cell_type": "markdown",
      "source": [
        "### Confusion Matrices (One vs All)"
      ],
      "metadata": {
        "id": "-638K8XfntRr"
      }
    },
    {
      "cell_type": "code",
      "source": [
        "import numpy as np\n",
        "import matplotlib.pyplot as plt\n",
        "import seaborn as sns\n",
        "from sklearn.metrics import confusion_matrix\n",
        "\n",
        "# Inputs\n",
        "y_true = np.array(y_test_labels)\n",
        "y_pred = np.array(y_pred)\n",
        "\n",
        "classes = np.unique(y_true)\n",
        "class_names = [f\"{c}\" for c in classes]  # or actual names\n",
        "\n",
        "n_classes = len(classes)\n",
        "cols = 5  # All in one row\n",
        "rows = (n_classes + cols - 1) // cols\n",
        "\n",
        "# Slightly bigger square plots\n",
        "fig, axes = plt.subplots(rows, cols, figsize=(cols * 2.8, rows * 2.8), squeeze=False)\n",
        "fig.suptitle(\" 'One vs All' Confusion Matrices\", fontsize=15, fontweight='bold')\n",
        "\n",
        "for i, cls in enumerate(classes):\n",
        "    row, col = divmod(i, cols)\n",
        "    ax = axes[row][col]\n",
        "\n",
        "    binary_true = (y_true == cls).astype(int)\n",
        "    binary_pred = (y_pred == cls).astype(int)\n",
        "    cm = confusion_matrix(binary_true, binary_pred)\n",
        "\n",
        "    sns.heatmap(cm, annot=True, fmt='d', cmap='Blues', cbar=False, ax=ax,\n",
        "                square=True, xticklabels=[\"No\", \"Yes\"], yticklabels=[\"No\", \"Yes\"],\n",
        "                annot_kws={\"size\": 12})\n",
        "\n",
        "    ax.set_title(class_names[i], fontsize=11, fontweight='semibold')\n",
        "    ax.set_xlabel(\"Predicted\", fontsize=9)\n",
        "    ax.set_ylabel(\"Actual\", fontsize=9)\n",
        "    ax.tick_params(labelsize=9)\n",
        "\n",
        "# Turn off extra axes\n",
        "for j in range(i+1, rows*cols):\n",
        "    row, col = divmod(j, cols)\n",
        "    axes[row][col].axis(\"off\")\n",
        "\n",
        "plt.tight_layout(rect=[0, 0, 1, 0.92])\n",
        "plt.show()"
      ],
      "metadata": {
        "colab": {
          "base_uri": "https://localhost:8080/",
          "height": 271
        },
        "id": "MwspJsaZkJIp",
        "outputId": "b210e324-58ea-465e-be1f-24c00fd3ea3e"
      },
      "execution_count": 99,
      "outputs": [
        {
          "output_type": "display_data",
          "data": {
            "text/plain": [
              "<Figure size 1400x280 with 5 Axes>"
            ],
            "image/png": "[encoded data removed]"
          },
          "metadata": {}
        }
      ]
    },
    {
      "cell_type": "code",
      "source": [
        "import numpy as np\n",
        "import matplotlib.pyplot as plt\n",
        "from matplotlib.colors import ListedColormap\n",
        "\n",
        "# Use your LDA-reduced data\n",
        "X_train_plot = X_train_lda_graph\n",
        "X_test_plot = X_test_lda_graph\n",
        "\n",
        "# Convert labels to integers for coloring\n",
        "y_train_int = label_encoder.transform(y_train)\n",
        "\n",
        "# Define mesh grid boundaries\n",
        "x_min, x_max = X_train_plot[:, 0].min() - 1, X_train_plot[:, 0].max() + 1\n",
        "y_min, y_max = X_train_plot[:, 1].min() - 1, X_train_plot[:, 1].max() + 1\n",
        "xx, yy = np.meshgrid(np.arange(x_min, x_max, 0.05),\n",
        "                     np.arange(y_min, y_max, 0.05))\n",
        "\n",
        "# Predict over the entire mesh grid using your KNN function\n",
        "grid_points = np.c_[xx.ravel(), yy.ravel()]\n",
        "grid_preds = []\n",
        "\n",
        "print(\"Generating decision boundary...\")\n",
        "\n",
        "for point in grid_points:\n",
        "    # Use your custom KNN with just one test point at a time\n",
        "    pred, _ = knn(5, X_train_plot, X_test=np.array([point]), y_test=[0])  # dummy y_test\n",
        "    grid_preds.append(label_encoder.transform([pred[0]])[0])  # convert back to int\n",
        "\n",
        "Z = np.array(grid_preds).reshape(xx.shape)\n",
        "\n",
        "# Plot decision boundary\n",
        "plt.figure(figsize=(10, 6))\n",
        "cmap_light = ListedColormap(['#FFCCCC', '#CCFFCC', '#CCCCFF', '#FFFFCC', '#E0CCFF'])\n",
        "cmap_bold = ListedColormap(['#FF0000', '#00CC00', '#0000FF', '#CCCC00', '#8000FF'])\n",
        "\n",
        "plt.contourf(xx, yy, Z, cmap=cmap_light, alpha=0.6)\n",
        "\n",
        "# Plot training points\n",
        "scatter = plt.scatter(X_train_plot[:, 0], X_train_plot[:, 1], c=y_train_int, cmap=cmap_bold, edgecolor='k', s=60)\n",
        "plt.xlabel(\"LDA Component 1\")\n",
        "plt.ylabel(\"LDA Component 2\")\n",
        "plt.title(\"KNN Decision Boundary (Custom KNN)\")\n",
        "\n",
        "# Legend\n",
        "handles = scatter.legend_elements()[0]\n",
        "labels = label_encoder.inverse_transform(np.unique(y_train_int))\n",
        "plt.legend(handles, labels, title=\"Classes\", loc=\"upper right\")\n",
        "\n",
        "plt.grid(True, linestyle='--', alpha=0.4)\n",
        "plt.tight_layout()\n",
        "plt.show()\n"
      ],
      "metadata": {
        "colab": {
          "base_uri": "https://localhost:8080/",
          "height": 408
        },
        "id": "RyZWf49bnMHT",
        "outputId": "1e26fd86-2564-4433-9ca9-92f976f55d9f"
      },
      "execution_count": 100,
      "outputs": [
        {
          "output_type": "error",
          "ename": "ValueError",
          "evalue": "y contains previously unseen labels: 2",
          "traceback": [
            "\u001b[0;31m---------------------------------------------------------------------------\u001b[0m",
            "\u001b[0;31mKeyError\u001b[0m                                  Traceback (most recent call last)",
            "\u001b[0;32m/usr/local/lib/python3.11/dist-packages/sklearn/utils/_encode.py\u001b[0m in \u001b[0;36m_encode\u001b[0;34m(values, uniques, check_unknown)\u001b[0m\n\u001b[1;32m    234\u001b[0m         \u001b[0;32mtry\u001b[0m\u001b[0;34m:\u001b[0m\u001b[0;34m\u001b[0m\u001b[0;34m\u001b[0m\u001b[0m\n\u001b[0;32m--> 235\u001b[0;31m             \u001b[0;32mreturn\u001b[0m \u001b[0m_map_to_integer\u001b[0m\u001b[0;34m(\u001b[0m\u001b[0mvalues\u001b[0m\u001b[0;34m,\u001b[0m \u001b[0muniques\u001b[0m\u001b[0;34m)\u001b[0m\u001b[0;34m\u001b[0m\u001b[0;34m\u001b[0m\u001b[0m\n\u001b[0m\u001b[1;32m    236\u001b[0m         \u001b[0;32mexcept\u001b[0m \u001b[0mKeyError\u001b[0m \u001b[0;32mas\u001b[0m \u001b[0me\u001b[0m\u001b[0;34m:\u001b[0m\u001b[0;34m\u001b[0m\u001b[0;34m\u001b[0m\u001b[0m\n",
            "\u001b[0;32m/usr/local/lib/python3.11/dist-packages/sklearn/utils/_encode.py\u001b[0m in \u001b[0;36m_map_to_integer\u001b[0;34m(values, uniques)\u001b[0m\n\u001b[1;32m    173\u001b[0m     \u001b[0mtable\u001b[0m \u001b[0;34m=\u001b[0m \u001b[0m_nandict\u001b[0m\u001b[0;34m(\u001b[0m\u001b[0;34m{\u001b[0m\u001b[0mval\u001b[0m\u001b[0;34m:\u001b[0m \u001b[0mi\u001b[0m \u001b[0;32mfor\u001b[0m \u001b[0mi\u001b[0m\u001b[0;34m,\u001b[0m \u001b[0mval\u001b[0m \u001b[0;32min\u001b[0m \u001b[0menumerate\u001b[0m\u001b[0;34m(\u001b[0m\u001b[0muniques\u001b[0m\u001b[0;34m)\u001b[0m\u001b[0;34m}\u001b[0m\u001b[0;34m)\u001b[0m\u001b[0;34m\u001b[0m\u001b[0;34m\u001b[0m\u001b[0m\n\u001b[0;32m--> 174\u001b[0;31m     \u001b[0;32mreturn\u001b[0m \u001b[0mxp\u001b[0m\u001b[0;34m.\u001b[0m\u001b[0masarray\u001b[0m\u001b[0;34m(\u001b[0m\u001b[0;34m[\u001b[0m\u001b[0mtable\u001b[0m\u001b[0;34m[\u001b[0m\u001b[0mv\u001b[0m\u001b[0;34m]\u001b[0m \u001b[0;32mfor\u001b[0m \u001b[0mv\u001b[0m \u001b[0;32min\u001b[0m \u001b[0mvalues\u001b[0m\u001b[0;34m]\u001b[0m\u001b[0;34m,\u001b[0m \u001b[0mdevice\u001b[0m\u001b[0;34m=\u001b[0m\u001b[0mdevice\u001b[0m\u001b[0;34m(\u001b[0m\u001b[0mvalues\u001b[0m\u001b[0;34m)\u001b[0m\u001b[0;34m)\u001b[0m\u001b[0;34m\u001b[0m\u001b[0;34m\u001b[0m\u001b[0m\n\u001b[0m\u001b[1;32m    175\u001b[0m \u001b[0;34m\u001b[0m\u001b[0m\n",
            "\u001b[0;32m/usr/local/lib/python3.11/dist-packages/sklearn/utils/_encode.py\u001b[0m in \u001b[0;36m<listcomp>\u001b[0;34m(.0)\u001b[0m\n\u001b[1;32m    173\u001b[0m     \u001b[0mtable\u001b[0m \u001b[0;34m=\u001b[0m \u001b[0m_nandict\u001b[0m\u001b[0;34m(\u001b[0m\u001b[0;34m{\u001b[0m\u001b[0mval\u001b[0m\u001b[0;34m:\u001b[0m \u001b[0mi\u001b[0m \u001b[0;32mfor\u001b[0m \u001b[0mi\u001b[0m\u001b[0;34m,\u001b[0m \u001b[0mval\u001b[0m \u001b[0;32min\u001b[0m \u001b[0menumerate\u001b[0m\u001b[0;34m(\u001b[0m\u001b[0muniques\u001b[0m\u001b[0;34m)\u001b[0m\u001b[0;34m}\u001b[0m\u001b[0;34m)\u001b[0m\u001b[0;34m\u001b[0m\u001b[0;34m\u001b[0m\u001b[0m\n\u001b[0;32m--> 174\u001b[0;31m     \u001b[0;32mreturn\u001b[0m \u001b[0mxp\u001b[0m\u001b[0;34m.\u001b[0m\u001b[0masarray\u001b[0m\u001b[0;34m(\u001b[0m\u001b[0;34m[\u001b[0m\u001b[0mtable\u001b[0m\u001b[0;34m[\u001b[0m\u001b[0mv\u001b[0m\u001b[0;34m]\u001b[0m \u001b[0;32mfor\u001b[0m \u001b[0mv\u001b[0m \u001b[0;32min\u001b[0m \u001b[0mvalues\u001b[0m\u001b[0;34m]\u001b[0m\u001b[0;34m,\u001b[0m \u001b[0mdevice\u001b[0m\u001b[0;34m=\u001b[0m\u001b[0mdevice\u001b[0m\u001b[0;34m(\u001b[0m\u001b[0mvalues\u001b[0m\u001b[0;34m)\u001b[0m\u001b[0;34m)\u001b[0m\u001b[0;34m\u001b[0m\u001b[0;34m\u001b[0m\u001b[0m\n\u001b[0m\u001b[1;32m    175\u001b[0m \u001b[0;34m\u001b[0m\u001b[0m\n",
            "\u001b[0;32m/usr/local/lib/python3.11/dist-packages/sklearn/utils/_encode.py\u001b[0m in \u001b[0;36m__missing__\u001b[0;34m(self, key)\u001b[0m\n\u001b[1;32m    166\u001b[0m             \u001b[0;32mreturn\u001b[0m \u001b[0mself\u001b[0m\u001b[0;34m.\u001b[0m\u001b[0mnan_value\u001b[0m\u001b[0;34m\u001b[0m\u001b[0;34m\u001b[0m\u001b[0m\n\u001b[0;32m--> 167\u001b[0;31m         \u001b[0;32mraise\u001b[0m \u001b[0mKeyError\u001b[0m\u001b[0;34m(\u001b[0m\u001b[0mkey\u001b[0m\u001b[0;34m)\u001b[0m\u001b[0;34m\u001b[0m\u001b[0;34m\u001b[0m\u001b[0m\n\u001b[0m\u001b[1;32m    168\u001b[0m \u001b[0;34m\u001b[0m\u001b[0m\n",
            "\u001b[0;31mKeyError\u001b[0m: 2",
            "\nDuring handling of the above exception, another exception occurred:\n",
            "\u001b[0;31mValueError\u001b[0m                                Traceback (most recent call last)",
            "\u001b[0;32m<ipython-input-100-e03be5118ca8>\u001b[0m in \u001b[0;36m<cell line: 0>\u001b[0;34m()\u001b[0m\n\u001b[1;32m      8\u001b[0m \u001b[0;34m\u001b[0m\u001b[0m\n\u001b[1;32m      9\u001b[0m \u001b[0;31m# Convert labels to integers for coloring\u001b[0m\u001b[0;34m\u001b[0m\u001b[0;34m\u001b[0m\u001b[0m\n\u001b[0;32m---> 10\u001b[0;31m \u001b[0my_train_int\u001b[0m \u001b[0;34m=\u001b[0m \u001b[0mlabel_encoder\u001b[0m\u001b[0;34m.\u001b[0m\u001b[0mtransform\u001b[0m\u001b[0;34m(\u001b[0m\u001b[0my_train\u001b[0m\u001b[0;34m)\u001b[0m\u001b[0;34m\u001b[0m\u001b[0;34m\u001b[0m\u001b[0m\n\u001b[0m\u001b[1;32m     11\u001b[0m \u001b[0;34m\u001b[0m\u001b[0m\n\u001b[1;32m     12\u001b[0m \u001b[0;31m# Define mesh grid boundaries\u001b[0m\u001b[0;34m\u001b[0m\u001b[0;34m\u001b[0m\u001b[0m\n",
            "\u001b[0;32m/usr/local/lib/python3.11/dist-packages/sklearn/preprocessing/_label.py\u001b[0m in \u001b[0;36mtransform\u001b[0;34m(self, y)\u001b[0m\n\u001b[1;32m    132\u001b[0m             \u001b[0;32mreturn\u001b[0m \u001b[0mxp\u001b[0m\u001b[0;34m.\u001b[0m\u001b[0masarray\u001b[0m\u001b[0;34m(\u001b[0m\u001b[0;34m[\u001b[0m\u001b[0;34m]\u001b[0m\u001b[0;34m)\u001b[0m\u001b[0;34m\u001b[0m\u001b[0;34m\u001b[0m\u001b[0m\n\u001b[1;32m    133\u001b[0m \u001b[0;34m\u001b[0m\u001b[0m\n\u001b[0;32m--> 134\u001b[0;31m         \u001b[0;32mreturn\u001b[0m \u001b[0m_encode\u001b[0m\u001b[0;34m(\u001b[0m\u001b[0my\u001b[0m\u001b[0;34m,\u001b[0m \u001b[0muniques\u001b[0m\u001b[0;34m=\u001b[0m\u001b[0mself\u001b[0m\u001b[0;34m.\u001b[0m\u001b[0mclasses_\u001b[0m\u001b[0;34m)\u001b[0m\u001b[0;34m\u001b[0m\u001b[0;34m\u001b[0m\u001b[0m\n\u001b[0m\u001b[1;32m    135\u001b[0m \u001b[0;34m\u001b[0m\u001b[0m\n\u001b[1;32m    136\u001b[0m     \u001b[0;32mdef\u001b[0m \u001b[0minverse_transform\u001b[0m\u001b[0;34m(\u001b[0m\u001b[0mself\u001b[0m\u001b[0;34m,\u001b[0m \u001b[0my\u001b[0m\u001b[0;34m)\u001b[0m\u001b[0;34m:\u001b[0m\u001b[0;34m\u001b[0m\u001b[0;34m\u001b[0m\u001b[0m\n",
            "\u001b[0;32m/usr/local/lib/python3.11/dist-packages/sklearn/utils/_encode.py\u001b[0m in \u001b[0;36m_encode\u001b[0;34m(values, uniques, check_unknown)\u001b[0m\n\u001b[1;32m    235\u001b[0m             \u001b[0;32mreturn\u001b[0m \u001b[0m_map_to_integer\u001b[0m\u001b[0;34m(\u001b[0m\u001b[0mvalues\u001b[0m\u001b[0;34m,\u001b[0m \u001b[0muniques\u001b[0m\u001b[0;34m)\u001b[0m\u001b[0;34m\u001b[0m\u001b[0;34m\u001b[0m\u001b[0m\n\u001b[1;32m    236\u001b[0m         \u001b[0;32mexcept\u001b[0m \u001b[0mKeyError\u001b[0m \u001b[0;32mas\u001b[0m \u001b[0me\u001b[0m\u001b[0;34m:\u001b[0m\u001b[0;34m\u001b[0m\u001b[0;34m\u001b[0m\u001b[0m\n\u001b[0;32m--> 237\u001b[0;31m             \u001b[0;32mraise\u001b[0m \u001b[0mValueError\u001b[0m\u001b[0;34m(\u001b[0m\u001b[0;34mf\"y contains previously unseen labels: {str(e)}\"\u001b[0m\u001b[0;34m)\u001b[0m\u001b[0;34m\u001b[0m\u001b[0;34m\u001b[0m\u001b[0m\n\u001b[0m\u001b[1;32m    238\u001b[0m     \u001b[0;32melse\u001b[0m\u001b[0;34m:\u001b[0m\u001b[0;34m\u001b[0m\u001b[0;34m\u001b[0m\u001b[0m\n\u001b[1;32m    239\u001b[0m         \u001b[0;32mif\u001b[0m \u001b[0mcheck_unknown\u001b[0m\u001b[0;34m:\u001b[0m\u001b[0;34m\u001b[0m\u001b[0;34m\u001b[0m\u001b[0m\n",
            "\u001b[0;31mValueError\u001b[0m: y contains previously unseen labels: 2"
          ]
        }
      ]
    }
  ]
}