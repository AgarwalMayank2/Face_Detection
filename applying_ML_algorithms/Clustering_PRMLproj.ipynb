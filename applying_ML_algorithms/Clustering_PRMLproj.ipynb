{
  "nbformat": 4,
  "nbformat_minor": 0,
  "metadata": {
    "colab": {
      "provenance": [],
      "authorship_tag": "ABX9TyOEfXyDJet4FTxLA7G95VNZ",
      "include_colab_link": true
    },
    "kernelspec": {
      "name": "python3",
      "display_name": "Python 3"
    },
    "language_info": {
      "name": "python"
    }
  },
  "cells": [
    {
      "cell_type": "markdown",
      "metadata": {
        "id": "view-in-github",
        "colab_type": "text"
      },
      "source": [
        "<a href=\"https://colab.research.google.com/github/AgarwalMayank2/Face_Detection/blob/Clustering_Deb/applying_ML_algorithms/Clustering_PRMLproj.ipynb\" target=\"_parent\"><img src=\"https://colab.research.google.com/assets/colab-badge.svg\" alt=\"Open In Colab\"/></a>"
      ]
    },
    {
      "cell_type": "code",
      "execution_count": null,
      "metadata": {
        "id": "NuDGCcgl2SSv"
      },
      "outputs": [],
      "source": [
        "he"
      ]
    },
    {
      "cell_type": "markdown",
      "metadata": {
        "id": "CHugUBKzQO2Z"
      },
      "source": [
        "Task : Identify Face in image using Decision Tree algorithm\n",
        "dataset : using processed dataset\n",
        "\n",
        "we extracted CNN(ResNet), HoG, LBP features and made these processed datasets\n",
        "\n",
        "processed datasets : https://github.com/AgarwalMayank2/Face_Detection/tree/main/processed_dataset\n"
      ]
    }
  ]
}